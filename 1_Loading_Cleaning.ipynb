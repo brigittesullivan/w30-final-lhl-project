{
 "cells": [
  {
   "cell_type": "code",
   "execution_count": 1,
   "id": "hD4J1f_JgOye",
   "metadata": {
    "colab": {
     "base_uri": "https://localhost:8080/"
    },
    "executionInfo": {
     "elapsed": 18787,
     "status": "ok",
     "timestamp": 1701285301144,
     "user": {
      "displayName": "Brigitte Sullivan",
      "userId": "14869339802076663561"
     },
     "user_tz": 240
    },
    "id": "hD4J1f_JgOye",
    "outputId": "fb290d0d-9d79-4a64-b9e8-42190ea8a366"
   },
   "outputs": [],
   "source": [
    "# from google.colab import drive\n",
    "# drive.mount('/content/drive')"
   ]
  },
  {
   "cell_type": "markdown",
   "id": "8ac0fe8a-4d17-4f6b-9b8c-0ff488a31b28",
   "metadata": {
    "tags": []
   },
   "source": [
    "## Package imports and settings "
   ]
  },
  {
   "cell_type": "code",
   "execution_count": 2,
   "id": "5659fed4-38cf-4081-8e8c-65ce890c40d6",
   "metadata": {
    "executionInfo": {
     "elapsed": 4706,
     "status": "ok",
     "timestamp": 1701285234435,
     "user": {
      "displayName": "Brigitte Sullivan",
      "userId": "14869339802076663561"
     },
     "user_tz": 240
    },
    "id": "5659fed4-38cf-4081-8e8c-65ce890c40d6"
   },
   "outputs": [],
   "source": [
    "import pandas as pd\n",
    "import seaborn as sns\n",
    "import datetime as dt\n",
    "import cpi\n",
    "import requests\n",
    "import re\n",
    "from unidecode import unidecode"
   ]
  },
  {
   "cell_type": "code",
   "execution_count": 3,
   "id": "3e26f614-cd4b-4ede-a9fe-7187a52d46c3",
   "metadata": {},
   "outputs": [],
   "source": [
    "import wbgapi as wb\n",
    "import wbdata\n",
    "import pandas as pd\n",
    "from countrycode import countrycode\n",
    "import numpy as np\n",
    "from currency_converter import CurrencyConverter"
   ]
  },
  {
   "cell_type": "code",
   "execution_count": 4,
   "id": "b84de2ce-ae08-4c5f-ab23-08c9a173e905",
   "metadata": {
    "executionInfo": {
     "elapsed": 233,
     "status": "ok",
     "timestamp": 1701285246664,
     "user": {
      "displayName": "Brigitte Sullivan",
      "userId": "14869339802076663561"
     },
     "user_tz": 240
    },
    "id": "b84de2ce-ae08-4c5f-ab23-08c9a173e905"
   },
   "outputs": [],
   "source": [
    "# Right after importing seaborn (could also use 'whitegrid')\n",
    "sns.set_theme(style='whitegrid', context='talk')"
   ]
  },
  {
   "cell_type": "code",
   "execution_count": 5,
   "id": "b007706f-fbe3-4fcd-b2d2-00c3624f68cb",
   "metadata": {},
   "outputs": [],
   "source": [
    "# surpress scientific notation\n",
    "pd.options.display.float_format = '{:.1f}'.format"
   ]
  },
  {
   "cell_type": "markdown",
   "id": "7f92ee20-8e7d-41ce-a446-28313f86109a",
   "metadata": {
    "tags": []
   },
   "source": [
    "# Importing Data"
   ]
  },
  {
   "cell_type": "markdown",
   "id": "e8262bb6-ff43-423c-9ff7-45ce9dc789c4",
   "metadata": {
    "tags": []
   },
   "source": [
    "## Lobster Export Data"
   ]
  },
  {
   "cell_type": "markdown",
   "id": "3be82e14-34fa-4bb6-92f6-80fa41651511",
   "metadata": {
    "id": "3be82e14-34fa-4bb6-92f6-80fa41651511",
    "tags": []
   },
   "source": [
    "### Which codes do relate to lobsters?"
   ]
  },
  {
   "cell_type": "markdown",
   "id": "b6050019-721f-42a8-bde0-2cd03575870b",
   "metadata": {
    "id": "b6050019-721f-42a8-bde0-2cd03575870b"
   },
   "source": [
    "From : https://www.ic.gc.ca/app/scr/tdst/tdo/crtr.html?grouped=INDIVIDUAL&searchType=KS_CS&naArea=9999&countryList=ALL&toFromCountry=CDN&reportType=TE&timePeriod=5%7CComplete+Years&currency=CDN&productType=HS6&hSelectedCodes=%7C10600%7C30611%7C30612%7C30615%7C30621%7C30622%7C30625%7C30631%7C30632%7C30634%7C30691%7C30692%7C30694%7C160530&runReport=true\n",
    "\n",
    "Searched for all codes containing word \"lobster\". Extracted all codes within HS 1605 and HS 0306."
   ]
  },
  {
   "cell_type": "code",
   "execution_count": 7,
   "id": "2b9d177f-90f6-492e-bd9f-e1a0cb0e795b",
   "metadata": {},
   "outputs": [
    {
     "data": {
      "text/html": [
       "<div>\n",
       "<style scoped>\n",
       "    .dataframe tbody tr th:only-of-type {\n",
       "        vertical-align: middle;\n",
       "    }\n",
       "\n",
       "    .dataframe tbody tr th {\n",
       "        vertical-align: top;\n",
       "    }\n",
       "\n",
       "    .dataframe thead th {\n",
       "        text-align: right;\n",
       "    }\n",
       "</style>\n",
       "<table border=\"1\" class=\"dataframe\">\n",
       "  <thead>\n",
       "    <tr style=\"text-align: right;\">\n",
       "      <th></th>\n",
       "      <th>Period</th>\n",
       "      <th>Commodity</th>\n",
       "      <th>Province</th>\n",
       "      <th>Country</th>\n",
       "      <th>State</th>\n",
       "      <th>Value ($)</th>\n",
       "      <th>Quantity</th>\n",
       "      <th>Unit of measure</th>\n",
       "    </tr>\n",
       "  </thead>\n",
       "  <tbody>\n",
       "    <tr>\n",
       "      <th>0</th>\n",
       "      <td>2013-04-01</td>\n",
       "      <td>1605.21.00 - Shrimps and prawns, prepared or p...</td>\n",
       "      <td>Newfoundland and Labrador</td>\n",
       "      <td>United States</td>\n",
       "      <td>California</td>\n",
       "      <td>195111</td>\n",
       "      <td>29802</td>\n",
       "      <td>Weight in kilograms</td>\n",
       "    </tr>\n",
       "    <tr>\n",
       "      <th>1</th>\n",
       "      <td>2013-12-01</td>\n",
       "      <td>1605.21.00 - Shrimps and prawns, prepared or p...</td>\n",
       "      <td>Newfoundland and Labrador</td>\n",
       "      <td>United States</td>\n",
       "      <td>California</td>\n",
       "      <td>285427</td>\n",
       "      <td>35966</td>\n",
       "      <td>Weight in kilograms</td>\n",
       "    </tr>\n",
       "    <tr>\n",
       "      <th>2</th>\n",
       "      <td>2017-10-01</td>\n",
       "      <td>1605.59.00 - Molluscs, prepared or preserved, nes</td>\n",
       "      <td>Newfoundland and Labrador</td>\n",
       "      <td>United States</td>\n",
       "      <td>California</td>\n",
       "      <td>185609</td>\n",
       "      <td>22500</td>\n",
       "      <td>Weight in kilograms</td>\n",
       "    </tr>\n",
       "    <tr>\n",
       "      <th>3</th>\n",
       "      <td>2014-08-01</td>\n",
       "      <td>1605.10.91 - Crab, snow (Queen), prepared or p...</td>\n",
       "      <td>Newfoundland and Labrador</td>\n",
       "      <td>United States</td>\n",
       "      <td>Alabama</td>\n",
       "      <td>191769</td>\n",
       "      <td>14969</td>\n",
       "      <td>Weight in kilograms</td>\n",
       "    </tr>\n",
       "    <tr>\n",
       "      <th>4</th>\n",
       "      <td>2013-01-01</td>\n",
       "      <td>1605.21.00 - Shrimps and prawns, prepared or p...</td>\n",
       "      <td>Newfoundland and Labrador</td>\n",
       "      <td>United States</td>\n",
       "      <td>California</td>\n",
       "      <td>170470</td>\n",
       "      <td>16053</td>\n",
       "      <td>Weight in kilograms</td>\n",
       "    </tr>\n",
       "  </tbody>\n",
       "</table>\n",
       "</div>"
      ],
      "text/plain": [
       "       Period                                          Commodity  \\\n",
       "0  2013-04-01  1605.21.00 - Shrimps and prawns, prepared or p...   \n",
       "1  2013-12-01  1605.21.00 - Shrimps and prawns, prepared or p...   \n",
       "2  2017-10-01  1605.59.00 - Molluscs, prepared or preserved, nes   \n",
       "3  2014-08-01  1605.10.91 - Crab, snow (Queen), prepared or p...   \n",
       "4  2013-01-01  1605.21.00 - Shrimps and prawns, prepared or p...   \n",
       "\n",
       "                    Province        Country       State  Value ($)  Quantity  \\\n",
       "0  Newfoundland and Labrador  United States  California     195111     29802   \n",
       "1  Newfoundland and Labrador  United States  California     285427     35966   \n",
       "2  Newfoundland and Labrador  United States  California     185609     22500   \n",
       "3  Newfoundland and Labrador  United States     Alabama     191769     14969   \n",
       "4  Newfoundland and Labrador  United States  California     170470     16053   \n",
       "\n",
       "       Unit of measure  \n",
       "0  Weight in kilograms  \n",
       "1  Weight in kilograms  \n",
       "2  Weight in kilograms  \n",
       "3  Weight in kilograms  \n",
       "4  Weight in kilograms  "
      ]
     },
     "execution_count": 7,
     "metadata": {},
     "output_type": "execute_result"
    }
   ],
   "source": [
    "# jlab\n",
    "path_1605 = 'full_data/1605_88Jan_to_23Sep_ATP_PV_Monthly.csv'\n",
    "df_1605_full = pd.read_csv(path_1605, engine = 'python', skipfooter = 3,index_col=False, header = 1)\n",
    "df_1605_full.head()"
   ]
  },
  {
   "cell_type": "code",
   "execution_count": 8,
   "id": "80320776-a7d5-47d3-b37f-bbf86c65e8a6",
   "metadata": {},
   "outputs": [
    {
     "data": {
      "text/html": [
       "<div>\n",
       "<style scoped>\n",
       "    .dataframe tbody tr th:only-of-type {\n",
       "        vertical-align: middle;\n",
       "    }\n",
       "\n",
       "    .dataframe tbody tr th {\n",
       "        vertical-align: top;\n",
       "    }\n",
       "\n",
       "    .dataframe thead th {\n",
       "        text-align: right;\n",
       "    }\n",
       "</style>\n",
       "<table border=\"1\" class=\"dataframe\">\n",
       "  <thead>\n",
       "    <tr style=\"text-align: right;\">\n",
       "      <th></th>\n",
       "      <th>Period</th>\n",
       "      <th>Commodity</th>\n",
       "      <th>Province</th>\n",
       "      <th>Country</th>\n",
       "      <th>State</th>\n",
       "      <th>Value ($)</th>\n",
       "      <th>Quantity</th>\n",
       "      <th>Unit of measure</th>\n",
       "    </tr>\n",
       "  </thead>\n",
       "  <tbody>\n",
       "    <tr>\n",
       "      <th>0</th>\n",
       "      <td>2014-06-01</td>\n",
       "      <td>0306.16.10 - Cold-water shrimps and prawns, fr...</td>\n",
       "      <td>Newfoundland and Labrador</td>\n",
       "      <td>Greenland</td>\n",
       "      <td>NaN</td>\n",
       "      <td>220915</td>\n",
       "      <td>66528</td>\n",
       "      <td>Weight in kilograms</td>\n",
       "    </tr>\n",
       "    <tr>\n",
       "      <th>1</th>\n",
       "      <td>2023-04-01</td>\n",
       "      <td>0306.14.10 - Crabs, snow (Queen), frozen</td>\n",
       "      <td>Newfoundland and Labrador</td>\n",
       "      <td>United States</td>\n",
       "      <td>California</td>\n",
       "      <td>1111067</td>\n",
       "      <td>61916</td>\n",
       "      <td>Weight in kilograms</td>\n",
       "    </tr>\n",
       "    <tr>\n",
       "      <th>2</th>\n",
       "      <td>2015-01-01</td>\n",
       "      <td>0306.16.10 - Cold-water shrimps and prawns, fr...</td>\n",
       "      <td>Newfoundland and Labrador</td>\n",
       "      <td>Greenland</td>\n",
       "      <td>NaN</td>\n",
       "      <td>753558</td>\n",
       "      <td>174576</td>\n",
       "      <td>Weight in kilograms</td>\n",
       "    </tr>\n",
       "    <tr>\n",
       "      <th>3</th>\n",
       "      <td>2015-06-01</td>\n",
       "      <td>0306.16.10 - Cold-water shrimps and prawns, fr...</td>\n",
       "      <td>Newfoundland and Labrador</td>\n",
       "      <td>Greenland</td>\n",
       "      <td>NaN</td>\n",
       "      <td>883171</td>\n",
       "      <td>199392</td>\n",
       "      <td>Weight in kilograms</td>\n",
       "    </tr>\n",
       "    <tr>\n",
       "      <th>4</th>\n",
       "      <td>2015-07-01</td>\n",
       "      <td>0306.17.10 - Shrimps and prawns, frozen, in sh...</td>\n",
       "      <td>Newfoundland and Labrador</td>\n",
       "      <td>Saint Pierre and Miquelon</td>\n",
       "      <td>NaN</td>\n",
       "      <td>704</td>\n",
       "      <td>45</td>\n",
       "      <td>Weight in kilograms</td>\n",
       "    </tr>\n",
       "  </tbody>\n",
       "</table>\n",
       "</div>"
      ],
      "text/plain": [
       "       Period                                          Commodity  \\\n",
       "0  2014-06-01  0306.16.10 - Cold-water shrimps and prawns, fr...   \n",
       "1  2023-04-01           0306.14.10 - Crabs, snow (Queen), frozen   \n",
       "2  2015-01-01  0306.16.10 - Cold-water shrimps and prawns, fr...   \n",
       "3  2015-06-01  0306.16.10 - Cold-water shrimps and prawns, fr...   \n",
       "4  2015-07-01  0306.17.10 - Shrimps and prawns, frozen, in sh...   \n",
       "\n",
       "                    Province                    Country       State  \\\n",
       "0  Newfoundland and Labrador                  Greenland         NaN   \n",
       "1  Newfoundland and Labrador              United States  California   \n",
       "2  Newfoundland and Labrador                  Greenland         NaN   \n",
       "3  Newfoundland and Labrador                  Greenland         NaN   \n",
       "4  Newfoundland and Labrador  Saint Pierre and Miquelon         NaN   \n",
       "\n",
       "   Value ($)  Quantity      Unit of measure  \n",
       "0     220915     66528  Weight in kilograms  \n",
       "1    1111067     61916  Weight in kilograms  \n",
       "2     753558    174576  Weight in kilograms  \n",
       "3     883171    199392  Weight in kilograms  \n",
       "4        704        45  Weight in kilograms  "
      ]
     },
     "execution_count": 8,
     "metadata": {},
     "output_type": "execute_result"
    }
   ],
   "source": [
    "path_0306 = 'full_data/0306-Crust-Jan88-to-Sep23-prov.csv'\n",
    "df_0306_full = pd.read_csv(path_0306, engine = 'python', skipfooter = 3,index_col=False, header = 1)\n",
    "df_0306_full.head()"
   ]
  },
  {
   "cell_type": "markdown",
   "id": "8daf52db-55ae-4a40-940d-39dced31bed9",
   "metadata": {
    "tags": []
   },
   "source": [
    "### Merge 1605 and 0306"
   ]
  },
  {
   "cell_type": "code",
   "execution_count": 9,
   "id": "ed07ff96-4792-4abd-892f-588ad287df63",
   "metadata": {},
   "outputs": [],
   "source": [
    "# concat function\n",
    "def concat_dfs(df_list):\n",
    "    df = pd.concat(df_list, axis = 0, ignore_index = True)\n",
    "    return df"
   ]
  },
  {
   "cell_type": "code",
   "execution_count": 10,
   "id": "3bc918f1-2456-4e11-97d9-2774df1a9d92",
   "metadata": {},
   "outputs": [],
   "source": [
    "full_data = concat_dfs([df_1605_full,df_0306_full])\n"
   ]
  },
  {
   "cell_type": "markdown",
   "id": "8529fb4e-de83-43f5-9580-6e08a20f0895",
   "metadata": {
    "tags": []
   },
   "source": [
    "## Inflation"
   ]
  },
  {
   "cell_type": "code",
   "execution_count": null,
   "id": "248858e6-73dc-480b-8a8d-a0a5c93db71f",
   "metadata": {},
   "outputs": [],
   "source": [
    "# from fred, index 2015, 100\n",
    "inflation_data = pd.read_csv('data/CPI-data-fred.csv')\n",
    "inflation_data = inflation_data.rename(columns = {'DATE': 'Period', 'CPALCY01CAM661N':'cpi_val'})\n",
    "inflation_data['Period'] = pd.to_datetime(inflation_data['Period'])"
   ]
  },
  {
   "cell_type": "code",
   "execution_count": null,
   "id": "d6b9a06b-cd21-4f9c-b950-d3afe5fd5e60",
   "metadata": {},
   "outputs": [],
   "source": [
    "inflation_data"
   ]
  },
  {
   "cell_type": "markdown",
   "id": "56e558ef-22d3-4714-8a6a-73bde2db8a82",
   "metadata": {
    "tags": []
   },
   "source": [
    "# 1. Cleaning\n",
    "---\n",
    "---"
   ]
  },
  {
   "cell_type": "markdown",
   "id": "9ad71cd8-23c8-415c-a543-d193f540bbcf",
   "metadata": {
    "tags": []
   },
   "source": [
    "## Initial Cleaning Steps"
   ]
  },
  {
   "cell_type": "code",
   "execution_count": 11,
   "id": "f41d4798-0eda-41df-b1ab-90081ebf67ed",
   "metadata": {
    "executionInfo": {
     "elapsed": 272,
     "status": "ok",
     "timestamp": 1701285487408,
     "user": {
      "displayName": "Brigitte Sullivan",
      "userId": "14869339802076663561"
     },
     "user_tz": 240
    },
    "id": "f41d4798-0eda-41df-b1ab-90081ebf67ed"
   },
   "outputs": [],
   "source": [
    "# perform cleaning set on combined data set\n",
    "def cleaning_steps(df_name):\n",
    "    # make lower case\n",
    "    df_name['Commodity'] = df_name['Commodity'].str.lower()\n",
    "    # keep only commodities that mention 'lobster'\n",
    "    df_name = df_name[df_name['Commodity'].str.contains('lobster')].reset_index(drop=True)\n",
    "    # drop extra columns\n",
    "    df_name = df_name.drop(columns = ['Unit of measure'])\n",
    "    # rename columns\n",
    "    new_col_names = {'Value ($)': 'Value', 'Quantity': 'Quantity_kg'}\n",
    "    df_name = df_name.rename(columns=new_col_names)\n",
    "    # update period to datetime object\n",
    "    df_name['Period'] = pd.to_datetime(df_name['Period'])\n",
    "    # remove terminated from country name \n",
    "    df_name[[\"Country\", 'Terminated']]= df_name[\"Country\"].str.split(r'(',expand=True)\n",
    "    return df_name\n",
    "\n"
   ]
  },
  {
   "cell_type": "code",
   "execution_count": 12,
   "id": "f4bc0a97-4f56-4e3d-84db-8840fc5a62f5",
   "metadata": {},
   "outputs": [
    {
     "data": {
      "text/html": [
       "<div>\n",
       "<style scoped>\n",
       "    .dataframe tbody tr th:only-of-type {\n",
       "        vertical-align: middle;\n",
       "    }\n",
       "\n",
       "    .dataframe tbody tr th {\n",
       "        vertical-align: top;\n",
       "    }\n",
       "\n",
       "    .dataframe thead th {\n",
       "        text-align: right;\n",
       "    }\n",
       "</style>\n",
       "<table border=\"1\" class=\"dataframe\">\n",
       "  <thead>\n",
       "    <tr style=\"text-align: right;\">\n",
       "      <th></th>\n",
       "      <th>Period</th>\n",
       "      <th>Commodity</th>\n",
       "      <th>Province</th>\n",
       "      <th>Country</th>\n",
       "      <th>State</th>\n",
       "      <th>Value</th>\n",
       "      <th>Quantity_kg</th>\n",
       "      <th>Terminated</th>\n",
       "    </tr>\n",
       "  </thead>\n",
       "  <tbody>\n",
       "    <tr>\n",
       "      <th>0</th>\n",
       "      <td>2017-05-01</td>\n",
       "      <td>1605.30.10 - lobster, prepared or preserved, f...</td>\n",
       "      <td>Newfoundland and Labrador</td>\n",
       "      <td>United States</td>\n",
       "      <td>Massachusetts</td>\n",
       "      <td>2454203</td>\n",
       "      <td>42059</td>\n",
       "      <td>None</td>\n",
       "    </tr>\n",
       "    <tr>\n",
       "      <th>1</th>\n",
       "      <td>2018-06-01</td>\n",
       "      <td>1605.30.10 - lobster, prepared or preserved, f...</td>\n",
       "      <td>Newfoundland and Labrador</td>\n",
       "      <td>United States</td>\n",
       "      <td>Massachusetts</td>\n",
       "      <td>2199419</td>\n",
       "      <td>48158</td>\n",
       "      <td>None</td>\n",
       "    </tr>\n",
       "    <tr>\n",
       "      <th>2</th>\n",
       "      <td>2014-06-01</td>\n",
       "      <td>1605.30.11 - lobster meat, frozen, cooked by s...</td>\n",
       "      <td>Newfoundland and Labrador</td>\n",
       "      <td>United States</td>\n",
       "      <td>Massachusetts</td>\n",
       "      <td>1299983</td>\n",
       "      <td>38486</td>\n",
       "      <td>None</td>\n",
       "    </tr>\n",
       "    <tr>\n",
       "      <th>3</th>\n",
       "      <td>2014-10-01</td>\n",
       "      <td>1605.30.11 - lobster meat, frozen, cooked by s...</td>\n",
       "      <td>Newfoundland and Labrador</td>\n",
       "      <td>United States</td>\n",
       "      <td>Massachusetts</td>\n",
       "      <td>151542</td>\n",
       "      <td>3475</td>\n",
       "      <td>None</td>\n",
       "    </tr>\n",
       "    <tr>\n",
       "      <th>4</th>\n",
       "      <td>2014-11-01</td>\n",
       "      <td>1605.30.11 - lobster meat, frozen, cooked by s...</td>\n",
       "      <td>Newfoundland and Labrador</td>\n",
       "      <td>United States</td>\n",
       "      <td>Massachusetts</td>\n",
       "      <td>634072</td>\n",
       "      <td>22628</td>\n",
       "      <td>None</td>\n",
       "    </tr>\n",
       "    <tr>\n",
       "      <th>...</th>\n",
       "      <td>...</td>\n",
       "      <td>...</td>\n",
       "      <td>...</td>\n",
       "      <td>...</td>\n",
       "      <td>...</td>\n",
       "      <td>...</td>\n",
       "      <td>...</td>\n",
       "      <td>...</td>\n",
       "    </tr>\n",
       "    <tr>\n",
       "      <th>57380</th>\n",
       "      <td>2006-02-01</td>\n",
       "      <td>0306.22.10 - lobsters, (homarus spp), live (te...</td>\n",
       "      <td>Northwest Territories</td>\n",
       "      <td>Hong Kong</td>\n",
       "      <td>NaN</td>\n",
       "      <td>6000</td>\n",
       "      <td>273</td>\n",
       "      <td>None</td>\n",
       "    </tr>\n",
       "    <tr>\n",
       "      <th>57381</th>\n",
       "      <td>2007-02-01</td>\n",
       "      <td>0306.22.10 - lobsters, (homarus spp), live (te...</td>\n",
       "      <td>Northwest Territories</td>\n",
       "      <td>Japan</td>\n",
       "      <td>NaN</td>\n",
       "      <td>7200</td>\n",
       "      <td>408</td>\n",
       "      <td>None</td>\n",
       "    </tr>\n",
       "    <tr>\n",
       "      <th>57382</th>\n",
       "      <td>2007-03-01</td>\n",
       "      <td>0306.22.10 - lobsters, (homarus spp), live (te...</td>\n",
       "      <td>Northwest Territories</td>\n",
       "      <td>Korea, South</td>\n",
       "      <td>NaN</td>\n",
       "      <td>10080</td>\n",
       "      <td>572</td>\n",
       "      <td>None</td>\n",
       "    </tr>\n",
       "    <tr>\n",
       "      <th>57383</th>\n",
       "      <td>2006-02-01</td>\n",
       "      <td>0306.22.10 - lobsters, (homarus spp), live (te...</td>\n",
       "      <td>Nunavut</td>\n",
       "      <td>Czechia</td>\n",
       "      <td>NaN</td>\n",
       "      <td>3000</td>\n",
       "      <td>136</td>\n",
       "      <td>None</td>\n",
       "    </tr>\n",
       "    <tr>\n",
       "      <th>57384</th>\n",
       "      <td>2011-05-01</td>\n",
       "      <td>0306.22.10 - lobsters, (homarus spp), live (te...</td>\n",
       "      <td>Nunavut</td>\n",
       "      <td>Russian Federation</td>\n",
       "      <td>NaN</td>\n",
       "      <td>15120</td>\n",
       "      <td>857</td>\n",
       "      <td>None</td>\n",
       "    </tr>\n",
       "  </tbody>\n",
       "</table>\n",
       "<p>57385 rows × 8 columns</p>\n",
       "</div>"
      ],
      "text/plain": [
       "          Period                                          Commodity  \\\n",
       "0     2017-05-01  1605.30.10 - lobster, prepared or preserved, f...   \n",
       "1     2018-06-01  1605.30.10 - lobster, prepared or preserved, f...   \n",
       "2     2014-06-01  1605.30.11 - lobster meat, frozen, cooked by s...   \n",
       "3     2014-10-01  1605.30.11 - lobster meat, frozen, cooked by s...   \n",
       "4     2014-11-01  1605.30.11 - lobster meat, frozen, cooked by s...   \n",
       "...          ...                                                ...   \n",
       "57380 2006-02-01  0306.22.10 - lobsters, (homarus spp), live (te...   \n",
       "57381 2007-02-01  0306.22.10 - lobsters, (homarus spp), live (te...   \n",
       "57382 2007-03-01  0306.22.10 - lobsters, (homarus spp), live (te...   \n",
       "57383 2006-02-01  0306.22.10 - lobsters, (homarus spp), live (te...   \n",
       "57384 2011-05-01  0306.22.10 - lobsters, (homarus spp), live (te...   \n",
       "\n",
       "                        Province             Country          State    Value  \\\n",
       "0      Newfoundland and Labrador       United States  Massachusetts  2454203   \n",
       "1      Newfoundland and Labrador       United States  Massachusetts  2199419   \n",
       "2      Newfoundland and Labrador       United States  Massachusetts  1299983   \n",
       "3      Newfoundland and Labrador       United States  Massachusetts   151542   \n",
       "4      Newfoundland and Labrador       United States  Massachusetts   634072   \n",
       "...                          ...                 ...            ...      ...   \n",
       "57380      Northwest Territories           Hong Kong            NaN     6000   \n",
       "57381      Northwest Territories               Japan            NaN     7200   \n",
       "57382      Northwest Territories        Korea, South            NaN    10080   \n",
       "57383                    Nunavut             Czechia            NaN     3000   \n",
       "57384                    Nunavut  Russian Federation            NaN    15120   \n",
       "\n",
       "       Quantity_kg Terminated  \n",
       "0            42059       None  \n",
       "1            48158       None  \n",
       "2            38486       None  \n",
       "3             3475       None  \n",
       "4            22628       None  \n",
       "...            ...        ...  \n",
       "57380          273       None  \n",
       "57381          408       None  \n",
       "57382          572       None  \n",
       "57383          136       None  \n",
       "57384          857       None  \n",
       "\n",
       "[57385 rows x 8 columns]"
      ]
     },
     "execution_count": 12,
     "metadata": {},
     "output_type": "execute_result"
    }
   ],
   "source": [
    "data_clean = cleaning_steps(full_data)\n",
    "data_clean"
   ]
  },
  {
   "cell_type": "code",
   "execution_count": 14,
   "id": "8f10ca5f-a050-4349-a12f-bcefe9bc07e2",
   "metadata": {},
   "outputs": [],
   "source": [
    "data_clean.to_csv('data/data_clean.csv', index=False)"
   ]
  },
  {
   "cell_type": "code",
   "execution_count": null,
   "id": "ca775575-7322-460a-95d4-6c3d9812d09a",
   "metadata": {},
   "outputs": [],
   "source": [
    "\n",
    "def inflation_adjustment(df_name, cpi_df):\n",
    "    ''' adjust monetary features into today's dolars, index 2015 = 100'''\n",
    "    df_name = df_name.merge(cpi_df, how='inner', on='Period')\n",
    "    today_cpi = cpi_df.loc[cpi_df['Period'] == cpi_df['Period'].max(), 'cpi_val'].item()\n",
    "    # create new column to adjust to today's dollars\n",
    "    # return df_name\n",
    "    df_name['Value-adjusted'] = (df_name['Value'] / df_name['cpi_val']) * today_cpi\n",
    "    return df_name\n",
    "    \n",
    "    "
   ]
  },
  {
   "cell_type": "code",
   "execution_count": null,
   "id": "b3ed4da1-109d-43a4-920a-099dd174f83d",
   "metadata": {},
   "outputs": [],
   "source": [
    "data_clean = inflation_adjustment(data_clean, inflation_data)\n",
    "data_clean\n"
   ]
  },
  {
   "cell_type": "markdown",
   "id": "776701d9-d387-4979-a2e5-bbe3f1ee6b14",
   "metadata": {},
   "source": [
    "### make country list csv"
   ]
  },
  {
   "cell_type": "code",
   "execution_count": null,
   "id": "849b9116-92ea-4091-9f1e-0a4f9ededd07",
   "metadata": {},
   "outputs": [],
   "source": [
    "export_country_list = pd.Series(data_clean['Country'].unique())\n",
    "export_country_list = export_country_list.sort_values(ignore_index= True)\n",
    "export_country_list[10:30]"
   ]
  },
  {
   "cell_type": "code",
   "execution_count": null,
   "id": "5ce0d619-2015-45e9-9b40-6efe6b95701c",
   "metadata": {},
   "outputs": [],
   "source": [
    "export_country_list.to_csv('data/export_countries.csv')"
   ]
  },
  {
   "cell_type": "markdown",
   "id": "89a1bb83-d763-4f19-879a-fe9c976bf828",
   "metadata": {},
   "source": [
    "# GDP Data"
   ]
  },
  {
   "cell_type": "markdown",
   "id": "ded2db20-98d4-4a5d-ad80-8226410c6a07",
   "metadata": {
    "tags": []
   },
   "source": [
    "## Get GDP Data for each year and country GDP Using WBAPI"
   ]
  },
  {
   "cell_type": "code",
   "execution_count": null,
   "id": "7cd841a5-0d5d-4541-9ff5-5435d4c8ce5c",
   "metadata": {},
   "outputs": [],
   "source": [
    "# list of countries that need GDP data for \n",
    "countries = pd.read_csv('data/export_countries.csv', index_col=0, header = 1, names = ['Country'])"
   ]
  },
  {
   "cell_type": "code",
   "execution_count": null,
   "id": "9beafb80-23ba-4c02-a80e-9a0dd217d5d4",
   "metadata": {},
   "outputs": [],
   "source": [
    "countries"
   ]
  },
  {
   "cell_type": "markdown",
   "id": "d2e712ff-29de-4446-be77-7d4dc136386c",
   "metadata": {
    "tags": []
   },
   "source": [
    "### WBAPI regions \n",
    "(not same as continent.)"
   ]
  },
  {
   "cell_type": "code",
   "execution_count": null,
   "id": "38bbf1e0-c3ad-4205-b64b-2834ee8acb2b",
   "metadata": {},
   "outputs": [],
   "source": [
    "economy_data = wb.economy.DataFrame()\n",
    "economy_data"
   ]
  },
  {
   "cell_type": "code",
   "execution_count": null,
   "id": "605dfd3b-13fa-40ec-a28e-fef1ce56b93a",
   "metadata": {},
   "outputs": [],
   "source": [
    "economy_data = economy_data.reset_index(drop=False)\n",
    "economy_data = economy_data[['id', 'name', 'region']]\n",
    "economy_data"
   ]
  },
  {
   "cell_type": "code",
   "execution_count": null,
   "id": "35927804-374f-4106-84eb-a3d1b1ce6472",
   "metadata": {},
   "outputs": [],
   "source": [
    "gdp_indicator = 'NY.GDP.MKTP.CD'"
   ]
  },
  {
   "cell_type": "code",
   "execution_count": null,
   "id": "f29ce7c1-5146-41ff-9c4f-7a37456f0327",
   "metadata": {},
   "outputs": [],
   "source": [
    "country_names = countries.iloc[:, 0].to_list()\n",
    "country_names[:20]"
   ]
  },
  {
   "cell_type": "code",
   "execution_count": null,
   "id": "128a55f1-7d67-4e83-9d1a-9ce0af8fdb43",
   "metadata": {},
   "outputs": [],
   "source": [
    "# using world bank API, match country names. WBAPI will match on several types of country names that reuquire GDP data For\n",
    "data = wb.economy.coder(country_names)\n",
    "# explore data \n",
    "# print(data.items())\n",
    "# print(dir(data))\n",
    "# print(data.keys())"
   ]
  },
  {
   "cell_type": "code",
   "execution_count": null,
   "id": "7f5278f9-0f8c-41df-a7d4-9f50e2a07ed5",
   "metadata": {},
   "outputs": [],
   "source": [
    "# store country codes in a list - all country codes in WBAPI\n",
    "country_codes = list(data.values())\n",
    "# country_codes "
   ]
  },
  {
   "cell_type": "code",
   "execution_count": null,
   "id": "48b790ab-84b8-42ff-80e1-89a0e15d59d9",
   "metadata": {},
   "outputs": [],
   "source": [
    "# using country codes, get annual GDP by year for the relevant years in data \n",
    "gdp_data = wb.data.DataFrame(gdp_indicator, country_codes, time=range(1988, 2023)).reset_index()"
   ]
  },
  {
   "cell_type": "markdown",
   "id": "0143cee7-b8f4-4bb9-bc2b-aa754f3f3629",
   "metadata": {
    "tags": []
   },
   "source": [
    "##### Reformat GDP Data to Country, Year"
   ]
  },
  {
   "cell_type": "code",
   "execution_count": null,
   "id": "a45efb8b-3a7d-4797-9ac5-c2f81cc611ec",
   "metadata": {},
   "outputs": [],
   "source": [
    "gdp_data = pd.melt(gdp_data, id_vars = ['economy'], value_vars =list(gdp_data.columns[1:]))\n"
   ]
  },
  {
   "cell_type": "code",
   "execution_count": null,
   "id": "5087d10c-711b-4244-9f6a-8e8d357c74f3",
   "metadata": {},
   "outputs": [],
   "source": [
    "# rename columns to make merge easier\n",
    "gdp_data = gdp_data.rename(columns={'economy': 'country_code', 'variable': 'year', 'value': 'GDP-USD'})\n",
    "\n",
    "# reformat year \n",
    "gdp_data['year'] = gdp_data['year'].str.lstrip('YR').astype('int')\n",
    "gdp_data"
   ]
  },
  {
   "cell_type": "code",
   "execution_count": null,
   "id": "4f591fb7-9c4a-427e-8172-010a195e4b38",
   "metadata": {},
   "outputs": [],
   "source": [
    "# convert GDP to CAD? \n",
    "\n",
    "# need gdp per capita too? "
   ]
  },
  {
   "cell_type": "markdown",
   "id": "f0779623-9091-4485-93ec-f9bcd7812909",
   "metadata": {
    "tags": []
   },
   "source": [
    "### Mapping Countries - code, continent"
   ]
  },
  {
   "cell_type": "code",
   "execution_count": null,
   "id": "9e7ae7e9-8e3d-41cd-8ca2-190bc5ee7ce9",
   "metadata": {},
   "outputs": [],
   "source": [
    "# get continent for each country for visuals. \n",
    "continent_list = []\n",
    "for country_code in country_codes:\n",
    "    if country_code is None:\n",
    "        continent_list.append(np.nan)\n",
    "    else:\n",
    "        continent_value = countrycode(country_code, origin = \"iso3c\", destination = \"continent\")\n",
    "        continent_list.append(continent_value)"
   ]
  },
  {
   "cell_type": "code",
   "execution_count": null,
   "id": "6365b857-8dbc-423f-a49a-2a95ccf63f6c",
   "metadata": {},
   "outputs": [],
   "source": [
    "# add contient to countries df\n",
    "countries['continent'] = continent_list\n",
    "countries.tail(40)"
   ]
  },
  {
   "cell_type": "code",
   "execution_count": 139,
   "id": "838ad550-e4c1-425d-a204-e1aa00e46574",
   "metadata": {},
   "outputs": [
    {
     "data": {
      "text/html": [
       "<div>\n",
       "<style scoped>\n",
       "    .dataframe tbody tr th:only-of-type {\n",
       "        vertical-align: middle;\n",
       "    }\n",
       "\n",
       "    .dataframe tbody tr th {\n",
       "        vertical-align: top;\n",
       "    }\n",
       "\n",
       "    .dataframe thead th {\n",
       "        text-align: right;\n",
       "    }\n",
       "</style>\n",
       "<table border=\"1\" class=\"dataframe\">\n",
       "  <thead>\n",
       "    <tr style=\"text-align: right;\">\n",
       "      <th></th>\n",
       "      <th>Country</th>\n",
       "      <th>continent</th>\n",
       "      <th>country_code</th>\n",
       "    </tr>\n",
       "  </thead>\n",
       "  <tbody>\n",
       "    <tr>\n",
       "      <th>1</th>\n",
       "      <td>Albania</td>\n",
       "      <td>Europe</td>\n",
       "      <td>ALB</td>\n",
       "    </tr>\n",
       "    <tr>\n",
       "      <th>2</th>\n",
       "      <td>Antigua and Barbuda</td>\n",
       "      <td>Americas</td>\n",
       "      <td>ATG</td>\n",
       "    </tr>\n",
       "    <tr>\n",
       "      <th>3</th>\n",
       "      <td>Argentina</td>\n",
       "      <td>Americas</td>\n",
       "      <td>ARG</td>\n",
       "    </tr>\n",
       "    <tr>\n",
       "      <th>4</th>\n",
       "      <td>Armenia</td>\n",
       "      <td>Asia</td>\n",
       "      <td>ARM</td>\n",
       "    </tr>\n",
       "    <tr>\n",
       "      <th>5</th>\n",
       "      <td>Aruba</td>\n",
       "      <td>Americas</td>\n",
       "      <td>ABW</td>\n",
       "    </tr>\n",
       "    <tr>\n",
       "      <th>6</th>\n",
       "      <td>Australia</td>\n",
       "      <td>Oceania</td>\n",
       "      <td>AUS</td>\n",
       "    </tr>\n",
       "    <tr>\n",
       "      <th>7</th>\n",
       "      <td>Austria</td>\n",
       "      <td>Europe</td>\n",
       "      <td>AUT</td>\n",
       "    </tr>\n",
       "    <tr>\n",
       "      <th>8</th>\n",
       "      <td>Bahamas</td>\n",
       "      <td>Americas</td>\n",
       "      <td>BHS</td>\n",
       "    </tr>\n",
       "    <tr>\n",
       "      <th>9</th>\n",
       "      <td>Bahrain</td>\n",
       "      <td>Asia</td>\n",
       "      <td>BHR</td>\n",
       "    </tr>\n",
       "    <tr>\n",
       "      <th>10</th>\n",
       "      <td>Barbados</td>\n",
       "      <td>Americas</td>\n",
       "      <td>BRB</td>\n",
       "    </tr>\n",
       "    <tr>\n",
       "      <th>11</th>\n",
       "      <td>Belarus</td>\n",
       "      <td>Europe</td>\n",
       "      <td>BLR</td>\n",
       "    </tr>\n",
       "    <tr>\n",
       "      <th>12</th>\n",
       "      <td>Belgium</td>\n",
       "      <td>Europe</td>\n",
       "      <td>BEL</td>\n",
       "    </tr>\n",
       "    <tr>\n",
       "      <th>13</th>\n",
       "      <td>Belize</td>\n",
       "      <td>Americas</td>\n",
       "      <td>BLZ</td>\n",
       "    </tr>\n",
       "    <tr>\n",
       "      <th>14</th>\n",
       "      <td>Bermuda</td>\n",
       "      <td>Americas</td>\n",
       "      <td>BMU</td>\n",
       "    </tr>\n",
       "    <tr>\n",
       "      <th>15</th>\n",
       "      <td>Bolivia</td>\n",
       "      <td>Americas</td>\n",
       "      <td>BOL</td>\n",
       "    </tr>\n",
       "    <tr>\n",
       "      <th>16</th>\n",
       "      <td>Bonaire, Sint Eustatius and Saba</td>\n",
       "      <td>NaN</td>\n",
       "      <td>None</td>\n",
       "    </tr>\n",
       "    <tr>\n",
       "      <th>17</th>\n",
       "      <td>Brazil</td>\n",
       "      <td>Americas</td>\n",
       "      <td>BRA</td>\n",
       "    </tr>\n",
       "    <tr>\n",
       "      <th>18</th>\n",
       "      <td>Bulgaria</td>\n",
       "      <td>Europe</td>\n",
       "      <td>BGR</td>\n",
       "    </tr>\n",
       "    <tr>\n",
       "      <th>19</th>\n",
       "      <td>Burkina Faso</td>\n",
       "      <td>Africa</td>\n",
       "      <td>BFA</td>\n",
       "    </tr>\n",
       "    <tr>\n",
       "      <th>20</th>\n",
       "      <td>Cabo Verde</td>\n",
       "      <td>Africa</td>\n",
       "      <td>CPV</td>\n",
       "    </tr>\n",
       "  </tbody>\n",
       "</table>\n",
       "</div>"
      ],
      "text/plain": [
       "                             Country continent country_code\n",
       "1                            Albania    Europe          ALB\n",
       "2                Antigua and Barbuda  Americas          ATG\n",
       "3                          Argentina  Americas          ARG\n",
       "4                            Armenia      Asia          ARM\n",
       "5                              Aruba  Americas          ABW\n",
       "6                          Australia   Oceania          AUS\n",
       "7                            Austria    Europe          AUT\n",
       "8                            Bahamas  Americas          BHS\n",
       "9                            Bahrain      Asia          BHR\n",
       "10                          Barbados  Americas          BRB\n",
       "11                           Belarus    Europe          BLR\n",
       "12                           Belgium    Europe          BEL\n",
       "13                            Belize  Americas          BLZ\n",
       "14                           Bermuda  Americas          BMU\n",
       "15                           Bolivia  Americas          BOL\n",
       "16  Bonaire, Sint Eustatius and Saba       NaN         None\n",
       "17                            Brazil  Americas          BRA\n",
       "18                          Bulgaria    Europe          BGR\n",
       "19                      Burkina Faso    Africa          BFA\n",
       "20                        Cabo Verde    Africa          CPV"
      ]
     },
     "execution_count": 139,
     "metadata": {},
     "output_type": "execute_result"
    }
   ],
   "source": [
    "# add country code to contries df for easier mapping\n",
    "countries['country_code'] = country_codes\n",
    "countries[:20]"
   ]
  },
  {
   "cell_type": "code",
   "execution_count": 140,
   "id": "b6503392-21a4-48eb-b59a-0683f00da1d2",
   "metadata": {},
   "outputs": [],
   "source": [
    "# Export to csv for use later where needed\n",
    "countries.to_csv('data/country_code_mapping.csv', index = False)"
   ]
  },
  {
   "cell_type": "code",
   "execution_count": 141,
   "id": "8b156d06-3cc1-48d0-808f-d4f3a6056fbe",
   "metadata": {},
   "outputs": [
    {
     "data": {
      "text/html": [
       "<div>\n",
       "<style scoped>\n",
       "    .dataframe tbody tr th:only-of-type {\n",
       "        vertical-align: middle;\n",
       "    }\n",
       "\n",
       "    .dataframe tbody tr th {\n",
       "        vertical-align: top;\n",
       "    }\n",
       "\n",
       "    .dataframe thead th {\n",
       "        text-align: right;\n",
       "    }\n",
       "</style>\n",
       "<table border=\"1\" class=\"dataframe\">\n",
       "  <thead>\n",
       "    <tr style=\"text-align: right;\">\n",
       "      <th></th>\n",
       "      <th>country_code</th>\n",
       "      <th>year</th>\n",
       "      <th>GDP-USD</th>\n",
       "    </tr>\n",
       "  </thead>\n",
       "  <tbody>\n",
       "    <tr>\n",
       "      <th>0</th>\n",
       "      <td>ABW</td>\n",
       "      <td>1988</td>\n",
       "      <td>596648044.7</td>\n",
       "    </tr>\n",
       "    <tr>\n",
       "      <th>1</th>\n",
       "      <td>ALB</td>\n",
       "      <td>1988</td>\n",
       "      <td>2051236250.0</td>\n",
       "    </tr>\n",
       "    <tr>\n",
       "      <th>2</th>\n",
       "      <td>ARE</td>\n",
       "      <td>1988</td>\n",
       "      <td>36275674203.2</td>\n",
       "    </tr>\n",
       "    <tr>\n",
       "      <th>3</th>\n",
       "      <td>ARG</td>\n",
       "      <td>1988</td>\n",
       "      <td>126890235049.1</td>\n",
       "    </tr>\n",
       "    <tr>\n",
       "      <th>4</th>\n",
       "      <td>ARM</td>\n",
       "      <td>1988</td>\n",
       "      <td>NaN</td>\n",
       "    </tr>\n",
       "    <tr>\n",
       "      <th>...</th>\n",
       "      <td>...</td>\n",
       "      <td>...</td>\n",
       "      <td>...</td>\n",
       "    </tr>\n",
       "    <tr>\n",
       "      <th>4825</th>\n",
       "      <td>USA</td>\n",
       "      <td>2022</td>\n",
       "      <td>25462700000000.0</td>\n",
       "    </tr>\n",
       "    <tr>\n",
       "      <th>4826</th>\n",
       "      <td>UZB</td>\n",
       "      <td>2022</td>\n",
       "      <td>80391853884.8</td>\n",
       "    </tr>\n",
       "    <tr>\n",
       "      <th>4827</th>\n",
       "      <td>VEN</td>\n",
       "      <td>2022</td>\n",
       "      <td>NaN</td>\n",
       "    </tr>\n",
       "    <tr>\n",
       "      <th>4828</th>\n",
       "      <td>VNM</td>\n",
       "      <td>2022</td>\n",
       "      <td>408802379068.2</td>\n",
       "    </tr>\n",
       "    <tr>\n",
       "      <th>4829</th>\n",
       "      <td>ZAF</td>\n",
       "      <td>2022</td>\n",
       "      <td>405869718462.3</td>\n",
       "    </tr>\n",
       "  </tbody>\n",
       "</table>\n",
       "<p>4830 rows × 3 columns</p>\n",
       "</div>"
      ],
      "text/plain": [
       "     country_code  year          GDP-USD\n",
       "0             ABW  1988      596648044.7\n",
       "1             ALB  1988     2051236250.0\n",
       "2             ARE  1988    36275674203.2\n",
       "3             ARG  1988   126890235049.1\n",
       "4             ARM  1988              NaN\n",
       "...           ...   ...              ...\n",
       "4825          USA  2022 25462700000000.0\n",
       "4826          UZB  2022    80391853884.8\n",
       "4827          VEN  2022              NaN\n",
       "4828          VNM  2022   408802379068.2\n",
       "4829          ZAF  2022   405869718462.3\n",
       "\n",
       "[4830 rows x 3 columns]"
      ]
     },
     "execution_count": 141,
     "metadata": {},
     "output_type": "execute_result"
    }
   ],
   "source": [
    "gdp_data"
   ]
  },
  {
   "cell_type": "code",
   "execution_count": 193,
   "id": "e3356de5-a4be-4cbf-8f09-354037371320",
   "metadata": {},
   "outputs": [],
   "source": [
    "gdp_data.to_csv('data/gdp-data-clean.csv')"
   ]
  },
  {
   "cell_type": "markdown",
   "id": "949d2a3e-9da9-4d8b-9751-5c600f7c1eee",
   "metadata": {
    "tags": []
   },
   "source": [
    "### QA - Countries without GDP"
   ]
  },
  {
   "cell_type": "code",
   "execution_count": 142,
   "id": "21eb79fb-ad2e-4743-bdd3-bfca59b45b33",
   "metadata": {},
   "outputs": [
    {
     "data": {
      "text/plain": [
       "160"
      ]
     },
     "execution_count": 142,
     "metadata": {},
     "output_type": "execute_result"
    }
   ],
   "source": [
    "len(data_clean['Country'].unique())"
   ]
  },
  {
   "cell_type": "code",
   "execution_count": 150,
   "id": "b06c3ad6-fa9c-4a30-bcf3-b2cd0fa65afa",
   "metadata": {},
   "outputs": [
    {
     "data": {
      "text/html": [
       "<div>\n",
       "<style scoped>\n",
       "    .dataframe tbody tr th:only-of-type {\n",
       "        vertical-align: middle;\n",
       "    }\n",
       "\n",
       "    .dataframe tbody tr th {\n",
       "        vertical-align: top;\n",
       "    }\n",
       "\n",
       "    .dataframe thead th {\n",
       "        text-align: right;\n",
       "    }\n",
       "</style>\n",
       "<table border=\"1\" class=\"dataframe\">\n",
       "  <thead>\n",
       "    <tr style=\"text-align: right;\">\n",
       "      <th></th>\n",
       "      <th>Country</th>\n",
       "      <th>continent</th>\n",
       "      <th>country_code</th>\n",
       "    </tr>\n",
       "  </thead>\n",
       "  <tbody>\n",
       "    <tr>\n",
       "      <th>1</th>\n",
       "      <td>Albania</td>\n",
       "      <td>Europe</td>\n",
       "      <td>ALB</td>\n",
       "    </tr>\n",
       "    <tr>\n",
       "      <th>2</th>\n",
       "      <td>Antigua and Barbuda</td>\n",
       "      <td>Americas</td>\n",
       "      <td>ATG</td>\n",
       "    </tr>\n",
       "    <tr>\n",
       "      <th>3</th>\n",
       "      <td>Argentina</td>\n",
       "      <td>Americas</td>\n",
       "      <td>ARG</td>\n",
       "    </tr>\n",
       "    <tr>\n",
       "      <th>4</th>\n",
       "      <td>Armenia</td>\n",
       "      <td>Asia</td>\n",
       "      <td>ARM</td>\n",
       "    </tr>\n",
       "    <tr>\n",
       "      <th>5</th>\n",
       "      <td>Aruba</td>\n",
       "      <td>Americas</td>\n",
       "      <td>ABW</td>\n",
       "    </tr>\n",
       "    <tr>\n",
       "      <th>...</th>\n",
       "      <td>...</td>\n",
       "      <td>...</td>\n",
       "      <td>...</td>\n",
       "    </tr>\n",
       "    <tr>\n",
       "      <th>155</th>\n",
       "      <td>Uzbekistan</td>\n",
       "      <td>Asia</td>\n",
       "      <td>UZB</td>\n",
       "    </tr>\n",
       "    <tr>\n",
       "      <th>156</th>\n",
       "      <td>Venezuela</td>\n",
       "      <td>Americas</td>\n",
       "      <td>VEN</td>\n",
       "    </tr>\n",
       "    <tr>\n",
       "      <th>157</th>\n",
       "      <td>Viet Nam</td>\n",
       "      <td>Asia</td>\n",
       "      <td>VNM</td>\n",
       "    </tr>\n",
       "    <tr>\n",
       "      <th>158</th>\n",
       "      <td>West Germany</td>\n",
       "      <td>Europe</td>\n",
       "      <td>DEU</td>\n",
       "    </tr>\n",
       "    <tr>\n",
       "      <th>159</th>\n",
       "      <td>Yugoslavia</td>\n",
       "      <td>NaN</td>\n",
       "      <td>None</td>\n",
       "    </tr>\n",
       "  </tbody>\n",
       "</table>\n",
       "<p>159 rows × 3 columns</p>\n",
       "</div>"
      ],
      "text/plain": [
       "                 Country continent country_code\n",
       "1                Albania    Europe          ALB\n",
       "2    Antigua and Barbuda  Americas          ATG\n",
       "3              Argentina  Americas          ARG\n",
       "4                Armenia      Asia          ARM\n",
       "5                  Aruba  Americas          ABW\n",
       "..                   ...       ...          ...\n",
       "155           Uzbekistan      Asia          UZB\n",
       "156            Venezuela  Americas          VEN\n",
       "157             Viet Nam      Asia          VNM\n",
       "158         West Germany    Europe          DEU\n",
       "159          Yugoslavia        NaN         None\n",
       "\n",
       "[159 rows x 3 columns]"
      ]
     },
     "execution_count": 150,
     "metadata": {},
     "output_type": "execute_result"
    }
   ],
   "source": [
    "# countries need gdp for \n",
    "countries"
   ]
  },
  {
   "cell_type": "code",
   "execution_count": 159,
   "id": "a272eb90-c005-43ef-a04a-9b0bb96c244a",
   "metadata": {},
   "outputs": [],
   "source": [
    "## Cross reference - drop countries if not significant \n",
    "\n",
    "no_gdp_countries = countries[countries['country_code'].isna()].reset_index(drop=True) # countries need gdp for "
   ]
  },
  {
   "cell_type": "code",
   "execution_count": 160,
   "id": "161ed099-53c9-4a39-9071-c95badab0536",
   "metadata": {},
   "outputs": [
    {
     "data": {
      "text/html": [
       "<div>\n",
       "<style scoped>\n",
       "    .dataframe tbody tr th:only-of-type {\n",
       "        vertical-align: middle;\n",
       "    }\n",
       "\n",
       "    .dataframe tbody tr th {\n",
       "        vertical-align: top;\n",
       "    }\n",
       "\n",
       "    .dataframe thead th {\n",
       "        text-align: right;\n",
       "    }\n",
       "</style>\n",
       "<table border=\"1\" class=\"dataframe\">\n",
       "  <thead>\n",
       "    <tr style=\"text-align: right;\">\n",
       "      <th></th>\n",
       "      <th>Country</th>\n",
       "      <th>continent</th>\n",
       "      <th>country_code</th>\n",
       "    </tr>\n",
       "  </thead>\n",
       "  <tbody>\n",
       "    <tr>\n",
       "      <th>0</th>\n",
       "      <td>Bonaire, Sint Eustatius and Saba</td>\n",
       "      <td>NaN</td>\n",
       "      <td>None</td>\n",
       "    </tr>\n",
       "    <tr>\n",
       "      <th>1</th>\n",
       "      <td>Christmas Island</td>\n",
       "      <td>NaN</td>\n",
       "      <td>None</td>\n",
       "    </tr>\n",
       "    <tr>\n",
       "      <th>2</th>\n",
       "      <td>Cocos</td>\n",
       "      <td>NaN</td>\n",
       "      <td>None</td>\n",
       "    </tr>\n",
       "    <tr>\n",
       "      <th>3</th>\n",
       "      <td>Czechoslovakia</td>\n",
       "      <td>NaN</td>\n",
       "      <td>None</td>\n",
       "    </tr>\n",
       "    <tr>\n",
       "      <th>4</th>\n",
       "      <td>Former Union of Soviet Socialist Republics</td>\n",
       "      <td>NaN</td>\n",
       "      <td>None</td>\n",
       "    </tr>\n",
       "    <tr>\n",
       "      <th>5</th>\n",
       "      <td>French Southern Antarctic Territories</td>\n",
       "      <td>NaN</td>\n",
       "      <td>None</td>\n",
       "    </tr>\n",
       "    <tr>\n",
       "      <th>6</th>\n",
       "      <td>French Southern Territories</td>\n",
       "      <td>NaN</td>\n",
       "      <td>None</td>\n",
       "    </tr>\n",
       "    <tr>\n",
       "      <th>7</th>\n",
       "      <td>Guadeloupe</td>\n",
       "      <td>NaN</td>\n",
       "      <td>None</td>\n",
       "    </tr>\n",
       "    <tr>\n",
       "      <th>8</th>\n",
       "      <td>Heard Island and McDonald Islands</td>\n",
       "      <td>NaN</td>\n",
       "      <td>None</td>\n",
       "    </tr>\n",
       "    <tr>\n",
       "      <th>9</th>\n",
       "      <td>Martinique</td>\n",
       "      <td>NaN</td>\n",
       "      <td>None</td>\n",
       "    </tr>\n",
       "    <tr>\n",
       "      <th>10</th>\n",
       "      <td>Norfolk Island</td>\n",
       "      <td>NaN</td>\n",
       "      <td>None</td>\n",
       "    </tr>\n",
       "    <tr>\n",
       "      <th>11</th>\n",
       "      <td>Saint Helena, Ascension and Tristan da Cunha</td>\n",
       "      <td>NaN</td>\n",
       "      <td>None</td>\n",
       "    </tr>\n",
       "    <tr>\n",
       "      <th>12</th>\n",
       "      <td>Saint Pierre and Miquelon</td>\n",
       "      <td>NaN</td>\n",
       "      <td>None</td>\n",
       "    </tr>\n",
       "    <tr>\n",
       "      <th>13</th>\n",
       "      <td>Tokelau</td>\n",
       "      <td>NaN</td>\n",
       "      <td>None</td>\n",
       "    </tr>\n",
       "    <tr>\n",
       "      <th>14</th>\n",
       "      <td>Union of Soviet Socialist Republics</td>\n",
       "      <td>NaN</td>\n",
       "      <td>None</td>\n",
       "    </tr>\n",
       "    <tr>\n",
       "      <th>15</th>\n",
       "      <td>Yugoslavia</td>\n",
       "      <td>NaN</td>\n",
       "      <td>None</td>\n",
       "    </tr>\n",
       "  </tbody>\n",
       "</table>\n",
       "</div>"
      ],
      "text/plain": [
       "                                         Country continent country_code\n",
       "0               Bonaire, Sint Eustatius and Saba       NaN         None\n",
       "1                               Christmas Island       NaN         None\n",
       "2                                         Cocos        NaN         None\n",
       "3                                Czechoslovakia        NaN         None\n",
       "4    Former Union of Soviet Socialist Republics        NaN         None\n",
       "5          French Southern Antarctic Territories       NaN         None\n",
       "6                    French Southern Territories       NaN         None\n",
       "7                                     Guadeloupe       NaN         None\n",
       "8              Heard Island and McDonald Islands       NaN         None\n",
       "9                                     Martinique       NaN         None\n",
       "10                                Norfolk Island       NaN         None\n",
       "11  Saint Helena, Ascension and Tristan da Cunha       NaN         None\n",
       "12                     Saint Pierre and Miquelon       NaN         None\n",
       "13                                       Tokelau       NaN         None\n",
       "14          Union of Soviet Socialist Republics        NaN         None\n",
       "15                                   Yugoslavia        NaN         None"
      ]
     },
     "execution_count": 160,
     "metadata": {},
     "output_type": "execute_result"
    }
   ],
   "source": [
    "no_gdp_countries"
   ]
  },
  {
   "cell_type": "code",
   "execution_count": 161,
   "id": "668002db-17ec-45f4-b96c-813fa3b14fe4",
   "metadata": {},
   "outputs": [],
   "source": [
    "no_gdp_countries2 = list(data_clean.loc[data_clean['Country'].isin(no_gdp_countries['Country']), 'Country'].unique())"
   ]
  },
  {
   "cell_type": "code",
   "execution_count": 162,
   "id": "0cb59db6-53ba-40d5-b2ab-f93a41b8ea6a",
   "metadata": {},
   "outputs": [
    {
     "data": {
      "text/plain": [
       "['Christmas Island',\n",
       " 'Saint Pierre and Miquelon',\n",
       " 'Bonaire, Sint Eustatius and Saba',\n",
       " 'Guadeloupe',\n",
       " 'Former Union of Soviet Socialist Republics ',\n",
       " 'Czechoslovakia ',\n",
       " 'Saint Helena, Ascension and Tristan da Cunha',\n",
       " 'Martinique',\n",
       " 'French Southern Antarctic Territories',\n",
       " 'French Southern Territories',\n",
       " 'Tokelau',\n",
       " 'Union of Soviet Socialist Republics ',\n",
       " 'Yugoslavia ',\n",
       " 'Heard Island and McDonald Islands',\n",
       " 'Cocos ',\n",
       " 'Norfolk Island']"
      ]
     },
     "execution_count": 162,
     "metadata": {},
     "output_type": "execute_result"
    }
   ],
   "source": [
    "no_gdp_countries2"
   ]
  },
  {
   "cell_type": "code",
   "execution_count": 163,
   "id": "40696018-013e-49f7-810a-b564b1d32f5b",
   "metadata": {},
   "outputs": [],
   "source": [
    "years_list =  list(set(data_clean['Period'].dt.year.unique()))\n",
    "# years_list"
   ]
  },
  {
   "cell_type": "code",
   "execution_count": 172,
   "id": "a395b2ec-d109-4304-9110-44d77874de5c",
   "metadata": {},
   "outputs": [],
   "source": [
    "# sum of total exports by year for no gdp countries\n",
    "def annual_value(df_name):\n",
    "    result = pd.DataFrame()\n",
    "    for country in no_gdp_countries['Country']:\n",
    "        subtotal = df_name.copy()\n",
    "        subtotal = subtotal.loc[subtotal['Country'].str.contains(country),:]\n",
    "        subtotal['Year'] = subtotal['Period'].dt.year\n",
    "        subtotal = pd.DataFrame(subtotal[['Country', 'Value-adjusted', 'Year']].groupby(['Country', 'Year']).sum())\n",
    "        # print(subtotal)\n",
    "        result = pd.concat([result, subtotal])\n",
    "    result = result.reset_index()\n",
    "    return result\n"
   ]
  },
  {
   "cell_type": "code",
   "execution_count": 175,
   "id": "9e03e26d-ffbe-49f3-bdd8-789cf8e769a3",
   "metadata": {},
   "outputs": [],
   "source": [
    "result = annual_value(data_clean)"
   ]
  },
  {
   "cell_type": "code",
   "execution_count": 174,
   "id": "ac1f8a5e-9cf9-4943-a84d-b5c8b432bdda",
   "metadata": {},
   "outputs": [
    {
     "data": {
      "text/html": [
       "<div>\n",
       "<style scoped>\n",
       "    .dataframe tbody tr th:only-of-type {\n",
       "        vertical-align: middle;\n",
       "    }\n",
       "\n",
       "    .dataframe tbody tr th {\n",
       "        vertical-align: top;\n",
       "    }\n",
       "\n",
       "    .dataframe thead th {\n",
       "        text-align: right;\n",
       "    }\n",
       "</style>\n",
       "<table border=\"1\" class=\"dataframe\">\n",
       "  <thead>\n",
       "    <tr style=\"text-align: right;\">\n",
       "      <th></th>\n",
       "      <th>Year</th>\n",
       "      <th>Value-adjusted</th>\n",
       "    </tr>\n",
       "  </thead>\n",
       "  <tbody>\n",
       "    <tr>\n",
       "      <th>26</th>\n",
       "      <td>2014</td>\n",
       "      <td>1940282125.2</td>\n",
       "    </tr>\n",
       "    <tr>\n",
       "      <th>27</th>\n",
       "      <td>2015</td>\n",
       "      <td>2565861170.4</td>\n",
       "    </tr>\n",
       "    <tr>\n",
       "      <th>28</th>\n",
       "      <td>2016</td>\n",
       "      <td>2684492592.0</td>\n",
       "    </tr>\n",
       "    <tr>\n",
       "      <th>29</th>\n",
       "      <td>2017</td>\n",
       "      <td>2621825166.8</td>\n",
       "    </tr>\n",
       "    <tr>\n",
       "      <th>30</th>\n",
       "      <td>2018</td>\n",
       "      <td>2699399730.9</td>\n",
       "    </tr>\n",
       "    <tr>\n",
       "      <th>31</th>\n",
       "      <td>2019</td>\n",
       "      <td>3072141059.3</td>\n",
       "    </tr>\n",
       "    <tr>\n",
       "      <th>32</th>\n",
       "      <td>2020</td>\n",
       "      <td>2457713762.0</td>\n",
       "    </tr>\n",
       "    <tr>\n",
       "      <th>33</th>\n",
       "      <td>2021</td>\n",
       "      <td>3683692243.5</td>\n",
       "    </tr>\n",
       "    <tr>\n",
       "      <th>34</th>\n",
       "      <td>2022</td>\n",
       "      <td>2935596936.2</td>\n",
       "    </tr>\n",
       "    <tr>\n",
       "      <th>35</th>\n",
       "      <td>2023</td>\n",
       "      <td>2107206966.1</td>\n",
       "    </tr>\n",
       "  </tbody>\n",
       "</table>\n",
       "</div>"
      ],
      "text/plain": [
       "    Year  Value-adjusted\n",
       "26  2014    1940282125.2\n",
       "27  2015    2565861170.4\n",
       "28  2016    2684492592.0\n",
       "29  2017    2621825166.8\n",
       "30  2018    2699399730.9\n",
       "31  2019    3072141059.3\n",
       "32  2020    2457713762.0\n",
       "33  2021    3683692243.5\n",
       "34  2022    2935596936.2\n",
       "35  2023    2107206966.1"
      ]
     },
     "execution_count": 174,
     "metadata": {},
     "output_type": "execute_result"
    }
   ],
   "source": [
    "# what percent of total export value is no gdp countries?\n",
    "# total_gdp_year \n",
    "total_ann_gdp = pd.DataFrame(data_clean['Value-adjusted'].groupby(data_clean['Period'].dt.year).sum()).reset_index().rename(columns={'Period': 'Year'})\n",
    "total_ann_gdp.tail(10)"
   ]
  },
  {
   "cell_type": "code",
   "execution_count": 176,
   "id": "394c4d59-de92-489a-8e1b-af515cdeb583",
   "metadata": {},
   "outputs": [
    {
     "data": {
      "text/html": [
       "<div>\n",
       "<style scoped>\n",
       "    .dataframe tbody tr th:only-of-type {\n",
       "        vertical-align: middle;\n",
       "    }\n",
       "\n",
       "    .dataframe tbody tr th {\n",
       "        vertical-align: top;\n",
       "    }\n",
       "\n",
       "    .dataframe thead th {\n",
       "        text-align: right;\n",
       "    }\n",
       "</style>\n",
       "<table border=\"1\" class=\"dataframe\">\n",
       "  <thead>\n",
       "    <tr style=\"text-align: right;\">\n",
       "      <th></th>\n",
       "      <th>Country</th>\n",
       "      <th>Year</th>\n",
       "      <th>Value-adjusted</th>\n",
       "      <th>Value-adjusted_all_countries_year</th>\n",
       "    </tr>\n",
       "  </thead>\n",
       "  <tbody>\n",
       "    <tr>\n",
       "      <th>0</th>\n",
       "      <td>Bonaire, Sint Eustatius and Saba</td>\n",
       "      <td>2018</td>\n",
       "      <td>40023.6</td>\n",
       "      <td>2699399730.9</td>\n",
       "    </tr>\n",
       "    <tr>\n",
       "      <th>1</th>\n",
       "      <td>Christmas Island</td>\n",
       "      <td>2018</td>\n",
       "      <td>642575.6</td>\n",
       "      <td>2699399730.9</td>\n",
       "    </tr>\n",
       "    <tr>\n",
       "      <th>2</th>\n",
       "      <td>Bonaire, Sint Eustatius and Saba</td>\n",
       "      <td>2019</td>\n",
       "      <td>4609.1</td>\n",
       "      <td>3072141059.3</td>\n",
       "    </tr>\n",
       "    <tr>\n",
       "      <th>3</th>\n",
       "      <td>Christmas Island</td>\n",
       "      <td>2019</td>\n",
       "      <td>67571.4</td>\n",
       "      <td>3072141059.3</td>\n",
       "    </tr>\n",
       "    <tr>\n",
       "      <th>4</th>\n",
       "      <td>Christmas Island</td>\n",
       "      <td>2015</td>\n",
       "      <td>36470.9</td>\n",
       "      <td>2565861170.4</td>\n",
       "    </tr>\n",
       "    <tr>\n",
       "      <th>...</th>\n",
       "      <td>...</td>\n",
       "      <td>...</td>\n",
       "      <td>...</td>\n",
       "      <td>...</td>\n",
       "    </tr>\n",
       "    <tr>\n",
       "      <th>56</th>\n",
       "      <td>Saint Pierre and Miquelon</td>\n",
       "      <td>2011</td>\n",
       "      <td>2728.3</td>\n",
       "      <td>1367996608.7</td>\n",
       "    </tr>\n",
       "    <tr>\n",
       "      <th>57</th>\n",
       "      <td>Saint Pierre and Miquelon</td>\n",
       "      <td>2012</td>\n",
       "      <td>4027.7</td>\n",
       "      <td>1421503949.7</td>\n",
       "    </tr>\n",
       "    <tr>\n",
       "      <th>58</th>\n",
       "      <td>Saint Pierre and Miquelon</td>\n",
       "      <td>2013</td>\n",
       "      <td>2444.9</td>\n",
       "      <td>1488847046.1</td>\n",
       "    </tr>\n",
       "    <tr>\n",
       "      <th>59</th>\n",
       "      <td>Saint Pierre and Miquelon</td>\n",
       "      <td>2016</td>\n",
       "      <td>1288.3</td>\n",
       "      <td>2684492592.0</td>\n",
       "    </tr>\n",
       "    <tr>\n",
       "      <th>60</th>\n",
       "      <td>Saint Pierre and Miquelon</td>\n",
       "      <td>2022</td>\n",
       "      <td>2976.1</td>\n",
       "      <td>2935596936.2</td>\n",
       "    </tr>\n",
       "  </tbody>\n",
       "</table>\n",
       "<p>61 rows × 4 columns</p>\n",
       "</div>"
      ],
      "text/plain": [
       "                             Country  Year  Value-adjusted  \\\n",
       "0   Bonaire, Sint Eustatius and Saba  2018         40023.6   \n",
       "1                   Christmas Island  2018        642575.6   \n",
       "2   Bonaire, Sint Eustatius and Saba  2019          4609.1   \n",
       "3                   Christmas Island  2019         67571.4   \n",
       "4                   Christmas Island  2015         36470.9   \n",
       "..                               ...   ...             ...   \n",
       "56         Saint Pierre and Miquelon  2011          2728.3   \n",
       "57         Saint Pierre and Miquelon  2012          4027.7   \n",
       "58         Saint Pierre and Miquelon  2013          2444.9   \n",
       "59         Saint Pierre and Miquelon  2016          1288.3   \n",
       "60         Saint Pierre and Miquelon  2022          2976.1   \n",
       "\n",
       "    Value-adjusted_all_countries_year  \n",
       "0                        2699399730.9  \n",
       "1                        2699399730.9  \n",
       "2                        3072141059.3  \n",
       "3                        3072141059.3  \n",
       "4                        2565861170.4  \n",
       "..                                ...  \n",
       "56                       1367996608.7  \n",
       "57                       1421503949.7  \n",
       "58                       1488847046.1  \n",
       "59                       2684492592.0  \n",
       "60                       2935596936.2  \n",
       "\n",
       "[61 rows x 4 columns]"
      ]
     },
     "execution_count": 176,
     "metadata": {},
     "output_type": "execute_result"
    }
   ],
   "source": [
    "# what percent of total export value is no gdp countries by year?\n",
    "\n",
    "# join on year - all values in result, matched on year\n",
    "percent_gdp = pd.merge(result, total_ann_gdp, on = 'Year', suffixes=('', '_all_countries_year'))\n",
    "percent_gdp"
   ]
  },
  {
   "cell_type": "code",
   "execution_count": 177,
   "id": "de7d813a-0a1e-49a8-8cd9-ca239b524ccb",
   "metadata": {},
   "outputs": [
    {
     "data": {
      "text/html": [
       "<div>\n",
       "<style scoped>\n",
       "    .dataframe tbody tr th:only-of-type {\n",
       "        vertical-align: middle;\n",
       "    }\n",
       "\n",
       "    .dataframe tbody tr th {\n",
       "        vertical-align: top;\n",
       "    }\n",
       "\n",
       "    .dataframe thead th {\n",
       "        text-align: right;\n",
       "    }\n",
       "</style>\n",
       "<table border=\"1\" class=\"dataframe\">\n",
       "  <thead>\n",
       "    <tr style=\"text-align: right;\">\n",
       "      <th></th>\n",
       "      <th>Country</th>\n",
       "      <th>Year</th>\n",
       "      <th>Value-adjusted</th>\n",
       "      <th>Value-adjusted_all_countries_year</th>\n",
       "      <th>Percent</th>\n",
       "    </tr>\n",
       "  </thead>\n",
       "  <tbody>\n",
       "    <tr>\n",
       "      <th>44</th>\n",
       "      <td>Saint Pierre and Miquelon</td>\n",
       "      <td>1996</td>\n",
       "      <td>526151.1</td>\n",
       "      <td>983429331.9</td>\n",
       "      <td>0.1</td>\n",
       "    </tr>\n",
       "    <tr>\n",
       "      <th>16</th>\n",
       "      <td>Saint Pierre and Miquelon</td>\n",
       "      <td>1993</td>\n",
       "      <td>280049.7</td>\n",
       "      <td>649091080.5</td>\n",
       "      <td>0.0</td>\n",
       "    </tr>\n",
       "    <tr>\n",
       "      <th>21</th>\n",
       "      <td>Saint Pierre and Miquelon</td>\n",
       "      <td>1989</td>\n",
       "      <td>217746.2</td>\n",
       "      <td>594829347.9</td>\n",
       "      <td>0.0</td>\n",
       "    </tr>\n",
       "    <tr>\n",
       "      <th>41</th>\n",
       "      <td>Norfolk Island</td>\n",
       "      <td>2001</td>\n",
       "      <td>490056.7</td>\n",
       "      <td>1531233419.6</td>\n",
       "      <td>0.0</td>\n",
       "    </tr>\n",
       "    <tr>\n",
       "      <th>27</th>\n",
       "      <td>Saint Pierre and Miquelon</td>\n",
       "      <td>1988</td>\n",
       "      <td>226753.7</td>\n",
       "      <td>738753497.8</td>\n",
       "      <td>0.0</td>\n",
       "    </tr>\n",
       "    <tr>\n",
       "      <th>38</th>\n",
       "      <td>Saint Pierre and Miquelon</td>\n",
       "      <td>1995</td>\n",
       "      <td>306558.7</td>\n",
       "      <td>999083631.9</td>\n",
       "      <td>0.0</td>\n",
       "    </tr>\n",
       "    <tr>\n",
       "      <th>35</th>\n",
       "      <td>Saint Pierre and Miquelon</td>\n",
       "      <td>1994</td>\n",
       "      <td>272077.1</td>\n",
       "      <td>899191608.5</td>\n",
       "      <td>0.0</td>\n",
       "    </tr>\n",
       "    <tr>\n",
       "      <th>31</th>\n",
       "      <td>Saint Pierre and Miquelon</td>\n",
       "      <td>1991</td>\n",
       "      <td>188542.8</td>\n",
       "      <td>631231820.1</td>\n",
       "      <td>0.0</td>\n",
       "    </tr>\n",
       "    <tr>\n",
       "      <th>43</th>\n",
       "      <td>Saint Pierre and Miquelon</td>\n",
       "      <td>1990</td>\n",
       "      <td>159146.8</td>\n",
       "      <td>613773110.2</td>\n",
       "      <td>0.0</td>\n",
       "    </tr>\n",
       "    <tr>\n",
       "      <th>11</th>\n",
       "      <td>Saint Pierre and Miquelon</td>\n",
       "      <td>1992</td>\n",
       "      <td>177861.0</td>\n",
       "      <td>702105902.2</td>\n",
       "      <td>0.0</td>\n",
       "    </tr>\n",
       "  </tbody>\n",
       "</table>\n",
       "</div>"
      ],
      "text/plain": [
       "                      Country  Year  Value-adjusted  \\\n",
       "44  Saint Pierre and Miquelon  1996        526151.1   \n",
       "16  Saint Pierre and Miquelon  1993        280049.7   \n",
       "21  Saint Pierre and Miquelon  1989        217746.2   \n",
       "41             Norfolk Island  2001        490056.7   \n",
       "27  Saint Pierre and Miquelon  1988        226753.7   \n",
       "38  Saint Pierre and Miquelon  1995        306558.7   \n",
       "35  Saint Pierre and Miquelon  1994        272077.1   \n",
       "31  Saint Pierre and Miquelon  1991        188542.8   \n",
       "43  Saint Pierre and Miquelon  1990        159146.8   \n",
       "11  Saint Pierre and Miquelon  1992        177861.0   \n",
       "\n",
       "    Value-adjusted_all_countries_year  Percent  \n",
       "44                        983429331.9      0.1  \n",
       "16                        649091080.5      0.0  \n",
       "21                        594829347.9      0.0  \n",
       "41                       1531233419.6      0.0  \n",
       "27                        738753497.8      0.0  \n",
       "38                        999083631.9      0.0  \n",
       "35                        899191608.5      0.0  \n",
       "31                        631231820.1      0.0  \n",
       "43                        613773110.2      0.0  \n",
       "11                        702105902.2      0.0  "
      ]
     },
     "execution_count": 177,
     "metadata": {},
     "output_type": "execute_result"
    }
   ],
   "source": [
    "percent_gdp['Percent'] = percent_gdp['Value-adjusted'] / percent_gdp['Value-adjusted_all_countries_year']*100\n",
    "percent_gdp.sort_values(by= 'Percent', ascending = False).head(10)"
   ]
  },
  {
   "cell_type": "code",
   "execution_count": 178,
   "id": "8d08fb8e-7b64-4453-9745-7138cb5b10cd",
   "metadata": {},
   "outputs": [],
   "source": [
    "no_gdp_sum = result['Value-adjusted'].sum()"
   ]
  },
  {
   "cell_type": "code",
   "execution_count": 179,
   "id": "0a93a663-fda4-40e4-b85c-beea382b2f21",
   "metadata": {},
   "outputs": [],
   "source": [
    "gdp_sum = data_clean['Value-adjusted'].sum()"
   ]
  },
  {
   "cell_type": "code",
   "execution_count": 180,
   "id": "e39c4cde-f407-4d4f-89e2-12b7a4bbfe73",
   "metadata": {},
   "outputs": [
    {
     "data": {
      "text/plain": [
       "0.008513356122811531"
      ]
     },
     "execution_count": 180,
     "metadata": {},
     "output_type": "execute_result"
    }
   ],
   "source": [
    "# ho much of total exports are in countries that dont have gdp data? \n",
    "\n",
    "(no_gdp_sum / gdp_sum) * 100\n",
    "\n",
    "# less than 0.01% --> 99.99% of total export value have gdp data"
   ]
  },
  {
   "cell_type": "markdown",
   "id": "c85d3ec3-74da-4881-86cc-db6551d83ca1",
   "metadata": {},
   "source": [
    "#### Decision:\n",
    "\n",
    "Decision... drop records for countries without GDP data. \n",
    "Since counties are likely territories of other gdp states. ?"
   ]
  },
  {
   "cell_type": "markdown",
   "id": "64d567a9-d951-45f6-b9c4-b63ce500b29a",
   "metadata": {},
   "source": [
    "#### Replace Country Code with Country Name"
   ]
  },
  {
   "cell_type": "code",
   "execution_count": 181,
   "id": "5217baa1-cf3e-474c-a799-be563ac26280",
   "metadata": {},
   "outputs": [
    {
     "data": {
      "text/html": [
       "<div>\n",
       "<style scoped>\n",
       "    .dataframe tbody tr th:only-of-type {\n",
       "        vertical-align: middle;\n",
       "    }\n",
       "\n",
       "    .dataframe tbody tr th {\n",
       "        vertical-align: top;\n",
       "    }\n",
       "\n",
       "    .dataframe thead th {\n",
       "        text-align: right;\n",
       "    }\n",
       "</style>\n",
       "<table border=\"1\" class=\"dataframe\">\n",
       "  <thead>\n",
       "    <tr style=\"text-align: right;\">\n",
       "      <th></th>\n",
       "      <th>Country</th>\n",
       "      <th>continent</th>\n",
       "      <th>country_code</th>\n",
       "    </tr>\n",
       "  </thead>\n",
       "  <tbody>\n",
       "    <tr>\n",
       "      <th>1</th>\n",
       "      <td>Albania</td>\n",
       "      <td>Europe</td>\n",
       "      <td>ALB</td>\n",
       "    </tr>\n",
       "    <tr>\n",
       "      <th>2</th>\n",
       "      <td>Antigua and Barbuda</td>\n",
       "      <td>Americas</td>\n",
       "      <td>ATG</td>\n",
       "    </tr>\n",
       "    <tr>\n",
       "      <th>3</th>\n",
       "      <td>Argentina</td>\n",
       "      <td>Americas</td>\n",
       "      <td>ARG</td>\n",
       "    </tr>\n",
       "    <tr>\n",
       "      <th>4</th>\n",
       "      <td>Armenia</td>\n",
       "      <td>Asia</td>\n",
       "      <td>ARM</td>\n",
       "    </tr>\n",
       "    <tr>\n",
       "      <th>5</th>\n",
       "      <td>Aruba</td>\n",
       "      <td>Americas</td>\n",
       "      <td>ABW</td>\n",
       "    </tr>\n",
       "    <tr>\n",
       "      <th>...</th>\n",
       "      <td>...</td>\n",
       "      <td>...</td>\n",
       "      <td>...</td>\n",
       "    </tr>\n",
       "    <tr>\n",
       "      <th>155</th>\n",
       "      <td>Uzbekistan</td>\n",
       "      <td>Asia</td>\n",
       "      <td>UZB</td>\n",
       "    </tr>\n",
       "    <tr>\n",
       "      <th>156</th>\n",
       "      <td>Venezuela</td>\n",
       "      <td>Americas</td>\n",
       "      <td>VEN</td>\n",
       "    </tr>\n",
       "    <tr>\n",
       "      <th>157</th>\n",
       "      <td>Viet Nam</td>\n",
       "      <td>Asia</td>\n",
       "      <td>VNM</td>\n",
       "    </tr>\n",
       "    <tr>\n",
       "      <th>158</th>\n",
       "      <td>West Germany</td>\n",
       "      <td>Europe</td>\n",
       "      <td>DEU</td>\n",
       "    </tr>\n",
       "    <tr>\n",
       "      <th>159</th>\n",
       "      <td>Yugoslavia</td>\n",
       "      <td>NaN</td>\n",
       "      <td>None</td>\n",
       "    </tr>\n",
       "  </tbody>\n",
       "</table>\n",
       "<p>159 rows × 3 columns</p>\n",
       "</div>"
      ],
      "text/plain": [
       "                 Country continent country_code\n",
       "1                Albania    Europe          ALB\n",
       "2    Antigua and Barbuda  Americas          ATG\n",
       "3              Argentina  Americas          ARG\n",
       "4                Armenia      Asia          ARM\n",
       "5                  Aruba  Americas          ABW\n",
       "..                   ...       ...          ...\n",
       "155           Uzbekistan      Asia          UZB\n",
       "156            Venezuela  Americas          VEN\n",
       "157             Viet Nam      Asia          VNM\n",
       "158         West Germany    Europe          DEU\n",
       "159          Yugoslavia        NaN         None\n",
       "\n",
       "[159 rows x 3 columns]"
      ]
     },
     "execution_count": 181,
     "metadata": {},
     "output_type": "execute_result"
    }
   ],
   "source": [
    "countries"
   ]
  },
  {
   "cell_type": "code",
   "execution_count": 182,
   "id": "09286b05-bde5-40fd-a214-d4c95bb3a372",
   "metadata": {},
   "outputs": [],
   "source": [
    "gdp_data = pd.merge(gdp_data, countries, on='country_code')"
   ]
  },
  {
   "cell_type": "code",
   "execution_count": 185,
   "id": "bfa4415a-aae1-4318-994f-91acf64ab6d5",
   "metadata": {},
   "outputs": [],
   "source": [
    "# export gdp data to csv for easier use later \n",
    "gdp_data.to_csv('data/gdp_data.csv', index = False)"
   ]
  },
  {
   "cell_type": "markdown",
   "id": "cd4b5817-a41e-4964-b867-a812ec01f862",
   "metadata": {
    "tags": []
   },
   "source": [
    "### Merge import gdp data into data clean"
   ]
  },
  {
   "cell_type": "code",
   "execution_count": 186,
   "id": "b65d98cd-9d32-4b76-9f6b-80c5becf7386",
   "metadata": {},
   "outputs": [
    {
     "data": {
      "text/html": [
       "<div>\n",
       "<style scoped>\n",
       "    .dataframe tbody tr th:only-of-type {\n",
       "        vertical-align: middle;\n",
       "    }\n",
       "\n",
       "    .dataframe tbody tr th {\n",
       "        vertical-align: top;\n",
       "    }\n",
       "\n",
       "    .dataframe thead th {\n",
       "        text-align: right;\n",
       "    }\n",
       "</style>\n",
       "<table border=\"1\" class=\"dataframe\">\n",
       "  <thead>\n",
       "    <tr style=\"text-align: right;\">\n",
       "      <th></th>\n",
       "      <th>Period</th>\n",
       "      <th>Commodity</th>\n",
       "      <th>Province</th>\n",
       "      <th>Country</th>\n",
       "      <th>State</th>\n",
       "      <th>Value</th>\n",
       "      <th>Quantity_kg</th>\n",
       "      <th>Terminated</th>\n",
       "      <th>cpi_val</th>\n",
       "      <th>Value-adjusted</th>\n",
       "      <th>year</th>\n",
       "    </tr>\n",
       "  </thead>\n",
       "  <tbody>\n",
       "    <tr>\n",
       "      <th>0</th>\n",
       "      <td>2017-05-01</td>\n",
       "      <td>1605.30.10 - lobster, prepared or preserved, f...</td>\n",
       "      <td>Newfoundland and Labrador</td>\n",
       "      <td>United States</td>\n",
       "      <td>Massachusetts</td>\n",
       "      <td>2454203</td>\n",
       "      <td>42059</td>\n",
       "      <td>None</td>\n",
       "      <td>102.2</td>\n",
       "      <td>3023516.5</td>\n",
       "      <td>2017</td>\n",
       "    </tr>\n",
       "    <tr>\n",
       "      <th>1</th>\n",
       "      <td>2017-05-01</td>\n",
       "      <td>1605.30.10 - lobster, prepared or preserved, f...</td>\n",
       "      <td>New Brunswick</td>\n",
       "      <td>United States</td>\n",
       "      <td>Massachusetts</td>\n",
       "      <td>20137016</td>\n",
       "      <td>370393</td>\n",
       "      <td>None</td>\n",
       "      <td>102.2</td>\n",
       "      <td>24808298.7</td>\n",
       "      <td>2017</td>\n",
       "    </tr>\n",
       "    <tr>\n",
       "      <th>2</th>\n",
       "      <td>2017-05-01</td>\n",
       "      <td>1605.30.90 - lobster, prepared or preserved, nes</td>\n",
       "      <td>Prince Edward Island</td>\n",
       "      <td>United States</td>\n",
       "      <td>California</td>\n",
       "      <td>31113</td>\n",
       "      <td>1633</td>\n",
       "      <td>None</td>\n",
       "      <td>102.2</td>\n",
       "      <td>38330.4</td>\n",
       "      <td>2017</td>\n",
       "    </tr>\n",
       "    <tr>\n",
       "      <th>3</th>\n",
       "      <td>2017-05-01</td>\n",
       "      <td>1605.30.10 - lobster, prepared or preserved, f...</td>\n",
       "      <td>Quebec</td>\n",
       "      <td>United States</td>\n",
       "      <td>California</td>\n",
       "      <td>98603</td>\n",
       "      <td>2347</td>\n",
       "      <td>None</td>\n",
       "      <td>102.2</td>\n",
       "      <td>121476.4</td>\n",
       "      <td>2017</td>\n",
       "    </tr>\n",
       "    <tr>\n",
       "      <th>4</th>\n",
       "      <td>2017-05-01</td>\n",
       "      <td>1605.30.90 - lobster, prepared or preserved, nes</td>\n",
       "      <td>Prince Edward Island</td>\n",
       "      <td>United States</td>\n",
       "      <td>New Hampshire</td>\n",
       "      <td>310914</td>\n",
       "      <td>15676</td>\n",
       "      <td>None</td>\n",
       "      <td>102.2</td>\n",
       "      <td>383038.3</td>\n",
       "      <td>2017</td>\n",
       "    </tr>\n",
       "    <tr>\n",
       "      <th>...</th>\n",
       "      <td>...</td>\n",
       "      <td>...</td>\n",
       "      <td>...</td>\n",
       "      <td>...</td>\n",
       "      <td>...</td>\n",
       "      <td>...</td>\n",
       "      <td>...</td>\n",
       "      <td>...</td>\n",
       "      <td>...</td>\n",
       "      <td>...</td>\n",
       "      <td>...</td>\n",
       "    </tr>\n",
       "    <tr>\n",
       "      <th>57380</th>\n",
       "      <td>1989-02-01</td>\n",
       "      <td>0306.22.10 - lobsters, (homarus spp), live (te...</td>\n",
       "      <td>British Columbia</td>\n",
       "      <td>Hong Kong</td>\n",
       "      <td>NaN</td>\n",
       "      <td>81553</td>\n",
       "      <td>4538</td>\n",
       "      <td>None</td>\n",
       "      <td>59.7</td>\n",
       "      <td>172082.3</td>\n",
       "      <td>1989</td>\n",
       "    </tr>\n",
       "    <tr>\n",
       "      <th>57381</th>\n",
       "      <td>1989-02-01</td>\n",
       "      <td>0306.12.10 - lobsters in brine, (homarus spp),...</td>\n",
       "      <td>Prince Edward Island</td>\n",
       "      <td>Sweden</td>\n",
       "      <td>NaN</td>\n",
       "      <td>107235</td>\n",
       "      <td>8340</td>\n",
       "      <td>None</td>\n",
       "      <td>59.7</td>\n",
       "      <td>226273.0</td>\n",
       "      <td>1989</td>\n",
       "    </tr>\n",
       "    <tr>\n",
       "      <th>57382</th>\n",
       "      <td>1989-02-01</td>\n",
       "      <td>0306.22.90 - lobsters,(homarus spp), not froze...</td>\n",
       "      <td>Nova Scotia</td>\n",
       "      <td>United States</td>\n",
       "      <td>Massachusetts</td>\n",
       "      <td>16048</td>\n",
       "      <td>1316</td>\n",
       "      <td>None</td>\n",
       "      <td>59.7</td>\n",
       "      <td>33862.4</td>\n",
       "      <td>1989</td>\n",
       "    </tr>\n",
       "    <tr>\n",
       "      <th>57383</th>\n",
       "      <td>1989-02-01</td>\n",
       "      <td>0306.22.10 - lobsters, (homarus spp), live (te...</td>\n",
       "      <td>Nova Scotia</td>\n",
       "      <td>United States</td>\n",
       "      <td>Unknown states</td>\n",
       "      <td>124924</td>\n",
       "      <td>8381</td>\n",
       "      <td>None</td>\n",
       "      <td>59.7</td>\n",
       "      <td>263598.0</td>\n",
       "      <td>1989</td>\n",
       "    </tr>\n",
       "    <tr>\n",
       "      <th>57384</th>\n",
       "      <td>1989-02-01</td>\n",
       "      <td>0306.22.10 - lobsters, (homarus spp), live (te...</td>\n",
       "      <td>New Brunswick</td>\n",
       "      <td>Netherlands</td>\n",
       "      <td>NaN</td>\n",
       "      <td>96990</td>\n",
       "      <td>7144</td>\n",
       "      <td>None</td>\n",
       "      <td>59.7</td>\n",
       "      <td>204655.4</td>\n",
       "      <td>1989</td>\n",
       "    </tr>\n",
       "  </tbody>\n",
       "</table>\n",
       "<p>57385 rows × 11 columns</p>\n",
       "</div>"
      ],
      "text/plain": [
       "          Period                                          Commodity  \\\n",
       "0     2017-05-01  1605.30.10 - lobster, prepared or preserved, f...   \n",
       "1     2017-05-01  1605.30.10 - lobster, prepared or preserved, f...   \n",
       "2     2017-05-01   1605.30.90 - lobster, prepared or preserved, nes   \n",
       "3     2017-05-01  1605.30.10 - lobster, prepared or preserved, f...   \n",
       "4     2017-05-01   1605.30.90 - lobster, prepared or preserved, nes   \n",
       "...          ...                                                ...   \n",
       "57380 1989-02-01  0306.22.10 - lobsters, (homarus spp), live (te...   \n",
       "57381 1989-02-01  0306.12.10 - lobsters in brine, (homarus spp),...   \n",
       "57382 1989-02-01  0306.22.90 - lobsters,(homarus spp), not froze...   \n",
       "57383 1989-02-01  0306.22.10 - lobsters, (homarus spp), live (te...   \n",
       "57384 1989-02-01  0306.22.10 - lobsters, (homarus spp), live (te...   \n",
       "\n",
       "                        Province        Country           State     Value  \\\n",
       "0      Newfoundland and Labrador  United States   Massachusetts   2454203   \n",
       "1                  New Brunswick  United States   Massachusetts  20137016   \n",
       "2           Prince Edward Island  United States      California     31113   \n",
       "3                         Quebec  United States      California     98603   \n",
       "4           Prince Edward Island  United States   New Hampshire    310914   \n",
       "...                          ...            ...             ...       ...   \n",
       "57380           British Columbia      Hong Kong             NaN     81553   \n",
       "57381       Prince Edward Island         Sweden             NaN    107235   \n",
       "57382                Nova Scotia  United States   Massachusetts     16048   \n",
       "57383                Nova Scotia  United States  Unknown states    124924   \n",
       "57384              New Brunswick    Netherlands             NaN     96990   \n",
       "\n",
       "       Quantity_kg Terminated  cpi_val  Value-adjusted  year  \n",
       "0            42059       None    102.2       3023516.5  2017  \n",
       "1           370393       None    102.2      24808298.7  2017  \n",
       "2             1633       None    102.2         38330.4  2017  \n",
       "3             2347       None    102.2        121476.4  2017  \n",
       "4            15676       None    102.2        383038.3  2017  \n",
       "...            ...        ...      ...             ...   ...  \n",
       "57380         4538       None     59.7        172082.3  1989  \n",
       "57381         8340       None     59.7        226273.0  1989  \n",
       "57382         1316       None     59.7         33862.4  1989  \n",
       "57383         8381       None     59.7        263598.0  1989  \n",
       "57384         7144       None     59.7        204655.4  1989  \n",
       "\n",
       "[57385 rows x 11 columns]"
      ]
     },
     "execution_count": 186,
     "metadata": {},
     "output_type": "execute_result"
    }
   ],
   "source": [
    "data_clean['year'] = data_clean['Period'].dt.year\n",
    "data_clean"
   ]
  },
  {
   "cell_type": "code",
   "execution_count": 188,
   "id": "eaa5120b-d3e7-4d2a-952f-7122e80b528b",
   "metadata": {},
   "outputs": [
    {
     "data": {
      "text/html": [
       "<div>\n",
       "<style scoped>\n",
       "    .dataframe tbody tr th:only-of-type {\n",
       "        vertical-align: middle;\n",
       "    }\n",
       "\n",
       "    .dataframe tbody tr th {\n",
       "        vertical-align: top;\n",
       "    }\n",
       "\n",
       "    .dataframe thead th {\n",
       "        text-align: right;\n",
       "    }\n",
       "</style>\n",
       "<table border=\"1\" class=\"dataframe\">\n",
       "  <thead>\n",
       "    <tr style=\"text-align: right;\">\n",
       "      <th></th>\n",
       "      <th>Period</th>\n",
       "      <th>Commodity</th>\n",
       "      <th>Province</th>\n",
       "      <th>Country</th>\n",
       "      <th>State</th>\n",
       "      <th>Value</th>\n",
       "      <th>Quantity_kg</th>\n",
       "      <th>Terminated</th>\n",
       "      <th>cpi_val</th>\n",
       "      <th>Value-adjusted</th>\n",
       "      <th>year</th>\n",
       "      <th>country_code</th>\n",
       "      <th>GDP-USD</th>\n",
       "      <th>continent</th>\n",
       "    </tr>\n",
       "  </thead>\n",
       "  <tbody>\n",
       "    <tr>\n",
       "      <th>0</th>\n",
       "      <td>2017-05-01</td>\n",
       "      <td>1605.30.10 - lobster, prepared or preserved, f...</td>\n",
       "      <td>Newfoundland and Labrador</td>\n",
       "      <td>United States</td>\n",
       "      <td>Massachusetts</td>\n",
       "      <td>2454203</td>\n",
       "      <td>42059</td>\n",
       "      <td>None</td>\n",
       "      <td>102.2</td>\n",
       "      <td>3023516.5</td>\n",
       "      <td>2017</td>\n",
       "      <td>USA</td>\n",
       "      <td>19477336549000.0</td>\n",
       "      <td>Americas</td>\n",
       "    </tr>\n",
       "    <tr>\n",
       "      <th>1</th>\n",
       "      <td>2017-05-01</td>\n",
       "      <td>1605.30.10 - lobster, prepared or preserved, f...</td>\n",
       "      <td>New Brunswick</td>\n",
       "      <td>United States</td>\n",
       "      <td>Massachusetts</td>\n",
       "      <td>20137016</td>\n",
       "      <td>370393</td>\n",
       "      <td>None</td>\n",
       "      <td>102.2</td>\n",
       "      <td>24808298.7</td>\n",
       "      <td>2017</td>\n",
       "      <td>USA</td>\n",
       "      <td>19477336549000.0</td>\n",
       "      <td>Americas</td>\n",
       "    </tr>\n",
       "    <tr>\n",
       "      <th>2</th>\n",
       "      <td>2017-05-01</td>\n",
       "      <td>1605.30.90 - lobster, prepared or preserved, nes</td>\n",
       "      <td>Prince Edward Island</td>\n",
       "      <td>United States</td>\n",
       "      <td>California</td>\n",
       "      <td>31113</td>\n",
       "      <td>1633</td>\n",
       "      <td>None</td>\n",
       "      <td>102.2</td>\n",
       "      <td>38330.4</td>\n",
       "      <td>2017</td>\n",
       "      <td>USA</td>\n",
       "      <td>19477336549000.0</td>\n",
       "      <td>Americas</td>\n",
       "    </tr>\n",
       "    <tr>\n",
       "      <th>3</th>\n",
       "      <td>2017-05-01</td>\n",
       "      <td>1605.30.10 - lobster, prepared or preserved, f...</td>\n",
       "      <td>Quebec</td>\n",
       "      <td>United States</td>\n",
       "      <td>California</td>\n",
       "      <td>98603</td>\n",
       "      <td>2347</td>\n",
       "      <td>None</td>\n",
       "      <td>102.2</td>\n",
       "      <td>121476.4</td>\n",
       "      <td>2017</td>\n",
       "      <td>USA</td>\n",
       "      <td>19477336549000.0</td>\n",
       "      <td>Americas</td>\n",
       "    </tr>\n",
       "    <tr>\n",
       "      <th>4</th>\n",
       "      <td>2017-05-01</td>\n",
       "      <td>1605.30.90 - lobster, prepared or preserved, nes</td>\n",
       "      <td>Prince Edward Island</td>\n",
       "      <td>United States</td>\n",
       "      <td>New Hampshire</td>\n",
       "      <td>310914</td>\n",
       "      <td>15676</td>\n",
       "      <td>None</td>\n",
       "      <td>102.2</td>\n",
       "      <td>383038.3</td>\n",
       "      <td>2017</td>\n",
       "      <td>USA</td>\n",
       "      <td>19477336549000.0</td>\n",
       "      <td>Americas</td>\n",
       "    </tr>\n",
       "    <tr>\n",
       "      <th>...</th>\n",
       "      <td>...</td>\n",
       "      <td>...</td>\n",
       "      <td>...</td>\n",
       "      <td>...</td>\n",
       "      <td>...</td>\n",
       "      <td>...</td>\n",
       "      <td>...</td>\n",
       "      <td>...</td>\n",
       "      <td>...</td>\n",
       "      <td>...</td>\n",
       "      <td>...</td>\n",
       "      <td>...</td>\n",
       "      <td>...</td>\n",
       "      <td>...</td>\n",
       "    </tr>\n",
       "    <tr>\n",
       "      <th>54972</th>\n",
       "      <td>2009-03-01</td>\n",
       "      <td>0306.22.10 - lobsters, (homarus spp), live (te...</td>\n",
       "      <td>New Brunswick</td>\n",
       "      <td>Mongolia</td>\n",
       "      <td>NaN</td>\n",
       "      <td>11126</td>\n",
       "      <td>674</td>\n",
       "      <td>None</td>\n",
       "      <td>90.2</td>\n",
       "      <td>15519.1</td>\n",
       "      <td>2009</td>\n",
       "      <td>MNG</td>\n",
       "      <td>4583850367.9</td>\n",
       "      <td>Asia</td>\n",
       "    </tr>\n",
       "    <tr>\n",
       "      <th>54973</th>\n",
       "      <td>1988-04-01</td>\n",
       "      <td>0306.22.10 - lobsters, (homarus spp), live (te...</td>\n",
       "      <td>Nova Scotia</td>\n",
       "      <td>Korea, South</td>\n",
       "      <td>NaN</td>\n",
       "      <td>310</td>\n",
       "      <td>23</td>\n",
       "      <td>None</td>\n",
       "      <td>57.6</td>\n",
       "      <td>676.8</td>\n",
       "      <td>1988</td>\n",
       "      <td>KOR</td>\n",
       "      <td>199590823957.2</td>\n",
       "      <td>Asia</td>\n",
       "    </tr>\n",
       "    <tr>\n",
       "      <th>54974</th>\n",
       "      <td>1991-01-01</td>\n",
       "      <td>0306.22.10 - lobsters, (homarus spp), live (te...</td>\n",
       "      <td>Nova Scotia</td>\n",
       "      <td>Ghana</td>\n",
       "      <td>NaN</td>\n",
       "      <td>2279</td>\n",
       "      <td>176</td>\n",
       "      <td>None</td>\n",
       "      <td>67.1</td>\n",
       "      <td>4275.2</td>\n",
       "      <td>1991</td>\n",
       "      <td>GHA</td>\n",
       "      <td>6603130039.9</td>\n",
       "      <td>Africa</td>\n",
       "    </tr>\n",
       "    <tr>\n",
       "      <th>54975</th>\n",
       "      <td>1990-04-01</td>\n",
       "      <td>0306.12.10 - lobsters in brine, (homarus spp),...</td>\n",
       "      <td>Ontario</td>\n",
       "      <td>Australia</td>\n",
       "      <td>NaN</td>\n",
       "      <td>83950</td>\n",
       "      <td>8050</td>\n",
       "      <td>None</td>\n",
       "      <td>62.5</td>\n",
       "      <td>169191.5</td>\n",
       "      <td>1990</td>\n",
       "      <td>AUS</td>\n",
       "      <td>311430632641.1</td>\n",
       "      <td>Oceania</td>\n",
       "    </tr>\n",
       "    <tr>\n",
       "      <th>54976</th>\n",
       "      <td>2001-04-01</td>\n",
       "      <td>0306.12.10 - lobsters in brine, (homarus spp),...</td>\n",
       "      <td>Prince Edward Island</td>\n",
       "      <td>Chile</td>\n",
       "      <td>NaN</td>\n",
       "      <td>32150</td>\n",
       "      <td>5460</td>\n",
       "      <td>None</td>\n",
       "      <td>78.8</td>\n",
       "      <td>51361.6</td>\n",
       "      <td>2001</td>\n",
       "      <td>CHL</td>\n",
       "      <td>71517267767.7</td>\n",
       "      <td>Americas</td>\n",
       "    </tr>\n",
       "  </tbody>\n",
       "</table>\n",
       "<p>54977 rows × 14 columns</p>\n",
       "</div>"
      ],
      "text/plain": [
       "          Period                                          Commodity  \\\n",
       "0     2017-05-01  1605.30.10 - lobster, prepared or preserved, f...   \n",
       "1     2017-05-01  1605.30.10 - lobster, prepared or preserved, f...   \n",
       "2     2017-05-01   1605.30.90 - lobster, prepared or preserved, nes   \n",
       "3     2017-05-01  1605.30.10 - lobster, prepared or preserved, f...   \n",
       "4     2017-05-01   1605.30.90 - lobster, prepared or preserved, nes   \n",
       "...          ...                                                ...   \n",
       "54972 2009-03-01  0306.22.10 - lobsters, (homarus spp), live (te...   \n",
       "54973 1988-04-01  0306.22.10 - lobsters, (homarus spp), live (te...   \n",
       "54974 1991-01-01  0306.22.10 - lobsters, (homarus spp), live (te...   \n",
       "54975 1990-04-01  0306.12.10 - lobsters in brine, (homarus spp),...   \n",
       "54976 2001-04-01  0306.12.10 - lobsters in brine, (homarus spp),...   \n",
       "\n",
       "                        Province        Country          State     Value  \\\n",
       "0      Newfoundland and Labrador  United States  Massachusetts   2454203   \n",
       "1                  New Brunswick  United States  Massachusetts  20137016   \n",
       "2           Prince Edward Island  United States     California     31113   \n",
       "3                         Quebec  United States     California     98603   \n",
       "4           Prince Edward Island  United States  New Hampshire    310914   \n",
       "...                          ...            ...            ...       ...   \n",
       "54972              New Brunswick       Mongolia            NaN     11126   \n",
       "54973                Nova Scotia   Korea, South            NaN       310   \n",
       "54974                Nova Scotia          Ghana            NaN      2279   \n",
       "54975                    Ontario      Australia            NaN     83950   \n",
       "54976       Prince Edward Island          Chile            NaN     32150   \n",
       "\n",
       "       Quantity_kg Terminated  cpi_val  Value-adjusted  year country_code  \\\n",
       "0            42059       None    102.2       3023516.5  2017          USA   \n",
       "1           370393       None    102.2      24808298.7  2017          USA   \n",
       "2             1633       None    102.2         38330.4  2017          USA   \n",
       "3             2347       None    102.2        121476.4  2017          USA   \n",
       "4            15676       None    102.2        383038.3  2017          USA   \n",
       "...            ...        ...      ...             ...   ...          ...   \n",
       "54972          674       None     90.2         15519.1  2009          MNG   \n",
       "54973           23       None     57.6           676.8  1988          KOR   \n",
       "54974          176       None     67.1          4275.2  1991          GHA   \n",
       "54975         8050       None     62.5        169191.5  1990          AUS   \n",
       "54976         5460       None     78.8         51361.6  2001          CHL   \n",
       "\n",
       "               GDP-USD continent  \n",
       "0     19477336549000.0  Americas  \n",
       "1     19477336549000.0  Americas  \n",
       "2     19477336549000.0  Americas  \n",
       "3     19477336549000.0  Americas  \n",
       "4     19477336549000.0  Americas  \n",
       "...                ...       ...  \n",
       "54972     4583850367.9      Asia  \n",
       "54973   199590823957.2      Asia  \n",
       "54974     6603130039.9    Africa  \n",
       "54975   311430632641.1   Oceania  \n",
       "54976    71517267767.7  Americas  \n",
       "\n",
       "[54977 rows x 14 columns]"
      ]
     },
     "execution_count": 188,
     "metadata": {},
     "output_type": "execute_result"
    }
   ],
   "source": [
    "data_all = pd.merge(data_clean, gdp_data, left_on  = ['Country', 'year'], right_on = ['Country', 'year'])\n",
    "data_all"
   ]
  },
  {
   "cell_type": "code",
   "execution_count": 189,
   "id": "561c8db0-3adf-48f4-9aa0-c84a34a1157a",
   "metadata": {},
   "outputs": [
    {
     "data": {
      "text/html": [
       "<div>\n",
       "<style scoped>\n",
       "    .dataframe tbody tr th:only-of-type {\n",
       "        vertical-align: middle;\n",
       "    }\n",
       "\n",
       "    .dataframe tbody tr th {\n",
       "        vertical-align: top;\n",
       "    }\n",
       "\n",
       "    .dataframe thead th {\n",
       "        text-align: right;\n",
       "    }\n",
       "</style>\n",
       "<table border=\"1\" class=\"dataframe\">\n",
       "  <thead>\n",
       "    <tr style=\"text-align: right;\">\n",
       "      <th></th>\n",
       "      <th>Period</th>\n",
       "      <th>Commodity</th>\n",
       "      <th>Province</th>\n",
       "      <th>Country</th>\n",
       "      <th>State</th>\n",
       "      <th>Quantity_kg</th>\n",
       "      <th>Value-adjusted</th>\n",
       "      <th>year</th>\n",
       "      <th>GDP-USD</th>\n",
       "      <th>continent</th>\n",
       "    </tr>\n",
       "  </thead>\n",
       "  <tbody>\n",
       "    <tr>\n",
       "      <th>0</th>\n",
       "      <td>2017-05-01</td>\n",
       "      <td>1605.30.10 - lobster, prepared or preserved, f...</td>\n",
       "      <td>Newfoundland and Labrador</td>\n",
       "      <td>United States</td>\n",
       "      <td>Massachusetts</td>\n",
       "      <td>42059</td>\n",
       "      <td>3023516.5</td>\n",
       "      <td>2017</td>\n",
       "      <td>19477336549000.0</td>\n",
       "      <td>Americas</td>\n",
       "    </tr>\n",
       "    <tr>\n",
       "      <th>1</th>\n",
       "      <td>2017-05-01</td>\n",
       "      <td>1605.30.10 - lobster, prepared or preserved, f...</td>\n",
       "      <td>New Brunswick</td>\n",
       "      <td>United States</td>\n",
       "      <td>Massachusetts</td>\n",
       "      <td>370393</td>\n",
       "      <td>24808298.7</td>\n",
       "      <td>2017</td>\n",
       "      <td>19477336549000.0</td>\n",
       "      <td>Americas</td>\n",
       "    </tr>\n",
       "    <tr>\n",
       "      <th>2</th>\n",
       "      <td>2017-05-01</td>\n",
       "      <td>1605.30.90 - lobster, prepared or preserved, nes</td>\n",
       "      <td>Prince Edward Island</td>\n",
       "      <td>United States</td>\n",
       "      <td>California</td>\n",
       "      <td>1633</td>\n",
       "      <td>38330.4</td>\n",
       "      <td>2017</td>\n",
       "      <td>19477336549000.0</td>\n",
       "      <td>Americas</td>\n",
       "    </tr>\n",
       "    <tr>\n",
       "      <th>3</th>\n",
       "      <td>2017-05-01</td>\n",
       "      <td>1605.30.10 - lobster, prepared or preserved, f...</td>\n",
       "      <td>Quebec</td>\n",
       "      <td>United States</td>\n",
       "      <td>California</td>\n",
       "      <td>2347</td>\n",
       "      <td>121476.4</td>\n",
       "      <td>2017</td>\n",
       "      <td>19477336549000.0</td>\n",
       "      <td>Americas</td>\n",
       "    </tr>\n",
       "    <tr>\n",
       "      <th>4</th>\n",
       "      <td>2017-05-01</td>\n",
       "      <td>1605.30.90 - lobster, prepared or preserved, nes</td>\n",
       "      <td>Prince Edward Island</td>\n",
       "      <td>United States</td>\n",
       "      <td>New Hampshire</td>\n",
       "      <td>15676</td>\n",
       "      <td>383038.3</td>\n",
       "      <td>2017</td>\n",
       "      <td>19477336549000.0</td>\n",
       "      <td>Americas</td>\n",
       "    </tr>\n",
       "    <tr>\n",
       "      <th>...</th>\n",
       "      <td>...</td>\n",
       "      <td>...</td>\n",
       "      <td>...</td>\n",
       "      <td>...</td>\n",
       "      <td>...</td>\n",
       "      <td>...</td>\n",
       "      <td>...</td>\n",
       "      <td>...</td>\n",
       "      <td>...</td>\n",
       "      <td>...</td>\n",
       "    </tr>\n",
       "    <tr>\n",
       "      <th>54972</th>\n",
       "      <td>2009-03-01</td>\n",
       "      <td>0306.22.10 - lobsters, (homarus spp), live (te...</td>\n",
       "      <td>New Brunswick</td>\n",
       "      <td>Mongolia</td>\n",
       "      <td>NaN</td>\n",
       "      <td>674</td>\n",
       "      <td>15519.1</td>\n",
       "      <td>2009</td>\n",
       "      <td>4583850367.9</td>\n",
       "      <td>Asia</td>\n",
       "    </tr>\n",
       "    <tr>\n",
       "      <th>54973</th>\n",
       "      <td>1988-04-01</td>\n",
       "      <td>0306.22.10 - lobsters, (homarus spp), live (te...</td>\n",
       "      <td>Nova Scotia</td>\n",
       "      <td>Korea, South</td>\n",
       "      <td>NaN</td>\n",
       "      <td>23</td>\n",
       "      <td>676.8</td>\n",
       "      <td>1988</td>\n",
       "      <td>199590823957.2</td>\n",
       "      <td>Asia</td>\n",
       "    </tr>\n",
       "    <tr>\n",
       "      <th>54974</th>\n",
       "      <td>1991-01-01</td>\n",
       "      <td>0306.22.10 - lobsters, (homarus spp), live (te...</td>\n",
       "      <td>Nova Scotia</td>\n",
       "      <td>Ghana</td>\n",
       "      <td>NaN</td>\n",
       "      <td>176</td>\n",
       "      <td>4275.2</td>\n",
       "      <td>1991</td>\n",
       "      <td>6603130039.9</td>\n",
       "      <td>Africa</td>\n",
       "    </tr>\n",
       "    <tr>\n",
       "      <th>54975</th>\n",
       "      <td>1990-04-01</td>\n",
       "      <td>0306.12.10 - lobsters in brine, (homarus spp),...</td>\n",
       "      <td>Ontario</td>\n",
       "      <td>Australia</td>\n",
       "      <td>NaN</td>\n",
       "      <td>8050</td>\n",
       "      <td>169191.5</td>\n",
       "      <td>1990</td>\n",
       "      <td>311430632641.1</td>\n",
       "      <td>Oceania</td>\n",
       "    </tr>\n",
       "    <tr>\n",
       "      <th>54976</th>\n",
       "      <td>2001-04-01</td>\n",
       "      <td>0306.12.10 - lobsters in brine, (homarus spp),...</td>\n",
       "      <td>Prince Edward Island</td>\n",
       "      <td>Chile</td>\n",
       "      <td>NaN</td>\n",
       "      <td>5460</td>\n",
       "      <td>51361.6</td>\n",
       "      <td>2001</td>\n",
       "      <td>71517267767.7</td>\n",
       "      <td>Americas</td>\n",
       "    </tr>\n",
       "  </tbody>\n",
       "</table>\n",
       "<p>54977 rows × 10 columns</p>\n",
       "</div>"
      ],
      "text/plain": [
       "          Period                                          Commodity  \\\n",
       "0     2017-05-01  1605.30.10 - lobster, prepared or preserved, f...   \n",
       "1     2017-05-01  1605.30.10 - lobster, prepared or preserved, f...   \n",
       "2     2017-05-01   1605.30.90 - lobster, prepared or preserved, nes   \n",
       "3     2017-05-01  1605.30.10 - lobster, prepared or preserved, f...   \n",
       "4     2017-05-01   1605.30.90 - lobster, prepared or preserved, nes   \n",
       "...          ...                                                ...   \n",
       "54972 2009-03-01  0306.22.10 - lobsters, (homarus spp), live (te...   \n",
       "54973 1988-04-01  0306.22.10 - lobsters, (homarus spp), live (te...   \n",
       "54974 1991-01-01  0306.22.10 - lobsters, (homarus spp), live (te...   \n",
       "54975 1990-04-01  0306.12.10 - lobsters in brine, (homarus spp),...   \n",
       "54976 2001-04-01  0306.12.10 - lobsters in brine, (homarus spp),...   \n",
       "\n",
       "                        Province        Country          State  Quantity_kg  \\\n",
       "0      Newfoundland and Labrador  United States  Massachusetts        42059   \n",
       "1                  New Brunswick  United States  Massachusetts       370393   \n",
       "2           Prince Edward Island  United States     California         1633   \n",
       "3                         Quebec  United States     California         2347   \n",
       "4           Prince Edward Island  United States  New Hampshire        15676   \n",
       "...                          ...            ...            ...          ...   \n",
       "54972              New Brunswick       Mongolia            NaN          674   \n",
       "54973                Nova Scotia   Korea, South            NaN           23   \n",
       "54974                Nova Scotia          Ghana            NaN          176   \n",
       "54975                    Ontario      Australia            NaN         8050   \n",
       "54976       Prince Edward Island          Chile            NaN         5460   \n",
       "\n",
       "       Value-adjusted  year          GDP-USD continent  \n",
       "0           3023516.5  2017 19477336549000.0  Americas  \n",
       "1          24808298.7  2017 19477336549000.0  Americas  \n",
       "2             38330.4  2017 19477336549000.0  Americas  \n",
       "3            121476.4  2017 19477336549000.0  Americas  \n",
       "4            383038.3  2017 19477336549000.0  Americas  \n",
       "...               ...   ...              ...       ...  \n",
       "54972         15519.1  2009     4583850367.9      Asia  \n",
       "54973           676.8  1988   199590823957.2      Asia  \n",
       "54974          4275.2  1991     6603130039.9    Africa  \n",
       "54975        169191.5  1990   311430632641.1   Oceania  \n",
       "54976         51361.6  2001    71517267767.7  Americas  \n",
       "\n",
       "[54977 rows x 10 columns]"
      ]
     },
     "execution_count": 189,
     "metadata": {},
     "output_type": "execute_result"
    }
   ],
   "source": [
    "data_all = data_all.drop(columns = ['country_code', 'Terminated', 'cpi_val', 'Value'])\n",
    "data_all"
   ]
  },
  {
   "cell_type": "code",
   "execution_count": 191,
   "id": "063a5657-38d1-4502-a162-71c65a886581",
   "metadata": {},
   "outputs": [],
   "source": [
    "data_all[\"Country\"] = data_all[\"Country\"].str.strip()"
   ]
  },
  {
   "cell_type": "code",
   "execution_count": 192,
   "id": "f2db15b2-59eb-4296-bf88-72bf691f461c",
   "metadata": {},
   "outputs": [],
   "source": [
    "# export clean full data for reuse\n",
    "\n",
    "data_all.to_csv('data/data_full_clean.csv')"
   ]
  },
  {
   "cell_type": "code",
   "execution_count": 197,
   "id": "de13220f-8acc-4e4d-a1c4-3a3797cd59bb",
   "metadata": {},
   "outputs": [],
   "source": [
    "# create commodity list \n",
    "commodity_list = pd.DataFrame(data_all['Commodity'].unique())\n",
    "commodity_list.to_csv('data/commodity-list.csv')"
   ]
  },
  {
   "cell_type": "markdown",
   "id": "62f05893-ff61-4ab3-b3ac-11e199649a08",
   "metadata": {},
   "source": [
    "### Monthly US GDP Data\n"
   ]
  },
  {
   "cell_type": "code",
   "execution_count": 13,
   "id": "de84bb76-d671-4ea7-8e96-81688e4c7682",
   "metadata": {},
   "outputs": [
    {
     "ename": "NameError",
     "evalue": "name 'gdp_indicator' is not defined",
     "output_type": "error",
     "traceback": [
      "\u001b[0;31m---------------------------------------------------------------------------\u001b[0m",
      "\u001b[0;31mNameError\u001b[0m                                 Traceback (most recent call last)",
      "Cell \u001b[0;32mIn[13], line 4\u001b[0m\n\u001b[1;32m      1\u001b[0m \u001b[38;5;66;03m# using country codes, get annual GDP by year for the relevant years in data \u001b[39;00m\n\u001b[1;32m      3\u001b[0m country_code \u001b[38;5;241m=\u001b[39m [\u001b[38;5;124m'\u001b[39m\u001b[38;5;124mUSA\u001b[39m\u001b[38;5;124m'\u001b[39m]\n\u001b[0;32m----> 4\u001b[0m monthly_gdp \u001b[38;5;241m=\u001b[39m wb\u001b[38;5;241m.\u001b[39mdata\u001b[38;5;241m.\u001b[39mDataFrame(\u001b[43mgdp_indicator\u001b[49m, country_codes, time\u001b[38;5;241m=\u001b[39m\u001b[38;5;28mrange\u001b[39m(\u001b[38;5;124m\"\u001b[39m\u001b[38;5;124m1988M01\u001b[39m\u001b[38;5;124m\"\u001b[39m, \u001b[38;5;124m\"\u001b[39m\u001b[38;5;124m2023M11\u001b[39m\u001b[38;5;124m\"\u001b[39m))\u001b[38;5;241m.\u001b[39mreset_index()\n",
      "\u001b[0;31mNameError\u001b[0m: name 'gdp_indicator' is not defined"
     ]
    }
   ],
   "source": [
    "# using country codes, get annual GDP by year for the relevant years in data \n",
    "\n",
    "country_code = ['USA']\n",
    "monthly_gdp = wb.data.DataFrame(gdp_indicator, country_codes, time=range(\"1988M01\", \"2023M11\")).reset_index()"
   ]
  },
  {
   "cell_type": "code",
   "execution_count": 15,
   "id": "33e83073-8df6-4d72-bc70-ba492bc220d0",
   "metadata": {},
   "outputs": [
    {
     "ename": "AttributeError",
     "evalue": "module 'wbgapi' has no attribute 'get_data'",
     "output_type": "error",
     "traceback": [
      "\u001b[0;31m---------------------------------------------------------------------------\u001b[0m",
      "\u001b[0;31mAttributeError\u001b[0m                            Traceback (most recent call last)",
      "Cell \u001b[0;32mIn[15], line 17\u001b[0m\n\u001b[1;32m     14\u001b[0m end_date \u001b[38;5;241m=\u001b[39m \u001b[38;5;124m\"\u001b[39m\u001b[38;5;124m2023M12\u001b[39m\u001b[38;5;124m\"\u001b[39m\n\u001b[1;32m     16\u001b[0m \u001b[38;5;66;03m# Fetch the data\u001b[39;00m\n\u001b[0;32m---> 17\u001b[0m data \u001b[38;5;241m=\u001b[39m \u001b[43mwb\u001b[49m\u001b[38;5;241;43m.\u001b[39;49m\u001b[43mget_data\u001b[49m(\n\u001b[1;32m     18\u001b[0m     indicator\u001b[38;5;241m=\u001b[39mindicator_code,\n\u001b[1;32m     19\u001b[0m     country\u001b[38;5;241m=\u001b[39mcountry_code,\n\u001b[1;32m     20\u001b[0m     date\u001b[38;5;241m=\u001b[39m(start_date, end_date),\n\u001b[1;32m     21\u001b[0m     mrv\u001b[38;5;241m=\u001b[39m\u001b[38;5;241m1\u001b[39m,  \u001b[38;5;66;03m# Monthly data\u001b[39;00m\n\u001b[1;32m     22\u001b[0m )\n\u001b[1;32m     24\u001b[0m \u001b[38;5;66;03m# Print the results\u001b[39;00m\n\u001b[1;32m     25\u001b[0m \u001b[38;5;28;01mfor\u001b[39;00m entry \u001b[38;5;129;01min\u001b[39;00m data:\n",
      "\u001b[0;31mAttributeError\u001b[0m: module 'wbgapi' has no attribute 'get_data'"
     ]
    }
   ],
   "source": [
    "import wbgapi\n",
    "\n",
    "# Set the World Bank API token (you need to sign up for a token on the World Bank website)\n",
    "# wbgapi.set_token(\"YOUR_API_TOKEN\")\n",
    "\n",
    "# Define the indicator code for GDP\n",
    "indicator_code = \"NY.GDP.MKTP.CD\"\n",
    "\n",
    "# Define the country code for the United States\n",
    "country_code = \"USA\"\n",
    "\n",
    "# Set the date range for the monthly data you want\n",
    "start_date = \"2000M01\"\n",
    "end_date = \"2023M12\"\n",
    "\n",
    "# Fetch the data\n",
    "data = wb.get_data(\n",
    "    indicator=indicator_code,\n",
    "    country=country_code,\n",
    "    date=(start_date, end_date),\n",
    "    mrv=1,  # Monthly data\n",
    ")\n",
    "\n",
    "# Print the results\n",
    "for entry in data:\n",
    "    print(f\"{entry['date']} - GDP: {entry['value']} {entry['unit']['value']}\")\n"
   ]
  },
  {
   "cell_type": "code",
   "execution_count": null,
   "id": "857d3891-2382-45b8-af8b-547375f6d559",
   "metadata": {},
   "outputs": [],
   "source": []
  },
  {
   "cell_type": "markdown",
   "id": "879a2e98-f597-4b7e-b0f4-b0f575d15f85",
   "metadata": {
    "id": "879a2e98-f597-4b7e-b0f4-b0f575d15f85",
    "tags": []
   },
   "source": [
    "# bin"
   ]
  },
  {
   "cell_type": "code",
   "execution_count": null,
   "id": "2ed703d9-c576-441a-8ae0-022e81d0b0df",
   "metadata": {},
   "outputs": [],
   "source": [
    "data_clean.dtypes"
   ]
  },
  {
   "cell_type": "code",
   "execution_count": null,
   "id": "01ab62d6-1c5b-488f-bf67-67b73cce685a",
   "metadata": {},
   "outputs": [],
   "source": [
    "spm = data_clean.loc[data_clean['Country'].str.contains('Miquelon|France|Hong'),['Country', 'Value-adjusted']]\n",
    "spm.groupby(['Country']).sum()"
   ]
  },
  {
   "cell_type": "markdown",
   "id": "65037b69-c47b-4774-8794-3ab86a18c4be",
   "metadata": {
    "tags": []
   },
   "source": [
    "\n",
    "### 2. EDA on Full Data Set\n",
    "---\n",
    "---"
   ]
  },
  {
   "cell_type": "code",
   "execution_count": null,
   "id": "f48ab3a2-6df1-4524-952e-8c1fc0dc024d",
   "metadata": {},
   "outputs": [],
   "source": [
    "# surpress scientific notation\n",
    "pd.options.display.float_format = '{:,.2f}'.format"
   ]
  },
  {
   "cell_type": "code",
   "execution_count": null,
   "id": "bb8ae8e4-759b-4c50-b1e5-ca37539eca24",
   "metadata": {},
   "outputs": [],
   "source": [
    "full_data['Province'].value_counts()"
   ]
  },
  {
   "cell_type": "code",
   "execution_count": null,
   "id": "8c31ca72-1c2f-43f5-889f-32182743c2b5",
   "metadata": {},
   "outputs": [],
   "source": [
    "# null values in state are for countries other than US\n",
    "full_data.info()"
   ]
  },
  {
   "cell_type": "code",
   "execution_count": null,
   "id": "484d0530-4d4c-4e58-b7b6-4f455c6a4ffc",
   "metadata": {},
   "outputs": [],
   "source": [
    "full_data.loc[(full_data['Country'] == 'United States'), 'State'].value_counts()"
   ]
  },
  {
   "cell_type": "code",
   "execution_count": null,
   "id": "ae675a14-30f1-44a3-a898-70338bae00c5",
   "metadata": {},
   "outputs": [],
   "source": []
  },
  {
   "cell_type": "code",
   "execution_count": null,
   "id": "7ce0cd0e-ae9c-4951-9962-81aed47804e4",
   "metadata": {},
   "outputs": [],
   "source": []
  },
  {
   "cell_type": "code",
   "execution_count": null,
   "id": "8741b65d-b548-41cc-968c-47b2cb3e55ce",
   "metadata": {
    "id": "8741b65d-b548-41cc-968c-47b2cb3e55ce"
   },
   "outputs": [],
   "source": []
  },
  {
   "cell_type": "code",
   "execution_count": null,
   "id": "0d549bdd-df70-4212-b228-f8978944a32e",
   "metadata": {
    "id": "0d549bdd-df70-4212-b228-f8978944a32e"
   },
   "outputs": [],
   "source": []
  },
  {
   "cell_type": "code",
   "execution_count": null,
   "id": "cc3a9cdd-a79c-4d83-92d8-180540df7832",
   "metadata": {
    "id": "cc3a9cdd-a79c-4d83-92d8-180540df7832"
   },
   "outputs": [],
   "source": []
  },
  {
   "cell_type": "code",
   "execution_count": null,
   "id": "2c99f3da-54c3-4c73-ac90-d4961a20365d",
   "metadata": {},
   "outputs": [],
   "source": []
  },
  {
   "cell_type": "code",
   "execution_count": null,
   "id": "c6e24419-e6ab-46b3-8826-5a11904cac0d",
   "metadata": {
    "id": "c6e24419-e6ab-46b3-8826-5a11904cac0d"
   },
   "outputs": [],
   "source": []
  },
  {
   "cell_type": "code",
   "execution_count": null,
   "id": "15cbfe26-5186-476c-9e91-99122af75863",
   "metadata": {
    "id": "15cbfe26-5186-476c-9e91-99122af75863",
    "outputId": "da47c194-532d-4f12-865b-142baf8f7460"
   },
   "outputs": [],
   "source": [
    "exports = data_clean.groupby('Country').mean('Value-adjusted')\n",
    "exports.sort_values(by='Quantity_kg', ascending=False).head(20)\n"
   ]
  },
  {
   "cell_type": "code",
   "execution_count": null,
   "id": "48cfdfa8-3159-49ff-9357-bf41357898c2",
   "metadata": {
    "id": "48cfdfa8-3159-49ff-9357-bf41357898c2",
    "outputId": "2dca41f8-d81c-4760-8c1c-e79aba45285b"
   },
   "outputs": [],
   "source": [
    "# store in a list\n",
    "top_countries = list(exports.sort_values(by='Quantity_kg', ascending=False).head(20).index)\n",
    "top_countries"
   ]
  },
  {
   "cell_type": "code",
   "execution_count": null,
   "id": "ccac3e49-e7ef-4ec2-a088-2837cfd30d73",
   "metadata": {
    "id": "ccac3e49-e7ef-4ec2-a088-2837cfd30d73",
    "outputId": "da5a223e-6942-4b2b-d59e-c8c7810c3c51"
   },
   "outputs": [],
   "source": [
    "data_clean.groupby('Country').mean('Quantity_kg').sort_values(by='Quantity_kg', ascending = False)"
   ]
  },
  {
   "cell_type": "code",
   "execution_count": null,
   "id": "f5d66ffc-40ca-4d5b-89c3-c94a21ca8fe3",
   "metadata": {
    "id": "f5d66ffc-40ca-4d5b-89c3-c94a21ca8fe3",
    "outputId": "dababa4e-3128-44b5-b56c-6378fcd97ed4"
   },
   "outputs": [],
   "source": [
    "pd.DataFrame(data_clean['Country'].value_counts())"
   ]
  },
  {
   "cell_type": "code",
   "execution_count": null,
   "id": "b1464196-f4bf-4aa3-acc4-6414914e2ea7",
   "metadata": {
    "id": "b1464196-f4bf-4aa3-acc4-6414914e2ea7",
    "outputId": "d7b4c266-65ac-4925-c1da-cec810521305"
   },
   "outputs": [],
   "source": [
    "pd.DataFrame(data_clean['Commodity'].value_counts())"
   ]
  },
  {
   "cell_type": "code",
   "execution_count": null,
   "id": "e71cafff-d491-4b83-8bf6-bedd86ef007b",
   "metadata": {
    "id": "e71cafff-d491-4b83-8bf6-bedd86ef007b",
    "outputId": "519ce454-8bdd-41b7-a0f1-ff3b45e2332c"
   },
   "outputs": [],
   "source": [
    "filtered_df = data_clean.loc[data_clean['Country'].isin(top_countries),:]\n",
    "filtered_df"
   ]
  },
  {
   "cell_type": "code",
   "execution_count": null,
   "id": "9a508273-1573-424d-9bde-7db38cbb8d2b",
   "metadata": {
    "id": "9a508273-1573-424d-9bde-7db38cbb8d2b",
    "outputId": "973ff236-212b-4207-809f-603ce8b9fc58"
   },
   "outputs": [],
   "source": [
    "filtered_df"
   ]
  },
  {
   "cell_type": "code",
   "execution_count": null,
   "id": "784e5c11-aa91-411b-a632-2812fcd56dfd",
   "metadata": {
    "id": "784e5c11-aa91-411b-a632-2812fcd56dfd"
   },
   "outputs": [],
   "source": [
    "cols = ['Period', 'Country', 'Value($)']\n",
    "filtered_df = filtered_df[['Period','Commodity', 'Country', 'Quantity', 'Value ($)']]\n"
   ]
  },
  {
   "cell_type": "code",
   "execution_count": null,
   "id": "b749eb3b-338c-441a-abe3-696ccc75ead8",
   "metadata": {
    "id": "b749eb3b-338c-441a-abe3-696ccc75ead8",
    "outputId": "62a17d96-da9a-457a-dfac-bcaa0c39ccc6"
   },
   "outputs": [],
   "source": [
    "data"
   ]
  },
  {
   "cell_type": "code",
   "execution_count": null,
   "id": "9874eefc-a97c-4569-8bfa-c276701097f9",
   "metadata": {
    "id": "9874eefc-a97c-4569-8bfa-c276701097f9",
    "outputId": "3d73c595-10a5-4933-e3dc-29bf8314fac9"
   },
   "outputs": [],
   "source": [
    "sns.scatterplot(x=data['Period'], y=data['Value ($)'], alpha = 0.2)\n"
   ]
  },
  {
   "cell_type": "markdown",
   "id": "21550584-4703-429e-ac97-f74d022ad399",
   "metadata": {
    "id": "21550584-4703-429e-ac97-f74d022ad399"
   },
   "source": [
    "dont need... got relevant HS codes another way"
   ]
  },
  {
   "cell_type": "markdown",
   "id": "cf438947-cf26-4ffd-90a6-d328f5bf7cbe",
   "metadata": {
    "jp-MarkdownHeadingCollapsed": true,
    "tags": []
   },
   "source": [
    "### Match country names in gdp list to export country list - BIN???"
   ]
  },
  {
   "cell_type": "code",
   "execution_count": null,
   "id": "f54f34f1-8ebe-45e0-a696-be6c9bf71bbd",
   "metadata": {},
   "outputs": [],
   "source": [
    "# filter GDP data by countries in export country list:\n",
    "gdp_data_filtered = gdp_data[gdp_data['Country Name'].isin(export_country_list)].reset_index(drop=True)\n",
    "gdp_data_filtered"
   ]
  },
  {
   "cell_type": "code",
   "execution_count": null,
   "id": "a5871564-8810-490b-ad4c-6ff0670661c0",
   "metadata": {},
   "outputs": [],
   "source": [
    "# unmatched countries \n",
    "unmatched = list(data_clean.loc[~data_clean['Country'].isin(gdp_data['Country Name']), 'Country'].unique())\n",
    "unmatched = pd.DataFrame(data=unmatched, columns=['unmatched_export_countries'])"
   ]
  },
  {
   "cell_type": "code",
   "execution_count": null,
   "id": "1541cfc1-7dab-4a5a-ae60-22fb5d883d1d",
   "metadata": {},
   "outputs": [],
   "source": [
    "unmatched"
   ]
  },
  {
   "cell_type": "code",
   "execution_count": null,
   "id": "0e1a9e24-858b-474a-b0d3-7f4727cb9097",
   "metadata": {},
   "outputs": [],
   "source": [
    "pd.concat([unmatched, gdp_country_list], axis = 1)"
   ]
  },
  {
   "cell_type": "code",
   "execution_count": null,
   "id": "b5d0eb6b-e5bc-42e3-85fe-7318bca1e6e7",
   "metadata": {},
   "outputs": [],
   "source": [
    "# def country_match(countries_to_match, country_options):\n",
    "result_df = pd.DataFrame(columns = ['country_to_match','best_match', 'all_matches'] )\n",
    "for country_index in range(len(unmatched)):\n",
    "        country_to_match = unmatched.iloc[country_index,0]\n",
    "        collection = gdp_country_list.iloc[:,0].to_list()\n",
    "        best_matches = process.extract(country_to_match, collection, scorer=fuzz.ratio)\n",
    "        new_row = {'country_to_match': country_to_match, 'best_match':best_matches[0][0], 'all_matches':str(best_matches)}\n",
    "        # print(pd.DataFrame(data = [new_row]))\n",
    "        result_df = pd.concat([result_df, pd.DataFrame([new_row])], ignore_index=True)\n",
    "\n",
    "        # result_df = result_df.append(country_to_match, best_matches[0], best_matches, ignore_index = True)\n",
    "result_df"
   ]
  },
  {
   "cell_type": "code",
   "execution_count": null,
   "id": "677286a3-1a83-4895-b4a3-58b9872e51fb",
   "metadata": {},
   "outputs": [],
   "source": [
    "\n",
    "bannedWords = ['republic', 'rep', 'of', 'the', ',']\n",
    "\n",
    "def RemoveBannedWords(toPrint, banned_words):\n",
    "    # statement = toPrint\n",
    "    pattern = re.compile(r'\\b(?:' + '|'.join(map(re.escape, banned_words)) + r')\\b', re.I)\n",
    "    return pattern.sub(\"\", toPrint)\n",
    "\n",
    "# # toPrint = unmatched.loc[unmatched['unmatched_export_countries'].str.contains('tanzania'), 'unmatched_export_countries'].items()\n",
    "# print(type(toPrint))\n",
    "# print(toPrint)\n",
    "# print(RemoveBannedWords(toPrint, bannedWords))"
   ]
  },
  {
   "cell_type": "code",
   "execution_count": null,
   "id": "bd8306a1-ae80-40de-859b-e826ae23da6e",
   "metadata": {},
   "outputs": [],
   "source": [
    "def country_cleaning(df_name, df_column):\n",
    "    # print(df_name)\n",
    "    # print(df_name[df_column])\n",
    "    # df_name.loc[:,df_column] = df_name[df_column].lower()\n",
    "    df_name[df_column] = df_name[df_column].apply(lambda x: x.lower())\n",
    "    # df_name[df_column] = df_name[df_column].apply(lambda x: x.replace('of', ''))\n",
    "    df_name[df_column] = df_name[df_column].apply(lambda x: RemoveBannedWords(x, bannedWords))\n",
    "    df_name[df_column] = df_name[df_column].apply(lambda x: unidecode(x))\n",
    "    df_name[df_column] = df_name[df_column].apply(lambda x: x.title())\n",
    "    return df_name\n"
   ]
  },
  {
   "cell_type": "code",
   "execution_count": null,
   "id": "f251c10b-8acf-4e6a-9800-0dea3be8a48f",
   "metadata": {},
   "outputs": [],
   "source": [
    "country_cleaning(data_clean,'Country')\n"
   ]
  },
  {
   "cell_type": "code",
   "execution_count": null,
   "id": "f7b8518c-efb7-4fd5-8424-b21cc8fa0c3a",
   "metadata": {},
   "outputs": [],
   "source": []
  },
  {
   "cell_type": "code",
   "execution_count": null,
   "id": "b603a4ef-af41-4bcd-a49e-bc0a386d8aee",
   "metadata": {},
   "outputs": [],
   "source": [
    "# manually update important countries for mapping\n",
    "gdp_data.loc[gdp_data['Country Name'].str.contains('Korea, Rep.'), 'Country Name'] = 'Korea, South'\n",
    "gdp_data.loc[gdp_data['Country Name'].str.contains('Hong'), 'Country Name'] = 'Hong Kong'\n",
    "gdp_data.loc[gdp_data['Country Name'].str.contains('Gambia'), 'Country Name'] = 'Gambia'\n",
    "gdp_data.loc[gdp_data['Country Name'].str.contains('Egypt'), 'Country Name'] = 'Egypt'\n",
    "gdp_data.loc[gdp_data['Country Name'].str.contains('Egypt'), 'Country Name'] = 'Macao'\n",
    "# collapse east /west germany into germany in data clean\n",
    "data_clean.loc[data_clean['Country'].str.contains('Germany'), 'Country'] = 'Germany'"
   ]
  },
  {
   "cell_type": "code",
   "execution_count": null,
   "id": "6266f473-1058-4768-bca0-a0edaff41a2a",
   "metadata": {},
   "outputs": [],
   "source": []
  },
  {
   "cell_type": "code",
   "execution_count": null,
   "id": "e598ce4b-c88b-428c-b4ed-4f975c7ff135",
   "metadata": {},
   "outputs": [],
   "source": [
    "# def country_match(countries_to_match, country_options):\n",
    "result_df = pd.DataFrame(columns = ['country_to_match','best_match', 'all_matches'] )\n",
    "for country_index in range(len(unmatched)):\n",
    "        country_to_match = unmatched.iloc[country_index,0].title()\n",
    "        collection = gdp_country_list.iloc[:,0].to_list()\n",
    "        best_matches = process.extract(country_to_match, collection, scorer=fuzz.ratio)[0]\n",
    "        new_row = {'country_to_match': country_to_match, 'best_match':best_matches[0], 'all_matches':str(best_matches)}\n",
    "        # print(pd.DataFrame(data = [new_row]))\n",
    "        result_df = pd.concat([result_df, pd.DataFrame([new_row])], ignore_index=True)\n",
    "\n",
    "        # result_df = result_df.append(country_to_match, best_matches[0], best_matches, ignore_index = True)\n",
    "result_df"
   ]
  },
  {
   "cell_type": "code",
   "execution_count": null,
   "id": "b2d552b1-dd64-42f6-bffd-d9df12ed2820",
   "metadata": {},
   "outputs": [],
   "source": [
    "# QA checks:\n",
    "# data_clean.loc[data_clean['Country'].str.contains('Gambia')]\n",
    "# gdp_data.loc[gdp_data['Country Name'].str.contains('Germany')]\n",
    "# gdp_data.loc[gdp_data['Country Name'].str.contains('Hong')]\n",
    "gdp_data.loc[gdp_data['Country Name'].str.contains('Macao')]\n",
    "# data_clean.loc[data_clean['Country'].str.contains('Germany'), 'Country'].unique()"
   ]
  },
  {
   "cell_type": "code",
   "execution_count": null,
   "id": "61c2513f-9f36-4e13-9071-7dae96af6bc4",
   "metadata": {},
   "outputs": [],
   "source": []
  },
  {
   "cell_type": "code",
   "execution_count": null,
   "id": "eea69d45-349f-4e2a-970f-4653c488e1a0",
   "metadata": {},
   "outputs": [],
   "source": [
    "unmatched['unmatched_export_countries'] = unmatched['unmatched_export_countries'].str.title()\n",
    "unmatched"
   ]
  },
  {
   "cell_type": "code",
   "execution_count": null,
   "id": "429d16ff-b414-448b-ac86-d8377485456e",
   "metadata": {},
   "outputs": [],
   "source": [
    "data_clean.loc[~data_clean['Country'].isin(gdp_data['Country Name']), 'Country'].value_counts()"
   ]
  },
  {
   "cell_type": "code",
   "execution_count": null,
   "id": "17482e50-3311-407b-8ade-6fbf0dcbc69a",
   "metadata": {},
   "outputs": [],
   "source": [
    "# unmatched countries again\n",
    "unmatched = list(data_clean.loc[~data_clean['Country'].isin(gdp_data_filtered['Country Name']), 'Country'].unique())\n",
    "unmatched = pd.DataFrame(data=unmatched, columns=['unmatched_export_countries'])\n",
    "unmatched"
   ]
  },
  {
   "cell_type": "code",
   "execution_count": null,
   "id": "6d75af66-80f9-46e3-b80d-7219f4fcf9f5",
   "metadata": {},
   "outputs": [],
   "source": [
    "df = data_clean.loc[data_clean['Country'].isin(unmatched['unmatched_export_countries']),:]\n",
    "df[['Country', 'Value']].groupby('Country').sum().sort_values(by='Value', ascending = False)"
   ]
  },
  {
   "cell_type": "code",
   "execution_count": null,
   "id": "0441b739-532f-4d24-bf63-189d228dbe96",
   "metadata": {},
   "outputs": [],
   "source": []
  },
  {
   "cell_type": "code",
   "execution_count": null,
   "id": "c3c0d88c-2e9f-4be8-a341-59eb9ec10410",
   "metadata": {},
   "outputs": [],
   "source": []
  },
  {
   "cell_type": "code",
   "execution_count": null,
   "id": "8c5f46de-bf53-47a4-9239-9ebf2320a877",
   "metadata": {},
   "outputs": [],
   "source": []
  },
  {
   "cell_type": "code",
   "execution_count": null,
   "id": "e407013c-adcc-4df3-b8d1-18797bb9c18b",
   "metadata": {},
   "outputs": [],
   "source": []
  },
  {
   "cell_type": "markdown",
   "id": "5574ee88-03a1-4b5e-a4d2-814137ccd77c",
   "metadata": {
    "jp-MarkdownHeadingCollapsed": true,
    "tags": []
   },
   "source": [
    "## Country GDP first attempt"
   ]
  },
  {
   "cell_type": "code",
   "execution_count": null,
   "id": "bc5cf308-4322-4cc4-b1f6-216c6fb1c1df",
   "metadata": {},
   "outputs": [],
   "source": [
    "gdp_data = pd.read_csv('data/gdp-data/gdp_data.csv',engine= 'python', header = 2)\n",
    "gdp_data"
   ]
  },
  {
   "cell_type": "code",
   "execution_count": null,
   "id": "2c4134d5-6589-4009-ab6f-90bcbc49f33a",
   "metadata": {},
   "outputs": [],
   "source": [
    "gdp_data.drop(columns= ['Country Code', 'Indicator Name', 'Indicator Code'], inplace=True)"
   ]
  },
  {
   "cell_type": "code",
   "execution_count": null,
   "id": "e67e6e7c-22f1-4817-a0f7-3a24bc4772a1",
   "metadata": {},
   "outputs": [],
   "source": [
    "gdp_data"
   ]
  },
  {
   "cell_type": "code",
   "execution_count": null,
   "id": "6a760b6f-395b-466d-a057-38044b5c7a07",
   "metadata": {},
   "outputs": [],
   "source": [
    "gdp_country_list = pd.DataFrame(data=gdp_data['Country Name'].unique(), columns = ['gdp_country'])\n",
    "gdp_country_list = gdp_country_list.sort_values(by='gdp_country', ignore_index= True)\n",
    "gdp_country_list"
   ]
  },
  {
   "cell_type": "code",
   "execution_count": null,
   "id": "9b5296a5-7e1e-47e9-ba24-2105518ecfa6",
   "metadata": {
    "id": "9b5296a5-7e1e-47e9-ba24-2105518ecfa6"
   },
   "outputs": [],
   "source": [
    "hs_8 = pd.read_csv('data/codes_hs8.csv', sep = ',',skiprows = 1, engine='python', skipfooter = 5, index_col=False)\n",
    "# hs_8 = pd.read_csv('codes_hs8.csv', sep = ',', skipfooter = 5)\n"
   ]
  },
  {
   "cell_type": "code",
   "execution_count": null,
   "id": "c37ba428-5b2d-4df7-90db-cdb11afc6f4b",
   "metadata": {
    "id": "c37ba428-5b2d-4df7-90db-cdb11afc6f4b"
   },
   "outputs": [],
   "source": [
    "pd.set_option('display.max_colwidth', None)\n",
    "hs_8['Commodity'] = hs_8['Commodity'].str.lower()"
   ]
  },
  {
   "cell_type": "code",
   "execution_count": null,
   "id": "8584bd0c-8f24-4448-b3d2-fc24327caf17",
   "metadata": {
    "id": "8584bd0c-8f24-4448-b3d2-fc24327caf17"
   },
   "outputs": [],
   "source": [
    "hs_lobster = hs_8.loc[hs_8['Commodity'].str.contains('lobster'),:]"
   ]
  },
  {
   "cell_type": "code",
   "execution_count": null,
   "id": "d47c64db-4473-4021-aa74-8f05981c347a",
   "metadata": {
    "id": "d47c64db-4473-4021-aa74-8f05981c347a",
    "outputId": "273677fb-5e88-44ea-ebac-520cd231e3a1"
   },
   "outputs": [],
   "source": [
    "hs_lobster['Commodity'].unique()"
   ]
  },
  {
   "cell_type": "markdown",
   "id": "ee9c85d0-9fc6-40b8-9d86-e6f1b5f39b03",
   "metadata": {
    "id": "ee9c85d0-9fc6-40b8-9d86-e6f1b5f39b03",
    "jp-MarkdownHeadingCollapsed": true,
    "tags": []
   },
   "source": [
    "### Testing univariate ARIMA\n",
    "\n",
    "With only data from 1 country, for 1 commodity, using Quantity.\n"
   ]
  },
  {
   "cell_type": "code",
   "execution_count": null,
   "id": "265d91b6-df6d-49fe-962e-f4e0de065783",
   "metadata": {
    "id": "265d91b6-df6d-49fe-962e-f4e0de065783"
   },
   "outputs": [],
   "source": [
    "# find country with most complete data accross time. most countries have great data since 2017"
   ]
  },
  {
   "cell_type": "code",
   "execution_count": null,
   "id": "0e0d49fc-31f4-46fb-9368-88d3f0b3b917",
   "metadata": {
    "id": "0e0d49fc-31f4-46fb-9368-88d3f0b3b917",
    "outputId": "9733786e-1cb1-4222-fed9-65c8bbe4a65a"
   },
   "outputs": [],
   "source": [
    "data"
   ]
  },
  {
   "cell_type": "code",
   "execution_count": null,
   "id": "0b2ce967-44f5-4a62-ab57-3e44e1f2e8d0",
   "metadata": {
    "id": "0b2ce967-44f5-4a62-ab57-3e44e1f2e8d0"
   },
   "outputs": [],
   "source": [
    "codes = ['0306.22.10', '0306.32.10']\n",
    "\n"
   ]
  },
  {
   "cell_type": "code",
   "execution_count": null,
   "id": "42985818-3796-4a3f-a97f-01414ef62f12",
   "metadata": {
    "id": "42985818-3796-4a3f-a97f-01414ef62f12",
    "outputId": "ea42caca-56df-4779-d84d-9ffed7a754fa",
    "tags": []
   },
   "outputs": [],
   "source": [
    "arima_test = filtered_df[filtered_df['Commodity'].str[:10].isin(codes)].sort_values(by='Period')\n",
    "arima_test.groupby('Country').count().sort_values(by='Period', ascending = False)\n",
    "# arima_test"
   ]
  },
  {
   "cell_type": "code",
   "execution_count": null,
   "id": "b796e0cd-d0ab-4b6e-9bd5-681a12f37356",
   "metadata": {
    "id": "b796e0cd-d0ab-4b6e-9bd5-681a12f37356"
   },
   "outputs": [],
   "source": [
    "# filter for one country --- belgium as example\n",
    "arima_test = arima_test.loc[arima_test['Country'] == 'Belgium']"
   ]
  },
  {
   "cell_type": "code",
   "execution_count": null,
   "id": "74f39db0-ae57-4d97-84c8-f95b7238ae5e",
   "metadata": {
    "id": "74f39db0-ae57-4d97-84c8-f95b7238ae5e",
    "outputId": "bdbb9ab9-301c-4c7e-9980-e08bde789c80"
   },
   "outputs": [],
   "source": [
    "# drop cextra columns\n",
    "arima_test.drop(columns=['Country', 'Value ($)'], inplace = True)\n",
    "arima_test"
   ]
  },
  {
   "cell_type": "code",
   "execution_count": null,
   "id": "c2039208-af72-44c5-9e63-849d0767bd43",
   "metadata": {
    "id": "c2039208-af72-44c5-9e63-849d0767bd43",
    "outputId": "15336b72-217b-4945-8fd8-77141439c602"
   },
   "outputs": [],
   "source": [
    "# count records by year, check that there is no overlap\n",
    "arima_test.groupby(arima_test['Period'].dt.year).count()"
   ]
  },
  {
   "cell_type": "code",
   "execution_count": null,
   "id": "d73a5e34-38d8-464a-a1a0-8b56e6844a67",
   "metadata": {
    "id": "d73a5e34-38d8-464a-a1a0-8b56e6844a67",
    "outputId": "2fdd075b-9d9e-44e3-9334-21b4743c6e14"
   },
   "outputs": [],
   "source": [
    "# arima_test = arima_test.drop(columns=['Commodity'])\n",
    "arima_test = arima_test.reset_index(drop=True)\n",
    "arima_test"
   ]
  },
  {
   "cell_type": "code",
   "execution_count": null,
   "id": "9a51683c-7a17-4969-9c41-1aa105c1f811",
   "metadata": {
    "id": "9a51683c-7a17-4969-9c41-1aa105c1f811"
   },
   "outputs": [],
   "source": [
    "import seaborn as sns"
   ]
  },
  {
   "cell_type": "code",
   "execution_count": null,
   "id": "5761e475-0a71-4123-93e3-46ee91fd2acf",
   "metadata": {
    "id": "5761e475-0a71-4123-93e3-46ee91fd2acf",
    "outputId": "6af4345e-63cd-4e49-feca-879001551342"
   },
   "outputs": [],
   "source": [
    "sns.lineplot(x = arima_test['Period'], y=arima_test['Quantity'])"
   ]
  },
  {
   "cell_type": "code",
   "execution_count": null,
   "id": "96d67041-059a-4b12-b013-0035796e71b1",
   "metadata": {
    "id": "96d67041-059a-4b12-b013-0035796e71b1"
   },
   "outputs": [],
   "source": [
    "from pandas import datetime\n",
    "from matplotlib import pyplot\n",
    "from pandas.plotting import autocorrelation_plot\n",
    "\n",
    "def parser(x):\n",
    " return datetime.strptime('190'+x, '%Y-%m')\n",
    "\n",
    "series = read_csv('shampoo-sales.csv', header=0, parse_dates=[0], index_col=0, squeeze=True, date_parser=parser)\n",
    "autocorrelation_plot(series)\n",
    "pyplot.show()"
   ]
  },
  {
   "cell_type": "code",
   "execution_count": null,
   "id": "f4d342f3-4d18-4892-b490-2e451b53ae2e",
   "metadata": {
    "id": "f4d342f3-4d18-4892-b490-2e451b53ae2e",
    "outputId": "d407d0ea-9c4e-4f14-96e0-2a53732744d6"
   },
   "outputs": [],
   "source": [
    "japan_data = japan_data[['Period','Quantity']]\n",
    "japan_data"
   ]
  },
  {
   "cell_type": "code",
   "execution_count": null,
   "id": "5cd08e81-4211-444c-a12d-5db3084daa03",
   "metadata": {
    "id": "5cd08e81-4211-444c-a12d-5db3084daa03",
    "outputId": "30af98b2-2233-4d0b-e614-4d0836274e62",
    "tags": []
   },
   "outputs": [],
   "source": [
    "\n",
    "japan_data = japan_data.groupby('Period').sum(['Quantity', 'Value ($)']).reset_index(drop=False)\n",
    "japan_data['Value per kg'] = japan_data['Value ($)'] / japan_data['Quantity']\n",
    "japan_data"
   ]
  },
  {
   "cell_type": "code",
   "execution_count": null,
   "id": "215dbb89-802c-47e3-987d-b12650346f02",
   "metadata": {
    "id": "215dbb89-802c-47e3-987d-b12650346f02",
    "outputId": "3059c6cb-9dea-4c49-f95c-cd80fec654e4"
   },
   "outputs": [],
   "source": [
    "japan_data['Year'] = japan_data['Period'].dt.year\n",
    "japan_data\n",
    "\n"
   ]
  },
  {
   "cell_type": "markdown",
   "id": "f9441478-f3fa-4ed1-84ec-21d0d3fe3b5d",
   "metadata": {
    "id": "f9441478-f3fa-4ed1-84ec-21d0d3fe3b5d",
    "tags": []
   },
   "source": [
    "### other"
   ]
  },
  {
   "cell_type": "code",
   "execution_count": null,
   "id": "588c71d5-2090-4748-905c-eaf9ddb7e528",
   "metadata": {
    "id": "588c71d5-2090-4748-905c-eaf9ddb7e528"
   },
   "outputs": [],
   "source": [
    "japan_data_recent = japan_data.loc[japan_data['Period'] > '2020', :].reset_index(drop = True)\n",
    "japan_data_recent"
   ]
  },
  {
   "cell_type": "code",
   "execution_count": null,
   "id": "eed12861-0daf-412e-9d53-457d7be8be72",
   "metadata": {
    "id": "eed12861-0daf-412e-9d53-457d7be8be72",
    "outputId": "e4e5e839-5a49-4317-90b2-aa9983c7a053"
   },
   "outputs": [],
   "source": [
    "sns.lineplot(x=japan_data_recent['Year'], y=japan_data_recent['Quantity'])"
   ]
  },
  {
   "cell_type": "code",
   "execution_count": null,
   "id": "aaefbc86-fe9d-49e7-8910-94c21ebe1722",
   "metadata": {
    "id": "aaefbc86-fe9d-49e7-8910-94c21ebe1722",
    "outputId": "5b7e578b-d122-4e71-a1e9-9c382e84ef64"
   },
   "outputs": [],
   "source": [
    "data"
   ]
  },
  {
   "cell_type": "code",
   "execution_count": null,
   "id": "f9f19443-646b-4aaa-bbd1-ac4cd7f1d254",
   "metadata": {
    "id": "f9f19443-646b-4aaa-bbd1-ac4cd7f1d254",
    "outputId": "d78fd4a9-75e5-44cc-d588-233e7f5f72d2"
   },
   "outputs": [],
   "source": [
    "sns.lineplot(x=data['Period'], y=data['Value ($)'])"
   ]
  },
  {
   "cell_type": "code",
   "execution_count": null,
   "id": "227662d2-cbd5-49cf-8d79-2e21cec6a601",
   "metadata": {
    "id": "227662d2-cbd5-49cf-8d79-2e21cec6a601"
   },
   "outputs": [],
   "source": []
  }
 ],
 "metadata": {
  "colab": {
   "collapsed_sections": [
    "4c81ef18-f2d9-49d3-9fcf-4af5dab0b271"
   ],
   "provenance": []
  },
  "kernelspec": {
   "display_name": "Python (lhl_midterm_env)",
   "language": "python",
   "name": "lhl_midterm_env"
  },
  "language_info": {
   "codemirror_mode": {
    "name": "ipython",
    "version": 3
   },
   "file_extension": ".py",
   "mimetype": "text/x-python",
   "name": "python",
   "nbconvert_exporter": "python",
   "pygments_lexer": "ipython3",
   "version": "3.9.18"
  },
  "toc-autonumbering": true,
  "toc-showcode": false
 },
 "nbformat": 4,
 "nbformat_minor": 5
}
