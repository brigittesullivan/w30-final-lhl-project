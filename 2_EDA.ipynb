{
 "cells": [
  {
   "cell_type": "markdown",
   "id": "d2b40b65-1788-4ac2-9e82-fa9e642632fd",
   "metadata": {},
   "source": [
    "# EDA"
   ]
  },
  {
   "cell_type": "markdown",
   "id": "70dc926e-cdb0-417c-8b80-996825f5928f",
   "metadata": {},
   "source": [
    "Relationship date and Value"
   ]
  },
  {
   "cell_type": "code",
   "execution_count": 15,
   "id": "6edb9db3-c4c2-4d1d-ba61-313924506b4f",
   "metadata": {},
   "outputs": [],
   "source": [
    "import pandas as pd\n",
    "import seaborn as sns\n",
    "from matplotlib import pyplot as plt\n",
    "import datetime as dt\n",
    "import matplotlib.dates as mdates\n",
    "from matplotlib.ticker import FuncFormatter\n"
   ]
  },
  {
   "cell_type": "code",
   "execution_count": null,
   "id": "b80fae7a-cca5-4313-b0ce-56dd7f5ba9fe",
   "metadata": {},
   "outputs": [],
   "source": []
  },
  {
   "cell_type": "code",
   "execution_count": 2,
   "id": "2f2e6e34-e005-46e7-84f7-3ace02f3ed58",
   "metadata": {},
   "outputs": [],
   "source": [
    "# Right after importing seaborn (could also use 'whitegrid')\n",
    "sns.set_theme(style='whitegrid', context='talk')\n",
    "pd.options.display.float_format = '{:.2f}'.format"
   ]
  },
  {
   "cell_type": "code",
   "execution_count": 3,
   "id": "f80b678d-4d12-433f-9db1-48ad797b2d00",
   "metadata": {},
   "outputs": [],
   "source": [
    "data = pd.read_csv('data/data_full_clean.csv', index_col = 0)\n",
    "# set period to datetime\n",
    "data['Period'] = pd.to_datetime(data['Period'])"
   ]
  },
  {
   "cell_type": "code",
   "execution_count": 4,
   "id": "c47e27dc-99fa-498e-8480-5adedef72fcd",
   "metadata": {},
   "outputs": [
    {
     "data": {
      "text/html": [
       "<div>\n",
       "<style scoped>\n",
       "    .dataframe tbody tr th:only-of-type {\n",
       "        vertical-align: middle;\n",
       "    }\n",
       "\n",
       "    .dataframe tbody tr th {\n",
       "        vertical-align: top;\n",
       "    }\n",
       "\n",
       "    .dataframe thead th {\n",
       "        text-align: right;\n",
       "    }\n",
       "</style>\n",
       "<table border=\"1\" class=\"dataframe\">\n",
       "  <thead>\n",
       "    <tr style=\"text-align: right;\">\n",
       "      <th></th>\n",
       "      <th>Period</th>\n",
       "      <th>Commodity</th>\n",
       "      <th>Province</th>\n",
       "      <th>Country</th>\n",
       "      <th>State</th>\n",
       "      <th>Value_$</th>\n",
       "      <th>Quantity_kg</th>\n",
       "      <th>Unit of measure</th>\n",
       "    </tr>\n",
       "  </thead>\n",
       "  <tbody>\n",
       "    <tr>\n",
       "      <th>0</th>\n",
       "      <td>2017-05-01</td>\n",
       "      <td>1605.30.10 - lobster, prepared or preserved, f...</td>\n",
       "      <td>Newfoundland and Labrador</td>\n",
       "      <td>United States</td>\n",
       "      <td>Massachusetts</td>\n",
       "      <td>2454203</td>\n",
       "      <td>42059</td>\n",
       "      <td>Weight in kilograms</td>\n",
       "    </tr>\n",
       "    <tr>\n",
       "      <th>1</th>\n",
       "      <td>2018-06-01</td>\n",
       "      <td>1605.30.10 - lobster, prepared or preserved, f...</td>\n",
       "      <td>Newfoundland and Labrador</td>\n",
       "      <td>United States</td>\n",
       "      <td>Massachusetts</td>\n",
       "      <td>2199419</td>\n",
       "      <td>48158</td>\n",
       "      <td>Weight in kilograms</td>\n",
       "    </tr>\n",
       "    <tr>\n",
       "      <th>2</th>\n",
       "      <td>2014-06-01</td>\n",
       "      <td>1605.30.11 - lobster meat, frozen, cooked by s...</td>\n",
       "      <td>Newfoundland and Labrador</td>\n",
       "      <td>United States</td>\n",
       "      <td>Massachusetts</td>\n",
       "      <td>1299983</td>\n",
       "      <td>38486</td>\n",
       "      <td>Weight in kilograms</td>\n",
       "    </tr>\n",
       "    <tr>\n",
       "      <th>3</th>\n",
       "      <td>2014-10-01</td>\n",
       "      <td>1605.30.11 - lobster meat, frozen, cooked by s...</td>\n",
       "      <td>Newfoundland and Labrador</td>\n",
       "      <td>United States</td>\n",
       "      <td>Massachusetts</td>\n",
       "      <td>151542</td>\n",
       "      <td>3475</td>\n",
       "      <td>Weight in kilograms</td>\n",
       "    </tr>\n",
       "    <tr>\n",
       "      <th>4</th>\n",
       "      <td>2014-11-01</td>\n",
       "      <td>1605.30.11 - lobster meat, frozen, cooked by s...</td>\n",
       "      <td>Newfoundland and Labrador</td>\n",
       "      <td>United States</td>\n",
       "      <td>Massachusetts</td>\n",
       "      <td>634072</td>\n",
       "      <td>22628</td>\n",
       "      <td>Weight in kilograms</td>\n",
       "    </tr>\n",
       "    <tr>\n",
       "      <th>...</th>\n",
       "      <td>...</td>\n",
       "      <td>...</td>\n",
       "      <td>...</td>\n",
       "      <td>...</td>\n",
       "      <td>...</td>\n",
       "      <td>...</td>\n",
       "      <td>...</td>\n",
       "      <td>...</td>\n",
       "    </tr>\n",
       "    <tr>\n",
       "      <th>57380</th>\n",
       "      <td>2006-02-01</td>\n",
       "      <td>0306.22.10 - lobsters, (homarus spp), live (te...</td>\n",
       "      <td>Northwest Territories</td>\n",
       "      <td>Hong Kong</td>\n",
       "      <td>NaN</td>\n",
       "      <td>6000</td>\n",
       "      <td>273</td>\n",
       "      <td>Weight in kilograms</td>\n",
       "    </tr>\n",
       "    <tr>\n",
       "      <th>57381</th>\n",
       "      <td>2007-02-01</td>\n",
       "      <td>0306.22.10 - lobsters, (homarus spp), live (te...</td>\n",
       "      <td>Northwest Territories</td>\n",
       "      <td>Japan</td>\n",
       "      <td>NaN</td>\n",
       "      <td>7200</td>\n",
       "      <td>408</td>\n",
       "      <td>Weight in kilograms</td>\n",
       "    </tr>\n",
       "    <tr>\n",
       "      <th>57382</th>\n",
       "      <td>2007-03-01</td>\n",
       "      <td>0306.22.10 - lobsters, (homarus spp), live (te...</td>\n",
       "      <td>Northwest Territories</td>\n",
       "      <td>Korea, South</td>\n",
       "      <td>NaN</td>\n",
       "      <td>10080</td>\n",
       "      <td>572</td>\n",
       "      <td>Weight in kilograms</td>\n",
       "    </tr>\n",
       "    <tr>\n",
       "      <th>57383</th>\n",
       "      <td>2006-02-01</td>\n",
       "      <td>0306.22.10 - lobsters, (homarus spp), live (te...</td>\n",
       "      <td>Nunavut</td>\n",
       "      <td>Czechia</td>\n",
       "      <td>NaN</td>\n",
       "      <td>3000</td>\n",
       "      <td>136</td>\n",
       "      <td>Weight in kilograms</td>\n",
       "    </tr>\n",
       "    <tr>\n",
       "      <th>57384</th>\n",
       "      <td>2011-05-01</td>\n",
       "      <td>0306.22.10 - lobsters, (homarus spp), live (te...</td>\n",
       "      <td>Nunavut</td>\n",
       "      <td>Russian Federation</td>\n",
       "      <td>NaN</td>\n",
       "      <td>15120</td>\n",
       "      <td>857</td>\n",
       "      <td>Weight in kilograms</td>\n",
       "    </tr>\n",
       "  </tbody>\n",
       "</table>\n",
       "<p>57385 rows × 8 columns</p>\n",
       "</div>"
      ],
      "text/plain": [
       "          Period                                          Commodity  \\\n",
       "0     2017-05-01  1605.30.10 - lobster, prepared or preserved, f...   \n",
       "1     2018-06-01  1605.30.10 - lobster, prepared or preserved, f...   \n",
       "2     2014-06-01  1605.30.11 - lobster meat, frozen, cooked by s...   \n",
       "3     2014-10-01  1605.30.11 - lobster meat, frozen, cooked by s...   \n",
       "4     2014-11-01  1605.30.11 - lobster meat, frozen, cooked by s...   \n",
       "...          ...                                                ...   \n",
       "57380 2006-02-01  0306.22.10 - lobsters, (homarus spp), live (te...   \n",
       "57381 2007-02-01  0306.22.10 - lobsters, (homarus spp), live (te...   \n",
       "57382 2007-03-01  0306.22.10 - lobsters, (homarus spp), live (te...   \n",
       "57383 2006-02-01  0306.22.10 - lobsters, (homarus spp), live (te...   \n",
       "57384 2011-05-01  0306.22.10 - lobsters, (homarus spp), live (te...   \n",
       "\n",
       "                        Province             Country          State  Value_$  \\\n",
       "0      Newfoundland and Labrador       United States  Massachusetts  2454203   \n",
       "1      Newfoundland and Labrador       United States  Massachusetts  2199419   \n",
       "2      Newfoundland and Labrador       United States  Massachusetts  1299983   \n",
       "3      Newfoundland and Labrador       United States  Massachusetts   151542   \n",
       "4      Newfoundland and Labrador       United States  Massachusetts   634072   \n",
       "...                          ...                 ...            ...      ...   \n",
       "57380      Northwest Territories           Hong Kong            NaN     6000   \n",
       "57381      Northwest Territories               Japan            NaN     7200   \n",
       "57382      Northwest Territories        Korea, South            NaN    10080   \n",
       "57383                    Nunavut             Czechia            NaN     3000   \n",
       "57384                    Nunavut  Russian Federation            NaN    15120   \n",
       "\n",
       "       Quantity_kg      Unit of measure  \n",
       "0            42059  Weight in kilograms  \n",
       "1            48158  Weight in kilograms  \n",
       "2            38486  Weight in kilograms  \n",
       "3             3475  Weight in kilograms  \n",
       "4            22628  Weight in kilograms  \n",
       "...            ...                  ...  \n",
       "57380          273  Weight in kilograms  \n",
       "57381          408  Weight in kilograms  \n",
       "57382          572  Weight in kilograms  \n",
       "57383          136  Weight in kilograms  \n",
       "57384          857  Weight in kilograms  \n",
       "\n",
       "[57385 rows x 8 columns]"
      ]
     },
     "execution_count": 4,
     "metadata": {},
     "output_type": "execute_result"
    }
   ],
   "source": [
    "data"
   ]
  },
  {
   "cell_type": "code",
   "execution_count": 5,
   "id": "c1cfb0e1-5ed0-47a0-b7c5-ed700ac91855",
   "metadata": {},
   "outputs": [
    {
     "data": {
      "text/plain": [
       "Period             datetime64[ns]\n",
       "Commodity                  object\n",
       "Province                   object\n",
       "Country                    object\n",
       "State                      object\n",
       "Value_$                     int64\n",
       "Quantity_kg                 int64\n",
       "Unit of measure            object\n",
       "dtype: object"
      ]
     },
     "execution_count": 5,
     "metadata": {},
     "output_type": "execute_result"
    }
   ],
   "source": [
    "data.dtypes"
   ]
  },
  {
   "cell_type": "code",
   "execution_count": 6,
   "id": "2318984e-ed53-406e-a8ac-ff2ddd2ede31",
   "metadata": {},
   "outputs": [
    {
     "data": {
      "text/html": [
       "<div>\n",
       "<style scoped>\n",
       "    .dataframe tbody tr th:only-of-type {\n",
       "        vertical-align: middle;\n",
       "    }\n",
       "\n",
       "    .dataframe tbody tr th {\n",
       "        vertical-align: top;\n",
       "    }\n",
       "\n",
       "    .dataframe thead th {\n",
       "        text-align: right;\n",
       "    }\n",
       "</style>\n",
       "<table border=\"1\" class=\"dataframe\">\n",
       "  <thead>\n",
       "    <tr style=\"text-align: right;\">\n",
       "      <th></th>\n",
       "      <th>Period</th>\n",
       "      <th>Commodity</th>\n",
       "      <th>Province</th>\n",
       "      <th>Country</th>\n",
       "      <th>State</th>\n",
       "      <th>Value_$</th>\n",
       "      <th>Quantity_kg</th>\n",
       "      <th>Unit of measure</th>\n",
       "    </tr>\n",
       "  </thead>\n",
       "  <tbody>\n",
       "    <tr>\n",
       "      <th>0</th>\n",
       "      <td>2017-05-01</td>\n",
       "      <td>1605.30.10 - lobster, prepared or preserved, f...</td>\n",
       "      <td>Newfoundland and Labrador</td>\n",
       "      <td>United States</td>\n",
       "      <td>Massachusetts</td>\n",
       "      <td>2454203</td>\n",
       "      <td>42059</td>\n",
       "      <td>Weight in kilograms</td>\n",
       "    </tr>\n",
       "    <tr>\n",
       "      <th>1</th>\n",
       "      <td>2018-06-01</td>\n",
       "      <td>1605.30.10 - lobster, prepared or preserved, f...</td>\n",
       "      <td>Newfoundland and Labrador</td>\n",
       "      <td>United States</td>\n",
       "      <td>Massachusetts</td>\n",
       "      <td>2199419</td>\n",
       "      <td>48158</td>\n",
       "      <td>Weight in kilograms</td>\n",
       "    </tr>\n",
       "    <tr>\n",
       "      <th>2</th>\n",
       "      <td>2014-06-01</td>\n",
       "      <td>1605.30.11 - lobster meat, frozen, cooked by s...</td>\n",
       "      <td>Newfoundland and Labrador</td>\n",
       "      <td>United States</td>\n",
       "      <td>Massachusetts</td>\n",
       "      <td>1299983</td>\n",
       "      <td>38486</td>\n",
       "      <td>Weight in kilograms</td>\n",
       "    </tr>\n",
       "    <tr>\n",
       "      <th>3</th>\n",
       "      <td>2014-10-01</td>\n",
       "      <td>1605.30.11 - lobster meat, frozen, cooked by s...</td>\n",
       "      <td>Newfoundland and Labrador</td>\n",
       "      <td>United States</td>\n",
       "      <td>Massachusetts</td>\n",
       "      <td>151542</td>\n",
       "      <td>3475</td>\n",
       "      <td>Weight in kilograms</td>\n",
       "    </tr>\n",
       "    <tr>\n",
       "      <th>4</th>\n",
       "      <td>2014-11-01</td>\n",
       "      <td>1605.30.11 - lobster meat, frozen, cooked by s...</td>\n",
       "      <td>Newfoundland and Labrador</td>\n",
       "      <td>United States</td>\n",
       "      <td>Massachusetts</td>\n",
       "      <td>634072</td>\n",
       "      <td>22628</td>\n",
       "      <td>Weight in kilograms</td>\n",
       "    </tr>\n",
       "    <tr>\n",
       "      <th>...</th>\n",
       "      <td>...</td>\n",
       "      <td>...</td>\n",
       "      <td>...</td>\n",
       "      <td>...</td>\n",
       "      <td>...</td>\n",
       "      <td>...</td>\n",
       "      <td>...</td>\n",
       "      <td>...</td>\n",
       "    </tr>\n",
       "    <tr>\n",
       "      <th>57380</th>\n",
       "      <td>2006-02-01</td>\n",
       "      <td>0306.22.10 - lobsters, (homarus spp), live (te...</td>\n",
       "      <td>Northwest Territories</td>\n",
       "      <td>Hong Kong</td>\n",
       "      <td>NaN</td>\n",
       "      <td>6000</td>\n",
       "      <td>273</td>\n",
       "      <td>Weight in kilograms</td>\n",
       "    </tr>\n",
       "    <tr>\n",
       "      <th>57381</th>\n",
       "      <td>2007-02-01</td>\n",
       "      <td>0306.22.10 - lobsters, (homarus spp), live (te...</td>\n",
       "      <td>Northwest Territories</td>\n",
       "      <td>Japan</td>\n",
       "      <td>NaN</td>\n",
       "      <td>7200</td>\n",
       "      <td>408</td>\n",
       "      <td>Weight in kilograms</td>\n",
       "    </tr>\n",
       "    <tr>\n",
       "      <th>57382</th>\n",
       "      <td>2007-03-01</td>\n",
       "      <td>0306.22.10 - lobsters, (homarus spp), live (te...</td>\n",
       "      <td>Northwest Territories</td>\n",
       "      <td>Korea, South</td>\n",
       "      <td>NaN</td>\n",
       "      <td>10080</td>\n",
       "      <td>572</td>\n",
       "      <td>Weight in kilograms</td>\n",
       "    </tr>\n",
       "    <tr>\n",
       "      <th>57383</th>\n",
       "      <td>2006-02-01</td>\n",
       "      <td>0306.22.10 - lobsters, (homarus spp), live (te...</td>\n",
       "      <td>Nunavut</td>\n",
       "      <td>Czechia</td>\n",
       "      <td>NaN</td>\n",
       "      <td>3000</td>\n",
       "      <td>136</td>\n",
       "      <td>Weight in kilograms</td>\n",
       "    </tr>\n",
       "    <tr>\n",
       "      <th>57384</th>\n",
       "      <td>2011-05-01</td>\n",
       "      <td>0306.22.10 - lobsters, (homarus spp), live (te...</td>\n",
       "      <td>Nunavut</td>\n",
       "      <td>Russian Federation</td>\n",
       "      <td>NaN</td>\n",
       "      <td>15120</td>\n",
       "      <td>857</td>\n",
       "      <td>Weight in kilograms</td>\n",
       "    </tr>\n",
       "  </tbody>\n",
       "</table>\n",
       "<p>39008 rows × 8 columns</p>\n",
       "</div>"
      ],
      "text/plain": [
       "          Period                                          Commodity  \\\n",
       "0     2017-05-01  1605.30.10 - lobster, prepared or preserved, f...   \n",
       "1     2018-06-01  1605.30.10 - lobster, prepared or preserved, f...   \n",
       "2     2014-06-01  1605.30.11 - lobster meat, frozen, cooked by s...   \n",
       "3     2014-10-01  1605.30.11 - lobster meat, frozen, cooked by s...   \n",
       "4     2014-11-01  1605.30.11 - lobster meat, frozen, cooked by s...   \n",
       "...          ...                                                ...   \n",
       "57380 2006-02-01  0306.22.10 - lobsters, (homarus spp), live (te...   \n",
       "57381 2007-02-01  0306.22.10 - lobsters, (homarus spp), live (te...   \n",
       "57382 2007-03-01  0306.22.10 - lobsters, (homarus spp), live (te...   \n",
       "57383 2006-02-01  0306.22.10 - lobsters, (homarus spp), live (te...   \n",
       "57384 2011-05-01  0306.22.10 - lobsters, (homarus spp), live (te...   \n",
       "\n",
       "                        Province             Country          State  Value_$  \\\n",
       "0      Newfoundland and Labrador       United States  Massachusetts  2454203   \n",
       "1      Newfoundland and Labrador       United States  Massachusetts  2199419   \n",
       "2      Newfoundland and Labrador       United States  Massachusetts  1299983   \n",
       "3      Newfoundland and Labrador       United States  Massachusetts   151542   \n",
       "4      Newfoundland and Labrador       United States  Massachusetts   634072   \n",
       "...                          ...                 ...            ...      ...   \n",
       "57380      Northwest Territories           Hong Kong            NaN     6000   \n",
       "57381      Northwest Territories               Japan            NaN     7200   \n",
       "57382      Northwest Territories        Korea, South            NaN    10080   \n",
       "57383                    Nunavut             Czechia            NaN     3000   \n",
       "57384                    Nunavut  Russian Federation            NaN    15120   \n",
       "\n",
       "       Quantity_kg      Unit of measure  \n",
       "0            42059  Weight in kilograms  \n",
       "1            48158  Weight in kilograms  \n",
       "2            38486  Weight in kilograms  \n",
       "3             3475  Weight in kilograms  \n",
       "4            22628  Weight in kilograms  \n",
       "...            ...                  ...  \n",
       "57380          273  Weight in kilograms  \n",
       "57381          408  Weight in kilograms  \n",
       "57382          572  Weight in kilograms  \n",
       "57383          136  Weight in kilograms  \n",
       "57384          857  Weight in kilograms  \n",
       "\n",
       "[39008 rows x 8 columns]"
      ]
     },
     "execution_count": 6,
     "metadata": {},
     "output_type": "execute_result"
    }
   ],
   "source": [
    "data[data['Period'].dt.year > 2000]"
   ]
  },
  {
   "cell_type": "code",
   "execution_count": 7,
   "id": "0a53b06a-e625-44fa-b7d4-f4505528e14d",
   "metadata": {},
   "outputs": [
    {
     "data": {
      "text/plain": [
       "Period             datetime64[ns]\n",
       "Commodity                  object\n",
       "Province                   object\n",
       "Country                    object\n",
       "State                      object\n",
       "Value_$                     int64\n",
       "Quantity_kg                 int64\n",
       "Unit of measure            object\n",
       "dtype: object"
      ]
     },
     "execution_count": 7,
     "metadata": {},
     "output_type": "execute_result"
    }
   ],
   "source": [
    "data.dtypes"
   ]
  },
  {
   "cell_type": "code",
   "execution_count": 8,
   "id": "20c5524b-5d67-4db9-a172-735156e23ce9",
   "metadata": {},
   "outputs": [
    {
     "data": {
      "text/plain": [
       "pandas.core.series.Series"
      ]
     },
     "execution_count": 8,
     "metadata": {},
     "output_type": "execute_result"
    }
   ],
   "source": [
    "x_values = data.loc[data['Period'].dt.year > 2010,'Period']\n",
    "type(x_values)"
   ]
  },
  {
   "cell_type": "code",
   "execution_count": 9,
   "id": "69ea8213-b379-46c7-ae76-d8c0db819c0f",
   "metadata": {},
   "outputs": [
    {
     "data": {
      "text/plain": [
       "(array([14610., 15340., 16071., 16801., 17532., 18262., 18993., 19723.]),\n",
       " [Text(14610.0, 0, '2010-01-01'),\n",
       "  Text(15340.0, 0, '2012-01-01'),\n",
       "  Text(16071.0, 0, '2014-01-01'),\n",
       "  Text(16801.0, 0, '2016-01-01'),\n",
       "  Text(17532.0, 0, '2018-01-01'),\n",
       "  Text(18262.0, 0, '2020-01-01'),\n",
       "  Text(18993.0, 0, '2022-01-01'),\n",
       "  Text(19723.0, 0, '2024-01-01')])"
      ]
     },
     "execution_count": 9,
     "metadata": {},
     "output_type": "execute_result"
    },
    {
     "data": {
      "image/png": "[encoded data removed]",
      "text/plain": [
       "<Figure size 640x480 with 1 Axes>"
      ]
     },
     "metadata": {},
     "output_type": "display_data"
    }
   ],
   "source": [
    "ax = sns.lineplot(data = data, x=x_values, y=data['Value_$'])\n",
    "\n",
    "# Format the x-axis labels as dates\n",
    "date_format = mdates.DateFormatter('%Y-%m-%d')\n",
    "ax.xaxis.set_major_formatter(date_format)\n",
    "plt.xticks(rotation=45)"
   ]
  },
  {
   "cell_type": "code",
   "execution_count": 17,
   "id": "6059d0fe-d43b-4028-b062-ef0345a396a5",
   "metadata": {},
   "outputs": [
    {
     "data": {
      "text/plain": [
       "(array([14610., 15340., 16071., 16801., 17532., 18262., 18993., 19723.]),\n",
       " [Text(14610.0, 0, '2010-01-01'),\n",
       "  Text(15340.0, 0, '2012-01-01'),\n",
       "  Text(16071.0, 0, '2014-01-01'),\n",
       "  Text(16801.0, 0, '2016-01-01'),\n",
       "  Text(17532.0, 0, '2018-01-01'),\n",
       "  Text(18262.0, 0, '2020-01-01'),\n",
       "  Text(18993.0, 0, '2022-01-01'),\n",
       "  Text(19723.0, 0, '2024-01-01')])"
      ]
     },
     "execution_count": 17,
     "metadata": {},
     "output_type": "execute_result"
    },
    {
     "data": {
      "image/png": "[encoded data removed]",
      "text/plain": [
       "<Figure size 640x480 with 1 Axes>"
      ]
     },
     "metadata": {},
     "output_type": "display_data"
    }
   ],
   "source": [
    "ax = sns.scatterplot(data = data, x=x_values, y=data['Quantity_kg'], alpha=0.4)\n",
    "\n",
    "# Format the x-axis labels as dates\n",
    "date_format = mdates.DateFormatter('%Y-%m-%d')\n",
    "ax.xaxis.set_major_formatter(date_format)\n",
    "plt.xticks(rotation=45)"
   ]
  },
  {
   "cell_type": "code",
   "execution_count": 35,
   "id": "2a7e9b60-e3c1-42f7-94f8-daf466de2ad9",
   "metadata": {},
   "outputs": [
    {
     "data": {
      "text/html": [
       "<div>\n",
       "<style scoped>\n",
       "    .dataframe tbody tr th:only-of-type {\n",
       "        vertical-align: middle;\n",
       "    }\n",
       "\n",
       "    .dataframe tbody tr th {\n",
       "        vertical-align: top;\n",
       "    }\n",
       "\n",
       "    .dataframe thead th {\n",
       "        text-align: right;\n",
       "    }\n",
       "</style>\n",
       "<table border=\"1\" class=\"dataframe\">\n",
       "  <thead>\n",
       "    <tr style=\"text-align: right;\">\n",
       "      <th></th>\n",
       "      <th>Period</th>\n",
       "      <th>Commodity</th>\n",
       "      <th>Province</th>\n",
       "      <th>Country</th>\n",
       "      <th>State</th>\n",
       "      <th>Value_$</th>\n",
       "      <th>Quantity_kg</th>\n",
       "      <th>Unit of measure</th>\n",
       "    </tr>\n",
       "  </thead>\n",
       "  <tbody>\n",
       "    <tr>\n",
       "      <th>0</th>\n",
       "      <td>2017-05-01</td>\n",
       "      <td>1605.30.10 - lobster, prepared or preserved, f...</td>\n",
       "      <td>Newfoundland and Labrador</td>\n",
       "      <td>United States</td>\n",
       "      <td>Massachusetts</td>\n",
       "      <td>2454203</td>\n",
       "      <td>42059</td>\n",
       "      <td>Weight in kilograms</td>\n",
       "    </tr>\n",
       "    <tr>\n",
       "      <th>1</th>\n",
       "      <td>2018-06-01</td>\n",
       "      <td>1605.30.10 - lobster, prepared or preserved, f...</td>\n",
       "      <td>Newfoundland and Labrador</td>\n",
       "      <td>United States</td>\n",
       "      <td>Massachusetts</td>\n",
       "      <td>2199419</td>\n",
       "      <td>48158</td>\n",
       "      <td>Weight in kilograms</td>\n",
       "    </tr>\n",
       "    <tr>\n",
       "      <th>2</th>\n",
       "      <td>2014-06-01</td>\n",
       "      <td>1605.30.11 - lobster meat, frozen, cooked by s...</td>\n",
       "      <td>Newfoundland and Labrador</td>\n",
       "      <td>United States</td>\n",
       "      <td>Massachusetts</td>\n",
       "      <td>1299983</td>\n",
       "      <td>38486</td>\n",
       "      <td>Weight in kilograms</td>\n",
       "    </tr>\n",
       "    <tr>\n",
       "      <th>3</th>\n",
       "      <td>2014-10-01</td>\n",
       "      <td>1605.30.11 - lobster meat, frozen, cooked by s...</td>\n",
       "      <td>Newfoundland and Labrador</td>\n",
       "      <td>United States</td>\n",
       "      <td>Massachusetts</td>\n",
       "      <td>151542</td>\n",
       "      <td>3475</td>\n",
       "      <td>Weight in kilograms</td>\n",
       "    </tr>\n",
       "    <tr>\n",
       "      <th>4</th>\n",
       "      <td>2014-11-01</td>\n",
       "      <td>1605.30.11 - lobster meat, frozen, cooked by s...</td>\n",
       "      <td>Newfoundland and Labrador</td>\n",
       "      <td>United States</td>\n",
       "      <td>Massachusetts</td>\n",
       "      <td>634072</td>\n",
       "      <td>22628</td>\n",
       "      <td>Weight in kilograms</td>\n",
       "    </tr>\n",
       "    <tr>\n",
       "      <th>...</th>\n",
       "      <td>...</td>\n",
       "      <td>...</td>\n",
       "      <td>...</td>\n",
       "      <td>...</td>\n",
       "      <td>...</td>\n",
       "      <td>...</td>\n",
       "      <td>...</td>\n",
       "      <td>...</td>\n",
       "    </tr>\n",
       "    <tr>\n",
       "      <th>57380</th>\n",
       "      <td>2006-02-01</td>\n",
       "      <td>0306.22.10 - lobsters, (homarus spp), live (te...</td>\n",
       "      <td>Northwest Territories</td>\n",
       "      <td>Hong Kong</td>\n",
       "      <td>NaN</td>\n",
       "      <td>6000</td>\n",
       "      <td>273</td>\n",
       "      <td>Weight in kilograms</td>\n",
       "    </tr>\n",
       "    <tr>\n",
       "      <th>57381</th>\n",
       "      <td>2007-02-01</td>\n",
       "      <td>0306.22.10 - lobsters, (homarus spp), live (te...</td>\n",
       "      <td>Northwest Territories</td>\n",
       "      <td>Japan</td>\n",
       "      <td>NaN</td>\n",
       "      <td>7200</td>\n",
       "      <td>408</td>\n",
       "      <td>Weight in kilograms</td>\n",
       "    </tr>\n",
       "    <tr>\n",
       "      <th>57382</th>\n",
       "      <td>2007-03-01</td>\n",
       "      <td>0306.22.10 - lobsters, (homarus spp), live (te...</td>\n",
       "      <td>Northwest Territories</td>\n",
       "      <td>Korea, South</td>\n",
       "      <td>NaN</td>\n",
       "      <td>10080</td>\n",
       "      <td>572</td>\n",
       "      <td>Weight in kilograms</td>\n",
       "    </tr>\n",
       "    <tr>\n",
       "      <th>57383</th>\n",
       "      <td>2006-02-01</td>\n",
       "      <td>0306.22.10 - lobsters, (homarus spp), live (te...</td>\n",
       "      <td>Nunavut</td>\n",
       "      <td>Czechia</td>\n",
       "      <td>NaN</td>\n",
       "      <td>3000</td>\n",
       "      <td>136</td>\n",
       "      <td>Weight in kilograms</td>\n",
       "    </tr>\n",
       "    <tr>\n",
       "      <th>57384</th>\n",
       "      <td>2011-05-01</td>\n",
       "      <td>0306.22.10 - lobsters, (homarus spp), live (te...</td>\n",
       "      <td>Nunavut</td>\n",
       "      <td>Russian Federation</td>\n",
       "      <td>NaN</td>\n",
       "      <td>15120</td>\n",
       "      <td>857</td>\n",
       "      <td>Weight in kilograms</td>\n",
       "    </tr>\n",
       "  </tbody>\n",
       "</table>\n",
       "<p>57385 rows × 8 columns</p>\n",
       "</div>"
      ],
      "text/plain": [
       "          Period                                          Commodity  \\\n",
       "0     2017-05-01  1605.30.10 - lobster, prepared or preserved, f...   \n",
       "1     2018-06-01  1605.30.10 - lobster, prepared or preserved, f...   \n",
       "2     2014-06-01  1605.30.11 - lobster meat, frozen, cooked by s...   \n",
       "3     2014-10-01  1605.30.11 - lobster meat, frozen, cooked by s...   \n",
       "4     2014-11-01  1605.30.11 - lobster meat, frozen, cooked by s...   \n",
       "...          ...                                                ...   \n",
       "57380 2006-02-01  0306.22.10 - lobsters, (homarus spp), live (te...   \n",
       "57381 2007-02-01  0306.22.10 - lobsters, (homarus spp), live (te...   \n",
       "57382 2007-03-01  0306.22.10 - lobsters, (homarus spp), live (te...   \n",
       "57383 2006-02-01  0306.22.10 - lobsters, (homarus spp), live (te...   \n",
       "57384 2011-05-01  0306.22.10 - lobsters, (homarus spp), live (te...   \n",
       "\n",
       "                        Province             Country          State  Value_$  \\\n",
       "0      Newfoundland and Labrador       United States  Massachusetts  2454203   \n",
       "1      Newfoundland and Labrador       United States  Massachusetts  2199419   \n",
       "2      Newfoundland and Labrador       United States  Massachusetts  1299983   \n",
       "3      Newfoundland and Labrador       United States  Massachusetts   151542   \n",
       "4      Newfoundland and Labrador       United States  Massachusetts   634072   \n",
       "...                          ...                 ...            ...      ...   \n",
       "57380      Northwest Territories           Hong Kong            NaN     6000   \n",
       "57381      Northwest Territories               Japan            NaN     7200   \n",
       "57382      Northwest Territories        Korea, South            NaN    10080   \n",
       "57383                    Nunavut             Czechia            NaN     3000   \n",
       "57384                    Nunavut  Russian Federation            NaN    15120   \n",
       "\n",
       "       Quantity_kg      Unit of measure  \n",
       "0            42059  Weight in kilograms  \n",
       "1            48158  Weight in kilograms  \n",
       "2            38486  Weight in kilograms  \n",
       "3             3475  Weight in kilograms  \n",
       "4            22628  Weight in kilograms  \n",
       "...            ...                  ...  \n",
       "57380          273  Weight in kilograms  \n",
       "57381          408  Weight in kilograms  \n",
       "57382          572  Weight in kilograms  \n",
       "57383          136  Weight in kilograms  \n",
       "57384          857  Weight in kilograms  \n",
       "\n",
       "[57385 rows x 8 columns]"
      ]
     },
     "execution_count": 35,
     "metadata": {},
     "output_type": "execute_result"
    }
   ],
   "source": [
    "data"
   ]
  },
  {
   "cell_type": "code",
   "execution_count": 97,
   "id": "c925a47e-506e-4bca-8d9b-07d374847b92",
   "metadata": {},
   "outputs": [
    {
     "data": {
      "text/html": [
       "<div>\n",
       "<style scoped>\n",
       "    .dataframe tbody tr th:only-of-type {\n",
       "        vertical-align: middle;\n",
       "    }\n",
       "\n",
       "    .dataframe tbody tr th {\n",
       "        vertical-align: top;\n",
       "    }\n",
       "\n",
       "    .dataframe thead th {\n",
       "        text-align: right;\n",
       "    }\n",
       "</style>\n",
       "<table border=\"1\" class=\"dataframe\">\n",
       "  <thead>\n",
       "    <tr style=\"text-align: right;\">\n",
       "      <th></th>\n",
       "      <th>Commodity</th>\n",
       "      <th>Year</th>\n",
       "      <th>Value_$</th>\n",
       "      <th>Quantity_kg</th>\n",
       "    </tr>\n",
       "  </thead>\n",
       "  <tbody>\n",
       "    <tr>\n",
       "      <th>0</th>\n",
       "      <td>0306.11.00 - rock lobster &amp; o sea crawfish,frz...</td>\n",
       "      <td>2012</td>\n",
       "      <td>2149954</td>\n",
       "      <td>197718</td>\n",
       "    </tr>\n",
       "    <tr>\n",
       "      <th>1</th>\n",
       "      <td>0306.11.00 - rock lobster &amp; o sea crawfish,frz...</td>\n",
       "      <td>2013</td>\n",
       "      <td>1697035</td>\n",
       "      <td>136571</td>\n",
       "    </tr>\n",
       "    <tr>\n",
       "      <th>2</th>\n",
       "      <td>0306.11.00 - rock lobster &amp; o sea crawfish,frz...</td>\n",
       "      <td>2014</td>\n",
       "      <td>3448411</td>\n",
       "      <td>267140</td>\n",
       "    </tr>\n",
       "    <tr>\n",
       "      <th>3</th>\n",
       "      <td>0306.11.00 - rock lobster &amp; o sea crawfish,frz...</td>\n",
       "      <td>2015</td>\n",
       "      <td>6291135</td>\n",
       "      <td>401061</td>\n",
       "    </tr>\n",
       "    <tr>\n",
       "      <th>4</th>\n",
       "      <td>0306.11.00 - rock lobster &amp; o sea crawfish,frz...</td>\n",
       "      <td>2016</td>\n",
       "      <td>1959146</td>\n",
       "      <td>91588</td>\n",
       "    </tr>\n",
       "    <tr>\n",
       "      <th>...</th>\n",
       "      <td>...</td>\n",
       "      <td>...</td>\n",
       "      <td>...</td>\n",
       "      <td>...</td>\n",
       "    </tr>\n",
       "    <tr>\n",
       "      <th>354</th>\n",
       "      <td>1605.30.99 - lobster, prepared or preserved, o...</td>\n",
       "      <td>2012</td>\n",
       "      <td>3821464</td>\n",
       "      <td>764314</td>\n",
       "    </tr>\n",
       "    <tr>\n",
       "      <th>355</th>\n",
       "      <td>1605.30.99 - lobster, prepared or preserved, o...</td>\n",
       "      <td>2013</td>\n",
       "      <td>3728414</td>\n",
       "      <td>698505</td>\n",
       "    </tr>\n",
       "    <tr>\n",
       "      <th>356</th>\n",
       "      <td>1605.30.99 - lobster, prepared or preserved, o...</td>\n",
       "      <td>2014</td>\n",
       "      <td>3916409</td>\n",
       "      <td>747611</td>\n",
       "    </tr>\n",
       "    <tr>\n",
       "      <th>357</th>\n",
       "      <td>1605.30.99 - lobster, prepared or preserved, o...</td>\n",
       "      <td>2015</td>\n",
       "      <td>8495287</td>\n",
       "      <td>932522</td>\n",
       "    </tr>\n",
       "    <tr>\n",
       "      <th>358</th>\n",
       "      <td>1605.30.99 - lobster, prepared or preserved, o...</td>\n",
       "      <td>2016</td>\n",
       "      <td>9303282</td>\n",
       "      <td>744658</td>\n",
       "    </tr>\n",
       "  </tbody>\n",
       "</table>\n",
       "<p>359 rows × 4 columns</p>\n",
       "</div>"
      ],
      "text/plain": [
       "                                             Commodity  Year  Value_$  \\\n",
       "0    0306.11.00 - rock lobster & o sea crawfish,frz...  2012  2149954   \n",
       "1    0306.11.00 - rock lobster & o sea crawfish,frz...  2013  1697035   \n",
       "2    0306.11.00 - rock lobster & o sea crawfish,frz...  2014  3448411   \n",
       "3    0306.11.00 - rock lobster & o sea crawfish,frz...  2015  6291135   \n",
       "4    0306.11.00 - rock lobster & o sea crawfish,frz...  2016  1959146   \n",
       "..                                                 ...   ...      ...   \n",
       "354  1605.30.99 - lobster, prepared or preserved, o...  2012  3821464   \n",
       "355  1605.30.99 - lobster, prepared or preserved, o...  2013  3728414   \n",
       "356  1605.30.99 - lobster, prepared or preserved, o...  2014  3916409   \n",
       "357  1605.30.99 - lobster, prepared or preserved, o...  2015  8495287   \n",
       "358  1605.30.99 - lobster, prepared or preserved, o...  2016  9303282   \n",
       "\n",
       "     Quantity_kg  \n",
       "0         197718  \n",
       "1         136571  \n",
       "2         267140  \n",
       "3         401061  \n",
       "4          91588  \n",
       "..           ...  \n",
       "354       764314  \n",
       "355       698505  \n",
       "356       747611  \n",
       "357       932522  \n",
       "358       744658  \n",
       "\n",
       "[359 rows x 4 columns]"
      ]
     },
     "execution_count": 97,
     "metadata": {},
     "output_type": "execute_result"
    }
   ],
   "source": [
    "annual_data = data.drop(columns = ['Province', 'Country', 'State', 'Unit of measure'])\n",
    "annual_data['Year'] = data['Period'].dt.year\n",
    "annual_data = annual_data.groupby(['Commodity', 'Year'], as_index=False).agg({'Value_$': 'sum', 'Quantity_kg': 'sum'}).reset_index(drop=True)\n",
    "\n",
    "# annual_data = annual_data.sort_values('Value_$', ascending = False).reset_index(drop=True)\n",
    "annual_data"
   ]
  },
  {
   "cell_type": "code",
   "execution_count": 98,
   "id": "27f02317-8530-4c64-bd1d-180feed21fc3",
   "metadata": {},
   "outputs": [
    {
     "data": {
      "text/plain": [
       "Commodity      object\n",
       "Year            int32\n",
       "Value_$         int64\n",
       "Quantity_kg     int64\n",
       "dtype: object"
      ]
     },
     "execution_count": 98,
     "metadata": {},
     "output_type": "execute_result"
    }
   ],
   "source": [
    "annual_data.dtypes"
   ]
  },
  {
   "cell_type": "code",
   "execution_count": 116,
   "id": "4b3dc261-a614-4da7-a949-ce98a2ac79ae",
   "metadata": {},
   "outputs": [],
   "source": [
    "annual_data_22 = annual_data.copy()"
   ]
  },
  {
   "cell_type": "code",
   "execution_count": 194,
   "id": "4e57f14b-c570-4ff8-81ae-a328c7367a3c",
   "metadata": {},
   "outputs": [],
   "source": [
    "def top_commodities_annual(df_name, year):\n",
    "    annual_data = df_name.drop(columns = ['Province', 'Country', 'State', 'Unit of measure'])\n",
    "    annual_data['Year'] = annual_data['Period'].dt.year\n",
    "    annual_data = annual_data.groupby(['Year', 'Commodity'], as_index=False).agg({'Value_$': 'sum', 'Quantity_kg': 'sum'}).reset_index(drop=True)\n",
    "    annual_data = annual_data[annual_data['Year'] == year].reset_index(drop = True)\n",
    "    # annual total for that year to divide each commodity by \n",
    "    annual_total = data.loc[data['Period'].dt.year == year,'Value_$'].sum()\n",
    "    # print('annual_total - year: ', year, '\\namount:', annual_total)\n",
    "    annual_data['Value_percent'] = annual_data['Value_$']/annual_total\n",
    "    annual_data.sort_values(by=['Value_$', 'Year'], ascending = False, inplace=True)\n",
    "    return annual_data\n",
    "    \n",
    "\n"
   ]
  },
  {
   "cell_type": "code",
   "execution_count": 202,
   "id": "ae2e421e-8ddd-4dd7-8203-4d93a29515f6",
   "metadata": {},
   "outputs": [
    {
     "data": {
      "text/html": [
       "<div>\n",
       "<style scoped>\n",
       "    .dataframe tbody tr th:only-of-type {\n",
       "        vertical-align: middle;\n",
       "    }\n",
       "\n",
       "    .dataframe tbody tr th {\n",
       "        vertical-align: top;\n",
       "    }\n",
       "\n",
       "    .dataframe thead th {\n",
       "        text-align: right;\n",
       "    }\n",
       "</style>\n",
       "<table border=\"1\" class=\"dataframe\">\n",
       "  <thead>\n",
       "    <tr style=\"text-align: right;\">\n",
       "      <th></th>\n",
       "      <th>Commodity</th>\n",
       "      <th>Value_percent</th>\n",
       "    </tr>\n",
       "  </thead>\n",
       "  <tbody>\n",
       "    <tr>\n",
       "      <th>4</th>\n",
       "      <td>0306.32.10 - lobsters, live</td>\n",
       "      <td>0.47</td>\n",
       "    </tr>\n",
       "    <tr>\n",
       "      <th>2</th>\n",
       "      <td>0306.12.90 - lobsters, nes, frozen</td>\n",
       "      <td>0.33</td>\n",
       "    </tr>\n",
       "    <tr>\n",
       "      <th>9</th>\n",
       "      <td>1605.30.10 - lobster, prepared or preserved, f...</td>\n",
       "      <td>0.14</td>\n",
       "    </tr>\n",
       "    <tr>\n",
       "      <th>1</th>\n",
       "      <td>0306.12.10 - lobsters, in brine, frozen</td>\n",
       "      <td>0.05</td>\n",
       "    </tr>\n",
       "    <tr>\n",
       "      <th>11</th>\n",
       "      <td>1605.30.90 - lobster, prepared or preserved, nes</td>\n",
       "      <td>0.01</td>\n",
       "    </tr>\n",
       "    <tr>\n",
       "      <th>5</th>\n",
       "      <td>0306.32.90 - lobsters, fresh or chilled, o/t live</td>\n",
       "      <td>0.00</td>\n",
       "    </tr>\n",
       "    <tr>\n",
       "      <th>10</th>\n",
       "      <td>1605.30.20 - lobster, prepared or preserved, i...</td>\n",
       "      <td>0.00</td>\n",
       "    </tr>\n",
       "    <tr>\n",
       "      <th>8</th>\n",
       "      <td>0306.92.00 - lobsters, nes, dried/salted/in br...</td>\n",
       "      <td>0.00</td>\n",
       "    </tr>\n",
       "    <tr>\n",
       "      <th>7</th>\n",
       "      <td>0306.91.00 - rock lobster &amp; other sea crawfish...</td>\n",
       "      <td>0.00</td>\n",
       "    </tr>\n",
       "    <tr>\n",
       "      <th>3</th>\n",
       "      <td>0306.31.00 - rock lobster and other sea crawfi...</td>\n",
       "      <td>0.00</td>\n",
       "    </tr>\n",
       "    <tr>\n",
       "      <th>6</th>\n",
       "      <td>0306.34.00 - norway lobsters, live, fresh or c...</td>\n",
       "      <td>0.00</td>\n",
       "    </tr>\n",
       "    <tr>\n",
       "      <th>0</th>\n",
       "      <td>0306.11.00 - rock lobster &amp; o sea crawfish,frz...</td>\n",
       "      <td>0.00</td>\n",
       "    </tr>\n",
       "  </tbody>\n",
       "</table>\n",
       "</div>"
      ],
      "text/plain": [
       "                                            Commodity  Value_percent\n",
       "4                         0306.32.10 - lobsters, live           0.47\n",
       "2                  0306.12.90 - lobsters, nes, frozen           0.33\n",
       "9   1605.30.10 - lobster, prepared or preserved, f...           0.14\n",
       "1             0306.12.10 - lobsters, in brine, frozen           0.05\n",
       "11   1605.30.90 - lobster, prepared or preserved, nes           0.01\n",
       "5   0306.32.90 - lobsters, fresh or chilled, o/t live           0.00\n",
       "10  1605.30.20 - lobster, prepared or preserved, i...           0.00\n",
       "8   0306.92.00 - lobsters, nes, dried/salted/in br...           0.00\n",
       "7   0306.91.00 - rock lobster & other sea crawfish...           0.00\n",
       "3   0306.31.00 - rock lobster and other sea crawfi...           0.00\n",
       "6   0306.34.00 - norway lobsters, live, fresh or c...           0.00\n",
       "0   0306.11.00 - rock lobster & o sea crawfish,frz...           0.00"
      ]
     },
     "execution_count": 202,
     "metadata": {},
     "output_type": "execute_result"
    }
   ],
   "source": [
    "a = top_commodities_annual(data, 2020)[['Commodity','Value_percent']]\n",
    "a"
   ]
  },
  {
   "cell_type": "code",
   "execution_count": 204,
   "id": "97628e03-6a19-4a22-90b7-258b2fd907f0",
   "metadata": {},
   "outputs": [
    {
     "data": {
      "text/html": [
       "<div>\n",
       "<style scoped>\n",
       "    .dataframe tbody tr th:only-of-type {\n",
       "        vertical-align: middle;\n",
       "    }\n",
       "\n",
       "    .dataframe tbody tr th {\n",
       "        vertical-align: top;\n",
       "    }\n",
       "\n",
       "    .dataframe thead th {\n",
       "        text-align: right;\n",
       "    }\n",
       "</style>\n",
       "<table border=\"1\" class=\"dataframe\">\n",
       "  <thead>\n",
       "    <tr style=\"text-align: right;\">\n",
       "      <th></th>\n",
       "      <th>Commodity</th>\n",
       "      <th>Value_percent</th>\n",
       "    </tr>\n",
       "  </thead>\n",
       "  <tbody>\n",
       "    <tr>\n",
       "      <th>4</th>\n",
       "      <td>0306.32.10 - lobsters, live</td>\n",
       "      <td>0.38</td>\n",
       "    </tr>\n",
       "    <tr>\n",
       "      <th>2</th>\n",
       "      <td>0306.12.90 - lobsters, nes, frozen</td>\n",
       "      <td>0.36</td>\n",
       "    </tr>\n",
       "    <tr>\n",
       "      <th>7</th>\n",
       "      <td>1605.30.10 - lobster, prepared or preserved, f...</td>\n",
       "      <td>0.20</td>\n",
       "    </tr>\n",
       "    <tr>\n",
       "      <th>1</th>\n",
       "      <td>0306.12.10 - lobsters, in brine, frozen</td>\n",
       "      <td>0.05</td>\n",
       "    </tr>\n",
       "    <tr>\n",
       "      <th>9</th>\n",
       "      <td>1605.30.90 - lobster, prepared or preserved, nes</td>\n",
       "      <td>0.00</td>\n",
       "    </tr>\n",
       "    <tr>\n",
       "      <th>8</th>\n",
       "      <td>1605.30.20 - lobster, prepared or preserved, i...</td>\n",
       "      <td>0.00</td>\n",
       "    </tr>\n",
       "    <tr>\n",
       "      <th>5</th>\n",
       "      <td>0306.32.90 - lobsters, fresh or chilled, o/t live</td>\n",
       "      <td>0.00</td>\n",
       "    </tr>\n",
       "    <tr>\n",
       "      <th>3</th>\n",
       "      <td>0306.31.00 - rock lobster and other sea crawfi...</td>\n",
       "      <td>0.00</td>\n",
       "    </tr>\n",
       "    <tr>\n",
       "      <th>0</th>\n",
       "      <td>0306.11.00 - rock lobster &amp; o sea crawfish,frz...</td>\n",
       "      <td>0.00</td>\n",
       "    </tr>\n",
       "    <tr>\n",
       "      <th>6</th>\n",
       "      <td>0306.92.00 - lobsters, nes, dried/salted/in br...</td>\n",
       "      <td>0.00</td>\n",
       "    </tr>\n",
       "  </tbody>\n",
       "</table>\n",
       "</div>"
      ],
      "text/plain": [
       "                                           Commodity  Value_percent\n",
       "4                        0306.32.10 - lobsters, live           0.38\n",
       "2                 0306.12.90 - lobsters, nes, frozen           0.36\n",
       "7  1605.30.10 - lobster, prepared or preserved, f...           0.20\n",
       "1            0306.12.10 - lobsters, in brine, frozen           0.05\n",
       "9   1605.30.90 - lobster, prepared or preserved, nes           0.00\n",
       "8  1605.30.20 - lobster, prepared or preserved, i...           0.00\n",
       "5  0306.32.90 - lobsters, fresh or chilled, o/t live           0.00\n",
       "3  0306.31.00 - rock lobster and other sea crawfi...           0.00\n",
       "0  0306.11.00 - rock lobster & o sea crawfish,frz...           0.00\n",
       "6  0306.92.00 - lobsters, nes, dried/salted/in br...           0.00"
      ]
     },
     "execution_count": 204,
     "metadata": {},
     "output_type": "execute_result"
    }
   ],
   "source": [
    "b = top_commodities_annual(data, 2021)[['Commodity','Value_percent']]\n",
    "b"
   ]
  },
  {
   "cell_type": "code",
   "execution_count": 238,
   "id": "086486e5-3d66-4565-ae79-6b7d6f0949f4",
   "metadata": {},
   "outputs": [
    {
     "data": {
      "text/html": [
       "<div>\n",
       "<style scoped>\n",
       "    .dataframe tbody tr th:only-of-type {\n",
       "        vertical-align: middle;\n",
       "    }\n",
       "\n",
       "    .dataframe tbody tr th {\n",
       "        vertical-align: top;\n",
       "    }\n",
       "\n",
       "    .dataframe thead th {\n",
       "        text-align: right;\n",
       "    }\n",
       "</style>\n",
       "<table border=\"1\" class=\"dataframe\">\n",
       "  <thead>\n",
       "    <tr style=\"text-align: right;\">\n",
       "      <th></th>\n",
       "      <th>Commodity</th>\n",
       "      <th>Value_percent_x</th>\n",
       "      <th>Value_percent_y</th>\n",
       "    </tr>\n",
       "  </thead>\n",
       "  <tbody>\n",
       "    <tr>\n",
       "      <th>0</th>\n",
       "      <td>0306.32.10 - lobsters, live</td>\n",
       "      <td>0.47</td>\n",
       "      <td>0.38</td>\n",
       "    </tr>\n",
       "    <tr>\n",
       "      <th>1</th>\n",
       "      <td>0306.12.90 - lobsters, nes, frozen</td>\n",
       "      <td>0.33</td>\n",
       "      <td>0.36</td>\n",
       "    </tr>\n",
       "    <tr>\n",
       "      <th>2</th>\n",
       "      <td>1605.30.10 - lobster, prepared or preserved, f...</td>\n",
       "      <td>0.14</td>\n",
       "      <td>0.20</td>\n",
       "    </tr>\n",
       "    <tr>\n",
       "      <th>3</th>\n",
       "      <td>0306.12.10 - lobsters, in brine, frozen</td>\n",
       "      <td>0.05</td>\n",
       "      <td>0.05</td>\n",
       "    </tr>\n",
       "    <tr>\n",
       "      <th>4</th>\n",
       "      <td>1605.30.90 - lobster, prepared or preserved, nes</td>\n",
       "      <td>0.01</td>\n",
       "      <td>0.00</td>\n",
       "    </tr>\n",
       "    <tr>\n",
       "      <th>5</th>\n",
       "      <td>0306.32.90 - lobsters, fresh or chilled, o/t live</td>\n",
       "      <td>0.00</td>\n",
       "      <td>0.00</td>\n",
       "    </tr>\n",
       "    <tr>\n",
       "      <th>6</th>\n",
       "      <td>1605.30.20 - lobster, prepared or preserved, i...</td>\n",
       "      <td>0.00</td>\n",
       "      <td>0.00</td>\n",
       "    </tr>\n",
       "    <tr>\n",
       "      <th>7</th>\n",
       "      <td>0306.92.00 - lobsters, nes, dried/salted/in br...</td>\n",
       "      <td>0.00</td>\n",
       "      <td>0.00</td>\n",
       "    </tr>\n",
       "    <tr>\n",
       "      <th>8</th>\n",
       "      <td>0306.31.00 - rock lobster and other sea crawfi...</td>\n",
       "      <td>0.00</td>\n",
       "      <td>0.00</td>\n",
       "    </tr>\n",
       "    <tr>\n",
       "      <th>9</th>\n",
       "      <td>0306.11.00 - rock lobster &amp; o sea crawfish,frz...</td>\n",
       "      <td>0.00</td>\n",
       "      <td>0.00</td>\n",
       "    </tr>\n",
       "  </tbody>\n",
       "</table>\n",
       "</div>"
      ],
      "text/plain": [
       "                                           Commodity  Value_percent_x  \\\n",
       "0                        0306.32.10 - lobsters, live             0.47   \n",
       "1                 0306.12.90 - lobsters, nes, frozen             0.33   \n",
       "2  1605.30.10 - lobster, prepared or preserved, f...             0.14   \n",
       "3            0306.12.10 - lobsters, in brine, frozen             0.05   \n",
       "4   1605.30.90 - lobster, prepared or preserved, nes             0.01   \n",
       "5  0306.32.90 - lobsters, fresh or chilled, o/t live             0.00   \n",
       "6  1605.30.20 - lobster, prepared or preserved, i...             0.00   \n",
       "7  0306.92.00 - lobsters, nes, dried/salted/in br...             0.00   \n",
       "8  0306.31.00 - rock lobster and other sea crawfi...             0.00   \n",
       "9  0306.11.00 - rock lobster & o sea crawfish,frz...             0.00   \n",
       "\n",
       "   Value_percent_y  \n",
       "0             0.38  \n",
       "1             0.36  \n",
       "2             0.20  \n",
       "3             0.05  \n",
       "4             0.00  \n",
       "5             0.00  \n",
       "6             0.00  \n",
       "7             0.00  \n",
       "8             0.00  \n",
       "9             0.00  "
      ]
     },
     "execution_count": 238,
     "metadata": {},
     "output_type": "execute_result"
    }
   ],
   "source": [
    "merged_df = pd.merge(a, b, on='Commodity')\n",
    "merged_df"
   ]
  },
  {
   "cell_type": "code",
   "execution_count": 244,
   "id": "808ca591-6f93-452e-8036-107c8f6a3916",
   "metadata": {},
   "outputs": [
    {
     "data": {
      "text/plain": [
       "[1988, 1989, 1990]"
      ]
     },
     "execution_count": 244,
     "metadata": {},
     "output_type": "execute_result"
    }
   ],
   "source": [
    "# get list of years from DF:\n",
    "years_list =  list(set(data['Period'].dt.year.unique()))\n",
    "years_list[:3]"
   ]
  },
  {
   "cell_type": "code",
   "execution_count": 277,
   "id": "82a5bb7f-905e-408f-b5d5-c16d274cb13e",
   "metadata": {},
   "outputs": [
    {
     "data": {
      "text/plain": [
       "31"
      ]
     },
     "execution_count": 277,
     "metadata": {},
     "output_type": "execute_result"
    }
   ],
   "source": [
    "commoditites_list = data['Commodity'].unique()\n",
    "len(commoditites_list)"
   ]
  },
  {
   "cell_type": "code",
   "execution_count": 274,
   "id": "6ce530f4-9032-4962-ba1e-a5e0e381224d",
   "metadata": {},
   "outputs": [
    {
     "data": {
      "text/plain": [
       "36"
      ]
     },
     "execution_count": 274,
     "metadata": {},
     "output_type": "execute_result"
    }
   ],
   "source": [
    "len(years_list)"
   ]
  },
  {
   "cell_type": "code",
   "execution_count": 278,
   "id": "8b17ad78-acbf-47f1-9553-f08fd649d55f",
   "metadata": {},
   "outputs": [
    {
     "data": {
      "text/html": [
       "<div>\n",
       "<style scoped>\n",
       "    .dataframe tbody tr th:only-of-type {\n",
       "        vertical-align: middle;\n",
       "    }\n",
       "\n",
       "    .dataframe tbody tr th {\n",
       "        vertical-align: top;\n",
       "    }\n",
       "\n",
       "    .dataframe thead th {\n",
       "        text-align: right;\n",
       "    }\n",
       "</style>\n",
       "<table border=\"1\" class=\"dataframe\">\n",
       "  <thead>\n",
       "    <tr style=\"text-align: right;\">\n",
       "      <th></th>\n",
       "      <th>Commodity</th>\n",
       "      <th>1988</th>\n",
       "      <th>1989</th>\n",
       "      <th>1990</th>\n",
       "      <th>1991</th>\n",
       "      <th>1992</th>\n",
       "      <th>1993</th>\n",
       "      <th>1994</th>\n",
       "      <th>1995</th>\n",
       "      <th>1996</th>\n",
       "      <th>...</th>\n",
       "      <th>2003</th>\n",
       "      <th>2004</th>\n",
       "      <th>2005</th>\n",
       "      <th>2006</th>\n",
       "      <th>2007</th>\n",
       "      <th>2008</th>\n",
       "      <th>2009</th>\n",
       "      <th>2010</th>\n",
       "      <th>2011</th>\n",
       "      <th>2012</th>\n",
       "    </tr>\n",
       "  </thead>\n",
       "  <tbody>\n",
       "    <tr>\n",
       "      <th>0</th>\n",
       "      <td>1605.30.10 - lobster, prepared or preserved, f...</td>\n",
       "      <td>NaN</td>\n",
       "      <td>NaN</td>\n",
       "      <td>NaN</td>\n",
       "      <td>NaN</td>\n",
       "      <td>NaN</td>\n",
       "      <td>NaN</td>\n",
       "      <td>NaN</td>\n",
       "      <td>NaN</td>\n",
       "      <td>NaN</td>\n",
       "      <td>...</td>\n",
       "      <td>NaN</td>\n",
       "      <td>NaN</td>\n",
       "      <td>NaN</td>\n",
       "      <td>NaN</td>\n",
       "      <td>NaN</td>\n",
       "      <td>NaN</td>\n",
       "      <td>NaN</td>\n",
       "      <td>NaN</td>\n",
       "      <td>NaN</td>\n",
       "      <td>NaN</td>\n",
       "    </tr>\n",
       "    <tr>\n",
       "      <th>1</th>\n",
       "      <td>1605.30.11 - lobster meat, frozen, cooked by s...</td>\n",
       "      <td>NaN</td>\n",
       "      <td>NaN</td>\n",
       "      <td>NaN</td>\n",
       "      <td>NaN</td>\n",
       "      <td>NaN</td>\n",
       "      <td>NaN</td>\n",
       "      <td>NaN</td>\n",
       "      <td>NaN</td>\n",
       "      <td>NaN</td>\n",
       "      <td>...</td>\n",
       "      <td>NaN</td>\n",
       "      <td>NaN</td>\n",
       "      <td>NaN</td>\n",
       "      <td>NaN</td>\n",
       "      <td>NaN</td>\n",
       "      <td>NaN</td>\n",
       "      <td>NaN</td>\n",
       "      <td>NaN</td>\n",
       "      <td>NaN</td>\n",
       "      <td>0.18</td>\n",
       "    </tr>\n",
       "    <tr>\n",
       "      <th>2</th>\n",
       "      <td>1605.30.99 - lobster, prepared or preserved, o...</td>\n",
       "      <td>NaN</td>\n",
       "      <td>NaN</td>\n",
       "      <td>NaN</td>\n",
       "      <td>NaN</td>\n",
       "      <td>NaN</td>\n",
       "      <td>NaN</td>\n",
       "      <td>NaN</td>\n",
       "      <td>NaN</td>\n",
       "      <td>NaN</td>\n",
       "      <td>...</td>\n",
       "      <td>NaN</td>\n",
       "      <td>NaN</td>\n",
       "      <td>NaN</td>\n",
       "      <td>NaN</td>\n",
       "      <td>NaN</td>\n",
       "      <td>NaN</td>\n",
       "      <td>NaN</td>\n",
       "      <td>NaN</td>\n",
       "      <td>NaN</td>\n",
       "      <td>0.00</td>\n",
       "    </tr>\n",
       "    <tr>\n",
       "      <th>3</th>\n",
       "      <td>1605.30.90 - lobster, prepared or preserved, nes</td>\n",
       "      <td>NaN</td>\n",
       "      <td>NaN</td>\n",
       "      <td>NaN</td>\n",
       "      <td>NaN</td>\n",
       "      <td>NaN</td>\n",
       "      <td>NaN</td>\n",
       "      <td>NaN</td>\n",
       "      <td>NaN</td>\n",
       "      <td>NaN</td>\n",
       "      <td>...</td>\n",
       "      <td>NaN</td>\n",
       "      <td>NaN</td>\n",
       "      <td>NaN</td>\n",
       "      <td>NaN</td>\n",
       "      <td>NaN</td>\n",
       "      <td>NaN</td>\n",
       "      <td>NaN</td>\n",
       "      <td>NaN</td>\n",
       "      <td>NaN</td>\n",
       "      <td>NaN</td>\n",
       "    </tr>\n",
       "    <tr>\n",
       "      <th>4</th>\n",
       "      <td>1605.30.19 - lobster meat, o/t frozen, cooked ...</td>\n",
       "      <td>NaN</td>\n",
       "      <td>NaN</td>\n",
       "      <td>NaN</td>\n",
       "      <td>NaN</td>\n",
       "      <td>NaN</td>\n",
       "      <td>NaN</td>\n",
       "      <td>NaN</td>\n",
       "      <td>NaN</td>\n",
       "      <td>NaN</td>\n",
       "      <td>...</td>\n",
       "      <td>NaN</td>\n",
       "      <td>NaN</td>\n",
       "      <td>NaN</td>\n",
       "      <td>NaN</td>\n",
       "      <td>NaN</td>\n",
       "      <td>NaN</td>\n",
       "      <td>NaN</td>\n",
       "      <td>NaN</td>\n",
       "      <td>NaN</td>\n",
       "      <td>0.01</td>\n",
       "    </tr>\n",
       "    <tr>\n",
       "      <th>5</th>\n",
       "      <td>1605.30.20 - lobster, prepared or preserved, i...</td>\n",
       "      <td>NaN</td>\n",
       "      <td>NaN</td>\n",
       "      <td>NaN</td>\n",
       "      <td>NaN</td>\n",
       "      <td>NaN</td>\n",
       "      <td>NaN</td>\n",
       "      <td>NaN</td>\n",
       "      <td>NaN</td>\n",
       "      <td>NaN</td>\n",
       "      <td>...</td>\n",
       "      <td>NaN</td>\n",
       "      <td>NaN</td>\n",
       "      <td>NaN</td>\n",
       "      <td>NaN</td>\n",
       "      <td>NaN</td>\n",
       "      <td>NaN</td>\n",
       "      <td>NaN</td>\n",
       "      <td>NaN</td>\n",
       "      <td>NaN</td>\n",
       "      <td>NaN</td>\n",
       "    </tr>\n",
       "    <tr>\n",
       "      <th>6</th>\n",
       "      <td>1605.30.91 - lobster, prepared or preserved, i...</td>\n",
       "      <td>0.05</td>\n",
       "      <td>0.00</td>\n",
       "      <td>0.00</td>\n",
       "      <td>0.04</td>\n",
       "      <td>0.02</td>\n",
       "      <td>0.02</td>\n",
       "      <td>0.01</td>\n",
       "      <td>0.03</td>\n",
       "      <td>0.02</td>\n",
       "      <td>...</td>\n",
       "      <td>0.00</td>\n",
       "      <td>0.00</td>\n",
       "      <td>0.01</td>\n",
       "      <td>0.00</td>\n",
       "      <td>0.01</td>\n",
       "      <td>0.00</td>\n",
       "      <td>0.00</td>\n",
       "      <td>0.00</td>\n",
       "      <td>0.00</td>\n",
       "      <td>0.00</td>\n",
       "    </tr>\n",
       "    <tr>\n",
       "      <th>7</th>\n",
       "      <td>1605.30.11 - lobster meat, frozen, simply boil...</td>\n",
       "      <td>0.14</td>\n",
       "      <td>0.24</td>\n",
       "      <td>0.04</td>\n",
       "      <td>0.12</td>\n",
       "      <td>0.15</td>\n",
       "      <td>0.12</td>\n",
       "      <td>0.14</td>\n",
       "      <td>0.12</td>\n",
       "      <td>0.12</td>\n",
       "      <td>...</td>\n",
       "      <td>0.14</td>\n",
       "      <td>0.16</td>\n",
       "      <td>0.17</td>\n",
       "      <td>0.16</td>\n",
       "      <td>0.12</td>\n",
       "      <td>0.16</td>\n",
       "      <td>0.13</td>\n",
       "      <td>0.16</td>\n",
       "      <td>0.16</td>\n",
       "      <td>NaN</td>\n",
       "    </tr>\n",
       "    <tr>\n",
       "      <th>8</th>\n",
       "      <td>1605.30.19 - lobster meat, not frozen, simply ...</td>\n",
       "      <td>NaN</td>\n",
       "      <td>NaN</td>\n",
       "      <td>0.00</td>\n",
       "      <td>0.00</td>\n",
       "      <td>0.00</td>\n",
       "      <td>0.00</td>\n",
       "      <td>0.00</td>\n",
       "      <td>0.00</td>\n",
       "      <td>0.00</td>\n",
       "      <td>...</td>\n",
       "      <td>0.00</td>\n",
       "      <td>0.00</td>\n",
       "      <td>0.00</td>\n",
       "      <td>0.01</td>\n",
       "      <td>0.01</td>\n",
       "      <td>0.01</td>\n",
       "      <td>0.01</td>\n",
       "      <td>0.00</td>\n",
       "      <td>0.01</td>\n",
       "      <td>NaN</td>\n",
       "    </tr>\n",
       "    <tr>\n",
       "      <th>9</th>\n",
       "      <td>1605.30.99 - lobster, prepared or preserved, n...</td>\n",
       "      <td>NaN</td>\n",
       "      <td>NaN</td>\n",
       "      <td>0.00</td>\n",
       "      <td>0.00</td>\n",
       "      <td>0.00</td>\n",
       "      <td>0.00</td>\n",
       "      <td>0.00</td>\n",
       "      <td>0.00</td>\n",
       "      <td>0.01</td>\n",
       "      <td>...</td>\n",
       "      <td>0.00</td>\n",
       "      <td>0.00</td>\n",
       "      <td>0.00</td>\n",
       "      <td>0.00</td>\n",
       "      <td>0.00</td>\n",
       "      <td>0.00</td>\n",
       "      <td>0.00</td>\n",
       "      <td>0.01</td>\n",
       "      <td>0.00</td>\n",
       "      <td>NaN</td>\n",
       "    </tr>\n",
       "    <tr>\n",
       "      <th>10</th>\n",
       "      <td>1605.30.12 - lobster meat, not frozen, simply ...</td>\n",
       "      <td>0.02</td>\n",
       "      <td>0.01</td>\n",
       "      <td>NaN</td>\n",
       "      <td>NaN</td>\n",
       "      <td>NaN</td>\n",
       "      <td>NaN</td>\n",
       "      <td>NaN</td>\n",
       "      <td>NaN</td>\n",
       "      <td>NaN</td>\n",
       "      <td>...</td>\n",
       "      <td>NaN</td>\n",
       "      <td>NaN</td>\n",
       "      <td>NaN</td>\n",
       "      <td>NaN</td>\n",
       "      <td>NaN</td>\n",
       "      <td>NaN</td>\n",
       "      <td>NaN</td>\n",
       "      <td>NaN</td>\n",
       "      <td>NaN</td>\n",
       "      <td>NaN</td>\n",
       "    </tr>\n",
       "    <tr>\n",
       "      <th>11</th>\n",
       "      <td>1605.30.92 - lobster, prepared or preserved, n...</td>\n",
       "      <td>0.01</td>\n",
       "      <td>0.00</td>\n",
       "      <td>NaN</td>\n",
       "      <td>NaN</td>\n",
       "      <td>NaN</td>\n",
       "      <td>NaN</td>\n",
       "      <td>NaN</td>\n",
       "      <td>NaN</td>\n",
       "      <td>NaN</td>\n",
       "      <td>...</td>\n",
       "      <td>NaN</td>\n",
       "      <td>NaN</td>\n",
       "      <td>NaN</td>\n",
       "      <td>NaN</td>\n",
       "      <td>NaN</td>\n",
       "      <td>NaN</td>\n",
       "      <td>NaN</td>\n",
       "      <td>NaN</td>\n",
       "      <td>NaN</td>\n",
       "      <td>NaN</td>\n",
       "    </tr>\n",
       "    <tr>\n",
       "      <th>12</th>\n",
       "      <td>0306.12.90 - lobsters, nes, frozen</td>\n",
       "      <td>NaN</td>\n",
       "      <td>NaN</td>\n",
       "      <td>NaN</td>\n",
       "      <td>NaN</td>\n",
       "      <td>NaN</td>\n",
       "      <td>NaN</td>\n",
       "      <td>NaN</td>\n",
       "      <td>NaN</td>\n",
       "      <td>NaN</td>\n",
       "      <td>...</td>\n",
       "      <td>NaN</td>\n",
       "      <td>NaN</td>\n",
       "      <td>NaN</td>\n",
       "      <td>NaN</td>\n",
       "      <td>NaN</td>\n",
       "      <td>NaN</td>\n",
       "      <td>NaN</td>\n",
       "      <td>NaN</td>\n",
       "      <td>NaN</td>\n",
       "      <td>0.38</td>\n",
       "    </tr>\n",
       "    <tr>\n",
       "      <th>13</th>\n",
       "      <td>0306.22.10 - lobsters, live (terminated 2016-12)</td>\n",
       "      <td>NaN</td>\n",
       "      <td>NaN</td>\n",
       "      <td>NaN</td>\n",
       "      <td>NaN</td>\n",
       "      <td>NaN</td>\n",
       "      <td>NaN</td>\n",
       "      <td>NaN</td>\n",
       "      <td>NaN</td>\n",
       "      <td>NaN</td>\n",
       "      <td>...</td>\n",
       "      <td>NaN</td>\n",
       "      <td>NaN</td>\n",
       "      <td>NaN</td>\n",
       "      <td>NaN</td>\n",
       "      <td>NaN</td>\n",
       "      <td>NaN</td>\n",
       "      <td>NaN</td>\n",
       "      <td>NaN</td>\n",
       "      <td>NaN</td>\n",
       "      <td>0.37</td>\n",
       "    </tr>\n",
       "    <tr>\n",
       "      <th>14</th>\n",
       "      <td>0306.32.10 - lobsters, live</td>\n",
       "      <td>NaN</td>\n",
       "      <td>NaN</td>\n",
       "      <td>NaN</td>\n",
       "      <td>NaN</td>\n",
       "      <td>NaN</td>\n",
       "      <td>NaN</td>\n",
       "      <td>NaN</td>\n",
       "      <td>NaN</td>\n",
       "      <td>NaN</td>\n",
       "      <td>...</td>\n",
       "      <td>NaN</td>\n",
       "      <td>NaN</td>\n",
       "      <td>NaN</td>\n",
       "      <td>NaN</td>\n",
       "      <td>NaN</td>\n",
       "      <td>NaN</td>\n",
       "      <td>NaN</td>\n",
       "      <td>NaN</td>\n",
       "      <td>NaN</td>\n",
       "      <td>NaN</td>\n",
       "    </tr>\n",
       "    <tr>\n",
       "      <th>15</th>\n",
       "      <td>0306.11.00 - rock lobster &amp; o sea crawfish,frz...</td>\n",
       "      <td>NaN</td>\n",
       "      <td>NaN</td>\n",
       "      <td>NaN</td>\n",
       "      <td>NaN</td>\n",
       "      <td>NaN</td>\n",
       "      <td>NaN</td>\n",
       "      <td>NaN</td>\n",
       "      <td>NaN</td>\n",
       "      <td>NaN</td>\n",
       "      <td>...</td>\n",
       "      <td>NaN</td>\n",
       "      <td>NaN</td>\n",
       "      <td>NaN</td>\n",
       "      <td>NaN</td>\n",
       "      <td>NaN</td>\n",
       "      <td>NaN</td>\n",
       "      <td>NaN</td>\n",
       "      <td>NaN</td>\n",
       "      <td>NaN</td>\n",
       "      <td>0.00</td>\n",
       "    </tr>\n",
       "    <tr>\n",
       "      <th>16</th>\n",
       "      <td>0306.12.10 - lobsters, in brine, frozen</td>\n",
       "      <td>NaN</td>\n",
       "      <td>NaN</td>\n",
       "      <td>NaN</td>\n",
       "      <td>NaN</td>\n",
       "      <td>NaN</td>\n",
       "      <td>NaN</td>\n",
       "      <td>NaN</td>\n",
       "      <td>NaN</td>\n",
       "      <td>NaN</td>\n",
       "      <td>...</td>\n",
       "      <td>NaN</td>\n",
       "      <td>NaN</td>\n",
       "      <td>NaN</td>\n",
       "      <td>NaN</td>\n",
       "      <td>NaN</td>\n",
       "      <td>NaN</td>\n",
       "      <td>NaN</td>\n",
       "      <td>NaN</td>\n",
       "      <td>NaN</td>\n",
       "      <td>0.05</td>\n",
       "    </tr>\n",
       "    <tr>\n",
       "      <th>17</th>\n",
       "      <td>0306.22.90 - lobsters, not frozen, other than ...</td>\n",
       "      <td>NaN</td>\n",
       "      <td>NaN</td>\n",
       "      <td>NaN</td>\n",
       "      <td>NaN</td>\n",
       "      <td>NaN</td>\n",
       "      <td>NaN</td>\n",
       "      <td>NaN</td>\n",
       "      <td>NaN</td>\n",
       "      <td>NaN</td>\n",
       "      <td>...</td>\n",
       "      <td>NaN</td>\n",
       "      <td>NaN</td>\n",
       "      <td>NaN</td>\n",
       "      <td>NaN</td>\n",
       "      <td>NaN</td>\n",
       "      <td>NaN</td>\n",
       "      <td>NaN</td>\n",
       "      <td>NaN</td>\n",
       "      <td>NaN</td>\n",
       "      <td>0.00</td>\n",
       "    </tr>\n",
       "    <tr>\n",
       "      <th>18</th>\n",
       "      <td>0306.32.90 - lobsters, fresh or chilled, o/t live</td>\n",
       "      <td>NaN</td>\n",
       "      <td>NaN</td>\n",
       "      <td>NaN</td>\n",
       "      <td>NaN</td>\n",
       "      <td>NaN</td>\n",
       "      <td>NaN</td>\n",
       "      <td>NaN</td>\n",
       "      <td>NaN</td>\n",
       "      <td>NaN</td>\n",
       "      <td>...</td>\n",
       "      <td>NaN</td>\n",
       "      <td>NaN</td>\n",
       "      <td>NaN</td>\n",
       "      <td>NaN</td>\n",
       "      <td>NaN</td>\n",
       "      <td>NaN</td>\n",
       "      <td>NaN</td>\n",
       "      <td>NaN</td>\n",
       "      <td>NaN</td>\n",
       "      <td>NaN</td>\n",
       "    </tr>\n",
       "    <tr>\n",
       "      <th>19</th>\n",
       "      <td>0306.92.00 - lobsters, nes, dried/salted/in br...</td>\n",
       "      <td>NaN</td>\n",
       "      <td>NaN</td>\n",
       "      <td>NaN</td>\n",
       "      <td>NaN</td>\n",
       "      <td>NaN</td>\n",
       "      <td>NaN</td>\n",
       "      <td>NaN</td>\n",
       "      <td>NaN</td>\n",
       "      <td>NaN</td>\n",
       "      <td>...</td>\n",
       "      <td>NaN</td>\n",
       "      <td>NaN</td>\n",
       "      <td>NaN</td>\n",
       "      <td>NaN</td>\n",
       "      <td>NaN</td>\n",
       "      <td>NaN</td>\n",
       "      <td>NaN</td>\n",
       "      <td>NaN</td>\n",
       "      <td>NaN</td>\n",
       "      <td>NaN</td>\n",
       "    </tr>\n",
       "    <tr>\n",
       "      <th>20</th>\n",
       "      <td>0306.91.00 - rock lobster &amp; other sea crawfish...</td>\n",
       "      <td>NaN</td>\n",
       "      <td>NaN</td>\n",
       "      <td>NaN</td>\n",
       "      <td>NaN</td>\n",
       "      <td>NaN</td>\n",
       "      <td>NaN</td>\n",
       "      <td>NaN</td>\n",
       "      <td>NaN</td>\n",
       "      <td>NaN</td>\n",
       "      <td>...</td>\n",
       "      <td>NaN</td>\n",
       "      <td>NaN</td>\n",
       "      <td>NaN</td>\n",
       "      <td>NaN</td>\n",
       "      <td>NaN</td>\n",
       "      <td>NaN</td>\n",
       "      <td>NaN</td>\n",
       "      <td>NaN</td>\n",
       "      <td>NaN</td>\n",
       "      <td>NaN</td>\n",
       "    </tr>\n",
       "    <tr>\n",
       "      <th>21</th>\n",
       "      <td>0306.31.00 - rock lobster and other sea crawfi...</td>\n",
       "      <td>NaN</td>\n",
       "      <td>NaN</td>\n",
       "      <td>NaN</td>\n",
       "      <td>NaN</td>\n",
       "      <td>NaN</td>\n",
       "      <td>NaN</td>\n",
       "      <td>NaN</td>\n",
       "      <td>NaN</td>\n",
       "      <td>NaN</td>\n",
       "      <td>...</td>\n",
       "      <td>NaN</td>\n",
       "      <td>NaN</td>\n",
       "      <td>NaN</td>\n",
       "      <td>NaN</td>\n",
       "      <td>NaN</td>\n",
       "      <td>NaN</td>\n",
       "      <td>NaN</td>\n",
       "      <td>NaN</td>\n",
       "      <td>NaN</td>\n",
       "      <td>NaN</td>\n",
       "    </tr>\n",
       "    <tr>\n",
       "      <th>22</th>\n",
       "      <td>0306.21.00 - rock lobster&amp;o sea crawfish,n fro...</td>\n",
       "      <td>NaN</td>\n",
       "      <td>NaN</td>\n",
       "      <td>NaN</td>\n",
       "      <td>NaN</td>\n",
       "      <td>NaN</td>\n",
       "      <td>NaN</td>\n",
       "      <td>NaN</td>\n",
       "      <td>NaN</td>\n",
       "      <td>NaN</td>\n",
       "      <td>...</td>\n",
       "      <td>NaN</td>\n",
       "      <td>NaN</td>\n",
       "      <td>NaN</td>\n",
       "      <td>NaN</td>\n",
       "      <td>NaN</td>\n",
       "      <td>NaN</td>\n",
       "      <td>NaN</td>\n",
       "      <td>NaN</td>\n",
       "      <td>NaN</td>\n",
       "      <td>0.00</td>\n",
       "    </tr>\n",
       "    <tr>\n",
       "      <th>23</th>\n",
       "      <td>0306.34.00 - norway lobsters, live, fresh or c...</td>\n",
       "      <td>NaN</td>\n",
       "      <td>NaN</td>\n",
       "      <td>NaN</td>\n",
       "      <td>NaN</td>\n",
       "      <td>NaN</td>\n",
       "      <td>NaN</td>\n",
       "      <td>NaN</td>\n",
       "      <td>NaN</td>\n",
       "      <td>NaN</td>\n",
       "      <td>...</td>\n",
       "      <td>NaN</td>\n",
       "      <td>NaN</td>\n",
       "      <td>NaN</td>\n",
       "      <td>NaN</td>\n",
       "      <td>NaN</td>\n",
       "      <td>NaN</td>\n",
       "      <td>NaN</td>\n",
       "      <td>NaN</td>\n",
       "      <td>NaN</td>\n",
       "      <td>NaN</td>\n",
       "    </tr>\n",
       "    <tr>\n",
       "      <th>24</th>\n",
       "      <td>0306.15.00 - norway lobster,frz,shell/not,incl...</td>\n",
       "      <td>NaN</td>\n",
       "      <td>NaN</td>\n",
       "      <td>NaN</td>\n",
       "      <td>NaN</td>\n",
       "      <td>NaN</td>\n",
       "      <td>NaN</td>\n",
       "      <td>NaN</td>\n",
       "      <td>NaN</td>\n",
       "      <td>NaN</td>\n",
       "      <td>...</td>\n",
       "      <td>NaN</td>\n",
       "      <td>NaN</td>\n",
       "      <td>NaN</td>\n",
       "      <td>NaN</td>\n",
       "      <td>NaN</td>\n",
       "      <td>NaN</td>\n",
       "      <td>NaN</td>\n",
       "      <td>NaN</td>\n",
       "      <td>NaN</td>\n",
       "      <td>NaN</td>\n",
       "    </tr>\n",
       "    <tr>\n",
       "      <th>25</th>\n",
       "      <td>0306.22.10 - lobsters, (homarus spp), live (te...</td>\n",
       "      <td>0.57</td>\n",
       "      <td>0.58</td>\n",
       "      <td>0.58</td>\n",
       "      <td>0.57</td>\n",
       "      <td>0.55</td>\n",
       "      <td>0.58</td>\n",
       "      <td>0.51</td>\n",
       "      <td>0.51</td>\n",
       "      <td>0.55</td>\n",
       "      <td>...</td>\n",
       "      <td>0.51</td>\n",
       "      <td>0.51</td>\n",
       "      <td>0.46</td>\n",
       "      <td>0.41</td>\n",
       "      <td>0.47</td>\n",
       "      <td>0.40</td>\n",
       "      <td>0.47</td>\n",
       "      <td>0.36</td>\n",
       "      <td>0.38</td>\n",
       "      <td>NaN</td>\n",
       "    </tr>\n",
       "    <tr>\n",
       "      <th>26</th>\n",
       "      <td>0306.12.90 - lobsters, (homarus spp), nes, fro...</td>\n",
       "      <td>0.10</td>\n",
       "      <td>0.06</td>\n",
       "      <td>0.23</td>\n",
       "      <td>0.14</td>\n",
       "      <td>0.16</td>\n",
       "      <td>0.19</td>\n",
       "      <td>0.25</td>\n",
       "      <td>0.25</td>\n",
       "      <td>0.24</td>\n",
       "      <td>...</td>\n",
       "      <td>0.31</td>\n",
       "      <td>0.29</td>\n",
       "      <td>0.31</td>\n",
       "      <td>0.36</td>\n",
       "      <td>0.33</td>\n",
       "      <td>0.38</td>\n",
       "      <td>0.34</td>\n",
       "      <td>0.40</td>\n",
       "      <td>0.40</td>\n",
       "      <td>NaN</td>\n",
       "    </tr>\n",
       "    <tr>\n",
       "      <th>27</th>\n",
       "      <td>0306.12.10 - lobsters in brine, (homarus spp),...</td>\n",
       "      <td>0.10</td>\n",
       "      <td>0.10</td>\n",
       "      <td>0.12</td>\n",
       "      <td>0.11</td>\n",
       "      <td>0.11</td>\n",
       "      <td>0.08</td>\n",
       "      <td>0.08</td>\n",
       "      <td>0.09</td>\n",
       "      <td>0.05</td>\n",
       "      <td>...</td>\n",
       "      <td>0.04</td>\n",
       "      <td>0.04</td>\n",
       "      <td>0.04</td>\n",
       "      <td>0.05</td>\n",
       "      <td>0.07</td>\n",
       "      <td>0.05</td>\n",
       "      <td>0.05</td>\n",
       "      <td>0.05</td>\n",
       "      <td>0.05</td>\n",
       "      <td>NaN</td>\n",
       "    </tr>\n",
       "    <tr>\n",
       "      <th>28</th>\n",
       "      <td>0306.11.00 - rock lobster &amp; other sea crawfish...</td>\n",
       "      <td>0.00</td>\n",
       "      <td>0.00</td>\n",
       "      <td>0.00</td>\n",
       "      <td>0.00</td>\n",
       "      <td>0.00</td>\n",
       "      <td>0.00</td>\n",
       "      <td>0.00</td>\n",
       "      <td>0.00</td>\n",
       "      <td>0.00</td>\n",
       "      <td>...</td>\n",
       "      <td>0.00</td>\n",
       "      <td>0.00</td>\n",
       "      <td>0.00</td>\n",
       "      <td>0.00</td>\n",
       "      <td>0.00</td>\n",
       "      <td>0.00</td>\n",
       "      <td>0.00</td>\n",
       "      <td>0.00</td>\n",
       "      <td>0.00</td>\n",
       "      <td>NaN</td>\n",
       "    </tr>\n",
       "    <tr>\n",
       "      <th>29</th>\n",
       "      <td>0306.22.90 - lobsters,(homarus spp), not froze...</td>\n",
       "      <td>0.01</td>\n",
       "      <td>0.01</td>\n",
       "      <td>0.02</td>\n",
       "      <td>0.01</td>\n",
       "      <td>0.00</td>\n",
       "      <td>0.00</td>\n",
       "      <td>0.00</td>\n",
       "      <td>0.00</td>\n",
       "      <td>0.00</td>\n",
       "      <td>...</td>\n",
       "      <td>0.00</td>\n",
       "      <td>0.00</td>\n",
       "      <td>0.00</td>\n",
       "      <td>0.00</td>\n",
       "      <td>0.00</td>\n",
       "      <td>0.00</td>\n",
       "      <td>0.00</td>\n",
       "      <td>0.00</td>\n",
       "      <td>0.00</td>\n",
       "      <td>NaN</td>\n",
       "    </tr>\n",
       "    <tr>\n",
       "      <th>30</th>\n",
       "      <td>0306.21.00 - rock lobster &amp; other sea crawfish...</td>\n",
       "      <td>0.00</td>\n",
       "      <td>0.00</td>\n",
       "      <td>0.00</td>\n",
       "      <td>0.00</td>\n",
       "      <td>0.00</td>\n",
       "      <td>0.00</td>\n",
       "      <td>0.00</td>\n",
       "      <td>0.00</td>\n",
       "      <td>0.00</td>\n",
       "      <td>...</td>\n",
       "      <td>0.00</td>\n",
       "      <td>0.00</td>\n",
       "      <td>0.00</td>\n",
       "      <td>NaN</td>\n",
       "      <td>NaN</td>\n",
       "      <td>0.00</td>\n",
       "      <td>NaN</td>\n",
       "      <td>0.00</td>\n",
       "      <td>NaN</td>\n",
       "      <td>NaN</td>\n",
       "    </tr>\n",
       "  </tbody>\n",
       "</table>\n",
       "<p>31 rows × 26 columns</p>\n",
       "</div>"
      ],
      "text/plain": [
       "                                            Commodity  1988  1989  1990  1991  \\\n",
       "0   1605.30.10 - lobster, prepared or preserved, f...   NaN   NaN   NaN   NaN   \n",
       "1   1605.30.11 - lobster meat, frozen, cooked by s...   NaN   NaN   NaN   NaN   \n",
       "2   1605.30.99 - lobster, prepared or preserved, o...   NaN   NaN   NaN   NaN   \n",
       "3    1605.30.90 - lobster, prepared or preserved, nes   NaN   NaN   NaN   NaN   \n",
       "4   1605.30.19 - lobster meat, o/t frozen, cooked ...   NaN   NaN   NaN   NaN   \n",
       "5   1605.30.20 - lobster, prepared or preserved, i...   NaN   NaN   NaN   NaN   \n",
       "6   1605.30.91 - lobster, prepared or preserved, i...  0.05  0.00  0.00  0.04   \n",
       "7   1605.30.11 - lobster meat, frozen, simply boil...  0.14  0.24  0.04  0.12   \n",
       "8   1605.30.19 - lobster meat, not frozen, simply ...   NaN   NaN  0.00  0.00   \n",
       "9   1605.30.99 - lobster, prepared or preserved, n...   NaN   NaN  0.00  0.00   \n",
       "10  1605.30.12 - lobster meat, not frozen, simply ...  0.02  0.01   NaN   NaN   \n",
       "11  1605.30.92 - lobster, prepared or preserved, n...  0.01  0.00   NaN   NaN   \n",
       "12                 0306.12.90 - lobsters, nes, frozen   NaN   NaN   NaN   NaN   \n",
       "13   0306.22.10 - lobsters, live (terminated 2016-12)   NaN   NaN   NaN   NaN   \n",
       "14                        0306.32.10 - lobsters, live   NaN   NaN   NaN   NaN   \n",
       "15  0306.11.00 - rock lobster & o sea crawfish,frz...   NaN   NaN   NaN   NaN   \n",
       "16            0306.12.10 - lobsters, in brine, frozen   NaN   NaN   NaN   NaN   \n",
       "17  0306.22.90 - lobsters, not frozen, other than ...   NaN   NaN   NaN   NaN   \n",
       "18  0306.32.90 - lobsters, fresh or chilled, o/t live   NaN   NaN   NaN   NaN   \n",
       "19  0306.92.00 - lobsters, nes, dried/salted/in br...   NaN   NaN   NaN   NaN   \n",
       "20  0306.91.00 - rock lobster & other sea crawfish...   NaN   NaN   NaN   NaN   \n",
       "21  0306.31.00 - rock lobster and other sea crawfi...   NaN   NaN   NaN   NaN   \n",
       "22  0306.21.00 - rock lobster&o sea crawfish,n fro...   NaN   NaN   NaN   NaN   \n",
       "23  0306.34.00 - norway lobsters, live, fresh or c...   NaN   NaN   NaN   NaN   \n",
       "24  0306.15.00 - norway lobster,frz,shell/not,incl...   NaN   NaN   NaN   NaN   \n",
       "25  0306.22.10 - lobsters, (homarus spp), live (te...  0.57  0.58  0.58  0.57   \n",
       "26  0306.12.90 - lobsters, (homarus spp), nes, fro...  0.10  0.06  0.23  0.14   \n",
       "27  0306.12.10 - lobsters in brine, (homarus spp),...  0.10  0.10  0.12  0.11   \n",
       "28  0306.11.00 - rock lobster & other sea crawfish...  0.00  0.00  0.00  0.00   \n",
       "29  0306.22.90 - lobsters,(homarus spp), not froze...  0.01  0.01  0.02  0.01   \n",
       "30  0306.21.00 - rock lobster & other sea crawfish...  0.00  0.00  0.00  0.00   \n",
       "\n",
       "    1992  1993  1994  1995  1996  ...  2003  2004  2005  2006  2007  2008  \\\n",
       "0    NaN   NaN   NaN   NaN   NaN  ...   NaN   NaN   NaN   NaN   NaN   NaN   \n",
       "1    NaN   NaN   NaN   NaN   NaN  ...   NaN   NaN   NaN   NaN   NaN   NaN   \n",
       "2    NaN   NaN   NaN   NaN   NaN  ...   NaN   NaN   NaN   NaN   NaN   NaN   \n",
       "3    NaN   NaN   NaN   NaN   NaN  ...   NaN   NaN   NaN   NaN   NaN   NaN   \n",
       "4    NaN   NaN   NaN   NaN   NaN  ...   NaN   NaN   NaN   NaN   NaN   NaN   \n",
       "5    NaN   NaN   NaN   NaN   NaN  ...   NaN   NaN   NaN   NaN   NaN   NaN   \n",
       "6   0.02  0.02  0.01  0.03  0.02  ...  0.00  0.00  0.01  0.00  0.01  0.00   \n",
       "7   0.15  0.12  0.14  0.12  0.12  ...  0.14  0.16  0.17  0.16  0.12  0.16   \n",
       "8   0.00  0.00  0.00  0.00  0.00  ...  0.00  0.00  0.00  0.01  0.01  0.01   \n",
       "9   0.00  0.00  0.00  0.00  0.01  ...  0.00  0.00  0.00  0.00  0.00  0.00   \n",
       "10   NaN   NaN   NaN   NaN   NaN  ...   NaN   NaN   NaN   NaN   NaN   NaN   \n",
       "11   NaN   NaN   NaN   NaN   NaN  ...   NaN   NaN   NaN   NaN   NaN   NaN   \n",
       "12   NaN   NaN   NaN   NaN   NaN  ...   NaN   NaN   NaN   NaN   NaN   NaN   \n",
       "13   NaN   NaN   NaN   NaN   NaN  ...   NaN   NaN   NaN   NaN   NaN   NaN   \n",
       "14   NaN   NaN   NaN   NaN   NaN  ...   NaN   NaN   NaN   NaN   NaN   NaN   \n",
       "15   NaN   NaN   NaN   NaN   NaN  ...   NaN   NaN   NaN   NaN   NaN   NaN   \n",
       "16   NaN   NaN   NaN   NaN   NaN  ...   NaN   NaN   NaN   NaN   NaN   NaN   \n",
       "17   NaN   NaN   NaN   NaN   NaN  ...   NaN   NaN   NaN   NaN   NaN   NaN   \n",
       "18   NaN   NaN   NaN   NaN   NaN  ...   NaN   NaN   NaN   NaN   NaN   NaN   \n",
       "19   NaN   NaN   NaN   NaN   NaN  ...   NaN   NaN   NaN   NaN   NaN   NaN   \n",
       "20   NaN   NaN   NaN   NaN   NaN  ...   NaN   NaN   NaN   NaN   NaN   NaN   \n",
       "21   NaN   NaN   NaN   NaN   NaN  ...   NaN   NaN   NaN   NaN   NaN   NaN   \n",
       "22   NaN   NaN   NaN   NaN   NaN  ...   NaN   NaN   NaN   NaN   NaN   NaN   \n",
       "23   NaN   NaN   NaN   NaN   NaN  ...   NaN   NaN   NaN   NaN   NaN   NaN   \n",
       "24   NaN   NaN   NaN   NaN   NaN  ...   NaN   NaN   NaN   NaN   NaN   NaN   \n",
       "25  0.55  0.58  0.51  0.51  0.55  ...  0.51  0.51  0.46  0.41  0.47  0.40   \n",
       "26  0.16  0.19  0.25  0.25  0.24  ...  0.31  0.29  0.31  0.36  0.33  0.38   \n",
       "27  0.11  0.08  0.08  0.09  0.05  ...  0.04  0.04  0.04  0.05  0.07  0.05   \n",
       "28  0.00  0.00  0.00  0.00  0.00  ...  0.00  0.00  0.00  0.00  0.00  0.00   \n",
       "29  0.00  0.00  0.00  0.00  0.00  ...  0.00  0.00  0.00  0.00  0.00  0.00   \n",
       "30  0.00  0.00  0.00  0.00  0.00  ...  0.00  0.00  0.00   NaN   NaN  0.00   \n",
       "\n",
       "    2009  2010  2011  2012  \n",
       "0    NaN   NaN   NaN   NaN  \n",
       "1    NaN   NaN   NaN  0.18  \n",
       "2    NaN   NaN   NaN  0.00  \n",
       "3    NaN   NaN   NaN   NaN  \n",
       "4    NaN   NaN   NaN  0.01  \n",
       "5    NaN   NaN   NaN   NaN  \n",
       "6   0.00  0.00  0.00  0.00  \n",
       "7   0.13  0.16  0.16   NaN  \n",
       "8   0.01  0.00  0.01   NaN  \n",
       "9   0.00  0.01  0.00   NaN  \n",
       "10   NaN   NaN   NaN   NaN  \n",
       "11   NaN   NaN   NaN   NaN  \n",
       "12   NaN   NaN   NaN  0.38  \n",
       "13   NaN   NaN   NaN  0.37  \n",
       "14   NaN   NaN   NaN   NaN  \n",
       "15   NaN   NaN   NaN  0.00  \n",
       "16   NaN   NaN   NaN  0.05  \n",
       "17   NaN   NaN   NaN  0.00  \n",
       "18   NaN   NaN   NaN   NaN  \n",
       "19   NaN   NaN   NaN   NaN  \n",
       "20   NaN   NaN   NaN   NaN  \n",
       "21   NaN   NaN   NaN   NaN  \n",
       "22   NaN   NaN   NaN  0.00  \n",
       "23   NaN   NaN   NaN   NaN  \n",
       "24   NaN   NaN   NaN   NaN  \n",
       "25  0.47  0.36  0.38   NaN  \n",
       "26  0.34  0.40  0.40   NaN  \n",
       "27  0.05  0.05  0.05   NaN  \n",
       "28  0.00  0.00  0.00   NaN  \n",
       "29  0.00  0.00  0.00   NaN  \n",
       "30   NaN  0.00   NaN   NaN  \n",
       "\n",
       "[31 rows x 26 columns]"
      ]
     },
     "execution_count": 278,
     "metadata": {},
     "output_type": "execute_result"
    }
   ],
   "source": [
    "merged_df = pd.DataFrame(columns = ['Commodity'],data = commoditites_list)\n",
    "# merged_df = pd.DataFrame()\n",
    "for year in years_list[:25]:\n",
    "    # print(year)\n",
    "    year_df = top_commodities_annual(data, year)[['Commodity','Value_percent']]\n",
    "    year_df.rename(columns = {'Value_percent': year}, inplace = True)\n",
    "    # print(year_df)\n",
    "    # join merged df and percents based on commodity balue \n",
    "    merged_df = pd.merge(merged_df, year_df, on = 'Commodity', how='outer')\n",
    "    # print(merged_df)\n",
    "merged_df"
   ]
  },
  {
   "cell_type": "code",
   "execution_count": 25,
   "id": "9e55eb2c-dca1-477d-b919-15842a789496",
   "metadata": {},
   "outputs": [],
   "source": [
    "import plotly.express as px"
   ]
  },
  {
   "cell_type": "code",
   "execution_count": 65,
   "id": "fd47025d-de30-4b1b-b538-3466951c9583",
   "metadata": {},
   "outputs": [
    {
     "data": {
      "application/vnd.plotly.v1+json": {
       "config": {
        "plotlyServerURL": "https://plot.ly"
       },
       "data": [
        {
         "alignmentgroup": "True",
         "hovertemplate": "Commodity=0306.11.00 - rock lobster & o sea crawfish,frz,in shell or not,incl in shell ckd in water,etc<br>Year=%{x}<br>Value_$=%{y}<extra></extra>",
         "legendgroup": "0306.11.00 - rock lobster & o sea crawfish,frz,in shell or not,incl in shell ckd in water,etc",
         "marker": {
          "color": "#636efa",
          "pattern": {
           "shape": ""
          }
         },
         "name": "0306.11.00 - rock lobster & o sea crawfish,frz,in shell or not,incl in shell ckd in water,etc",
         "offsetgroup": "0306.11.00 - rock lobster & o sea crawfish,frz,in shell or not,incl in shell ckd in water,etc",
         "orientation": "v",
         "showlegend": true,
         "textposition": "auto",
         "type": "bar",
         "x": [
          2012,
          2013,
          2014,
          2015,
          2016,
          2017,
          2018,
          2019,
          2020,
          2021,
          2022
         ],
         "xaxis": "x",
         "y": [
          2149954,
          1697035,
          3448411,
          6291135,
          1959146,
          735622,
          1112627,
          2138521,
          8836,
          73375,
          3125921
         ],
         "yaxis": "y"
        },
        {
         "alignmentgroup": "True",
         "hovertemplate": "Commodity=0306.11.00 - rock lobster & other sea crawfish,frozen in shell or not, incl boiled in shell<br>Year=%{x}<br>Value_$=%{y}<extra></extra>",
         "legendgroup": "0306.11.00 - rock lobster & other sea crawfish,frozen in shell or not, incl boiled in shell",
         "marker": {
          "color": "#EF553B",
          "pattern": {
           "shape": ""
          }
         },
         "name": "0306.11.00 - rock lobster & other sea crawfish,frozen in shell or not, incl boiled in shell",
         "offsetgroup": "0306.11.00 - rock lobster & other sea crawfish,frozen in shell or not, incl boiled in shell",
         "orientation": "v",
         "showlegend": true,
         "textposition": "auto",
         "type": "bar",
         "x": [
          1988,
          1989,
          1990,
          1991,
          1992,
          1993,
          1994,
          1995,
          1996,
          1997,
          1998,
          1999,
          2000,
          2001,
          2002,
          2003,
          2004,
          2005,
          2006,
          2007,
          2008,
          2009,
          2010,
          2011
         ],
         "xaxis": "x",
         "y": [
          127868,
          25000,
          144055,
          300365,
          424780,
          215911,
          471506,
          271556,
          1006438,
          839255,
          124988,
          515499,
          149536,
          191531,
          5648,
          516139,
          199814,
          2273723,
          851868,
          1347449,
          3211309,
          1817000,
          879314,
          925813
         ],
         "yaxis": "y"
        },
        {
         "alignmentgroup": "True",
         "hovertemplate": "Commodity=0306.12.10 - lobsters in brine, (homarus spp), frozen, in shell, including boiled in shell<br>Year=%{x}<br>Value_$=%{y}<extra></extra>",
         "legendgroup": "0306.12.10 - lobsters in brine, (homarus spp), frozen, in shell, including boiled in shell",
         "marker": {
          "color": "#00cc96",
          "pattern": {
           "shape": ""
          }
         },
         "name": "0306.12.10 - lobsters in brine, (homarus spp), frozen, in shell, including boiled in shell",
         "offsetgroup": "0306.12.10 - lobsters in brine, (homarus spp), frozen, in shell, including boiled in shell",
         "orientation": "v",
         "showlegend": true,
         "textposition": "auto",
         "type": "bar",
         "x": [
          1988,
          1989,
          1990,
          1991,
          1992,
          1993,
          1994,
          1995,
          1996,
          1997,
          1998,
          1999,
          2000,
          2001,
          2002,
          2003,
          2004,
          2005,
          2006,
          2007,
          2008,
          2009,
          2010,
          2011
         ],
         "xaxis": "x",
         "y": [
          34951422,
          27404286,
          36288472,
          38329865,
          42172464,
          28975138,
          41509580,
          49267801,
          26718488,
          103238147,
          50561401,
          35580301,
          30781324,
          28212441,
          28820290,
          36161533,
          33573075,
          35016774,
          49086633,
          59447648,
          44092993,
          37585920,
          51243524,
          53376251
         ],
         "yaxis": "y"
        },
        {
         "alignmentgroup": "True",
         "hovertemplate": "Commodity=0306.12.10 - lobsters, in brine, frozen<br>Year=%{x}<br>Value_$=%{y}<extra></extra>",
         "legendgroup": "0306.12.10 - lobsters, in brine, frozen",
         "marker": {
          "color": "#ab63fa",
          "pattern": {
           "shape": ""
          }
         },
         "name": "0306.12.10 - lobsters, in brine, frozen",
         "offsetgroup": "0306.12.10 - lobsters, in brine, frozen",
         "orientation": "v",
         "showlegend": true,
         "textposition": "auto",
         "type": "bar",
         "x": [
          2012,
          2013,
          2014,
          2015,
          2016,
          2017,
          2018,
          2019,
          2020,
          2021,
          2022,
          2023
         ],
         "xaxis": "x",
         "y": [
          56434863,
          40629504,
          37539674,
          57377692,
          76964160,
          64956316,
          82005200,
          99855051,
          101628407,
          176359431,
          148241314,
          109645069
         ],
         "yaxis": "y"
        },
        {
         "alignmentgroup": "True",
         "hovertemplate": "Commodity=0306.12.90 - lobsters, (homarus spp), nes, frozen, in shell, including boiled in shell<br>Year=%{x}<br>Value_$=%{y}<extra></extra>",
         "legendgroup": "0306.12.90 - lobsters, (homarus spp), nes, frozen, in shell, including boiled in shell",
         "marker": {
          "color": "#FFA15A",
          "pattern": {
           "shape": ""
          }
         },
         "name": "0306.12.90 - lobsters, (homarus spp), nes, frozen, in shell, including boiled in shell",
         "offsetgroup": "0306.12.90 - lobsters, (homarus spp), nes, frozen, in shell, including boiled in shell",
         "orientation": "v",
         "showlegend": true,
         "textposition": "auto",
         "type": "bar",
         "x": [
          1988,
          1989,
          1990,
          1991,
          1992,
          1993,
          1994,
          1995,
          1996,
          1997,
          1998,
          1999,
          2000,
          2001,
          2002,
          2003,
          2004,
          2005,
          2006,
          2007,
          2008,
          2009,
          2010,
          2011
         ],
         "xaxis": "x",
         "y": [
          33284346,
          16485997,
          71972154,
          48231924,
          62667251,
          67159605,
          125566758,
          138881596,
          135439946,
          88603391,
          128030096,
          249381821,
          277569154,
          305873855,
          335175472,
          317802220,
          277034350,
          311024419,
          364456859,
          297155984,
          347753671,
          272557775,
          381890767,
          408496449
         ],
         "yaxis": "y"
        },
        {
         "alignmentgroup": "True",
         "hovertemplate": "Commodity=0306.12.90 - lobsters, nes, frozen<br>Year=%{x}<br>Value_$=%{y}<extra></extra>",
         "legendgroup": "0306.12.90 - lobsters, nes, frozen",
         "marker": {
          "color": "#19d3f3",
          "pattern": {
           "shape": ""
          }
         },
         "name": "0306.12.90 - lobsters, nes, frozen",
         "offsetgroup": "0306.12.90 - lobsters, nes, frozen",
         "orientation": "v",
         "showlegend": true,
         "textposition": "auto",
         "type": "bar",
         "x": [
          2012,
          2013,
          2014,
          2015,
          2016,
          2017,
          2018,
          2019,
          2020,
          2021,
          2022,
          2023
         ],
         "xaxis": "x",
         "y": [
          412258032,
          436303862,
          630504955,
          763305426,
          790760886,
          763129933,
          831611135,
          966689621,
          691945919,
          1177532904,
          911950315,
          629306399
         ],
         "yaxis": "y"
        },
        {
         "alignmentgroup": "True",
         "hovertemplate": "Commodity=0306.15.00 - norway lobster,frz,shell/not,incl in shell ckd in water,etc<br>Year=%{x}<br>Value_$=%{y}<extra></extra>",
         "legendgroup": "0306.15.00 - norway lobster,frz,shell/not,incl in shell ckd in water,etc",
         "marker": {
          "color": "#FF6692",
          "pattern": {
           "shape": ""
          }
         },
         "name": "0306.15.00 - norway lobster,frz,shell/not,incl in shell ckd in water,etc",
         "offsetgroup": "0306.15.00 - norway lobster,frz,shell/not,incl in shell ckd in water,etc",
         "orientation": "v",
         "showlegend": true,
         "textposition": "auto",
         "type": "bar",
         "x": [
          2014,
          2015,
          2018,
          2019
         ],
         "xaxis": "x",
         "y": [
          142227,
          18189,
          547619,
          157284
         ],
         "yaxis": "y"
        },
        {
         "alignmentgroup": "True",
         "hovertemplate": "Commodity=0306.21.00 - rock lobster & other sea crawfish not fz,in shell or not, incl boiled in shell (terminated 2016-12)<br>Year=%{x}<br>Value_$=%{y}<extra></extra>",
         "legendgroup": "0306.21.00 - rock lobster & other sea crawfish not fz,in shell or not, incl boiled in shell (terminated 2016-12)",
         "marker": {
          "color": "#B6E880",
          "pattern": {
           "shape": ""
          }
         },
         "name": "0306.21.00 - rock lobster & other sea crawfish not fz,in shell or not, incl boiled in shell (terminated 2016-12)",
         "offsetgroup": "0306.21.00 - rock lobster & other sea crawfish not fz,in shell or not, incl boiled in shell (terminated 2016-12)",
         "orientation": "v",
         "showlegend": true,
         "textposition": "auto",
         "type": "bar",
         "x": [
          1988,
          1989,
          1990,
          1991,
          1992,
          1993,
          1994,
          1995,
          1996,
          1997,
          1999,
          2000,
          2001,
          2002,
          2003,
          2004,
          2005,
          2008,
          2010
         ],
         "xaxis": "x",
         "y": [
          638064,
          448281,
          94562,
          65040,
          93541,
          49103,
          263477,
          89883,
          199319,
          10146,
          126418,
          785675,
          1749301,
          238619,
          157671,
          70863,
          86488,
          4130,
          5169
         ],
         "yaxis": "y"
        },
        {
         "alignmentgroup": "True",
         "hovertemplate": "Commodity=0306.21.00 - rock lobster&o sea crawfish,n frozen,in shell/not,incl in shell ckd in water,etc (terminated 2016-12)<br>Year=%{x}<br>Value_$=%{y}<extra></extra>",
         "legendgroup": "0306.21.00 - rock lobster&o sea crawfish,n frozen,in shell/not,incl in shell ckd in water,etc (terminated 2016-12)",
         "marker": {
          "color": "#FF97FF",
          "pattern": {
           "shape": ""
          }
         },
         "name": "0306.21.00 - rock lobster&o sea crawfish,n frozen,in shell/not,incl in shell ckd in water,etc (terminated 2016-12)",
         "offsetgroup": "0306.21.00 - rock lobster&o sea crawfish,n frozen,in shell/not,incl in shell ckd in water,etc (terminated 2016-12)",
         "orientation": "v",
         "showlegend": true,
         "textposition": "auto",
         "type": "bar",
         "x": [
          2012,
          2013,
          2014,
          2015
         ],
         "xaxis": "x",
         "y": [
          21522,
          92309,
          642,
          19800
         ],
         "yaxis": "y"
        },
        {
         "alignmentgroup": "True",
         "hovertemplate": "Commodity=0306.22.10 - lobsters, (homarus spp), live (terminated 2016-12)<br>Year=%{x}<br>Value_$=%{y}<extra></extra>",
         "legendgroup": "0306.22.10 - lobsters, (homarus spp), live (terminated 2016-12)",
         "marker": {
          "color": "#FECB52",
          "pattern": {
           "shape": ""
          }
         },
         "name": "0306.22.10 - lobsters, (homarus spp), live (terminated 2016-12)",
         "offsetgroup": "0306.22.10 - lobsters, (homarus spp), live (terminated 2016-12)",
         "orientation": "v",
         "showlegend": true,
         "textposition": "auto",
         "type": "bar",
         "x": [
          1988,
          1989,
          1990,
          1991,
          1992,
          1993,
          1994,
          1995,
          1996,
          1997,
          1998,
          1999,
          2000,
          2001,
          2002,
          2003,
          2004,
          2005,
          2006,
          2007,
          2008,
          2009,
          2010,
          2011
         ],
         "xaxis": "x",
         "y": [
          193200821,
          166783301,
          180078405,
          192947299,
          212450196,
          210543373,
          250204776,
          286465312,
          309208687,
          293230496,
          324811699,
          372291788,
          418763506,
          463191442,
          514052377,
          523362934,
          481675806,
          460805523,
          413252233,
          422915154,
          369097512,
          378386938,
          345539816,
          386191475
         ],
         "yaxis": "y"
        },
        {
         "alignmentgroup": "True",
         "hovertemplate": "Commodity=0306.22.10 - lobsters, live (terminated 2016-12)<br>Year=%{x}<br>Value_$=%{y}<extra></extra>",
         "legendgroup": "0306.22.10 - lobsters, live (terminated 2016-12)",
         "marker": {
          "color": "#636efa",
          "pattern": {
           "shape": ""
          }
         },
         "name": "0306.22.10 - lobsters, live (terminated 2016-12)",
         "offsetgroup": "0306.22.10 - lobsters, live (terminated 2016-12)",
         "orientation": "v",
         "showlegend": true,
         "textposition": "auto",
         "type": "bar",
         "x": [
          2012,
          2013,
          2014,
          2015,
          2016
         ],
         "xaxis": "x",
         "y": [
          402349190,
          460971859,
          599557496,
          855531199,
          838216230
         ],
         "yaxis": "y"
        },
        {
         "alignmentgroup": "True",
         "hovertemplate": "Commodity=0306.22.90 - lobsters, not frozen, other than live (terminated 2016-12)<br>Year=%{x}<br>Value_$=%{y}<extra></extra>",
         "legendgroup": "0306.22.90 - lobsters, not frozen, other than live (terminated 2016-12)",
         "marker": {
          "color": "#EF553B",
          "pattern": {
           "shape": ""
          }
         },
         "name": "0306.22.90 - lobsters, not frozen, other than live (terminated 2016-12)",
         "offsetgroup": "0306.22.90 - lobsters, not frozen, other than live (terminated 2016-12)",
         "orientation": "v",
         "showlegend": true,
         "textposition": "auto",
         "type": "bar",
         "x": [
          2012,
          2013,
          2014,
          2015,
          2016
         ],
         "xaxis": "x",
         "y": [
          759061,
          1084784,
          541090,
          6308816,
          1137709
         ],
         "yaxis": "y"
        },
        {
         "alignmentgroup": "True",
         "hovertemplate": "Commodity=0306.22.90 - lobsters,(homarus spp), not frozen,exc live, in shell, including boiled in shell (terminated 2016-12)<br>Year=%{x}<br>Value_$=%{y}<extra></extra>",
         "legendgroup": "0306.22.90 - lobsters,(homarus spp), not frozen,exc live, in shell, including boiled in shell (terminated 2016-12)",
         "marker": {
          "color": "#00cc96",
          "pattern": {
           "shape": ""
          }
         },
         "name": "0306.22.90 - lobsters,(homarus spp), not frozen,exc live, in shell, including boiled in shell (terminated 2016-12)",
         "offsetgroup": "0306.22.90 - lobsters,(homarus spp), not frozen,exc live, in shell, including boiled in shell (terminated 2016-12)",
         "orientation": "v",
         "showlegend": true,
         "textposition": "auto",
         "type": "bar",
         "x": [
          1988,
          1989,
          1990,
          1991,
          1992,
          1993,
          1994,
          1995,
          1996,
          1997,
          1998,
          1999,
          2000,
          2001,
          2002,
          2003,
          2004,
          2005,
          2006,
          2007,
          2008,
          2009,
          2010,
          2011
         ],
         "xaxis": "x",
         "y": [
          4807016,
          3092892,
          5658331,
          3893786,
          640460,
          860657,
          1953729,
          1920348,
          1209852,
          4239822,
          338607,
          349551,
          802834,
          355877,
          1056538,
          1241107,
          1191111,
          1172879,
          2064527,
          1047582,
          1192868,
          1308798,
          1487920,
          1517076
         ],
         "yaxis": "y"
        },
        {
         "alignmentgroup": "True",
         "hovertemplate": "Commodity=0306.31.00 - rock lobster and other sea crawfish, live, fresh or chilled<br>Year=%{x}<br>Value_$=%{y}<extra></extra>",
         "legendgroup": "0306.31.00 - rock lobster and other sea crawfish, live, fresh or chilled",
         "marker": {
          "color": "#ab63fa",
          "pattern": {
           "shape": ""
          }
         },
         "name": "0306.31.00 - rock lobster and other sea crawfish, live, fresh or chilled",
         "offsetgroup": "0306.31.00 - rock lobster and other sea crawfish, live, fresh or chilled",
         "orientation": "v",
         "showlegend": true,
         "textposition": "auto",
         "type": "bar",
         "x": [
          2017,
          2018,
          2019,
          2020,
          2021
         ],
         "xaxis": "x",
         "y": [
          35586,
          120524,
          76315,
          27648,
          218466
         ],
         "yaxis": "y"
        },
        {
         "alignmentgroup": "True",
         "hovertemplate": "Commodity=0306.32.10 - lobsters, live<br>Year=%{x}<br>Value_$=%{y}<extra></extra>",
         "legendgroup": "0306.32.10 - lobsters, live",
         "marker": {
          "color": "#FFA15A",
          "pattern": {
           "shape": ""
          }
         },
         "name": "0306.32.10 - lobsters, live",
         "offsetgroup": "0306.32.10 - lobsters, live",
         "orientation": "v",
         "showlegend": true,
         "textposition": "auto",
         "type": "bar",
         "x": [
          2017,
          2018,
          2019,
          2020,
          2021,
          2022,
          2023
         ],
         "xaxis": "x",
         "y": [
          905541209,
          977471113,
          1163910794,
          982283349,
          1235449385,
          1243232779,
          973577321
         ],
         "yaxis": "y"
        },
        {
         "alignmentgroup": "True",
         "hovertemplate": "Commodity=0306.32.90 - lobsters, fresh or chilled, o/t live<br>Year=%{x}<br>Value_$=%{y}<extra></extra>",
         "legendgroup": "0306.32.90 - lobsters, fresh or chilled, o/t live",
         "marker": {
          "color": "#19d3f3",
          "pattern": {
           "shape": ""
          }
         },
         "name": "0306.32.90 - lobsters, fresh or chilled, o/t live",
         "offsetgroup": "0306.32.90 - lobsters, fresh or chilled, o/t live",
         "orientation": "v",
         "showlegend": true,
         "textposition": "auto",
         "type": "bar",
         "x": [
          2017,
          2018,
          2019,
          2020,
          2021,
          2022,
          2023
         ],
         "xaxis": "x",
         "y": [
          2977020,
          2285207,
          962152,
          1755820,
          3228393,
          10063731,
          5554206
         ],
         "yaxis": "y"
        },
        {
         "alignmentgroup": "True",
         "hovertemplate": "Commodity=0306.34.00 - norway lobsters, live, fresh or chilled<br>Year=%{x}<br>Value_$=%{y}<extra></extra>",
         "legendgroup": "0306.34.00 - norway lobsters, live, fresh or chilled",
         "marker": {
          "color": "#FF6692",
          "pattern": {
           "shape": ""
          }
         },
         "name": "0306.34.00 - norway lobsters, live, fresh or chilled",
         "offsetgroup": "0306.34.00 - norway lobsters, live, fresh or chilled",
         "orientation": "v",
         "showlegend": true,
         "textposition": "auto",
         "type": "bar",
         "x": [
          2017,
          2020
         ],
         "xaxis": "x",
         "y": [
          17309,
          15508
         ],
         "yaxis": "y"
        },
        {
         "alignmentgroup": "True",
         "hovertemplate": "Commodity=0306.91.00 - rock lobster & other sea crawfish,dried/salted/brine/smoked/cooked,w/n in shell<br>Year=%{x}<br>Value_$=%{y}<extra></extra>",
         "legendgroup": "0306.91.00 - rock lobster & other sea crawfish,dried/salted/brine/smoked/cooked,w/n in shell",
         "marker": {
          "color": "#B6E880",
          "pattern": {
           "shape": ""
          }
         },
         "name": "0306.91.00 - rock lobster & other sea crawfish,dried/salted/brine/smoked/cooked,w/n in shell",
         "offsetgroup": "0306.91.00 - rock lobster & other sea crawfish,dried/salted/brine/smoked/cooked,w/n in shell",
         "orientation": "v",
         "showlegend": true,
         "textposition": "auto",
         "type": "bar",
         "x": [
          2017,
          2020,
          2023
         ],
         "xaxis": "x",
         "y": [
          975232,
          399139,
          1903562
         ],
         "yaxis": "y"
        },
        {
         "alignmentgroup": "True",
         "hovertemplate": "Commodity=0306.92.00 - lobsters, nes, dried/salted/in brine/smoked/cooked, w/n in shell<br>Year=%{x}<br>Value_$=%{y}<extra></extra>",
         "legendgroup": "0306.92.00 - lobsters, nes, dried/salted/in brine/smoked/cooked, w/n in shell",
         "marker": {
          "color": "#FF97FF",
          "pattern": {
           "shape": ""
          }
         },
         "name": "0306.92.00 - lobsters, nes, dried/salted/in brine/smoked/cooked, w/n in shell",
         "offsetgroup": "0306.92.00 - lobsters, nes, dried/salted/in brine/smoked/cooked, w/n in shell",
         "orientation": "v",
         "showlegend": true,
         "textposition": "auto",
         "type": "bar",
         "x": [
          2017,
          2018,
          2019,
          2020,
          2021,
          2022
         ],
         "xaxis": "x",
         "y": [
          3001642,
          719490,
          397830,
          408705,
          8130,
          29474
         ],
         "yaxis": "y"
        },
        {
         "alignmentgroup": "True",
         "hovertemplate": "Commodity=1605.30.10 - lobster, prepared or preserved, frozen<br>Year=%{x}<br>Value_$=%{y}<extra></extra>",
         "legendgroup": "1605.30.10 - lobster, prepared or preserved, frozen",
         "marker": {
          "color": "#FECB52",
          "pattern": {
           "shape": ""
          }
         },
         "name": "1605.30.10 - lobster, prepared or preserved, frozen",
         "offsetgroup": "1605.30.10 - lobster, prepared or preserved, frozen",
         "orientation": "v",
         "showlegend": true,
         "textposition": "auto",
         "type": "bar",
         "x": [
          2017,
          2018,
          2019,
          2020,
          2021,
          2022,
          2023
         ],
         "xaxis": "x",
         "y": [
          363731288,
          314850491,
          338899039,
          299194125,
          646073219,
          429926076,
          338386803
         ],
         "yaxis": "y"
        },
        {
         "alignmentgroup": "True",
         "hovertemplate": "Commodity=1605.30.11 - lobster meat, frozen, cooked by steaming or boiling in water (terminated 2016-12)<br>Year=%{x}<br>Value_$=%{y}<extra></extra>",
         "legendgroup": "1605.30.11 - lobster meat, frozen, cooked by steaming or boiling in water (terminated 2016-12)",
         "marker": {
          "color": "#636efa",
          "pattern": {
           "shape": ""
          }
         },
         "name": "1605.30.11 - lobster meat, frozen, cooked by steaming or boiling in water (terminated 2016-12)",
         "offsetgroup": "1605.30.11 - lobster meat, frozen, cooked by steaming or boiling in water (terminated 2016-12)",
         "orientation": "v",
         "showlegend": true,
         "textposition": "auto",
         "type": "bar",
         "x": [
          2012,
          2013,
          2014,
          2015,
          2016
         ],
         "xaxis": "x",
         "y": [
          199057252,
          193961396,
          237195680,
          329412839,
          414571537
         ],
         "yaxis": "y"
        },
        {
         "alignmentgroup": "True",
         "hovertemplate": "Commodity=1605.30.11 - lobster meat, frozen, simply boiled in water (terminated 2016-12)<br>Year=%{x}<br>Value_$=%{y}<extra></extra>",
         "legendgroup": "1605.30.11 - lobster meat, frozen, simply boiled in water (terminated 2016-12)",
         "marker": {
          "color": "#EF553B",
          "pattern": {
           "shape": ""
          }
         },
         "name": "1605.30.11 - lobster meat, frozen, simply boiled in water (terminated 2016-12)",
         "offsetgroup": "1605.30.11 - lobster meat, frozen, simply boiled in water (terminated 2016-12)",
         "orientation": "v",
         "showlegend": true,
         "textposition": "auto",
         "type": "bar",
         "x": [
          1988,
          1989,
          1990,
          1991,
          1992,
          1993,
          1994,
          1995,
          1996,
          1997,
          1998,
          1999,
          2000,
          2001,
          2002,
          2003,
          2004,
          2005,
          2006,
          2007,
          2008,
          2009,
          2010,
          2011
         ],
         "xaxis": "x",
         "y": [
          46726679,
          69731598,
          11230250,
          40883409,
          57101416,
          43931758,
          67847134,
          65267963,
          69878608,
          94414791,
          99433060,
          129890501,
          161530541,
          150120527,
          160955005,
          146858019,
          151029239,
          166299755,
          161380023,
          111275304,
          146948261,
          106079575,
          154631363,
          167983503
         ],
         "yaxis": "y"
        },
        {
         "alignmentgroup": "True",
         "hovertemplate": "Commodity=1605.30.12 - lobster meat, not frozen, simply boiled in water (terminated 1989-12)<br>Year=%{x}<br>Value_$=%{y}<extra></extra>",
         "legendgroup": "1605.30.12 - lobster meat, not frozen, simply boiled in water (terminated 1989-12)",
         "marker": {
          "color": "#00cc96",
          "pattern": {
           "shape": ""
          }
         },
         "name": "1605.30.12 - lobster meat, not frozen, simply boiled in water (terminated 1989-12)",
         "offsetgroup": "1605.30.12 - lobster meat, not frozen, simply boiled in water (terminated 1989-12)",
         "orientation": "v",
         "showlegend": true,
         "textposition": "auto",
         "type": "bar",
         "x": [
          1988,
          1989
         ],
         "xaxis": "x",
         "y": [
          6014880,
          2037008
         ],
         "yaxis": "y"
        },
        {
         "alignmentgroup": "True",
         "hovertemplate": "Commodity=1605.30.19 - lobster meat, not frozen, simply boiled in water (terminated 2016-12)<br>Year=%{x}<br>Value_$=%{y}<extra></extra>",
         "legendgroup": "1605.30.19 - lobster meat, not frozen, simply boiled in water (terminated 2016-12)",
         "marker": {
          "color": "#ab63fa",
          "pattern": {
           "shape": ""
          }
         },
         "name": "1605.30.19 - lobster meat, not frozen, simply boiled in water (terminated 2016-12)",
         "offsetgroup": "1605.30.19 - lobster meat, not frozen, simply boiled in water (terminated 2016-12)",
         "orientation": "v",
         "showlegend": true,
         "textposition": "auto",
         "type": "bar",
         "x": [
          1990,
          1991,
          1992,
          1993,
          1994,
          1995,
          1996,
          1997,
          1998,
          1999,
          2000,
          2001,
          2002,
          2003,
          2004,
          2005,
          2006,
          2007,
          2008,
          2009,
          2010,
          2011
         ],
         "xaxis": "x",
         "y": [
          824955,
          765129,
          1736299,
          346824,
          698442,
          856876,
          1837491,
          3196957,
          3991908,
          792182,
          429267,
          420853,
          726861,
          1024036,
          1663833,
          4667178,
          5425988,
          5092083,
          4814362,
          4761174,
          4254162,
          5513697
         ],
         "yaxis": "y"
        },
        {
         "alignmentgroup": "True",
         "hovertemplate": "Commodity=1605.30.19 - lobster meat, o/t frozen, cooked by steaming or boiling in water (terminated 2016-12)<br>Year=%{x}<br>Value_$=%{y}<extra></extra>",
         "legendgroup": "1605.30.19 - lobster meat, o/t frozen, cooked by steaming or boiling in water (terminated 2016-12)",
         "marker": {
          "color": "#FFA15A",
          "pattern": {
           "shape": ""
          }
         },
         "name": "1605.30.19 - lobster meat, o/t frozen, cooked by steaming or boiling in water (terminated 2016-12)",
         "offsetgroup": "1605.30.19 - lobster meat, o/t frozen, cooked by steaming or boiling in water (terminated 2016-12)",
         "orientation": "v",
         "showlegend": true,
         "textposition": "auto",
         "type": "bar",
         "x": [
          2012,
          2013,
          2014,
          2015,
          2016
         ],
         "xaxis": "x",
         "y": [
          9790072,
          8113231,
          8885819,
          10138230,
          11717494
         ],
         "yaxis": "y"
        },
        {
         "alignmentgroup": "True",
         "hovertemplate": "Commodity=1605.30.20 - lobster, prepared or preserved, in cans, o/t frozen<br>Year=%{x}<br>Value_$=%{y}<extra></extra>",
         "legendgroup": "1605.30.20 - lobster, prepared or preserved, in cans, o/t frozen",
         "marker": {
          "color": "#19d3f3",
          "pattern": {
           "shape": ""
          }
         },
         "name": "1605.30.20 - lobster, prepared or preserved, in cans, o/t frozen",
         "offsetgroup": "1605.30.20 - lobster, prepared or preserved, in cans, o/t frozen",
         "orientation": "v",
         "showlegend": true,
         "textposition": "auto",
         "type": "bar",
         "x": [
          2017,
          2018,
          2019,
          2020,
          2021,
          2022,
          2023
         ],
         "xaxis": "x",
         "y": [
          5015584,
          1407402,
          1851176,
          670296,
          9700391,
          4911351,
          985741
         ],
         "yaxis": "y"
        },
        {
         "alignmentgroup": "True",
         "hovertemplate": "Commodity=1605.30.90 - lobster, prepared or preserved, nes<br>Year=%{x}<br>Value_$=%{y}<extra></extra>",
         "legendgroup": "1605.30.90 - lobster, prepared or preserved, nes",
         "marker": {
          "color": "#FF6692",
          "pattern": {
           "shape": ""
          }
         },
         "name": "1605.30.90 - lobster, prepared or preserved, nes",
         "offsetgroup": "1605.30.90 - lobster, prepared or preserved, nes",
         "orientation": "v",
         "showlegend": true,
         "textposition": "auto",
         "type": "bar",
         "x": [
          2017,
          2018,
          2019,
          2020,
          2021,
          2022,
          2023
         ],
         "xaxis": "x",
         "y": [
          14581315,
          13116654,
          17297791,
          12644685,
          11136487,
          17964220,
          22687454
         ],
         "yaxis": "y"
        },
        {
         "alignmentgroup": "True",
         "hovertemplate": "Commodity=1605.30.91 - lobster, prepared or preserved, in airtight containers (terminated 2016-12)<br>Year=%{x}<br>Value_$=%{y}<extra></extra>",
         "legendgroup": "1605.30.91 - lobster, prepared or preserved, in airtight containers (terminated 2016-12)",
         "marker": {
          "color": "#B6E880",
          "pattern": {
           "shape": ""
          }
         },
         "name": "1605.30.91 - lobster, prepared or preserved, in airtight containers (terminated 2016-12)",
         "offsetgroup": "1605.30.91 - lobster, prepared or preserved, in airtight containers (terminated 2016-12)",
         "orientation": "v",
         "showlegend": true,
         "textposition": "auto",
         "type": "bar",
         "x": [
          1988,
          1989,
          1990,
          1991,
          1992,
          1993,
          1994,
          1995,
          1996,
          1997,
          1998,
          1999,
          2000,
          2001,
          2002,
          2003,
          2004,
          2005,
          2006,
          2007,
          2008,
          2009,
          2010,
          2011,
          2012,
          2013,
          2014,
          2015,
          2016
         ],
         "xaxis": "x",
         "y": [
          18385692,
          718543,
          1344463,
          14049185,
          8462077,
          8805730,
          3496368,
          14307104,
          10103847,
          3003990,
          3075698,
          875525,
          1276436,
          1500986,
          1777552,
          1654356,
          3927239,
          6153880,
          3088856,
          5506055,
          2592537,
          848217,
          1458729,
          477378,
          1776187,
          2985768,
          970612,
          2742110,
          5430164
         ],
         "yaxis": "y"
        },
        {
         "alignmentgroup": "True",
         "hovertemplate": "Commodity=1605.30.92 - lobster, prepared or preserved, not in airtight containers (terminated 1989-12)<br>Year=%{x}<br>Value_$=%{y}<extra></extra>",
         "legendgroup": "1605.30.92 - lobster, prepared or preserved, not in airtight containers (terminated 1989-12)",
         "marker": {
          "color": "#FF97FF",
          "pattern": {
           "shape": ""
          }
         },
         "name": "1605.30.92 - lobster, prepared or preserved, not in airtight containers (terminated 1989-12)",
         "offsetgroup": "1605.30.92 - lobster, prepared or preserved, not in airtight containers (terminated 1989-12)",
         "orientation": "v",
         "showlegend": true,
         "textposition": "auto",
         "type": "bar",
         "x": [
          1988,
          1989
         ],
         "xaxis": "x",
         "y": [
          2806533,
          355822
         ],
         "yaxis": "y"
        },
        {
         "alignmentgroup": "True",
         "hovertemplate": "Commodity=1605.30.99 - lobster, prepared or preserved, not in airtight containers (terminated 2016-12)<br>Year=%{x}<br>Value_$=%{y}<extra></extra>",
         "legendgroup": "1605.30.99 - lobster, prepared or preserved, not in airtight containers (terminated 2016-12)",
         "marker": {
          "color": "#FECB52",
          "pattern": {
           "shape": ""
          }
         },
         "name": "1605.30.99 - lobster, prepared or preserved, not in airtight containers (terminated 2016-12)",
         "offsetgroup": "1605.30.99 - lobster, prepared or preserved, not in airtight containers (terminated 2016-12)",
         "orientation": "v",
         "showlegend": true,
         "textposition": "auto",
         "type": "bar",
         "x": [
          1990,
          1991,
          1992,
          1993,
          1994,
          1995,
          1996,
          1997,
          1998,
          1999,
          2000,
          2001,
          2002,
          2003,
          2004,
          2005,
          2006,
          2007,
          2008,
          2009,
          2010,
          2011
         ],
         "xaxis": "x",
         "y": [
          579091,
          1394863,
          475628,
          1136974,
          1642479,
          2215906,
          3967037,
          3033306,
          4921721,
          5526471,
          5423680,
          4654025,
          1781263,
          1365440,
          1709198,
          4318988,
          4090582,
          3426490,
          4475730,
          1919594,
          5466617,
          3727665
         ],
         "yaxis": "y"
        },
        {
         "alignmentgroup": "True",
         "hovertemplate": "Commodity=1605.30.99 - lobster, prepared or preserved, o/t in airtight containers (terminated 2016-12)<br>Year=%{x}<br>Value_$=%{y}<extra></extra>",
         "legendgroup": "1605.30.99 - lobster, prepared or preserved, o/t in airtight containers (terminated 2016-12)",
         "marker": {
          "color": "#636efa",
          "pattern": {
           "shape": ""
          }
         },
         "name": "1605.30.99 - lobster, prepared or preserved, o/t in airtight containers (terminated 2016-12)",
         "offsetgroup": "1605.30.99 - lobster, prepared or preserved, o/t in airtight containers (terminated 2016-12)",
         "orientation": "v",
         "showlegend": true,
         "textposition": "auto",
         "type": "bar",
         "x": [
          2012,
          2013,
          2014,
          2015,
          2016
         ],
         "xaxis": "x",
         "y": [
          3821464,
          3728414,
          3916409,
          8495287,
          9303282
         ],
         "yaxis": "y"
        }
       ],
       "layout": {
        "autosize": true,
        "barmode": "relative",
        "legend": {
         "title": {
          "text": "Commodity"
         },
         "tracegroupgap": 0
        },
        "template": {
         "data": {
          "bar": [
           {
            "error_x": {
             "color": "#2a3f5f"
            },
            "error_y": {
             "color": "#2a3f5f"
            },
            "marker": {
             "line": {
              "color": "#E5ECF6",
              "width": 0.5
             },
             "pattern": {
              "fillmode": "overlay",
              "size": 10,
              "solidity": 0.2
             }
            },
            "type": "bar"
           }
          ],
          "barpolar": [
           {
            "marker": {
             "line": {
              "color": "#E5ECF6",
              "width": 0.5
             },
             "pattern": {
              "fillmode": "overlay",
              "size": 10,
              "solidity": 0.2
             }
            },
            "type": "barpolar"
           }
          ],
          "carpet": [
           {
            "aaxis": {
             "endlinecolor": "#2a3f5f",
             "gridcolor": "white",
             "linecolor": "white",
             "minorgridcolor": "white",
             "startlinecolor": "#2a3f5f"
            },
            "baxis": {
             "endlinecolor": "#2a3f5f",
             "gridcolor": "white",
             "linecolor": "white",
             "minorgridcolor": "white",
             "startlinecolor": "#2a3f5f"
            },
            "type": "carpet"
           }
          ],
          "choropleth": [
           {
            "colorbar": {
             "outlinewidth": 0,
             "ticks": ""
            },
            "type": "choropleth"
           }
          ],
          "contour": [
           {
            "colorbar": {
             "outlinewidth": 0,
             "ticks": ""
            },
            "colorscale": [
             [
              0,
              "#0d0887"
             ],
             [
              0.1111111111111111,
              "#46039f"
             ],
             [
              0.2222222222222222,
              "#7201a8"
             ],
             [
              0.3333333333333333,
              "#9c179e"
             ],
             [
              0.4444444444444444,
              "#bd3786"
             ],
             [
              0.5555555555555556,
              "#d8576b"
             ],
             [
              0.6666666666666666,
              "#ed7953"
             ],
             [
              0.7777777777777778,
              "#fb9f3a"
             ],
             [
              0.8888888888888888,
              "#fdca26"
             ],
             [
              1,
              "#f0f921"
             ]
            ],
            "type": "contour"
           }
          ],
          "contourcarpet": [
           {
            "colorbar": {
             "outlinewidth": 0,
             "ticks": ""
            },
            "type": "contourcarpet"
           }
          ],
          "heatmap": [
           {
            "colorbar": {
             "outlinewidth": 0,
             "ticks": ""
            },
            "colorscale": [
             [
              0,
              "#0d0887"
             ],
             [
              0.1111111111111111,
              "#46039f"
             ],
             [
              0.2222222222222222,
              "#7201a8"
             ],
             [
              0.3333333333333333,
              "#9c179e"
             ],
             [
              0.4444444444444444,
              "#bd3786"
             ],
             [
              0.5555555555555556,
              "#d8576b"
             ],
             [
              0.6666666666666666,
              "#ed7953"
             ],
             [
              0.7777777777777778,
              "#fb9f3a"
             ],
             [
              0.8888888888888888,
              "#fdca26"
             ],
             [
              1,
              "#f0f921"
             ]
            ],
            "type": "heatmap"
           }
          ],
          "heatmapgl": [
           {
            "colorbar": {
             "outlinewidth": 0,
             "ticks": ""
            },
            "colorscale": [
             [
              0,
              "#0d0887"
             ],
             [
              0.1111111111111111,
              "#46039f"
             ],
             [
              0.2222222222222222,
              "#7201a8"
             ],
             [
              0.3333333333333333,
              "#9c179e"
             ],
             [
              0.4444444444444444,
              "#bd3786"
             ],
             [
              0.5555555555555556,
              "#d8576b"
             ],
             [
              0.6666666666666666,
              "#ed7953"
             ],
             [
              0.7777777777777778,
              "#fb9f3a"
             ],
             [
              0.8888888888888888,
              "#fdca26"
             ],
             [
              1,
              "#f0f921"
             ]
            ],
            "type": "heatmapgl"
           }
          ],
          "histogram": [
           {
            "marker": {
             "pattern": {
              "fillmode": "overlay",
              "size": 10,
              "solidity": 0.2
             }
            },
            "type": "histogram"
           }
          ],
          "histogram2d": [
           {
            "colorbar": {
             "outlinewidth": 0,
             "ticks": ""
            },
            "colorscale": [
             [
              0,
              "#0d0887"
             ],
             [
              0.1111111111111111,
              "#46039f"
             ],
             [
              0.2222222222222222,
              "#7201a8"
             ],
             [
              0.3333333333333333,
              "#9c179e"
             ],
             [
              0.4444444444444444,
              "#bd3786"
             ],
             [
              0.5555555555555556,
              "#d8576b"
             ],
             [
              0.6666666666666666,
              "#ed7953"
             ],
             [
              0.7777777777777778,
              "#fb9f3a"
             ],
             [
              0.8888888888888888,
              "#fdca26"
             ],
             [
              1,
              "#f0f921"
             ]
            ],
            "type": "histogram2d"
           }
          ],
          "histogram2dcontour": [
           {
            "colorbar": {
             "outlinewidth": 0,
             "ticks": ""
            },
            "colorscale": [
             [
              0,
              "#0d0887"
             ],
             [
              0.1111111111111111,
              "#46039f"
             ],
             [
              0.2222222222222222,
              "#7201a8"
             ],
             [
              0.3333333333333333,
              "#9c179e"
             ],
             [
              0.4444444444444444,
              "#bd3786"
             ],
             [
              0.5555555555555556,
              "#d8576b"
             ],
             [
              0.6666666666666666,
              "#ed7953"
             ],
             [
              0.7777777777777778,
              "#fb9f3a"
             ],
             [
              0.8888888888888888,
              "#fdca26"
             ],
             [
              1,
              "#f0f921"
             ]
            ],
            "type": "histogram2dcontour"
           }
          ],
          "mesh3d": [
           {
            "colorbar": {
             "outlinewidth": 0,
             "ticks": ""
            },
            "type": "mesh3d"
           }
          ],
          "parcoords": [
           {
            "line": {
             "colorbar": {
              "outlinewidth": 0,
              "ticks": ""
             }
            },
            "type": "parcoords"
           }
          ],
          "pie": [
           {
            "automargin": true,
            "type": "pie"
           }
          ],
          "scatter": [
           {
            "fillpattern": {
             "fillmode": "overlay",
             "size": 10,
             "solidity": 0.2
            },
            "type": "scatter"
           }
          ],
          "scatter3d": [
           {
            "line": {
             "colorbar": {
              "outlinewidth": 0,
              "ticks": ""
             }
            },
            "marker": {
             "colorbar": {
              "outlinewidth": 0,
              "ticks": ""
             }
            },
            "type": "scatter3d"
           }
          ],
          "scattercarpet": [
           {
            "marker": {
             "colorbar": {
              "outlinewidth": 0,
              "ticks": ""
             }
            },
            "type": "scattercarpet"
           }
          ],
          "scattergeo": [
           {
            "marker": {
             "colorbar": {
              "outlinewidth": 0,
              "ticks": ""
             }
            },
            "type": "scattergeo"
           }
          ],
          "scattergl": [
           {
            "marker": {
             "colorbar": {
              "outlinewidth": 0,
              "ticks": ""
             }
            },
            "type": "scattergl"
           }
          ],
          "scattermapbox": [
           {
            "marker": {
             "colorbar": {
              "outlinewidth": 0,
              "ticks": ""
             }
            },
            "type": "scattermapbox"
           }
          ],
          "scatterpolar": [
           {
            "marker": {
             "colorbar": {
              "outlinewidth": 0,
              "ticks": ""
             }
            },
            "type": "scatterpolar"
           }
          ],
          "scatterpolargl": [
           {
            "marker": {
             "colorbar": {
              "outlinewidth": 0,
              "ticks": ""
             }
            },
            "type": "scatterpolargl"
           }
          ],
          "scatterternary": [
           {
            "marker": {
             "colorbar": {
              "outlinewidth": 0,
              "ticks": ""
             }
            },
            "type": "scatterternary"
           }
          ],
          "surface": [
           {
            "colorbar": {
             "outlinewidth": 0,
             "ticks": ""
            },
            "colorscale": [
             [
              0,
              "#0d0887"
             ],
             [
              0.1111111111111111,
              "#46039f"
             ],
             [
              0.2222222222222222,
              "#7201a8"
             ],
             [
              0.3333333333333333,
              "#9c179e"
             ],
             [
              0.4444444444444444,
              "#bd3786"
             ],
             [
              0.5555555555555556,
              "#d8576b"
             ],
             [
              0.6666666666666666,
              "#ed7953"
             ],
             [
              0.7777777777777778,
              "#fb9f3a"
             ],
             [
              0.8888888888888888,
              "#fdca26"
             ],
             [
              1,
              "#f0f921"
             ]
            ],
            "type": "surface"
           }
          ],
          "table": [
           {
            "cells": {
             "fill": {
              "color": "#EBF0F8"
             },
             "line": {
              "color": "white"
             }
            },
            "header": {
             "fill": {
              "color": "#C8D4E3"
             },
             "line": {
              "color": "white"
             }
            },
            "type": "table"
           }
          ]
         },
         "layout": {
          "annotationdefaults": {
           "arrowcolor": "#2a3f5f",
           "arrowhead": 0,
           "arrowwidth": 1
          },
          "autotypenumbers": "strict",
          "coloraxis": {
           "colorbar": {
            "outlinewidth": 0,
            "ticks": ""
           }
          },
          "colorscale": {
           "diverging": [
            [
             0,
             "#8e0152"
            ],
            [
             0.1,
             "#c51b7d"
            ],
            [
             0.2,
             "#de77ae"
            ],
            [
             0.3,
             "#f1b6da"
            ],
            [
             0.4,
             "#fde0ef"
            ],
            [
             0.5,
             "#f7f7f7"
            ],
            [
             0.6,
             "#e6f5d0"
            ],
            [
             0.7,
             "#b8e186"
            ],
            [
             0.8,
             "#7fbc41"
            ],
            [
             0.9,
             "#4d9221"
            ],
            [
             1,
             "#276419"
            ]
           ],
           "sequential": [
            [
             0,
             "#0d0887"
            ],
            [
             0.1111111111111111,
             "#46039f"
            ],
            [
             0.2222222222222222,
             "#7201a8"
            ],
            [
             0.3333333333333333,
             "#9c179e"
            ],
            [
             0.4444444444444444,
             "#bd3786"
            ],
            [
             0.5555555555555556,
             "#d8576b"
            ],
            [
             0.6666666666666666,
             "#ed7953"
            ],
            [
             0.7777777777777778,
             "#fb9f3a"
            ],
            [
             0.8888888888888888,
             "#fdca26"
            ],
            [
             1,
             "#f0f921"
            ]
           ],
           "sequentialminus": [
            [
             0,
             "#0d0887"
            ],
            [
             0.1111111111111111,
             "#46039f"
            ],
            [
             0.2222222222222222,
             "#7201a8"
            ],
            [
             0.3333333333333333,
             "#9c179e"
            ],
            [
             0.4444444444444444,
             "#bd3786"
            ],
            [
             0.5555555555555556,
             "#d8576b"
            ],
            [
             0.6666666666666666,
             "#ed7953"
            ],
            [
             0.7777777777777778,
             "#fb9f3a"
            ],
            [
             0.8888888888888888,
             "#fdca26"
            ],
            [
             1,
             "#f0f921"
            ]
           ]
          },
          "colorway": [
           "#636efa",
           "#EF553B",
           "#00cc96",
           "#ab63fa",
           "#FFA15A",
           "#19d3f3",
           "#FF6692",
           "#B6E880",
           "#FF97FF",
           "#FECB52"
          ],
          "font": {
           "color": "#2a3f5f"
          },
          "geo": {
           "bgcolor": "white",
           "lakecolor": "white",
           "landcolor": "#E5ECF6",
           "showlakes": true,
           "showland": true,
           "subunitcolor": "white"
          },
          "hoverlabel": {
           "align": "left"
          },
          "hovermode": "closest",
          "mapbox": {
           "style": "light"
          },
          "paper_bgcolor": "white",
          "plot_bgcolor": "#E5ECF6",
          "polar": {
           "angularaxis": {
            "gridcolor": "white",
            "linecolor": "white",
            "ticks": ""
           },
           "bgcolor": "#E5ECF6",
           "radialaxis": {
            "gridcolor": "white",
            "linecolor": "white",
            "ticks": ""
           }
          },
          "scene": {
           "xaxis": {
            "backgroundcolor": "#E5ECF6",
            "gridcolor": "white",
            "gridwidth": 2,
            "linecolor": "white",
            "showbackground": true,
            "ticks": "",
            "zerolinecolor": "white"
           },
           "yaxis": {
            "backgroundcolor": "#E5ECF6",
            "gridcolor": "white",
            "gridwidth": 2,
            "linecolor": "white",
            "showbackground": true,
            "ticks": "",
            "zerolinecolor": "white"
           },
           "zaxis": {
            "backgroundcolor": "#E5ECF6",
            "gridcolor": "white",
            "gridwidth": 2,
            "linecolor": "white",
            "showbackground": true,
            "ticks": "",
            "zerolinecolor": "white"
           }
          },
          "shapedefaults": {
           "line": {
            "color": "#2a3f5f"
           }
          },
          "ternary": {
           "aaxis": {
            "gridcolor": "white",
            "linecolor": "white",
            "ticks": ""
           },
           "baxis": {
            "gridcolor": "white",
            "linecolor": "white",
            "ticks": ""
           },
           "bgcolor": "#E5ECF6",
           "caxis": {
            "gridcolor": "white",
            "linecolor": "white",
            "ticks": ""
           }
          },
          "title": {
           "x": 0.05
          },
          "xaxis": {
           "automargin": true,
           "gridcolor": "white",
           "linecolor": "white",
           "ticks": "",
           "title": {
            "standoff": 15
           },
           "zerolinecolor": "white",
           "zerolinewidth": 2
          },
          "yaxis": {
           "automargin": true,
           "gridcolor": "white",
           "linecolor": "white",
           "ticks": "",
           "title": {
            "standoff": 15
           },
           "zerolinecolor": "white",
           "zerolinewidth": 2
          }
         }
        },
        "title": {
         "text": "Total Sales by Commodity by year"
        },
        "xaxis": {
         "anchor": "y",
         "autorange": true,
         "domain": [
          0,
          1
         ],
         "range": [
          1987.5,
          2023.5
         ],
         "title": {
          "text": "Year"
         },
         "type": "linear"
        },
        "yaxis": {
         "anchor": "x",
         "autorange": true,
         "domain": [
          0,
          1
         ],
         "range": [
          0,
          3431347558.9473686
         ],
         "title": {
          "text": "Value_$"
         },
         "type": "linear"
        }
       }
      },
      "image/png": "[encoded data removed]",
      "text/html": [
       "<div>                            <div id=\"8c1b8609-8556-4f92-886f-b9d82a024fc0\" class=\"plotly-graph-div\" style=\"height:525px; width:100%;\"></div>            <script type=\"text/javascript\">                require([\"plotly\"], function(Plotly) {                    window.PLOTLYENV=window.PLOTLYENV || {};                                    if (document.getElementById(\"8c1b8609-8556-4f92-886f-b9d82a024fc0\")) {                    Plotly.newPlot(                        \"8c1b8609-8556-4f92-886f-b9d82a024fc0\",                        [{\"alignmentgroup\":\"True\",\"hovertemplate\":\"Commodity=0306.11.00 - rock lobster & o sea crawfish,frz,in shell or not,incl in shell ckd in water,etc\\u003cbr\\u003eYear=%{x}\\u003cbr\\u003eValue_$=%{y}\\u003cextra\\u003e\\u003c\\u002fextra\\u003e\",\"legendgroup\":\"0306.11.00 - rock lobster & o sea crawfish,frz,in shell or not,incl in shell ckd in water,etc\",\"marker\":{\"color\":\"#636efa\",\"pattern\":{\"shape\":\"\"}},\"name\":\"0306.11.00 - rock lobster & o sea crawfish,frz,in shell or not,incl in shell ckd in water,etc\",\"offsetgroup\":\"0306.11.00 - rock lobster & o sea crawfish,frz,in shell or not,incl in shell ckd in water,etc\",\"orientation\":\"v\",\"showlegend\":true,\"textposition\":\"auto\",\"x\":[2012,2013,2014,2015,2016,2017,2018,2019,2020,2021,2022],\"xaxis\":\"x\",\"y\":[2149954,1697035,3448411,6291135,1959146,735622,1112627,2138521,8836,73375,3125921],\"yaxis\":\"y\",\"type\":\"bar\"},{\"alignmentgroup\":\"True\",\"hovertemplate\":\"Commodity=0306.11.00 - rock lobster & other sea crawfish,frozen in shell or not, incl boiled in shell\\u003cbr\\u003eYear=%{x}\\u003cbr\\u003eValue_$=%{y}\\u003cextra\\u003e\\u003c\\u002fextra\\u003e\",\"legendgroup\":\"0306.11.00 - rock lobster & other sea crawfish,frozen in shell or not, incl boiled in shell\",\"marker\":{\"color\":\"#EF553B\",\"pattern\":{\"shape\":\"\"}},\"name\":\"0306.11.00 - rock lobster & other sea crawfish,frozen in shell or not, incl boiled in shell\",\"offsetgroup\":\"0306.11.00 - rock lobster & other sea crawfish,frozen in shell or not, incl boiled in shell\",\"orientation\":\"v\",\"showlegend\":true,\"textposition\":\"auto\",\"x\":[1988,1989,1990,1991,1992,1993,1994,1995,1996,1997,1998,1999,2000,2001,2002,2003,2004,2005,2006,2007,2008,2009,2010,2011],\"xaxis\":\"x\",\"y\":[127868,25000,144055,300365,424780,215911,471506,271556,1006438,839255,124988,515499,149536,191531,5648,516139,199814,2273723,851868,1347449,3211309,1817000,879314,925813],\"yaxis\":\"y\",\"type\":\"bar\"},{\"alignmentgroup\":\"True\",\"hovertemplate\":\"Commodity=0306.12.10 - lobsters in brine, (homarus spp), frozen, in shell, including boiled in shell\\u003cbr\\u003eYear=%{x}\\u003cbr\\u003eValue_$=%{y}\\u003cextra\\u003e\\u003c\\u002fextra\\u003e\",\"legendgroup\":\"0306.12.10 - lobsters in brine, (homarus spp), frozen, in shell, including boiled in shell\",\"marker\":{\"color\":\"#00cc96\",\"pattern\":{\"shape\":\"\"}},\"name\":\"0306.12.10 - lobsters in brine, (homarus spp), frozen, in shell, including boiled in shell\",\"offsetgroup\":\"0306.12.10 - lobsters in brine, (homarus spp), frozen, in shell, including boiled in shell\",\"orientation\":\"v\",\"showlegend\":true,\"textposition\":\"auto\",\"x\":[1988,1989,1990,1991,1992,1993,1994,1995,1996,1997,1998,1999,2000,2001,2002,2003,2004,2005,2006,2007,2008,2009,2010,2011],\"xaxis\":\"x\",\"y\":[34951422,27404286,36288472,38329865,42172464,28975138,41509580,49267801,26718488,103238147,50561401,35580301,30781324,28212441,28820290,36161533,33573075,35016774,49086633,59447648,44092993,37585920,51243524,53376251],\"yaxis\":\"y\",\"type\":\"bar\"},{\"alignmentgroup\":\"True\",\"hovertemplate\":\"Commodity=0306.12.10 - lobsters, in brine, frozen\\u003cbr\\u003eYear=%{x}\\u003cbr\\u003eValue_$=%{y}\\u003cextra\\u003e\\u003c\\u002fextra\\u003e\",\"legendgroup\":\"0306.12.10 - lobsters, in brine, frozen\",\"marker\":{\"color\":\"#ab63fa\",\"pattern\":{\"shape\":\"\"}},\"name\":\"0306.12.10 - lobsters, in brine, frozen\",\"offsetgroup\":\"0306.12.10 - lobsters, in brine, frozen\",\"orientation\":\"v\",\"showlegend\":true,\"textposition\":\"auto\",\"x\":[2012,2013,2014,2015,2016,2017,2018,2019,2020,2021,2022,2023],\"xaxis\":\"x\",\"y\":[56434863,40629504,37539674,57377692,76964160,64956316,82005200,99855051,101628407,176359431,148241314,109645069],\"yaxis\":\"y\",\"type\":\"bar\"},{\"alignmentgroup\":\"True\",\"hovertemplate\":\"Commodity=0306.12.90 - lobsters, (homarus spp), nes, frozen, in shell, including boiled in shell\\u003cbr\\u003eYear=%{x}\\u003cbr\\u003eValue_$=%{y}\\u003cextra\\u003e\\u003c\\u002fextra\\u003e\",\"legendgroup\":\"0306.12.90 - lobsters, (homarus spp), nes, frozen, in shell, including boiled in shell\",\"marker\":{\"color\":\"#FFA15A\",\"pattern\":{\"shape\":\"\"}},\"name\":\"0306.12.90 - lobsters, (homarus spp), nes, frozen, in shell, including boiled in shell\",\"offsetgroup\":\"0306.12.90 - lobsters, (homarus spp), nes, frozen, in shell, including boiled in shell\",\"orientation\":\"v\",\"showlegend\":true,\"textposition\":\"auto\",\"x\":[1988,1989,1990,1991,1992,1993,1994,1995,1996,1997,1998,1999,2000,2001,2002,2003,2004,2005,2006,2007,2008,2009,2010,2011],\"xaxis\":\"x\",\"y\":[33284346,16485997,71972154,48231924,62667251,67159605,125566758,138881596,135439946,88603391,128030096,249381821,277569154,305873855,335175472,317802220,277034350,311024419,364456859,297155984,347753671,272557775,381890767,408496449],\"yaxis\":\"y\",\"type\":\"bar\"},{\"alignmentgroup\":\"True\",\"hovertemplate\":\"Commodity=0306.12.90 - lobsters, nes, frozen\\u003cbr\\u003eYear=%{x}\\u003cbr\\u003eValue_$=%{y}\\u003cextra\\u003e\\u003c\\u002fextra\\u003e\",\"legendgroup\":\"0306.12.90 - lobsters, nes, frozen\",\"marker\":{\"color\":\"#19d3f3\",\"pattern\":{\"shape\":\"\"}},\"name\":\"0306.12.90 - lobsters, nes, frozen\",\"offsetgroup\":\"0306.12.90 - lobsters, nes, frozen\",\"orientation\":\"v\",\"showlegend\":true,\"textposition\":\"auto\",\"x\":[2012,2013,2014,2015,2016,2017,2018,2019,2020,2021,2022,2023],\"xaxis\":\"x\",\"y\":[412258032,436303862,630504955,763305426,790760886,763129933,831611135,966689621,691945919,1177532904,911950315,629306399],\"yaxis\":\"y\",\"type\":\"bar\"},{\"alignmentgroup\":\"True\",\"hovertemplate\":\"Commodity=0306.15.00 - norway lobster,frz,shell\\u002fnot,incl in shell ckd in water,etc\\u003cbr\\u003eYear=%{x}\\u003cbr\\u003eValue_$=%{y}\\u003cextra\\u003e\\u003c\\u002fextra\\u003e\",\"legendgroup\":\"0306.15.00 - norway lobster,frz,shell\\u002fnot,incl in shell ckd in water,etc\",\"marker\":{\"color\":\"#FF6692\",\"pattern\":{\"shape\":\"\"}},\"name\":\"0306.15.00 - norway lobster,frz,shell\\u002fnot,incl in shell ckd in water,etc\",\"offsetgroup\":\"0306.15.00 - norway lobster,frz,shell\\u002fnot,incl in shell ckd in water,etc\",\"orientation\":\"v\",\"showlegend\":true,\"textposition\":\"auto\",\"x\":[2014,2015,2018,2019],\"xaxis\":\"x\",\"y\":[142227,18189,547619,157284],\"yaxis\":\"y\",\"type\":\"bar\"},{\"alignmentgroup\":\"True\",\"hovertemplate\":\"Commodity=0306.21.00 - rock lobster & other sea crawfish not fz,in shell or not, incl boiled in shell (terminated 2016-12)\\u003cbr\\u003eYear=%{x}\\u003cbr\\u003eValue_$=%{y}\\u003cextra\\u003e\\u003c\\u002fextra\\u003e\",\"legendgroup\":\"0306.21.00 - rock lobster & other sea crawfish not fz,in shell or not, incl boiled in shell (terminated 2016-12)\",\"marker\":{\"color\":\"#B6E880\",\"pattern\":{\"shape\":\"\"}},\"name\":\"0306.21.00 - rock lobster & other sea crawfish not fz,in shell or not, incl boiled in shell (terminated 2016-12)\",\"offsetgroup\":\"0306.21.00 - rock lobster & other sea crawfish not fz,in shell or not, incl boiled in shell (terminated 2016-12)\",\"orientation\":\"v\",\"showlegend\":true,\"textposition\":\"auto\",\"x\":[1988,1989,1990,1991,1992,1993,1994,1995,1996,1997,1999,2000,2001,2002,2003,2004,2005,2008,2010],\"xaxis\":\"x\",\"y\":[638064,448281,94562,65040,93541,49103,263477,89883,199319,10146,126418,785675,1749301,238619,157671,70863,86488,4130,5169],\"yaxis\":\"y\",\"type\":\"bar\"},{\"alignmentgroup\":\"True\",\"hovertemplate\":\"Commodity=0306.21.00 - rock lobster&o sea crawfish,n frozen,in shell\\u002fnot,incl in shell ckd in water,etc (terminated 2016-12)\\u003cbr\\u003eYear=%{x}\\u003cbr\\u003eValue_$=%{y}\\u003cextra\\u003e\\u003c\\u002fextra\\u003e\",\"legendgroup\":\"0306.21.00 - rock lobster&o sea crawfish,n frozen,in shell\\u002fnot,incl in shell ckd in water,etc (terminated 2016-12)\",\"marker\":{\"color\":\"#FF97FF\",\"pattern\":{\"shape\":\"\"}},\"name\":\"0306.21.00 - rock lobster&o sea crawfish,n frozen,in shell\\u002fnot,incl in shell ckd in water,etc (terminated 2016-12)\",\"offsetgroup\":\"0306.21.00 - rock lobster&o sea crawfish,n frozen,in shell\\u002fnot,incl in shell ckd in water,etc (terminated 2016-12)\",\"orientation\":\"v\",\"showlegend\":true,\"textposition\":\"auto\",\"x\":[2012,2013,2014,2015],\"xaxis\":\"x\",\"y\":[21522,92309,642,19800],\"yaxis\":\"y\",\"type\":\"bar\"},{\"alignmentgroup\":\"True\",\"hovertemplate\":\"Commodity=0306.22.10 - lobsters, (homarus spp), live (terminated 2016-12)\\u003cbr\\u003eYear=%{x}\\u003cbr\\u003eValue_$=%{y}\\u003cextra\\u003e\\u003c\\u002fextra\\u003e\",\"legendgroup\":\"0306.22.10 - lobsters, (homarus spp), live (terminated 2016-12)\",\"marker\":{\"color\":\"#FECB52\",\"pattern\":{\"shape\":\"\"}},\"name\":\"0306.22.10 - lobsters, (homarus spp), live (terminated 2016-12)\",\"offsetgroup\":\"0306.22.10 - lobsters, (homarus spp), live (terminated 2016-12)\",\"orientation\":\"v\",\"showlegend\":true,\"textposition\":\"auto\",\"x\":[1988,1989,1990,1991,1992,1993,1994,1995,1996,1997,1998,1999,2000,2001,2002,2003,2004,2005,2006,2007,2008,2009,2010,2011],\"xaxis\":\"x\",\"y\":[193200821,166783301,180078405,192947299,212450196,210543373,250204776,286465312,309208687,293230496,324811699,372291788,418763506,463191442,514052377,523362934,481675806,460805523,413252233,422915154,369097512,378386938,345539816,386191475],\"yaxis\":\"y\",\"type\":\"bar\"},{\"alignmentgroup\":\"True\",\"hovertemplate\":\"Commodity=0306.22.10 - lobsters, live (terminated 2016-12)\\u003cbr\\u003eYear=%{x}\\u003cbr\\u003eValue_$=%{y}\\u003cextra\\u003e\\u003c\\u002fextra\\u003e\",\"legendgroup\":\"0306.22.10 - lobsters, live (terminated 2016-12)\",\"marker\":{\"color\":\"#636efa\",\"pattern\":{\"shape\":\"\"}},\"name\":\"0306.22.10 - lobsters, live (terminated 2016-12)\",\"offsetgroup\":\"0306.22.10 - lobsters, live (terminated 2016-12)\",\"orientation\":\"v\",\"showlegend\":true,\"textposition\":\"auto\",\"x\":[2012,2013,2014,2015,2016],\"xaxis\":\"x\",\"y\":[402349190,460971859,599557496,855531199,838216230],\"yaxis\":\"y\",\"type\":\"bar\"},{\"alignmentgroup\":\"True\",\"hovertemplate\":\"Commodity=0306.22.90 - lobsters, not frozen, other than live (terminated 2016-12)\\u003cbr\\u003eYear=%{x}\\u003cbr\\u003eValue_$=%{y}\\u003cextra\\u003e\\u003c\\u002fextra\\u003e\",\"legendgroup\":\"0306.22.90 - lobsters, not frozen, other than live (terminated 2016-12)\",\"marker\":{\"color\":\"#EF553B\",\"pattern\":{\"shape\":\"\"}},\"name\":\"0306.22.90 - lobsters, not frozen, other than live (terminated 2016-12)\",\"offsetgroup\":\"0306.22.90 - lobsters, not frozen, other than live (terminated 2016-12)\",\"orientation\":\"v\",\"showlegend\":true,\"textposition\":\"auto\",\"x\":[2012,2013,2014,2015,2016],\"xaxis\":\"x\",\"y\":[759061,1084784,541090,6308816,1137709],\"yaxis\":\"y\",\"type\":\"bar\"},{\"alignmentgroup\":\"True\",\"hovertemplate\":\"Commodity=0306.22.90 - lobsters,(homarus spp), not frozen,exc live, in shell, including boiled in shell (terminated 2016-12)\\u003cbr\\u003eYear=%{x}\\u003cbr\\u003eValue_$=%{y}\\u003cextra\\u003e\\u003c\\u002fextra\\u003e\",\"legendgroup\":\"0306.22.90 - lobsters,(homarus spp), not frozen,exc live, in shell, including boiled in shell (terminated 2016-12)\",\"marker\":{\"color\":\"#00cc96\",\"pattern\":{\"shape\":\"\"}},\"name\":\"0306.22.90 - lobsters,(homarus spp), not frozen,exc live, in shell, including boiled in shell (terminated 2016-12)\",\"offsetgroup\":\"0306.22.90 - lobsters,(homarus spp), not frozen,exc live, in shell, including boiled in shell (terminated 2016-12)\",\"orientation\":\"v\",\"showlegend\":true,\"textposition\":\"auto\",\"x\":[1988,1989,1990,1991,1992,1993,1994,1995,1996,1997,1998,1999,2000,2001,2002,2003,2004,2005,2006,2007,2008,2009,2010,2011],\"xaxis\":\"x\",\"y\":[4807016,3092892,5658331,3893786,640460,860657,1953729,1920348,1209852,4239822,338607,349551,802834,355877,1056538,1241107,1191111,1172879,2064527,1047582,1192868,1308798,1487920,1517076],\"yaxis\":\"y\",\"type\":\"bar\"},{\"alignmentgroup\":\"True\",\"hovertemplate\":\"Commodity=0306.31.00 - rock lobster and other sea crawfish, live, fresh or chilled\\u003cbr\\u003eYear=%{x}\\u003cbr\\u003eValue_$=%{y}\\u003cextra\\u003e\\u003c\\u002fextra\\u003e\",\"legendgroup\":\"0306.31.00 - rock lobster and other sea crawfish, live, fresh or chilled\",\"marker\":{\"color\":\"#ab63fa\",\"pattern\":{\"shape\":\"\"}},\"name\":\"0306.31.00 - rock lobster and other sea crawfish, live, fresh or chilled\",\"offsetgroup\":\"0306.31.00 - rock lobster and other sea crawfish, live, fresh or chilled\",\"orientation\":\"v\",\"showlegend\":true,\"textposition\":\"auto\",\"x\":[2017,2018,2019,2020,2021],\"xaxis\":\"x\",\"y\":[35586,120524,76315,27648,218466],\"yaxis\":\"y\",\"type\":\"bar\"},{\"alignmentgroup\":\"True\",\"hovertemplate\":\"Commodity=0306.32.10 - lobsters, live\\u003cbr\\u003eYear=%{x}\\u003cbr\\u003eValue_$=%{y}\\u003cextra\\u003e\\u003c\\u002fextra\\u003e\",\"legendgroup\":\"0306.32.10 - lobsters, live\",\"marker\":{\"color\":\"#FFA15A\",\"pattern\":{\"shape\":\"\"}},\"name\":\"0306.32.10 - lobsters, live\",\"offsetgroup\":\"0306.32.10 - lobsters, live\",\"orientation\":\"v\",\"showlegend\":true,\"textposition\":\"auto\",\"x\":[2017,2018,2019,2020,2021,2022,2023],\"xaxis\":\"x\",\"y\":[905541209,977471113,1163910794,982283349,1235449385,1243232779,973577321],\"yaxis\":\"y\",\"type\":\"bar\"},{\"alignmentgroup\":\"True\",\"hovertemplate\":\"Commodity=0306.32.90 - lobsters, fresh or chilled, o\\u002ft live\\u003cbr\\u003eYear=%{x}\\u003cbr\\u003eValue_$=%{y}\\u003cextra\\u003e\\u003c\\u002fextra\\u003e\",\"legendgroup\":\"0306.32.90 - lobsters, fresh or chilled, o\\u002ft live\",\"marker\":{\"color\":\"#19d3f3\",\"pattern\":{\"shape\":\"\"}},\"name\":\"0306.32.90 - lobsters, fresh or chilled, o\\u002ft live\",\"offsetgroup\":\"0306.32.90 - lobsters, fresh or chilled, o\\u002ft live\",\"orientation\":\"v\",\"showlegend\":true,\"textposition\":\"auto\",\"x\":[2017,2018,2019,2020,2021,2022,2023],\"xaxis\":\"x\",\"y\":[2977020,2285207,962152,1755820,3228393,10063731,5554206],\"yaxis\":\"y\",\"type\":\"bar\"},{\"alignmentgroup\":\"True\",\"hovertemplate\":\"Commodity=0306.34.00 - norway lobsters, live, fresh or chilled\\u003cbr\\u003eYear=%{x}\\u003cbr\\u003eValue_$=%{y}\\u003cextra\\u003e\\u003c\\u002fextra\\u003e\",\"legendgroup\":\"0306.34.00 - norway lobsters, live, fresh or chilled\",\"marker\":{\"color\":\"#FF6692\",\"pattern\":{\"shape\":\"\"}},\"name\":\"0306.34.00 - norway lobsters, live, fresh or chilled\",\"offsetgroup\":\"0306.34.00 - norway lobsters, live, fresh or chilled\",\"orientation\":\"v\",\"showlegend\":true,\"textposition\":\"auto\",\"x\":[2017,2020],\"xaxis\":\"x\",\"y\":[17309,15508],\"yaxis\":\"y\",\"type\":\"bar\"},{\"alignmentgroup\":\"True\",\"hovertemplate\":\"Commodity=0306.91.00 - rock lobster & other sea crawfish,dried\\u002fsalted\\u002fbrine\\u002fsmoked\\u002fcooked,w\\u002fn in shell\\u003cbr\\u003eYear=%{x}\\u003cbr\\u003eValue_$=%{y}\\u003cextra\\u003e\\u003c\\u002fextra\\u003e\",\"legendgroup\":\"0306.91.00 - rock lobster & other sea crawfish,dried\\u002fsalted\\u002fbrine\\u002fsmoked\\u002fcooked,w\\u002fn in shell\",\"marker\":{\"color\":\"#B6E880\",\"pattern\":{\"shape\":\"\"}},\"name\":\"0306.91.00 - rock lobster & other sea crawfish,dried\\u002fsalted\\u002fbrine\\u002fsmoked\\u002fcooked,w\\u002fn in shell\",\"offsetgroup\":\"0306.91.00 - rock lobster & other sea crawfish,dried\\u002fsalted\\u002fbrine\\u002fsmoked\\u002fcooked,w\\u002fn in shell\",\"orientation\":\"v\",\"showlegend\":true,\"textposition\":\"auto\",\"x\":[2017,2020,2023],\"xaxis\":\"x\",\"y\":[975232,399139,1903562],\"yaxis\":\"y\",\"type\":\"bar\"},{\"alignmentgroup\":\"True\",\"hovertemplate\":\"Commodity=0306.92.00 - lobsters, nes, dried\\u002fsalted\\u002fin brine\\u002fsmoked\\u002fcooked, w\\u002fn in shell\\u003cbr\\u003eYear=%{x}\\u003cbr\\u003eValue_$=%{y}\\u003cextra\\u003e\\u003c\\u002fextra\\u003e\",\"legendgroup\":\"0306.92.00 - lobsters, nes, dried\\u002fsalted\\u002fin brine\\u002fsmoked\\u002fcooked, w\\u002fn in shell\",\"marker\":{\"color\":\"#FF97FF\",\"pattern\":{\"shape\":\"\"}},\"name\":\"0306.92.00 - lobsters, nes, dried\\u002fsalted\\u002fin brine\\u002fsmoked\\u002fcooked, w\\u002fn in shell\",\"offsetgroup\":\"0306.92.00 - lobsters, nes, dried\\u002fsalted\\u002fin brine\\u002fsmoked\\u002fcooked, w\\u002fn in shell\",\"orientation\":\"v\",\"showlegend\":true,\"textposition\":\"auto\",\"x\":[2017,2018,2019,2020,2021,2022],\"xaxis\":\"x\",\"y\":[3001642,719490,397830,408705,8130,29474],\"yaxis\":\"y\",\"type\":\"bar\"},{\"alignmentgroup\":\"True\",\"hovertemplate\":\"Commodity=1605.30.10 - lobster, prepared or preserved, frozen\\u003cbr\\u003eYear=%{x}\\u003cbr\\u003eValue_$=%{y}\\u003cextra\\u003e\\u003c\\u002fextra\\u003e\",\"legendgroup\":\"1605.30.10 - lobster, prepared or preserved, frozen\",\"marker\":{\"color\":\"#FECB52\",\"pattern\":{\"shape\":\"\"}},\"name\":\"1605.30.10 - lobster, prepared or preserved, frozen\",\"offsetgroup\":\"1605.30.10 - lobster, prepared or preserved, frozen\",\"orientation\":\"v\",\"showlegend\":true,\"textposition\":\"auto\",\"x\":[2017,2018,2019,2020,2021,2022,2023],\"xaxis\":\"x\",\"y\":[363731288,314850491,338899039,299194125,646073219,429926076,338386803],\"yaxis\":\"y\",\"type\":\"bar\"},{\"alignmentgroup\":\"True\",\"hovertemplate\":\"Commodity=1605.30.11 - lobster meat, frozen, cooked by steaming or boiling in water (terminated 2016-12)\\u003cbr\\u003eYear=%{x}\\u003cbr\\u003eValue_$=%{y}\\u003cextra\\u003e\\u003c\\u002fextra\\u003e\",\"legendgroup\":\"1605.30.11 - lobster meat, frozen, cooked by steaming or boiling in water (terminated 2016-12)\",\"marker\":{\"color\":\"#636efa\",\"pattern\":{\"shape\":\"\"}},\"name\":\"1605.30.11 - lobster meat, frozen, cooked by steaming or boiling in water (terminated 2016-12)\",\"offsetgroup\":\"1605.30.11 - lobster meat, frozen, cooked by steaming or boiling in water (terminated 2016-12)\",\"orientation\":\"v\",\"showlegend\":true,\"textposition\":\"auto\",\"x\":[2012,2013,2014,2015,2016],\"xaxis\":\"x\",\"y\":[199057252,193961396,237195680,329412839,414571537],\"yaxis\":\"y\",\"type\":\"bar\"},{\"alignmentgroup\":\"True\",\"hovertemplate\":\"Commodity=1605.30.11 - lobster meat, frozen, simply boiled in water (terminated 2016-12)\\u003cbr\\u003eYear=%{x}\\u003cbr\\u003eValue_$=%{y}\\u003cextra\\u003e\\u003c\\u002fextra\\u003e\",\"legendgroup\":\"1605.30.11 - lobster meat, frozen, simply boiled in water (terminated 2016-12)\",\"marker\":{\"color\":\"#EF553B\",\"pattern\":{\"shape\":\"\"}},\"name\":\"1605.30.11 - lobster meat, frozen, simply boiled in water (terminated 2016-12)\",\"offsetgroup\":\"1605.30.11 - lobster meat, frozen, simply boiled in water (terminated 2016-12)\",\"orientation\":\"v\",\"showlegend\":true,\"textposition\":\"auto\",\"x\":[1988,1989,1990,1991,1992,1993,1994,1995,1996,1997,1998,1999,2000,2001,2002,2003,2004,2005,2006,2007,2008,2009,2010,2011],\"xaxis\":\"x\",\"y\":[46726679,69731598,11230250,40883409,57101416,43931758,67847134,65267963,69878608,94414791,99433060,129890501,161530541,150120527,160955005,146858019,151029239,166299755,161380023,111275304,146948261,106079575,154631363,167983503],\"yaxis\":\"y\",\"type\":\"bar\"},{\"alignmentgroup\":\"True\",\"hovertemplate\":\"Commodity=1605.30.12 - lobster meat, not frozen, simply boiled in water (terminated 1989-12)\\u003cbr\\u003eYear=%{x}\\u003cbr\\u003eValue_$=%{y}\\u003cextra\\u003e\\u003c\\u002fextra\\u003e\",\"legendgroup\":\"1605.30.12 - lobster meat, not frozen, simply boiled in water (terminated 1989-12)\",\"marker\":{\"color\":\"#00cc96\",\"pattern\":{\"shape\":\"\"}},\"name\":\"1605.30.12 - lobster meat, not frozen, simply boiled in water (terminated 1989-12)\",\"offsetgroup\":\"1605.30.12 - lobster meat, not frozen, simply boiled in water (terminated 1989-12)\",\"orientation\":\"v\",\"showlegend\":true,\"textposition\":\"auto\",\"x\":[1988,1989],\"xaxis\":\"x\",\"y\":[6014880,2037008],\"yaxis\":\"y\",\"type\":\"bar\"},{\"alignmentgroup\":\"True\",\"hovertemplate\":\"Commodity=1605.30.19 - lobster meat, not frozen, simply boiled in water (terminated 2016-12)\\u003cbr\\u003eYear=%{x}\\u003cbr\\u003eValue_$=%{y}\\u003cextra\\u003e\\u003c\\u002fextra\\u003e\",\"legendgroup\":\"1605.30.19 - lobster meat, not frozen, simply boiled in water (terminated 2016-12)\",\"marker\":{\"color\":\"#ab63fa\",\"pattern\":{\"shape\":\"\"}},\"name\":\"1605.30.19 - lobster meat, not frozen, simply boiled in water (terminated 2016-12)\",\"offsetgroup\":\"1605.30.19 - lobster meat, not frozen, simply boiled in water (terminated 2016-12)\",\"orientation\":\"v\",\"showlegend\":true,\"textposition\":\"auto\",\"x\":[1990,1991,1992,1993,1994,1995,1996,1997,1998,1999,2000,2001,2002,2003,2004,2005,2006,2007,2008,2009,2010,2011],\"xaxis\":\"x\",\"y\":[824955,765129,1736299,346824,698442,856876,1837491,3196957,3991908,792182,429267,420853,726861,1024036,1663833,4667178,5425988,5092083,4814362,4761174,4254162,5513697],\"yaxis\":\"y\",\"type\":\"bar\"},{\"alignmentgroup\":\"True\",\"hovertemplate\":\"Commodity=1605.30.19 - lobster meat, o\\u002ft frozen, cooked by steaming or boiling in water (terminated 2016-12)\\u003cbr\\u003eYear=%{x}\\u003cbr\\u003eValue_$=%{y}\\u003cextra\\u003e\\u003c\\u002fextra\\u003e\",\"legendgroup\":\"1605.30.19 - lobster meat, o\\u002ft frozen, cooked by steaming or boiling in water (terminated 2016-12)\",\"marker\":{\"color\":\"#FFA15A\",\"pattern\":{\"shape\":\"\"}},\"name\":\"1605.30.19 - lobster meat, o\\u002ft frozen, cooked by steaming or boiling in water (terminated 2016-12)\",\"offsetgroup\":\"1605.30.19 - lobster meat, o\\u002ft frozen, cooked by steaming or boiling in water (terminated 2016-12)\",\"orientation\":\"v\",\"showlegend\":true,\"textposition\":\"auto\",\"x\":[2012,2013,2014,2015,2016],\"xaxis\":\"x\",\"y\":[9790072,8113231,8885819,10138230,11717494],\"yaxis\":\"y\",\"type\":\"bar\"},{\"alignmentgroup\":\"True\",\"hovertemplate\":\"Commodity=1605.30.20 - lobster, prepared or preserved, in cans, o\\u002ft frozen\\u003cbr\\u003eYear=%{x}\\u003cbr\\u003eValue_$=%{y}\\u003cextra\\u003e\\u003c\\u002fextra\\u003e\",\"legendgroup\":\"1605.30.20 - lobster, prepared or preserved, in cans, o\\u002ft frozen\",\"marker\":{\"color\":\"#19d3f3\",\"pattern\":{\"shape\":\"\"}},\"name\":\"1605.30.20 - lobster, prepared or preserved, in cans, o\\u002ft frozen\",\"offsetgroup\":\"1605.30.20 - lobster, prepared or preserved, in cans, o\\u002ft frozen\",\"orientation\":\"v\",\"showlegend\":true,\"textposition\":\"auto\",\"x\":[2017,2018,2019,2020,2021,2022,2023],\"xaxis\":\"x\",\"y\":[5015584,1407402,1851176,670296,9700391,4911351,985741],\"yaxis\":\"y\",\"type\":\"bar\"},{\"alignmentgroup\":\"True\",\"hovertemplate\":\"Commodity=1605.30.90 - lobster, prepared or preserved, nes\\u003cbr\\u003eYear=%{x}\\u003cbr\\u003eValue_$=%{y}\\u003cextra\\u003e\\u003c\\u002fextra\\u003e\",\"legendgroup\":\"1605.30.90 - lobster, prepared or preserved, nes\",\"marker\":{\"color\":\"#FF6692\",\"pattern\":{\"shape\":\"\"}},\"name\":\"1605.30.90 - lobster, prepared or preserved, nes\",\"offsetgroup\":\"1605.30.90 - lobster, prepared or preserved, nes\",\"orientation\":\"v\",\"showlegend\":true,\"textposition\":\"auto\",\"x\":[2017,2018,2019,2020,2021,2022,2023],\"xaxis\":\"x\",\"y\":[14581315,13116654,17297791,12644685,11136487,17964220,22687454],\"yaxis\":\"y\",\"type\":\"bar\"},{\"alignmentgroup\":\"True\",\"hovertemplate\":\"Commodity=1605.30.91 - lobster, prepared or preserved, in airtight containers (terminated 2016-12)\\u003cbr\\u003eYear=%{x}\\u003cbr\\u003eValue_$=%{y}\\u003cextra\\u003e\\u003c\\u002fextra\\u003e\",\"legendgroup\":\"1605.30.91 - lobster, prepared or preserved, in airtight containers (terminated 2016-12)\",\"marker\":{\"color\":\"#B6E880\",\"pattern\":{\"shape\":\"\"}},\"name\":\"1605.30.91 - lobster, prepared or preserved, in airtight containers (terminated 2016-12)\",\"offsetgroup\":\"1605.30.91 - lobster, prepared or preserved, in airtight containers (terminated 2016-12)\",\"orientation\":\"v\",\"showlegend\":true,\"textposition\":\"auto\",\"x\":[1988,1989,1990,1991,1992,1993,1994,1995,1996,1997,1998,1999,2000,2001,2002,2003,2004,2005,2006,2007,2008,2009,2010,2011,2012,2013,2014,2015,2016],\"xaxis\":\"x\",\"y\":[18385692,718543,1344463,14049185,8462077,8805730,3496368,14307104,10103847,3003990,3075698,875525,1276436,1500986,1777552,1654356,3927239,6153880,3088856,5506055,2592537,848217,1458729,477378,1776187,2985768,970612,2742110,5430164],\"yaxis\":\"y\",\"type\":\"bar\"},{\"alignmentgroup\":\"True\",\"hovertemplate\":\"Commodity=1605.30.92 - lobster, prepared or preserved, not in airtight containers (terminated 1989-12)\\u003cbr\\u003eYear=%{x}\\u003cbr\\u003eValue_$=%{y}\\u003cextra\\u003e\\u003c\\u002fextra\\u003e\",\"legendgroup\":\"1605.30.92 - lobster, prepared or preserved, not in airtight containers (terminated 1989-12)\",\"marker\":{\"color\":\"#FF97FF\",\"pattern\":{\"shape\":\"\"}},\"name\":\"1605.30.92 - lobster, prepared or preserved, not in airtight containers (terminated 1989-12)\",\"offsetgroup\":\"1605.30.92 - lobster, prepared or preserved, not in airtight containers (terminated 1989-12)\",\"orientation\":\"v\",\"showlegend\":true,\"textposition\":\"auto\",\"x\":[1988,1989],\"xaxis\":\"x\",\"y\":[2806533,355822],\"yaxis\":\"y\",\"type\":\"bar\"},{\"alignmentgroup\":\"True\",\"hovertemplate\":\"Commodity=1605.30.99 - lobster, prepared or preserved, not in airtight containers (terminated 2016-12)\\u003cbr\\u003eYear=%{x}\\u003cbr\\u003eValue_$=%{y}\\u003cextra\\u003e\\u003c\\u002fextra\\u003e\",\"legendgroup\":\"1605.30.99 - lobster, prepared or preserved, not in airtight containers (terminated 2016-12)\",\"marker\":{\"color\":\"#FECB52\",\"pattern\":{\"shape\":\"\"}},\"name\":\"1605.30.99 - lobster, prepared or preserved, not in airtight containers (terminated 2016-12)\",\"offsetgroup\":\"1605.30.99 - lobster, prepared or preserved, not in airtight containers (terminated 2016-12)\",\"orientation\":\"v\",\"showlegend\":true,\"textposition\":\"auto\",\"x\":[1990,1991,1992,1993,1994,1995,1996,1997,1998,1999,2000,2001,2002,2003,2004,2005,2006,2007,2008,2009,2010,2011],\"xaxis\":\"x\",\"y\":[579091,1394863,475628,1136974,1642479,2215906,3967037,3033306,4921721,5526471,5423680,4654025,1781263,1365440,1709198,4318988,4090582,3426490,4475730,1919594,5466617,3727665],\"yaxis\":\"y\",\"type\":\"bar\"},{\"alignmentgroup\":\"True\",\"hovertemplate\":\"Commodity=1605.30.99 - lobster, prepared or preserved, o\\u002ft in airtight containers (terminated 2016-12)\\u003cbr\\u003eYear=%{x}\\u003cbr\\u003eValue_$=%{y}\\u003cextra\\u003e\\u003c\\u002fextra\\u003e\",\"legendgroup\":\"1605.30.99 - lobster, prepared or preserved, o\\u002ft in airtight containers (terminated 2016-12)\",\"marker\":{\"color\":\"#636efa\",\"pattern\":{\"shape\":\"\"}},\"name\":\"1605.30.99 - lobster, prepared or preserved, o\\u002ft in airtight containers (terminated 2016-12)\",\"offsetgroup\":\"1605.30.99 - lobster, prepared or preserved, o\\u002ft in airtight containers (terminated 2016-12)\",\"orientation\":\"v\",\"showlegend\":true,\"textposition\":\"auto\",\"x\":[2012,2013,2014,2015,2016],\"xaxis\":\"x\",\"y\":[3821464,3728414,3916409,8495287,9303282],\"yaxis\":\"y\",\"type\":\"bar\"}],                        {\"template\":{\"data\":{\"histogram2dcontour\":[{\"type\":\"histogram2dcontour\",\"colorbar\":{\"outlinewidth\":0,\"ticks\":\"\"},\"colorscale\":[[0.0,\"#0d0887\"],[0.1111111111111111,\"#46039f\"],[0.2222222222222222,\"#7201a8\"],[0.3333333333333333,\"#9c179e\"],[0.4444444444444444,\"#bd3786\"],[0.5555555555555556,\"#d8576b\"],[0.6666666666666666,\"#ed7953\"],[0.7777777777777778,\"#fb9f3a\"],[0.8888888888888888,\"#fdca26\"],[1.0,\"#f0f921\"]]}],\"choropleth\":[{\"type\":\"choropleth\",\"colorbar\":{\"outlinewidth\":0,\"ticks\":\"\"}}],\"histogram2d\":[{\"type\":\"histogram2d\",\"colorbar\":{\"outlinewidth\":0,\"ticks\":\"\"},\"colorscale\":[[0.0,\"#0d0887\"],[0.1111111111111111,\"#46039f\"],[0.2222222222222222,\"#7201a8\"],[0.3333333333333333,\"#9c179e\"],[0.4444444444444444,\"#bd3786\"],[0.5555555555555556,\"#d8576b\"],[0.6666666666666666,\"#ed7953\"],[0.7777777777777778,\"#fb9f3a\"],[0.8888888888888888,\"#fdca26\"],[1.0,\"#f0f921\"]]}],\"heatmap\":[{\"type\":\"heatmap\",\"colorbar\":{\"outlinewidth\":0,\"ticks\":\"\"},\"colorscale\":[[0.0,\"#0d0887\"],[0.1111111111111111,\"#46039f\"],[0.2222222222222222,\"#7201a8\"],[0.3333333333333333,\"#9c179e\"],[0.4444444444444444,\"#bd3786\"],[0.5555555555555556,\"#d8576b\"],[0.6666666666666666,\"#ed7953\"],[0.7777777777777778,\"#fb9f3a\"],[0.8888888888888888,\"#fdca26\"],[1.0,\"#f0f921\"]]}],\"heatmapgl\":[{\"type\":\"heatmapgl\",\"colorbar\":{\"outlinewidth\":0,\"ticks\":\"\"},\"colorscale\":[[0.0,\"#0d0887\"],[0.1111111111111111,\"#46039f\"],[0.2222222222222222,\"#7201a8\"],[0.3333333333333333,\"#9c179e\"],[0.4444444444444444,\"#bd3786\"],[0.5555555555555556,\"#d8576b\"],[0.6666666666666666,\"#ed7953\"],[0.7777777777777778,\"#fb9f3a\"],[0.8888888888888888,\"#fdca26\"],[1.0,\"#f0f921\"]]}],\"contourcarpet\":[{\"type\":\"contourcarpet\",\"colorbar\":{\"outlinewidth\":0,\"ticks\":\"\"}}],\"contour\":[{\"type\":\"contour\",\"colorbar\":{\"outlinewidth\":0,\"ticks\":\"\"},\"colorscale\":[[0.0,\"#0d0887\"],[0.1111111111111111,\"#46039f\"],[0.2222222222222222,\"#7201a8\"],[0.3333333333333333,\"#9c179e\"],[0.4444444444444444,\"#bd3786\"],[0.5555555555555556,\"#d8576b\"],[0.6666666666666666,\"#ed7953\"],[0.7777777777777778,\"#fb9f3a\"],[0.8888888888888888,\"#fdca26\"],[1.0,\"#f0f921\"]]}],\"surface\":[{\"type\":\"surface\",\"colorbar\":{\"outlinewidth\":0,\"ticks\":\"\"},\"colorscale\":[[0.0,\"#0d0887\"],[0.1111111111111111,\"#46039f\"],[0.2222222222222222,\"#7201a8\"],[0.3333333333333333,\"#9c179e\"],[0.4444444444444444,\"#bd3786\"],[0.5555555555555556,\"#d8576b\"],[0.6666666666666666,\"#ed7953\"],[0.7777777777777778,\"#fb9f3a\"],[0.8888888888888888,\"#fdca26\"],[1.0,\"#f0f921\"]]}],\"mesh3d\":[{\"type\":\"mesh3d\",\"colorbar\":{\"outlinewidth\":0,\"ticks\":\"\"}}],\"scatter\":[{\"fillpattern\":{\"fillmode\":\"overlay\",\"size\":10,\"solidity\":0.2},\"type\":\"scatter\"}],\"parcoords\":[{\"type\":\"parcoords\",\"line\":{\"colorbar\":{\"outlinewidth\":0,\"ticks\":\"\"}}}],\"scatterpolargl\":[{\"type\":\"scatterpolargl\",\"marker\":{\"colorbar\":{\"outlinewidth\":0,\"ticks\":\"\"}}}],\"bar\":[{\"error_x\":{\"color\":\"#2a3f5f\"},\"error_y\":{\"color\":\"#2a3f5f\"},\"marker\":{\"line\":{\"color\":\"#E5ECF6\",\"width\":0.5},\"pattern\":{\"fillmode\":\"overlay\",\"size\":10,\"solidity\":0.2}},\"type\":\"bar\"}],\"scattergeo\":[{\"type\":\"scattergeo\",\"marker\":{\"colorbar\":{\"outlinewidth\":0,\"ticks\":\"\"}}}],\"scatterpolar\":[{\"type\":\"scatterpolar\",\"marker\":{\"colorbar\":{\"outlinewidth\":0,\"ticks\":\"\"}}}],\"histogram\":[{\"marker\":{\"pattern\":{\"fillmode\":\"overlay\",\"size\":10,\"solidity\":0.2}},\"type\":\"histogram\"}],\"scattergl\":[{\"type\":\"scattergl\",\"marker\":{\"colorbar\":{\"outlinewidth\":0,\"ticks\":\"\"}}}],\"scatter3d\":[{\"type\":\"scatter3d\",\"line\":{\"colorbar\":{\"outlinewidth\":0,\"ticks\":\"\"}},\"marker\":{\"colorbar\":{\"outlinewidth\":0,\"ticks\":\"\"}}}],\"scattermapbox\":[{\"type\":\"scattermapbox\",\"marker\":{\"colorbar\":{\"outlinewidth\":0,\"ticks\":\"\"}}}],\"scatterternary\":[{\"type\":\"scatterternary\",\"marker\":{\"colorbar\":{\"outlinewidth\":0,\"ticks\":\"\"}}}],\"scattercarpet\":[{\"type\":\"scattercarpet\",\"marker\":{\"colorbar\":{\"outlinewidth\":0,\"ticks\":\"\"}}}],\"carpet\":[{\"aaxis\":{\"endlinecolor\":\"#2a3f5f\",\"gridcolor\":\"white\",\"linecolor\":\"white\",\"minorgridcolor\":\"white\",\"startlinecolor\":\"#2a3f5f\"},\"baxis\":{\"endlinecolor\":\"#2a3f5f\",\"gridcolor\":\"white\",\"linecolor\":\"white\",\"minorgridcolor\":\"white\",\"startlinecolor\":\"#2a3f5f\"},\"type\":\"carpet\"}],\"table\":[{\"cells\":{\"fill\":{\"color\":\"#EBF0F8\"},\"line\":{\"color\":\"white\"}},\"header\":{\"fill\":{\"color\":\"#C8D4E3\"},\"line\":{\"color\":\"white\"}},\"type\":\"table\"}],\"barpolar\":[{\"marker\":{\"line\":{\"color\":\"#E5ECF6\",\"width\":0.5},\"pattern\":{\"fillmode\":\"overlay\",\"size\":10,\"solidity\":0.2}},\"type\":\"barpolar\"}],\"pie\":[{\"automargin\":true,\"type\":\"pie\"}]},\"layout\":{\"autotypenumbers\":\"strict\",\"colorway\":[\"#636efa\",\"#EF553B\",\"#00cc96\",\"#ab63fa\",\"#FFA15A\",\"#19d3f3\",\"#FF6692\",\"#B6E880\",\"#FF97FF\",\"#FECB52\"],\"font\":{\"color\":\"#2a3f5f\"},\"hovermode\":\"closest\",\"hoverlabel\":{\"align\":\"left\"},\"paper_bgcolor\":\"white\",\"plot_bgcolor\":\"#E5ECF6\",\"polar\":{\"bgcolor\":\"#E5ECF6\",\"angularaxis\":{\"gridcolor\":\"white\",\"linecolor\":\"white\",\"ticks\":\"\"},\"radialaxis\":{\"gridcolor\":\"white\",\"linecolor\":\"white\",\"ticks\":\"\"}},\"ternary\":{\"bgcolor\":\"#E5ECF6\",\"aaxis\":{\"gridcolor\":\"white\",\"linecolor\":\"white\",\"ticks\":\"\"},\"baxis\":{\"gridcolor\":\"white\",\"linecolor\":\"white\",\"ticks\":\"\"},\"caxis\":{\"gridcolor\":\"white\",\"linecolor\":\"white\",\"ticks\":\"\"}},\"coloraxis\":{\"colorbar\":{\"outlinewidth\":0,\"ticks\":\"\"}},\"colorscale\":{\"sequential\":[[0.0,\"#0d0887\"],[0.1111111111111111,\"#46039f\"],[0.2222222222222222,\"#7201a8\"],[0.3333333333333333,\"#9c179e\"],[0.4444444444444444,\"#bd3786\"],[0.5555555555555556,\"#d8576b\"],[0.6666666666666666,\"#ed7953\"],[0.7777777777777778,\"#fb9f3a\"],[0.8888888888888888,\"#fdca26\"],[1.0,\"#f0f921\"]],\"sequentialminus\":[[0.0,\"#0d0887\"],[0.1111111111111111,\"#46039f\"],[0.2222222222222222,\"#7201a8\"],[0.3333333333333333,\"#9c179e\"],[0.4444444444444444,\"#bd3786\"],[0.5555555555555556,\"#d8576b\"],[0.6666666666666666,\"#ed7953\"],[0.7777777777777778,\"#fb9f3a\"],[0.8888888888888888,\"#fdca26\"],[1.0,\"#f0f921\"]],\"diverging\":[[0,\"#8e0152\"],[0.1,\"#c51b7d\"],[0.2,\"#de77ae\"],[0.3,\"#f1b6da\"],[0.4,\"#fde0ef\"],[0.5,\"#f7f7f7\"],[0.6,\"#e6f5d0\"],[0.7,\"#b8e186\"],[0.8,\"#7fbc41\"],[0.9,\"#4d9221\"],[1,\"#276419\"]]},\"xaxis\":{\"gridcolor\":\"white\",\"linecolor\":\"white\",\"ticks\":\"\",\"title\":{\"standoff\":15},\"zerolinecolor\":\"white\",\"automargin\":true,\"zerolinewidth\":2},\"yaxis\":{\"gridcolor\":\"white\",\"linecolor\":\"white\",\"ticks\":\"\",\"title\":{\"standoff\":15},\"zerolinecolor\":\"white\",\"automargin\":true,\"zerolinewidth\":2},\"scene\":{\"xaxis\":{\"backgroundcolor\":\"#E5ECF6\",\"gridcolor\":\"white\",\"linecolor\":\"white\",\"showbackground\":true,\"ticks\":\"\",\"zerolinecolor\":\"white\",\"gridwidth\":2},\"yaxis\":{\"backgroundcolor\":\"#E5ECF6\",\"gridcolor\":\"white\",\"linecolor\":\"white\",\"showbackground\":true,\"ticks\":\"\",\"zerolinecolor\":\"white\",\"gridwidth\":2},\"zaxis\":{\"backgroundcolor\":\"#E5ECF6\",\"gridcolor\":\"white\",\"linecolor\":\"white\",\"showbackground\":true,\"ticks\":\"\",\"zerolinecolor\":\"white\",\"gridwidth\":2}},\"shapedefaults\":{\"line\":{\"color\":\"#2a3f5f\"}},\"annotationdefaults\":{\"arrowcolor\":\"#2a3f5f\",\"arrowhead\":0,\"arrowwidth\":1},\"geo\":{\"bgcolor\":\"white\",\"landcolor\":\"#E5ECF6\",\"subunitcolor\":\"white\",\"showland\":true,\"showlakes\":true,\"lakecolor\":\"white\"},\"title\":{\"x\":0.05},\"mapbox\":{\"style\":\"light\"}}},\"xaxis\":{\"anchor\":\"y\",\"domain\":[0.0,1.0],\"title\":{\"text\":\"Year\"}},\"yaxis\":{\"anchor\":\"x\",\"domain\":[0.0,1.0],\"title\":{\"text\":\"Value_$\"}},\"legend\":{\"title\":{\"text\":\"Commodity\"},\"tracegroupgap\":0},\"title\":{\"text\":\"Total Sales by Commodity by year\"},\"barmode\":\"relative\"},                        {\"responsive\": true}                    ).then(function(){\n",
       "                            \n",
       "var gd = document.getElementById('8c1b8609-8556-4f92-886f-b9d82a024fc0');\n",
       "var x = new MutationObserver(function (mutations, observer) {{\n",
       "        var display = window.getComputedStyle(gd).display;\n",
       "        if (!display || display === 'none') {{\n",
       "            console.log([gd, 'removed!']);\n",
       "            Plotly.purge(gd);\n",
       "            observer.disconnect();\n",
       "        }}\n",
       "}});\n",
       "\n",
       "// Listen for the removal of the full notebook cells\n",
       "var notebookContainer = gd.closest('#notebook-container');\n",
       "if (notebookContainer) {{\n",
       "    x.observe(notebookContainer, {childList: true});\n",
       "}}\n",
       "\n",
       "// Listen for the clearing of the current output cell\n",
       "var outputEl = gd.closest('.output');\n",
       "if (outputEl) {{\n",
       "    x.observe(outputEl, {childList: true});\n",
       "}}\n",
       "\n",
       "                        })                };                });            </script>        </div>"
      ]
     },
     "metadata": {},
     "output_type": "display_data"
    }
   ],
   "source": [
    "import plotly.express as px\n",
    "\n",
    "\n",
    "fig = px.bar(annual_data, x=\"Year\", y=\"Value_$\", color='Commodity', title=\"Total Sales by Commodity by year\")\n",
    "fig.show()"
   ]
  },
  {
   "cell_type": "code",
   "execution_count": 71,
   "id": "4e220612-9dea-4b40-b75f-08a1810e25fd",
   "metadata": {},
   "outputs": [
    {
     "data": {
      "application/vnd.plotly.v1+json": {
       "config": {
        "plotlyServerURL": "https://plot.ly"
       },
       "data": [
        {
         "alignmentgroup": "True",
         "hovertemplate": "Commodity=0306.11.00 - rock lobster & o sea crawfish,frz,in shell or not,incl in shell ckd in water,etc<br>Year=%{x}<br>Value_$=%{y}<extra></extra>",
         "legendgroup": "0306.11.00 - rock lobster & o sea crawfish,frz,in shell or not,incl in shell ckd in water,etc",
         "marker": {
          "color": "#636efa",
          "pattern": {
           "shape": ""
          }
         },
         "name": "0306.11.00 - rock lobster & o sea crawfish,frz,in shell or not,incl in shell ckd in water,etc",
         "offsetgroup": "0306.11.00 - rock lobster & o sea crawfish,frz,in shell or not,incl in shell ckd in water,etc",
         "orientation": "v",
         "showlegend": true,
         "textposition": "auto",
         "type": "bar",
         "x": [
          2012,
          2013,
          2014,
          2015,
          2016,
          2017,
          2018,
          2019,
          2020,
          2021,
          2022
         ],
         "xaxis": "x",
         "y": [
          2149954,
          1697035,
          3448411,
          6291135,
          1959146,
          735622,
          1112627,
          2138521,
          8836,
          73375,
          3125921
         ],
         "yaxis": "y"
        },
        {
         "alignmentgroup": "True",
         "hovertemplate": "Commodity=0306.11.00 - rock lobster & other sea crawfish,frozen in shell or not, incl boiled in shell<br>Year=%{x}<br>Value_$=%{y}<extra></extra>",
         "legendgroup": "0306.11.00 - rock lobster & other sea crawfish,frozen in shell or not, incl boiled in shell",
         "marker": {
          "color": "#EF553B",
          "pattern": {
           "shape": ""
          }
         },
         "name": "0306.11.00 - rock lobster & other sea crawfish,frozen in shell or not, incl boiled in shell",
         "offsetgroup": "0306.11.00 - rock lobster & other sea crawfish,frozen in shell or not, incl boiled in shell",
         "orientation": "v",
         "showlegend": true,
         "textposition": "auto",
         "type": "bar",
         "x": [
          2011
         ],
         "xaxis": "x",
         "y": [
          925813
         ],
         "yaxis": "y"
        },
        {
         "alignmentgroup": "True",
         "hovertemplate": "Commodity=0306.12.10 - lobsters in brine, (homarus spp), frozen, in shell, including boiled in shell<br>Year=%{x}<br>Value_$=%{y}<extra></extra>",
         "legendgroup": "0306.12.10 - lobsters in brine, (homarus spp), frozen, in shell, including boiled in shell",
         "marker": {
          "color": "#00cc96",
          "pattern": {
           "shape": ""
          }
         },
         "name": "0306.12.10 - lobsters in brine, (homarus spp), frozen, in shell, including boiled in shell",
         "offsetgroup": "0306.12.10 - lobsters in brine, (homarus spp), frozen, in shell, including boiled in shell",
         "orientation": "v",
         "showlegend": true,
         "textposition": "auto",
         "type": "bar",
         "x": [
          2011
         ],
         "xaxis": "x",
         "y": [
          53376251
         ],
         "yaxis": "y"
        },
        {
         "alignmentgroup": "True",
         "hovertemplate": "Commodity=0306.12.10 - lobsters, in brine, frozen<br>Year=%{x}<br>Value_$=%{y}<extra></extra>",
         "legendgroup": "0306.12.10 - lobsters, in brine, frozen",
         "marker": {
          "color": "#ab63fa",
          "pattern": {
           "shape": ""
          }
         },
         "name": "0306.12.10 - lobsters, in brine, frozen",
         "offsetgroup": "0306.12.10 - lobsters, in brine, frozen",
         "orientation": "v",
         "showlegend": true,
         "textposition": "auto",
         "type": "bar",
         "x": [
          2012,
          2013,
          2014,
          2015,
          2016,
          2017,
          2018,
          2019,
          2020,
          2021,
          2022,
          2023
         ],
         "xaxis": "x",
         "y": [
          56434863,
          40629504,
          37539674,
          57377692,
          76964160,
          64956316,
          82005200,
          99855051,
          101628407,
          176359431,
          148241314,
          109645069
         ],
         "yaxis": "y"
        },
        {
         "alignmentgroup": "True",
         "hovertemplate": "Commodity=0306.12.90 - lobsters, (homarus spp), nes, frozen, in shell, including boiled in shell<br>Year=%{x}<br>Value_$=%{y}<extra></extra>",
         "legendgroup": "0306.12.90 - lobsters, (homarus spp), nes, frozen, in shell, including boiled in shell",
         "marker": {
          "color": "#FFA15A",
          "pattern": {
           "shape": ""
          }
         },
         "name": "0306.12.90 - lobsters, (homarus spp), nes, frozen, in shell, including boiled in shell",
         "offsetgroup": "0306.12.90 - lobsters, (homarus spp), nes, frozen, in shell, including boiled in shell",
         "orientation": "v",
         "showlegend": true,
         "textposition": "auto",
         "type": "bar",
         "x": [
          2011
         ],
         "xaxis": "x",
         "y": [
          408496449
         ],
         "yaxis": "y"
        },
        {
         "alignmentgroup": "True",
         "hovertemplate": "Commodity=0306.12.90 - lobsters, nes, frozen<br>Year=%{x}<br>Value_$=%{y}<extra></extra>",
         "legendgroup": "0306.12.90 - lobsters, nes, frozen",
         "marker": {
          "color": "#19d3f3",
          "pattern": {
           "shape": ""
          }
         },
         "name": "0306.12.90 - lobsters, nes, frozen",
         "offsetgroup": "0306.12.90 - lobsters, nes, frozen",
         "orientation": "v",
         "showlegend": true,
         "textposition": "auto",
         "type": "bar",
         "x": [
          2012,
          2013,
          2014,
          2015,
          2016,
          2017,
          2018,
          2019,
          2020,
          2021,
          2022,
          2023
         ],
         "xaxis": "x",
         "y": [
          412258032,
          436303862,
          630504955,
          763305426,
          790760886,
          763129933,
          831611135,
          966689621,
          691945919,
          1177532904,
          911950315,
          629306399
         ],
         "yaxis": "y"
        },
        {
         "alignmentgroup": "True",
         "hovertemplate": "Commodity=0306.15.00 - norway lobster,frz,shell/not,incl in shell ckd in water,etc<br>Year=%{x}<br>Value_$=%{y}<extra></extra>",
         "legendgroup": "0306.15.00 - norway lobster,frz,shell/not,incl in shell ckd in water,etc",
         "marker": {
          "color": "#FF6692",
          "pattern": {
           "shape": ""
          }
         },
         "name": "0306.15.00 - norway lobster,frz,shell/not,incl in shell ckd in water,etc",
         "offsetgroup": "0306.15.00 - norway lobster,frz,shell/not,incl in shell ckd in water,etc",
         "orientation": "v",
         "showlegend": true,
         "textposition": "auto",
         "type": "bar",
         "x": [
          2014,
          2015,
          2018,
          2019
         ],
         "xaxis": "x",
         "y": [
          142227,
          18189,
          547619,
          157284
         ],
         "yaxis": "y"
        },
        {
         "alignmentgroup": "True",
         "hovertemplate": "Commodity=0306.21.00 - rock lobster&o sea crawfish,n frozen,in shell/not,incl in shell ckd in water,etc (terminated 2016-12)<br>Year=%{x}<br>Value_$=%{y}<extra></extra>",
         "legendgroup": "0306.21.00 - rock lobster&o sea crawfish,n frozen,in shell/not,incl in shell ckd in water,etc (terminated 2016-12)",
         "marker": {
          "color": "#B6E880",
          "pattern": {
           "shape": ""
          }
         },
         "name": "0306.21.00 - rock lobster&o sea crawfish,n frozen,in shell/not,incl in shell ckd in water,etc (terminated 2016-12)",
         "offsetgroup": "0306.21.00 - rock lobster&o sea crawfish,n frozen,in shell/not,incl in shell ckd in water,etc (terminated 2016-12)",
         "orientation": "v",
         "showlegend": true,
         "textposition": "auto",
         "type": "bar",
         "x": [
          2012,
          2013,
          2014,
          2015
         ],
         "xaxis": "x",
         "y": [
          21522,
          92309,
          642,
          19800
         ],
         "yaxis": "y"
        },
        {
         "alignmentgroup": "True",
         "hovertemplate": "Commodity=0306.22.10 - lobsters, (homarus spp), live (terminated 2016-12)<br>Year=%{x}<br>Value_$=%{y}<extra></extra>",
         "legendgroup": "0306.22.10 - lobsters, (homarus spp), live (terminated 2016-12)",
         "marker": {
          "color": "#FF97FF",
          "pattern": {
           "shape": ""
          }
         },
         "name": "0306.22.10 - lobsters, (homarus spp), live (terminated 2016-12)",
         "offsetgroup": "0306.22.10 - lobsters, (homarus spp), live (terminated 2016-12)",
         "orientation": "v",
         "showlegend": true,
         "textposition": "auto",
         "type": "bar",
         "x": [
          2011
         ],
         "xaxis": "x",
         "y": [
          386191475
         ],
         "yaxis": "y"
        },
        {
         "alignmentgroup": "True",
         "hovertemplate": "Commodity=0306.22.10 - lobsters, live (terminated 2016-12)<br>Year=%{x}<br>Value_$=%{y}<extra></extra>",
         "legendgroup": "0306.22.10 - lobsters, live (terminated 2016-12)",
         "marker": {
          "color": "#FECB52",
          "pattern": {
           "shape": ""
          }
         },
         "name": "0306.22.10 - lobsters, live (terminated 2016-12)",
         "offsetgroup": "0306.22.10 - lobsters, live (terminated 2016-12)",
         "orientation": "v",
         "showlegend": true,
         "textposition": "auto",
         "type": "bar",
         "x": [
          2012,
          2013,
          2014,
          2015,
          2016
         ],
         "xaxis": "x",
         "y": [
          402349190,
          460971859,
          599557496,
          855531199,
          838216230
         ],
         "yaxis": "y"
        },
        {
         "alignmentgroup": "True",
         "hovertemplate": "Commodity=0306.22.90 - lobsters, not frozen, other than live (terminated 2016-12)<br>Year=%{x}<br>Value_$=%{y}<extra></extra>",
         "legendgroup": "0306.22.90 - lobsters, not frozen, other than live (terminated 2016-12)",
         "marker": {
          "color": "#636efa",
          "pattern": {
           "shape": ""
          }
         },
         "name": "0306.22.90 - lobsters, not frozen, other than live (terminated 2016-12)",
         "offsetgroup": "0306.22.90 - lobsters, not frozen, other than live (terminated 2016-12)",
         "orientation": "v",
         "showlegend": true,
         "textposition": "auto",
         "type": "bar",
         "x": [
          2012,
          2013,
          2014,
          2015,
          2016
         ],
         "xaxis": "x",
         "y": [
          759061,
          1084784,
          541090,
          6308816,
          1137709
         ],
         "yaxis": "y"
        },
        {
         "alignmentgroup": "True",
         "hovertemplate": "Commodity=0306.22.90 - lobsters,(homarus spp), not frozen,exc live, in shell, including boiled in shell (terminated 2016-12)<br>Year=%{x}<br>Value_$=%{y}<extra></extra>",
         "legendgroup": "0306.22.90 - lobsters,(homarus spp), not frozen,exc live, in shell, including boiled in shell (terminated 2016-12)",
         "marker": {
          "color": "#EF553B",
          "pattern": {
           "shape": ""
          }
         },
         "name": "0306.22.90 - lobsters,(homarus spp), not frozen,exc live, in shell, including boiled in shell (terminated 2016-12)",
         "offsetgroup": "0306.22.90 - lobsters,(homarus spp), not frozen,exc live, in shell, including boiled in shell (terminated 2016-12)",
         "orientation": "v",
         "showlegend": true,
         "textposition": "auto",
         "type": "bar",
         "x": [
          2011
         ],
         "xaxis": "x",
         "y": [
          1517076
         ],
         "yaxis": "y"
        },
        {
         "alignmentgroup": "True",
         "hovertemplate": "Commodity=0306.31.00 - rock lobster and other sea crawfish, live, fresh or chilled<br>Year=%{x}<br>Value_$=%{y}<extra></extra>",
         "legendgroup": "0306.31.00 - rock lobster and other sea crawfish, live, fresh or chilled",
         "marker": {
          "color": "#00cc96",
          "pattern": {
           "shape": ""
          }
         },
         "name": "0306.31.00 - rock lobster and other sea crawfish, live, fresh or chilled",
         "offsetgroup": "0306.31.00 - rock lobster and other sea crawfish, live, fresh or chilled",
         "orientation": "v",
         "showlegend": true,
         "textposition": "auto",
         "type": "bar",
         "x": [
          2017,
          2018,
          2019,
          2020,
          2021
         ],
         "xaxis": "x",
         "y": [
          35586,
          120524,
          76315,
          27648,
          218466
         ],
         "yaxis": "y"
        },
        {
         "alignmentgroup": "True",
         "hovertemplate": "Commodity=0306.32.10 - lobsters, live<br>Year=%{x}<br>Value_$=%{y}<extra></extra>",
         "legendgroup": "0306.32.10 - lobsters, live",
         "marker": {
          "color": "#ab63fa",
          "pattern": {
           "shape": ""
          }
         },
         "name": "0306.32.10 - lobsters, live",
         "offsetgroup": "0306.32.10 - lobsters, live",
         "orientation": "v",
         "showlegend": true,
         "textposition": "auto",
         "type": "bar",
         "x": [
          2017,
          2018,
          2019,
          2020,
          2021,
          2022,
          2023
         ],
         "xaxis": "x",
         "y": [
          905541209,
          977471113,
          1163910794,
          982283349,
          1235449385,
          1243232779,
          973577321
         ],
         "yaxis": "y"
        },
        {
         "alignmentgroup": "True",
         "hovertemplate": "Commodity=0306.32.90 - lobsters, fresh or chilled, o/t live<br>Year=%{x}<br>Value_$=%{y}<extra></extra>",
         "legendgroup": "0306.32.90 - lobsters, fresh or chilled, o/t live",
         "marker": {
          "color": "#FFA15A",
          "pattern": {
           "shape": ""
          }
         },
         "name": "0306.32.90 - lobsters, fresh or chilled, o/t live",
         "offsetgroup": "0306.32.90 - lobsters, fresh or chilled, o/t live",
         "orientation": "v",
         "showlegend": true,
         "textposition": "auto",
         "type": "bar",
         "x": [
          2017,
          2018,
          2019,
          2020,
          2021,
          2022,
          2023
         ],
         "xaxis": "x",
         "y": [
          2977020,
          2285207,
          962152,
          1755820,
          3228393,
          10063731,
          5554206
         ],
         "yaxis": "y"
        },
        {
         "alignmentgroup": "True",
         "hovertemplate": "Commodity=0306.34.00 - norway lobsters, live, fresh or chilled<br>Year=%{x}<br>Value_$=%{y}<extra></extra>",
         "legendgroup": "0306.34.00 - norway lobsters, live, fresh or chilled",
         "marker": {
          "color": "#19d3f3",
          "pattern": {
           "shape": ""
          }
         },
         "name": "0306.34.00 - norway lobsters, live, fresh or chilled",
         "offsetgroup": "0306.34.00 - norway lobsters, live, fresh or chilled",
         "orientation": "v",
         "showlegend": true,
         "textposition": "auto",
         "type": "bar",
         "x": [
          2017,
          2020
         ],
         "xaxis": "x",
         "y": [
          17309,
          15508
         ],
         "yaxis": "y"
        },
        {
         "alignmentgroup": "True",
         "hovertemplate": "Commodity=0306.91.00 - rock lobster & other sea crawfish,dried/salted/brine/smoked/cooked,w/n in shell<br>Year=%{x}<br>Value_$=%{y}<extra></extra>",
         "legendgroup": "0306.91.00 - rock lobster & other sea crawfish,dried/salted/brine/smoked/cooked,w/n in shell",
         "marker": {
          "color": "#FF6692",
          "pattern": {
           "shape": ""
          }
         },
         "name": "0306.91.00 - rock lobster & other sea crawfish,dried/salted/brine/smoked/cooked,w/n in shell",
         "offsetgroup": "0306.91.00 - rock lobster & other sea crawfish,dried/salted/brine/smoked/cooked,w/n in shell",
         "orientation": "v",
         "showlegend": true,
         "textposition": "auto",
         "type": "bar",
         "x": [
          2017,
          2020,
          2023
         ],
         "xaxis": "x",
         "y": [
          975232,
          399139,
          1903562
         ],
         "yaxis": "y"
        },
        {
         "alignmentgroup": "True",
         "hovertemplate": "Commodity=0306.92.00 - lobsters, nes, dried/salted/in brine/smoked/cooked, w/n in shell<br>Year=%{x}<br>Value_$=%{y}<extra></extra>",
         "legendgroup": "0306.92.00 - lobsters, nes, dried/salted/in brine/smoked/cooked, w/n in shell",
         "marker": {
          "color": "#B6E880",
          "pattern": {
           "shape": ""
          }
         },
         "name": "0306.92.00 - lobsters, nes, dried/salted/in brine/smoked/cooked, w/n in shell",
         "offsetgroup": "0306.92.00 - lobsters, nes, dried/salted/in brine/smoked/cooked, w/n in shell",
         "orientation": "v",
         "showlegend": true,
         "textposition": "auto",
         "type": "bar",
         "x": [
          2017,
          2018,
          2019,
          2020,
          2021,
          2022
         ],
         "xaxis": "x",
         "y": [
          3001642,
          719490,
          397830,
          408705,
          8130,
          29474
         ],
         "yaxis": "y"
        },
        {
         "alignmentgroup": "True",
         "hovertemplate": "Commodity=1605.30.10 - lobster, prepared or preserved, frozen<br>Year=%{x}<br>Value_$=%{y}<extra></extra>",
         "legendgroup": "1605.30.10 - lobster, prepared or preserved, frozen",
         "marker": {
          "color": "#FF97FF",
          "pattern": {
           "shape": ""
          }
         },
         "name": "1605.30.10 - lobster, prepared or preserved, frozen",
         "offsetgroup": "1605.30.10 - lobster, prepared or preserved, frozen",
         "orientation": "v",
         "showlegend": true,
         "textposition": "auto",
         "type": "bar",
         "x": [
          2017,
          2018,
          2019,
          2020,
          2021,
          2022,
          2023
         ],
         "xaxis": "x",
         "y": [
          363731288,
          314850491,
          338899039,
          299194125,
          646073219,
          429926076,
          338386803
         ],
         "yaxis": "y"
        },
        {
         "alignmentgroup": "True",
         "hovertemplate": "Commodity=1605.30.11 - lobster meat, frozen, cooked by steaming or boiling in water (terminated 2016-12)<br>Year=%{x}<br>Value_$=%{y}<extra></extra>",
         "legendgroup": "1605.30.11 - lobster meat, frozen, cooked by steaming or boiling in water (terminated 2016-12)",
         "marker": {
          "color": "#FECB52",
          "pattern": {
           "shape": ""
          }
         },
         "name": "1605.30.11 - lobster meat, frozen, cooked by steaming or boiling in water (terminated 2016-12)",
         "offsetgroup": "1605.30.11 - lobster meat, frozen, cooked by steaming or boiling in water (terminated 2016-12)",
         "orientation": "v",
         "showlegend": true,
         "textposition": "auto",
         "type": "bar",
         "x": [
          2012,
          2013,
          2014,
          2015,
          2016
         ],
         "xaxis": "x",
         "y": [
          199057252,
          193961396,
          237195680,
          329412839,
          414571537
         ],
         "yaxis": "y"
        },
        {
         "alignmentgroup": "True",
         "hovertemplate": "Commodity=1605.30.11 - lobster meat, frozen, simply boiled in water (terminated 2016-12)<br>Year=%{x}<br>Value_$=%{y}<extra></extra>",
         "legendgroup": "1605.30.11 - lobster meat, frozen, simply boiled in water (terminated 2016-12)",
         "marker": {
          "color": "#636efa",
          "pattern": {
           "shape": ""
          }
         },
         "name": "1605.30.11 - lobster meat, frozen, simply boiled in water (terminated 2016-12)",
         "offsetgroup": "1605.30.11 - lobster meat, frozen, simply boiled in water (terminated 2016-12)",
         "orientation": "v",
         "showlegend": true,
         "textposition": "auto",
         "type": "bar",
         "x": [
          2011
         ],
         "xaxis": "x",
         "y": [
          167983503
         ],
         "yaxis": "y"
        },
        {
         "alignmentgroup": "True",
         "hovertemplate": "Commodity=1605.30.19 - lobster meat, not frozen, simply boiled in water (terminated 2016-12)<br>Year=%{x}<br>Value_$=%{y}<extra></extra>",
         "legendgroup": "1605.30.19 - lobster meat, not frozen, simply boiled in water (terminated 2016-12)",
         "marker": {
          "color": "#EF553B",
          "pattern": {
           "shape": ""
          }
         },
         "name": "1605.30.19 - lobster meat, not frozen, simply boiled in water (terminated 2016-12)",
         "offsetgroup": "1605.30.19 - lobster meat, not frozen, simply boiled in water (terminated 2016-12)",
         "orientation": "v",
         "showlegend": true,
         "textposition": "auto",
         "type": "bar",
         "x": [
          2011
         ],
         "xaxis": "x",
         "y": [
          5513697
         ],
         "yaxis": "y"
        },
        {
         "alignmentgroup": "True",
         "hovertemplate": "Commodity=1605.30.19 - lobster meat, o/t frozen, cooked by steaming or boiling in water (terminated 2016-12)<br>Year=%{x}<br>Value_$=%{y}<extra></extra>",
         "legendgroup": "1605.30.19 - lobster meat, o/t frozen, cooked by steaming or boiling in water (terminated 2016-12)",
         "marker": {
          "color": "#00cc96",
          "pattern": {
           "shape": ""
          }
         },
         "name": "1605.30.19 - lobster meat, o/t frozen, cooked by steaming or boiling in water (terminated 2016-12)",
         "offsetgroup": "1605.30.19 - lobster meat, o/t frozen, cooked by steaming or boiling in water (terminated 2016-12)",
         "orientation": "v",
         "showlegend": true,
         "textposition": "auto",
         "type": "bar",
         "x": [
          2012,
          2013,
          2014,
          2015,
          2016
         ],
         "xaxis": "x",
         "y": [
          9790072,
          8113231,
          8885819,
          10138230,
          11717494
         ],
         "yaxis": "y"
        },
        {
         "alignmentgroup": "True",
         "hovertemplate": "Commodity=1605.30.20 - lobster, prepared or preserved, in cans, o/t frozen<br>Year=%{x}<br>Value_$=%{y}<extra></extra>",
         "legendgroup": "1605.30.20 - lobster, prepared or preserved, in cans, o/t frozen",
         "marker": {
          "color": "#ab63fa",
          "pattern": {
           "shape": ""
          }
         },
         "name": "1605.30.20 - lobster, prepared or preserved, in cans, o/t frozen",
         "offsetgroup": "1605.30.20 - lobster, prepared or preserved, in cans, o/t frozen",
         "orientation": "v",
         "showlegend": true,
         "textposition": "auto",
         "type": "bar",
         "x": [
          2017,
          2018,
          2019,
          2020,
          2021,
          2022,
          2023
         ],
         "xaxis": "x",
         "y": [
          5015584,
          1407402,
          1851176,
          670296,
          9700391,
          4911351,
          985741
         ],
         "yaxis": "y"
        },
        {
         "alignmentgroup": "True",
         "hovertemplate": "Commodity=1605.30.90 - lobster, prepared or preserved, nes<br>Year=%{x}<br>Value_$=%{y}<extra></extra>",
         "legendgroup": "1605.30.90 - lobster, prepared or preserved, nes",
         "marker": {
          "color": "#FFA15A",
          "pattern": {
           "shape": ""
          }
         },
         "name": "1605.30.90 - lobster, prepared or preserved, nes",
         "offsetgroup": "1605.30.90 - lobster, prepared or preserved, nes",
         "orientation": "v",
         "showlegend": true,
         "textposition": "auto",
         "type": "bar",
         "x": [
          2017,
          2018,
          2019,
          2020,
          2021,
          2022,
          2023
         ],
         "xaxis": "x",
         "y": [
          14581315,
          13116654,
          17297791,
          12644685,
          11136487,
          17964220,
          22687454
         ],
         "yaxis": "y"
        },
        {
         "alignmentgroup": "True",
         "hovertemplate": "Commodity=1605.30.91 - lobster, prepared or preserved, in airtight containers (terminated 2016-12)<br>Year=%{x}<br>Value_$=%{y}<extra></extra>",
         "legendgroup": "1605.30.91 - lobster, prepared or preserved, in airtight containers (terminated 2016-12)",
         "marker": {
          "color": "#19d3f3",
          "pattern": {
           "shape": ""
          }
         },
         "name": "1605.30.91 - lobster, prepared or preserved, in airtight containers (terminated 2016-12)",
         "offsetgroup": "1605.30.91 - lobster, prepared or preserved, in airtight containers (terminated 2016-12)",
         "orientation": "v",
         "showlegend": true,
         "textposition": "auto",
         "type": "bar",
         "x": [
          2011,
          2012,
          2013,
          2014,
          2015,
          2016
         ],
         "xaxis": "x",
         "y": [
          477378,
          1776187,
          2985768,
          970612,
          2742110,
          5430164
         ],
         "yaxis": "y"
        },
        {
         "alignmentgroup": "True",
         "hovertemplate": "Commodity=1605.30.99 - lobster, prepared or preserved, not in airtight containers (terminated 2016-12)<br>Year=%{x}<br>Value_$=%{y}<extra></extra>",
         "legendgroup": "1605.30.99 - lobster, prepared or preserved, not in airtight containers (terminated 2016-12)",
         "marker": {
          "color": "#FF6692",
          "pattern": {
           "shape": ""
          }
         },
         "name": "1605.30.99 - lobster, prepared or preserved, not in airtight containers (terminated 2016-12)",
         "offsetgroup": "1605.30.99 - lobster, prepared or preserved, not in airtight containers (terminated 2016-12)",
         "orientation": "v",
         "showlegend": true,
         "textposition": "auto",
         "type": "bar",
         "x": [
          2011
         ],
         "xaxis": "x",
         "y": [
          3727665
         ],
         "yaxis": "y"
        },
        {
         "alignmentgroup": "True",
         "hovertemplate": "Commodity=1605.30.99 - lobster, prepared or preserved, o/t in airtight containers (terminated 2016-12)<br>Year=%{x}<br>Value_$=%{y}<extra></extra>",
         "legendgroup": "1605.30.99 - lobster, prepared or preserved, o/t in airtight containers (terminated 2016-12)",
         "marker": {
          "color": "#B6E880",
          "pattern": {
           "shape": ""
          }
         },
         "name": "1605.30.99 - lobster, prepared or preserved, o/t in airtight containers (terminated 2016-12)",
         "offsetgroup": "1605.30.99 - lobster, prepared or preserved, o/t in airtight containers (terminated 2016-12)",
         "orientation": "v",
         "showlegend": true,
         "textposition": "auto",
         "type": "bar",
         "x": [
          2012,
          2013,
          2014,
          2015,
          2016
         ],
         "xaxis": "x",
         "y": [
          3821464,
          3728414,
          3916409,
          8495287,
          9303282
         ],
         "yaxis": "y"
        }
       ],
       "layout": {
        "autosize": true,
        "barmode": "relative",
        "legend": {
         "title": {
          "text": "Commodity"
         },
         "tracegroupgap": 0
        },
        "template": {
         "data": {
          "bar": [
           {
            "error_x": {
             "color": "#2a3f5f"
            },
            "error_y": {
             "color": "#2a3f5f"
            },
            "marker": {
             "line": {
              "color": "#E5ECF6",
              "width": 0.5
             },
             "pattern": {
              "fillmode": "overlay",
              "size": 10,
              "solidity": 0.2
             }
            },
            "type": "bar"
           }
          ],
          "barpolar": [
           {
            "marker": {
             "line": {
              "color": "#E5ECF6",
              "width": 0.5
             },
             "pattern": {
              "fillmode": "overlay",
              "size": 10,
              "solidity": 0.2
             }
            },
            "type": "barpolar"
           }
          ],
          "carpet": [
           {
            "aaxis": {
             "endlinecolor": "#2a3f5f",
             "gridcolor": "white",
             "linecolor": "white",
             "minorgridcolor": "white",
             "startlinecolor": "#2a3f5f"
            },
            "baxis": {
             "endlinecolor": "#2a3f5f",
             "gridcolor": "white",
             "linecolor": "white",
             "minorgridcolor": "white",
             "startlinecolor": "#2a3f5f"
            },
            "type": "carpet"
           }
          ],
          "choropleth": [
           {
            "colorbar": {
             "outlinewidth": 0,
             "ticks": ""
            },
            "type": "choropleth"
           }
          ],
          "contour": [
           {
            "colorbar": {
             "outlinewidth": 0,
             "ticks": ""
            },
            "colorscale": [
             [
              0,
              "#0d0887"
             ],
             [
              0.1111111111111111,
              "#46039f"
             ],
             [
              0.2222222222222222,
              "#7201a8"
             ],
             [
              0.3333333333333333,
              "#9c179e"
             ],
             [
              0.4444444444444444,
              "#bd3786"
             ],
             [
              0.5555555555555556,
              "#d8576b"
             ],
             [
              0.6666666666666666,
              "#ed7953"
             ],
             [
              0.7777777777777778,
              "#fb9f3a"
             ],
             [
              0.8888888888888888,
              "#fdca26"
             ],
             [
              1,
              "#f0f921"
             ]
            ],
            "type": "contour"
           }
          ],
          "contourcarpet": [
           {
            "colorbar": {
             "outlinewidth": 0,
             "ticks": ""
            },
            "type": "contourcarpet"
           }
          ],
          "heatmap": [
           {
            "colorbar": {
             "outlinewidth": 0,
             "ticks": ""
            },
            "colorscale": [
             [
              0,
              "#0d0887"
             ],
             [
              0.1111111111111111,
              "#46039f"
             ],
             [
              0.2222222222222222,
              "#7201a8"
             ],
             [
              0.3333333333333333,
              "#9c179e"
             ],
             [
              0.4444444444444444,
              "#bd3786"
             ],
             [
              0.5555555555555556,
              "#d8576b"
             ],
             [
              0.6666666666666666,
              "#ed7953"
             ],
             [
              0.7777777777777778,
              "#fb9f3a"
             ],
             [
              0.8888888888888888,
              "#fdca26"
             ],
             [
              1,
              "#f0f921"
             ]
            ],
            "type": "heatmap"
           }
          ],
          "heatmapgl": [
           {
            "colorbar": {
             "outlinewidth": 0,
             "ticks": ""
            },
            "colorscale": [
             [
              0,
              "#0d0887"
             ],
             [
              0.1111111111111111,
              "#46039f"
             ],
             [
              0.2222222222222222,
              "#7201a8"
             ],
             [
              0.3333333333333333,
              "#9c179e"
             ],
             [
              0.4444444444444444,
              "#bd3786"
             ],
             [
              0.5555555555555556,
              "#d8576b"
             ],
             [
              0.6666666666666666,
              "#ed7953"
             ],
             [
              0.7777777777777778,
              "#fb9f3a"
             ],
             [
              0.8888888888888888,
              "#fdca26"
             ],
             [
              1,
              "#f0f921"
             ]
            ],
            "type": "heatmapgl"
           }
          ],
          "histogram": [
           {
            "marker": {
             "pattern": {
              "fillmode": "overlay",
              "size": 10,
              "solidity": 0.2
             }
            },
            "type": "histogram"
           }
          ],
          "histogram2d": [
           {
            "colorbar": {
             "outlinewidth": 0,
             "ticks": ""
            },
            "colorscale": [
             [
              0,
              "#0d0887"
             ],
             [
              0.1111111111111111,
              "#46039f"
             ],
             [
              0.2222222222222222,
              "#7201a8"
             ],
             [
              0.3333333333333333,
              "#9c179e"
             ],
             [
              0.4444444444444444,
              "#bd3786"
             ],
             [
              0.5555555555555556,
              "#d8576b"
             ],
             [
              0.6666666666666666,
              "#ed7953"
             ],
             [
              0.7777777777777778,
              "#fb9f3a"
             ],
             [
              0.8888888888888888,
              "#fdca26"
             ],
             [
              1,
              "#f0f921"
             ]
            ],
            "type": "histogram2d"
           }
          ],
          "histogram2dcontour": [
           {
            "colorbar": {
             "outlinewidth": 0,
             "ticks": ""
            },
            "colorscale": [
             [
              0,
              "#0d0887"
             ],
             [
              0.1111111111111111,
              "#46039f"
             ],
             [
              0.2222222222222222,
              "#7201a8"
             ],
             [
              0.3333333333333333,
              "#9c179e"
             ],
             [
              0.4444444444444444,
              "#bd3786"
             ],
             [
              0.5555555555555556,
              "#d8576b"
             ],
             [
              0.6666666666666666,
              "#ed7953"
             ],
             [
              0.7777777777777778,
              "#fb9f3a"
             ],
             [
              0.8888888888888888,
              "#fdca26"
             ],
             [
              1,
              "#f0f921"
             ]
            ],
            "type": "histogram2dcontour"
           }
          ],
          "mesh3d": [
           {
            "colorbar": {
             "outlinewidth": 0,
             "ticks": ""
            },
            "type": "mesh3d"
           }
          ],
          "parcoords": [
           {
            "line": {
             "colorbar": {
              "outlinewidth": 0,
              "ticks": ""
             }
            },
            "type": "parcoords"
           }
          ],
          "pie": [
           {
            "automargin": true,
            "type": "pie"
           }
          ],
          "scatter": [
           {
            "fillpattern": {
             "fillmode": "overlay",
             "size": 10,
             "solidity": 0.2
            },
            "type": "scatter"
           }
          ],
          "scatter3d": [
           {
            "line": {
             "colorbar": {
              "outlinewidth": 0,
              "ticks": ""
             }
            },
            "marker": {
             "colorbar": {
              "outlinewidth": 0,
              "ticks": ""
             }
            },
            "type": "scatter3d"
           }
          ],
          "scattercarpet": [
           {
            "marker": {
             "colorbar": {
              "outlinewidth": 0,
              "ticks": ""
             }
            },
            "type": "scattercarpet"
           }
          ],
          "scattergeo": [
           {
            "marker": {
             "colorbar": {
              "outlinewidth": 0,
              "ticks": ""
             }
            },
            "type": "scattergeo"
           }
          ],
          "scattergl": [
           {
            "marker": {
             "colorbar": {
              "outlinewidth": 0,
              "ticks": ""
             }
            },
            "type": "scattergl"
           }
          ],
          "scattermapbox": [
           {
            "marker": {
             "colorbar": {
              "outlinewidth": 0,
              "ticks": ""
             }
            },
            "type": "scattermapbox"
           }
          ],
          "scatterpolar": [
           {
            "marker": {
             "colorbar": {
              "outlinewidth": 0,
              "ticks": ""
             }
            },
            "type": "scatterpolar"
           }
          ],
          "scatterpolargl": [
           {
            "marker": {
             "colorbar": {
              "outlinewidth": 0,
              "ticks": ""
             }
            },
            "type": "scatterpolargl"
           }
          ],
          "scatterternary": [
           {
            "marker": {
             "colorbar": {
              "outlinewidth": 0,
              "ticks": ""
             }
            },
            "type": "scatterternary"
           }
          ],
          "surface": [
           {
            "colorbar": {
             "outlinewidth": 0,
             "ticks": ""
            },
            "colorscale": [
             [
              0,
              "#0d0887"
             ],
             [
              0.1111111111111111,
              "#46039f"
             ],
             [
              0.2222222222222222,
              "#7201a8"
             ],
             [
              0.3333333333333333,
              "#9c179e"
             ],
             [
              0.4444444444444444,
              "#bd3786"
             ],
             [
              0.5555555555555556,
              "#d8576b"
             ],
             [
              0.6666666666666666,
              "#ed7953"
             ],
             [
              0.7777777777777778,
              "#fb9f3a"
             ],
             [
              0.8888888888888888,
              "#fdca26"
             ],
             [
              1,
              "#f0f921"
             ]
            ],
            "type": "surface"
           }
          ],
          "table": [
           {
            "cells": {
             "fill": {
              "color": "#EBF0F8"
             },
             "line": {
              "color": "white"
             }
            },
            "header": {
             "fill": {
              "color": "#C8D4E3"
             },
             "line": {
              "color": "white"
             }
            },
            "type": "table"
           }
          ]
         },
         "layout": {
          "annotationdefaults": {
           "arrowcolor": "#2a3f5f",
           "arrowhead": 0,
           "arrowwidth": 1
          },
          "autotypenumbers": "strict",
          "coloraxis": {
           "colorbar": {
            "outlinewidth": 0,
            "ticks": ""
           }
          },
          "colorscale": {
           "diverging": [
            [
             0,
             "#8e0152"
            ],
            [
             0.1,
             "#c51b7d"
            ],
            [
             0.2,
             "#de77ae"
            ],
            [
             0.3,
             "#f1b6da"
            ],
            [
             0.4,
             "#fde0ef"
            ],
            [
             0.5,
             "#f7f7f7"
            ],
            [
             0.6,
             "#e6f5d0"
            ],
            [
             0.7,
             "#b8e186"
            ],
            [
             0.8,
             "#7fbc41"
            ],
            [
             0.9,
             "#4d9221"
            ],
            [
             1,
             "#276419"
            ]
           ],
           "sequential": [
            [
             0,
             "#0d0887"
            ],
            [
             0.1111111111111111,
             "#46039f"
            ],
            [
             0.2222222222222222,
             "#7201a8"
            ],
            [
             0.3333333333333333,
             "#9c179e"
            ],
            [
             0.4444444444444444,
             "#bd3786"
            ],
            [
             0.5555555555555556,
             "#d8576b"
            ],
            [
             0.6666666666666666,
             "#ed7953"
            ],
            [
             0.7777777777777778,
             "#fb9f3a"
            ],
            [
             0.8888888888888888,
             "#fdca26"
            ],
            [
             1,
             "#f0f921"
            ]
           ],
           "sequentialminus": [
            [
             0,
             "#0d0887"
            ],
            [
             0.1111111111111111,
             "#46039f"
            ],
            [
             0.2222222222222222,
             "#7201a8"
            ],
            [
             0.3333333333333333,
             "#9c179e"
            ],
            [
             0.4444444444444444,
             "#bd3786"
            ],
            [
             0.5555555555555556,
             "#d8576b"
            ],
            [
             0.6666666666666666,
             "#ed7953"
            ],
            [
             0.7777777777777778,
             "#fb9f3a"
            ],
            [
             0.8888888888888888,
             "#fdca26"
            ],
            [
             1,
             "#f0f921"
            ]
           ]
          },
          "colorway": [
           "#636efa",
           "#EF553B",
           "#00cc96",
           "#ab63fa",
           "#FFA15A",
           "#19d3f3",
           "#FF6692",
           "#B6E880",
           "#FF97FF",
           "#FECB52"
          ],
          "font": {
           "color": "#2a3f5f"
          },
          "geo": {
           "bgcolor": "white",
           "lakecolor": "white",
           "landcolor": "#E5ECF6",
           "showlakes": true,
           "showland": true,
           "subunitcolor": "white"
          },
          "hoverlabel": {
           "align": "left"
          },
          "hovermode": "closest",
          "mapbox": {
           "style": "light"
          },
          "paper_bgcolor": "white",
          "plot_bgcolor": "#E5ECF6",
          "polar": {
           "angularaxis": {
            "gridcolor": "white",
            "linecolor": "white",
            "ticks": ""
           },
           "bgcolor": "#E5ECF6",
           "radialaxis": {
            "gridcolor": "white",
            "linecolor": "white",
            "ticks": ""
           }
          },
          "scene": {
           "xaxis": {
            "backgroundcolor": "#E5ECF6",
            "gridcolor": "white",
            "gridwidth": 2,
            "linecolor": "white",
            "showbackground": true,
            "ticks": "",
            "zerolinecolor": "white"
           },
           "yaxis": {
            "backgroundcolor": "#E5ECF6",
            "gridcolor": "white",
            "gridwidth": 2,
            "linecolor": "white",
            "showbackground": true,
            "ticks": "",
            "zerolinecolor": "white"
           },
           "zaxis": {
            "backgroundcolor": "#E5ECF6",
            "gridcolor": "white",
            "gridwidth": 2,
            "linecolor": "white",
            "showbackground": true,
            "ticks": "",
            "zerolinecolor": "white"
           }
          },
          "shapedefaults": {
           "line": {
            "color": "#2a3f5f"
           }
          },
          "ternary": {
           "aaxis": {
            "gridcolor": "white",
            "linecolor": "white",
            "ticks": ""
           },
           "baxis": {
            "gridcolor": "white",
            "linecolor": "white",
            "ticks": ""
           },
           "bgcolor": "#E5ECF6",
           "caxis": {
            "gridcolor": "white",
            "linecolor": "white",
            "ticks": ""
           }
          },
          "title": {
           "x": 0.05
          },
          "xaxis": {
           "automargin": true,
           "gridcolor": "white",
           "linecolor": "white",
           "ticks": "",
           "title": {
            "standoff": 15
           },
           "zerolinecolor": "white",
           "zerolinewidth": 2
          },
          "yaxis": {
           "automargin": true,
           "gridcolor": "white",
           "linecolor": "white",
           "ticks": "",
           "title": {
            "standoff": 15
           },
           "zerolinecolor": "white",
           "zerolinewidth": 2
          }
         }
        },
        "title": {
         "text": "Total Sales by Commodity by year"
        },
        "xaxis": {
         "anchor": "y",
         "autorange": true,
         "domain": [
          0,
          1
         ],
         "range": [
          2010.5,
          2023.5
         ],
         "title": {
          "text": "Year"
         },
         "type": "linear"
        },
        "yaxis": {
         "anchor": "x",
         "autorange": true,
         "domain": [
          0,
          1
         ],
         "range": [
          0,
          3431347558.9473686
         ],
         "title": {
          "text": "Value_$"
         },
         "type": "linear"
        }
       }
      },
      "image/png": "[encoded data removed]",
      "text/html": [
       "<div>                            <div id=\"d243b17a-7baf-46b4-9eba-8f79eb8a6252\" class=\"plotly-graph-div\" style=\"height:525px; width:100%;\"></div>            <script type=\"text/javascript\">                require([\"plotly\"], function(Plotly) {                    window.PLOTLYENV=window.PLOTLYENV || {};                                    if (document.getElementById(\"d243b17a-7baf-46b4-9eba-8f79eb8a6252\")) {                    Plotly.newPlot(                        \"d243b17a-7baf-46b4-9eba-8f79eb8a6252\",                        [{\"alignmentgroup\":\"True\",\"hovertemplate\":\"Commodity=0306.11.00 - rock lobster & o sea crawfish,frz,in shell or not,incl in shell ckd in water,etc\\u003cbr\\u003eYear=%{x}\\u003cbr\\u003eValue_$=%{y}\\u003cextra\\u003e\\u003c\\u002fextra\\u003e\",\"legendgroup\":\"0306.11.00 - rock lobster & o sea crawfish,frz,in shell or not,incl in shell ckd in water,etc\",\"marker\":{\"color\":\"#636efa\",\"pattern\":{\"shape\":\"\"}},\"name\":\"0306.11.00 - rock lobster & o sea crawfish,frz,in shell or not,incl in shell ckd in water,etc\",\"offsetgroup\":\"0306.11.00 - rock lobster & o sea crawfish,frz,in shell or not,incl in shell ckd in water,etc\",\"orientation\":\"v\",\"showlegend\":true,\"textposition\":\"auto\",\"x\":[2012,2013,2014,2015,2016,2017,2018,2019,2020,2021,2022],\"xaxis\":\"x\",\"y\":[2149954,1697035,3448411,6291135,1959146,735622,1112627,2138521,8836,73375,3125921],\"yaxis\":\"y\",\"type\":\"bar\"},{\"alignmentgroup\":\"True\",\"hovertemplate\":\"Commodity=0306.11.00 - rock lobster & other sea crawfish,frozen in shell or not, incl boiled in shell\\u003cbr\\u003eYear=%{x}\\u003cbr\\u003eValue_$=%{y}\\u003cextra\\u003e\\u003c\\u002fextra\\u003e\",\"legendgroup\":\"0306.11.00 - rock lobster & other sea crawfish,frozen in shell or not, incl boiled in shell\",\"marker\":{\"color\":\"#EF553B\",\"pattern\":{\"shape\":\"\"}},\"name\":\"0306.11.00 - rock lobster & other sea crawfish,frozen in shell or not, incl boiled in shell\",\"offsetgroup\":\"0306.11.00 - rock lobster & other sea crawfish,frozen in shell or not, incl boiled in shell\",\"orientation\":\"v\",\"showlegend\":true,\"textposition\":\"auto\",\"x\":[2011],\"xaxis\":\"x\",\"y\":[925813],\"yaxis\":\"y\",\"type\":\"bar\"},{\"alignmentgroup\":\"True\",\"hovertemplate\":\"Commodity=0306.12.10 - lobsters in brine, (homarus spp), frozen, in shell, including boiled in shell\\u003cbr\\u003eYear=%{x}\\u003cbr\\u003eValue_$=%{y}\\u003cextra\\u003e\\u003c\\u002fextra\\u003e\",\"legendgroup\":\"0306.12.10 - lobsters in brine, (homarus spp), frozen, in shell, including boiled in shell\",\"marker\":{\"color\":\"#00cc96\",\"pattern\":{\"shape\":\"\"}},\"name\":\"0306.12.10 - lobsters in brine, (homarus spp), frozen, in shell, including boiled in shell\",\"offsetgroup\":\"0306.12.10 - lobsters in brine, (homarus spp), frozen, in shell, including boiled in shell\",\"orientation\":\"v\",\"showlegend\":true,\"textposition\":\"auto\",\"x\":[2011],\"xaxis\":\"x\",\"y\":[53376251],\"yaxis\":\"y\",\"type\":\"bar\"},{\"alignmentgroup\":\"True\",\"hovertemplate\":\"Commodity=0306.12.10 - lobsters, in brine, frozen\\u003cbr\\u003eYear=%{x}\\u003cbr\\u003eValue_$=%{y}\\u003cextra\\u003e\\u003c\\u002fextra\\u003e\",\"legendgroup\":\"0306.12.10 - lobsters, in brine, frozen\",\"marker\":{\"color\":\"#ab63fa\",\"pattern\":{\"shape\":\"\"}},\"name\":\"0306.12.10 - lobsters, in brine, frozen\",\"offsetgroup\":\"0306.12.10 - lobsters, in brine, frozen\",\"orientation\":\"v\",\"showlegend\":true,\"textposition\":\"auto\",\"x\":[2012,2013,2014,2015,2016,2017,2018,2019,2020,2021,2022,2023],\"xaxis\":\"x\",\"y\":[56434863,40629504,37539674,57377692,76964160,64956316,82005200,99855051,101628407,176359431,148241314,109645069],\"yaxis\":\"y\",\"type\":\"bar\"},{\"alignmentgroup\":\"True\",\"hovertemplate\":\"Commodity=0306.12.90 - lobsters, (homarus spp), nes, frozen, in shell, including boiled in shell\\u003cbr\\u003eYear=%{x}\\u003cbr\\u003eValue_$=%{y}\\u003cextra\\u003e\\u003c\\u002fextra\\u003e\",\"legendgroup\":\"0306.12.90 - lobsters, (homarus spp), nes, frozen, in shell, including boiled in shell\",\"marker\":{\"color\":\"#FFA15A\",\"pattern\":{\"shape\":\"\"}},\"name\":\"0306.12.90 - lobsters, (homarus spp), nes, frozen, in shell, including boiled in shell\",\"offsetgroup\":\"0306.12.90 - lobsters, (homarus spp), nes, frozen, in shell, including boiled in shell\",\"orientation\":\"v\",\"showlegend\":true,\"textposition\":\"auto\",\"x\":[2011],\"xaxis\":\"x\",\"y\":[408496449],\"yaxis\":\"y\",\"type\":\"bar\"},{\"alignmentgroup\":\"True\",\"hovertemplate\":\"Commodity=0306.12.90 - lobsters, nes, frozen\\u003cbr\\u003eYear=%{x}\\u003cbr\\u003eValue_$=%{y}\\u003cextra\\u003e\\u003c\\u002fextra\\u003e\",\"legendgroup\":\"0306.12.90 - lobsters, nes, frozen\",\"marker\":{\"color\":\"#19d3f3\",\"pattern\":{\"shape\":\"\"}},\"name\":\"0306.12.90 - lobsters, nes, frozen\",\"offsetgroup\":\"0306.12.90 - lobsters, nes, frozen\",\"orientation\":\"v\",\"showlegend\":true,\"textposition\":\"auto\",\"x\":[2012,2013,2014,2015,2016,2017,2018,2019,2020,2021,2022,2023],\"xaxis\":\"x\",\"y\":[412258032,436303862,630504955,763305426,790760886,763129933,831611135,966689621,691945919,1177532904,911950315,629306399],\"yaxis\":\"y\",\"type\":\"bar\"},{\"alignmentgroup\":\"True\",\"hovertemplate\":\"Commodity=0306.15.00 - norway lobster,frz,shell\\u002fnot,incl in shell ckd in water,etc\\u003cbr\\u003eYear=%{x}\\u003cbr\\u003eValue_$=%{y}\\u003cextra\\u003e\\u003c\\u002fextra\\u003e\",\"legendgroup\":\"0306.15.00 - norway lobster,frz,shell\\u002fnot,incl in shell ckd in water,etc\",\"marker\":{\"color\":\"#FF6692\",\"pattern\":{\"shape\":\"\"}},\"name\":\"0306.15.00 - norway lobster,frz,shell\\u002fnot,incl in shell ckd in water,etc\",\"offsetgroup\":\"0306.15.00 - norway lobster,frz,shell\\u002fnot,incl in shell ckd in water,etc\",\"orientation\":\"v\",\"showlegend\":true,\"textposition\":\"auto\",\"x\":[2014,2015,2018,2019],\"xaxis\":\"x\",\"y\":[142227,18189,547619,157284],\"yaxis\":\"y\",\"type\":\"bar\"},{\"alignmentgroup\":\"True\",\"hovertemplate\":\"Commodity=0306.21.00 - rock lobster&o sea crawfish,n frozen,in shell\\u002fnot,incl in shell ckd in water,etc (terminated 2016-12)\\u003cbr\\u003eYear=%{x}\\u003cbr\\u003eValue_$=%{y}\\u003cextra\\u003e\\u003c\\u002fextra\\u003e\",\"legendgroup\":\"0306.21.00 - rock lobster&o sea crawfish,n frozen,in shell\\u002fnot,incl in shell ckd in water,etc (terminated 2016-12)\",\"marker\":{\"color\":\"#B6E880\",\"pattern\":{\"shape\":\"\"}},\"name\":\"0306.21.00 - rock lobster&o sea crawfish,n frozen,in shell\\u002fnot,incl in shell ckd in water,etc (terminated 2016-12)\",\"offsetgroup\":\"0306.21.00 - rock lobster&o sea crawfish,n frozen,in shell\\u002fnot,incl in shell ckd in water,etc (terminated 2016-12)\",\"orientation\":\"v\",\"showlegend\":true,\"textposition\":\"auto\",\"x\":[2012,2013,2014,2015],\"xaxis\":\"x\",\"y\":[21522,92309,642,19800],\"yaxis\":\"y\",\"type\":\"bar\"},{\"alignmentgroup\":\"True\",\"hovertemplate\":\"Commodity=0306.22.10 - lobsters, (homarus spp), live (terminated 2016-12)\\u003cbr\\u003eYear=%{x}\\u003cbr\\u003eValue_$=%{y}\\u003cextra\\u003e\\u003c\\u002fextra\\u003e\",\"legendgroup\":\"0306.22.10 - lobsters, (homarus spp), live (terminated 2016-12)\",\"marker\":{\"color\":\"#FF97FF\",\"pattern\":{\"shape\":\"\"}},\"name\":\"0306.22.10 - lobsters, (homarus spp), live (terminated 2016-12)\",\"offsetgroup\":\"0306.22.10 - lobsters, (homarus spp), live (terminated 2016-12)\",\"orientation\":\"v\",\"showlegend\":true,\"textposition\":\"auto\",\"x\":[2011],\"xaxis\":\"x\",\"y\":[386191475],\"yaxis\":\"y\",\"type\":\"bar\"},{\"alignmentgroup\":\"True\",\"hovertemplate\":\"Commodity=0306.22.10 - lobsters, live (terminated 2016-12)\\u003cbr\\u003eYear=%{x}\\u003cbr\\u003eValue_$=%{y}\\u003cextra\\u003e\\u003c\\u002fextra\\u003e\",\"legendgroup\":\"0306.22.10 - lobsters, live (terminated 2016-12)\",\"marker\":{\"color\":\"#FECB52\",\"pattern\":{\"shape\":\"\"}},\"name\":\"0306.22.10 - lobsters, live (terminated 2016-12)\",\"offsetgroup\":\"0306.22.10 - lobsters, live (terminated 2016-12)\",\"orientation\":\"v\",\"showlegend\":true,\"textposition\":\"auto\",\"x\":[2012,2013,2014,2015,2016],\"xaxis\":\"x\",\"y\":[402349190,460971859,599557496,855531199,838216230],\"yaxis\":\"y\",\"type\":\"bar\"},{\"alignmentgroup\":\"True\",\"hovertemplate\":\"Commodity=0306.22.90 - lobsters, not frozen, other than live (terminated 2016-12)\\u003cbr\\u003eYear=%{x}\\u003cbr\\u003eValue_$=%{y}\\u003cextra\\u003e\\u003c\\u002fextra\\u003e\",\"legendgroup\":\"0306.22.90 - lobsters, not frozen, other than live (terminated 2016-12)\",\"marker\":{\"color\":\"#636efa\",\"pattern\":{\"shape\":\"\"}},\"name\":\"0306.22.90 - lobsters, not frozen, other than live (terminated 2016-12)\",\"offsetgroup\":\"0306.22.90 - lobsters, not frozen, other than live (terminated 2016-12)\",\"orientation\":\"v\",\"showlegend\":true,\"textposition\":\"auto\",\"x\":[2012,2013,2014,2015,2016],\"xaxis\":\"x\",\"y\":[759061,1084784,541090,6308816,1137709],\"yaxis\":\"y\",\"type\":\"bar\"},{\"alignmentgroup\":\"True\",\"hovertemplate\":\"Commodity=0306.22.90 - lobsters,(homarus spp), not frozen,exc live, in shell, including boiled in shell (terminated 2016-12)\\u003cbr\\u003eYear=%{x}\\u003cbr\\u003eValue_$=%{y}\\u003cextra\\u003e\\u003c\\u002fextra\\u003e\",\"legendgroup\":\"0306.22.90 - lobsters,(homarus spp), not frozen,exc live, in shell, including boiled in shell (terminated 2016-12)\",\"marker\":{\"color\":\"#EF553B\",\"pattern\":{\"shape\":\"\"}},\"name\":\"0306.22.90 - lobsters,(homarus spp), not frozen,exc live, in shell, including boiled in shell (terminated 2016-12)\",\"offsetgroup\":\"0306.22.90 - lobsters,(homarus spp), not frozen,exc live, in shell, including boiled in shell (terminated 2016-12)\",\"orientation\":\"v\",\"showlegend\":true,\"textposition\":\"auto\",\"x\":[2011],\"xaxis\":\"x\",\"y\":[1517076],\"yaxis\":\"y\",\"type\":\"bar\"},{\"alignmentgroup\":\"True\",\"hovertemplate\":\"Commodity=0306.31.00 - rock lobster and other sea crawfish, live, fresh or chilled\\u003cbr\\u003eYear=%{x}\\u003cbr\\u003eValue_$=%{y}\\u003cextra\\u003e\\u003c\\u002fextra\\u003e\",\"legendgroup\":\"0306.31.00 - rock lobster and other sea crawfish, live, fresh or chilled\",\"marker\":{\"color\":\"#00cc96\",\"pattern\":{\"shape\":\"\"}},\"name\":\"0306.31.00 - rock lobster and other sea crawfish, live, fresh or chilled\",\"offsetgroup\":\"0306.31.00 - rock lobster and other sea crawfish, live, fresh or chilled\",\"orientation\":\"v\",\"showlegend\":true,\"textposition\":\"auto\",\"x\":[2017,2018,2019,2020,2021],\"xaxis\":\"x\",\"y\":[35586,120524,76315,27648,218466],\"yaxis\":\"y\",\"type\":\"bar\"},{\"alignmentgroup\":\"True\",\"hovertemplate\":\"Commodity=0306.32.10 - lobsters, live\\u003cbr\\u003eYear=%{x}\\u003cbr\\u003eValue_$=%{y}\\u003cextra\\u003e\\u003c\\u002fextra\\u003e\",\"legendgroup\":\"0306.32.10 - lobsters, live\",\"marker\":{\"color\":\"#ab63fa\",\"pattern\":{\"shape\":\"\"}},\"name\":\"0306.32.10 - lobsters, live\",\"offsetgroup\":\"0306.32.10 - lobsters, live\",\"orientation\":\"v\",\"showlegend\":true,\"textposition\":\"auto\",\"x\":[2017,2018,2019,2020,2021,2022,2023],\"xaxis\":\"x\",\"y\":[905541209,977471113,1163910794,982283349,1235449385,1243232779,973577321],\"yaxis\":\"y\",\"type\":\"bar\"},{\"alignmentgroup\":\"True\",\"hovertemplate\":\"Commodity=0306.32.90 - lobsters, fresh or chilled, o\\u002ft live\\u003cbr\\u003eYear=%{x}\\u003cbr\\u003eValue_$=%{y}\\u003cextra\\u003e\\u003c\\u002fextra\\u003e\",\"legendgroup\":\"0306.32.90 - lobsters, fresh or chilled, o\\u002ft live\",\"marker\":{\"color\":\"#FFA15A\",\"pattern\":{\"shape\":\"\"}},\"name\":\"0306.32.90 - lobsters, fresh or chilled, o\\u002ft live\",\"offsetgroup\":\"0306.32.90 - lobsters, fresh or chilled, o\\u002ft live\",\"orientation\":\"v\",\"showlegend\":true,\"textposition\":\"auto\",\"x\":[2017,2018,2019,2020,2021,2022,2023],\"xaxis\":\"x\",\"y\":[2977020,2285207,962152,1755820,3228393,10063731,5554206],\"yaxis\":\"y\",\"type\":\"bar\"},{\"alignmentgroup\":\"True\",\"hovertemplate\":\"Commodity=0306.34.00 - norway lobsters, live, fresh or chilled\\u003cbr\\u003eYear=%{x}\\u003cbr\\u003eValue_$=%{y}\\u003cextra\\u003e\\u003c\\u002fextra\\u003e\",\"legendgroup\":\"0306.34.00 - norway lobsters, live, fresh or chilled\",\"marker\":{\"color\":\"#19d3f3\",\"pattern\":{\"shape\":\"\"}},\"name\":\"0306.34.00 - norway lobsters, live, fresh or chilled\",\"offsetgroup\":\"0306.34.00 - norway lobsters, live, fresh or chilled\",\"orientation\":\"v\",\"showlegend\":true,\"textposition\":\"auto\",\"x\":[2017,2020],\"xaxis\":\"x\",\"y\":[17309,15508],\"yaxis\":\"y\",\"type\":\"bar\"},{\"alignmentgroup\":\"True\",\"hovertemplate\":\"Commodity=0306.91.00 - rock lobster & other sea crawfish,dried\\u002fsalted\\u002fbrine\\u002fsmoked\\u002fcooked,w\\u002fn in shell\\u003cbr\\u003eYear=%{x}\\u003cbr\\u003eValue_$=%{y}\\u003cextra\\u003e\\u003c\\u002fextra\\u003e\",\"legendgroup\":\"0306.91.00 - rock lobster & other sea crawfish,dried\\u002fsalted\\u002fbrine\\u002fsmoked\\u002fcooked,w\\u002fn in shell\",\"marker\":{\"color\":\"#FF6692\",\"pattern\":{\"shape\":\"\"}},\"name\":\"0306.91.00 - rock lobster & other sea crawfish,dried\\u002fsalted\\u002fbrine\\u002fsmoked\\u002fcooked,w\\u002fn in shell\",\"offsetgroup\":\"0306.91.00 - rock lobster & other sea crawfish,dried\\u002fsalted\\u002fbrine\\u002fsmoked\\u002fcooked,w\\u002fn in shell\",\"orientation\":\"v\",\"showlegend\":true,\"textposition\":\"auto\",\"x\":[2017,2020,2023],\"xaxis\":\"x\",\"y\":[975232,399139,1903562],\"yaxis\":\"y\",\"type\":\"bar\"},{\"alignmentgroup\":\"True\",\"hovertemplate\":\"Commodity=0306.92.00 - lobsters, nes, dried\\u002fsalted\\u002fin brine\\u002fsmoked\\u002fcooked, w\\u002fn in shell\\u003cbr\\u003eYear=%{x}\\u003cbr\\u003eValue_$=%{y}\\u003cextra\\u003e\\u003c\\u002fextra\\u003e\",\"legendgroup\":\"0306.92.00 - lobsters, nes, dried\\u002fsalted\\u002fin brine\\u002fsmoked\\u002fcooked, w\\u002fn in shell\",\"marker\":{\"color\":\"#B6E880\",\"pattern\":{\"shape\":\"\"}},\"name\":\"0306.92.00 - lobsters, nes, dried\\u002fsalted\\u002fin brine\\u002fsmoked\\u002fcooked, w\\u002fn in shell\",\"offsetgroup\":\"0306.92.00 - lobsters, nes, dried\\u002fsalted\\u002fin brine\\u002fsmoked\\u002fcooked, w\\u002fn in shell\",\"orientation\":\"v\",\"showlegend\":true,\"textposition\":\"auto\",\"x\":[2017,2018,2019,2020,2021,2022],\"xaxis\":\"x\",\"y\":[3001642,719490,397830,408705,8130,29474],\"yaxis\":\"y\",\"type\":\"bar\"},{\"alignmentgroup\":\"True\",\"hovertemplate\":\"Commodity=1605.30.10 - lobster, prepared or preserved, frozen\\u003cbr\\u003eYear=%{x}\\u003cbr\\u003eValue_$=%{y}\\u003cextra\\u003e\\u003c\\u002fextra\\u003e\",\"legendgroup\":\"1605.30.10 - lobster, prepared or preserved, frozen\",\"marker\":{\"color\":\"#FF97FF\",\"pattern\":{\"shape\":\"\"}},\"name\":\"1605.30.10 - lobster, prepared or preserved, frozen\",\"offsetgroup\":\"1605.30.10 - lobster, prepared or preserved, frozen\",\"orientation\":\"v\",\"showlegend\":true,\"textposition\":\"auto\",\"x\":[2017,2018,2019,2020,2021,2022,2023],\"xaxis\":\"x\",\"y\":[363731288,314850491,338899039,299194125,646073219,429926076,338386803],\"yaxis\":\"y\",\"type\":\"bar\"},{\"alignmentgroup\":\"True\",\"hovertemplate\":\"Commodity=1605.30.11 - lobster meat, frozen, cooked by steaming or boiling in water (terminated 2016-12)\\u003cbr\\u003eYear=%{x}\\u003cbr\\u003eValue_$=%{y}\\u003cextra\\u003e\\u003c\\u002fextra\\u003e\",\"legendgroup\":\"1605.30.11 - lobster meat, frozen, cooked by steaming or boiling in water (terminated 2016-12)\",\"marker\":{\"color\":\"#FECB52\",\"pattern\":{\"shape\":\"\"}},\"name\":\"1605.30.11 - lobster meat, frozen, cooked by steaming or boiling in water (terminated 2016-12)\",\"offsetgroup\":\"1605.30.11 - lobster meat, frozen, cooked by steaming or boiling in water (terminated 2016-12)\",\"orientation\":\"v\",\"showlegend\":true,\"textposition\":\"auto\",\"x\":[2012,2013,2014,2015,2016],\"xaxis\":\"x\",\"y\":[199057252,193961396,237195680,329412839,414571537],\"yaxis\":\"y\",\"type\":\"bar\"},{\"alignmentgroup\":\"True\",\"hovertemplate\":\"Commodity=1605.30.11 - lobster meat, frozen, simply boiled in water (terminated 2016-12)\\u003cbr\\u003eYear=%{x}\\u003cbr\\u003eValue_$=%{y}\\u003cextra\\u003e\\u003c\\u002fextra\\u003e\",\"legendgroup\":\"1605.30.11 - lobster meat, frozen, simply boiled in water (terminated 2016-12)\",\"marker\":{\"color\":\"#636efa\",\"pattern\":{\"shape\":\"\"}},\"name\":\"1605.30.11 - lobster meat, frozen, simply boiled in water (terminated 2016-12)\",\"offsetgroup\":\"1605.30.11 - lobster meat, frozen, simply boiled in water (terminated 2016-12)\",\"orientation\":\"v\",\"showlegend\":true,\"textposition\":\"auto\",\"x\":[2011],\"xaxis\":\"x\",\"y\":[167983503],\"yaxis\":\"y\",\"type\":\"bar\"},{\"alignmentgroup\":\"True\",\"hovertemplate\":\"Commodity=1605.30.19 - lobster meat, not frozen, simply boiled in water (terminated 2016-12)\\u003cbr\\u003eYear=%{x}\\u003cbr\\u003eValue_$=%{y}\\u003cextra\\u003e\\u003c\\u002fextra\\u003e\",\"legendgroup\":\"1605.30.19 - lobster meat, not frozen, simply boiled in water (terminated 2016-12)\",\"marker\":{\"color\":\"#EF553B\",\"pattern\":{\"shape\":\"\"}},\"name\":\"1605.30.19 - lobster meat, not frozen, simply boiled in water (terminated 2016-12)\",\"offsetgroup\":\"1605.30.19 - lobster meat, not frozen, simply boiled in water (terminated 2016-12)\",\"orientation\":\"v\",\"showlegend\":true,\"textposition\":\"auto\",\"x\":[2011],\"xaxis\":\"x\",\"y\":[5513697],\"yaxis\":\"y\",\"type\":\"bar\"},{\"alignmentgroup\":\"True\",\"hovertemplate\":\"Commodity=1605.30.19 - lobster meat, o\\u002ft frozen, cooked by steaming or boiling in water (terminated 2016-12)\\u003cbr\\u003eYear=%{x}\\u003cbr\\u003eValue_$=%{y}\\u003cextra\\u003e\\u003c\\u002fextra\\u003e\",\"legendgroup\":\"1605.30.19 - lobster meat, o\\u002ft frozen, cooked by steaming or boiling in water (terminated 2016-12)\",\"marker\":{\"color\":\"#00cc96\",\"pattern\":{\"shape\":\"\"}},\"name\":\"1605.30.19 - lobster meat, o\\u002ft frozen, cooked by steaming or boiling in water (terminated 2016-12)\",\"offsetgroup\":\"1605.30.19 - lobster meat, o\\u002ft frozen, cooked by steaming or boiling in water (terminated 2016-12)\",\"orientation\":\"v\",\"showlegend\":true,\"textposition\":\"auto\",\"x\":[2012,2013,2014,2015,2016],\"xaxis\":\"x\",\"y\":[9790072,8113231,8885819,10138230,11717494],\"yaxis\":\"y\",\"type\":\"bar\"},{\"alignmentgroup\":\"True\",\"hovertemplate\":\"Commodity=1605.30.20 - lobster, prepared or preserved, in cans, o\\u002ft frozen\\u003cbr\\u003eYear=%{x}\\u003cbr\\u003eValue_$=%{y}\\u003cextra\\u003e\\u003c\\u002fextra\\u003e\",\"legendgroup\":\"1605.30.20 - lobster, prepared or preserved, in cans, o\\u002ft frozen\",\"marker\":{\"color\":\"#ab63fa\",\"pattern\":{\"shape\":\"\"}},\"name\":\"1605.30.20 - lobster, prepared or preserved, in cans, o\\u002ft frozen\",\"offsetgroup\":\"1605.30.20 - lobster, prepared or preserved, in cans, o\\u002ft frozen\",\"orientation\":\"v\",\"showlegend\":true,\"textposition\":\"auto\",\"x\":[2017,2018,2019,2020,2021,2022,2023],\"xaxis\":\"x\",\"y\":[5015584,1407402,1851176,670296,9700391,4911351,985741],\"yaxis\":\"y\",\"type\":\"bar\"},{\"alignmentgroup\":\"True\",\"hovertemplate\":\"Commodity=1605.30.90 - lobster, prepared or preserved, nes\\u003cbr\\u003eYear=%{x}\\u003cbr\\u003eValue_$=%{y}\\u003cextra\\u003e\\u003c\\u002fextra\\u003e\",\"legendgroup\":\"1605.30.90 - lobster, prepared or preserved, nes\",\"marker\":{\"color\":\"#FFA15A\",\"pattern\":{\"shape\":\"\"}},\"name\":\"1605.30.90 - lobster, prepared or preserved, nes\",\"offsetgroup\":\"1605.30.90 - lobster, prepared or preserved, nes\",\"orientation\":\"v\",\"showlegend\":true,\"textposition\":\"auto\",\"x\":[2017,2018,2019,2020,2021,2022,2023],\"xaxis\":\"x\",\"y\":[14581315,13116654,17297791,12644685,11136487,17964220,22687454],\"yaxis\":\"y\",\"type\":\"bar\"},{\"alignmentgroup\":\"True\",\"hovertemplate\":\"Commodity=1605.30.91 - lobster, prepared or preserved, in airtight containers (terminated 2016-12)\\u003cbr\\u003eYear=%{x}\\u003cbr\\u003eValue_$=%{y}\\u003cextra\\u003e\\u003c\\u002fextra\\u003e\",\"legendgroup\":\"1605.30.91 - lobster, prepared or preserved, in airtight containers (terminated 2016-12)\",\"marker\":{\"color\":\"#19d3f3\",\"pattern\":{\"shape\":\"\"}},\"name\":\"1605.30.91 - lobster, prepared or preserved, in airtight containers (terminated 2016-12)\",\"offsetgroup\":\"1605.30.91 - lobster, prepared or preserved, in airtight containers (terminated 2016-12)\",\"orientation\":\"v\",\"showlegend\":true,\"textposition\":\"auto\",\"x\":[2011,2012,2013,2014,2015,2016],\"xaxis\":\"x\",\"y\":[477378,1776187,2985768,970612,2742110,5430164],\"yaxis\":\"y\",\"type\":\"bar\"},{\"alignmentgroup\":\"True\",\"hovertemplate\":\"Commodity=1605.30.99 - lobster, prepared or preserved, not in airtight containers (terminated 2016-12)\\u003cbr\\u003eYear=%{x}\\u003cbr\\u003eValue_$=%{y}\\u003cextra\\u003e\\u003c\\u002fextra\\u003e\",\"legendgroup\":\"1605.30.99 - lobster, prepared or preserved, not in airtight containers (terminated 2016-12)\",\"marker\":{\"color\":\"#FF6692\",\"pattern\":{\"shape\":\"\"}},\"name\":\"1605.30.99 - lobster, prepared or preserved, not in airtight containers (terminated 2016-12)\",\"offsetgroup\":\"1605.30.99 - lobster, prepared or preserved, not in airtight containers (terminated 2016-12)\",\"orientation\":\"v\",\"showlegend\":true,\"textposition\":\"auto\",\"x\":[2011],\"xaxis\":\"x\",\"y\":[3727665],\"yaxis\":\"y\",\"type\":\"bar\"},{\"alignmentgroup\":\"True\",\"hovertemplate\":\"Commodity=1605.30.99 - lobster, prepared or preserved, o\\u002ft in airtight containers (terminated 2016-12)\\u003cbr\\u003eYear=%{x}\\u003cbr\\u003eValue_$=%{y}\\u003cextra\\u003e\\u003c\\u002fextra\\u003e\",\"legendgroup\":\"1605.30.99 - lobster, prepared or preserved, o\\u002ft in airtight containers (terminated 2016-12)\",\"marker\":{\"color\":\"#B6E880\",\"pattern\":{\"shape\":\"\"}},\"name\":\"1605.30.99 - lobster, prepared or preserved, o\\u002ft in airtight containers (terminated 2016-12)\",\"offsetgroup\":\"1605.30.99 - lobster, prepared or preserved, o\\u002ft in airtight containers (terminated 2016-12)\",\"orientation\":\"v\",\"showlegend\":true,\"textposition\":\"auto\",\"x\":[2012,2013,2014,2015,2016],\"xaxis\":\"x\",\"y\":[3821464,3728414,3916409,8495287,9303282],\"yaxis\":\"y\",\"type\":\"bar\"}],                        {\"template\":{\"data\":{\"histogram2dcontour\":[{\"type\":\"histogram2dcontour\",\"colorbar\":{\"outlinewidth\":0,\"ticks\":\"\"},\"colorscale\":[[0.0,\"#0d0887\"],[0.1111111111111111,\"#46039f\"],[0.2222222222222222,\"#7201a8\"],[0.3333333333333333,\"#9c179e\"],[0.4444444444444444,\"#bd3786\"],[0.5555555555555556,\"#d8576b\"],[0.6666666666666666,\"#ed7953\"],[0.7777777777777778,\"#fb9f3a\"],[0.8888888888888888,\"#fdca26\"],[1.0,\"#f0f921\"]]}],\"choropleth\":[{\"type\":\"choropleth\",\"colorbar\":{\"outlinewidth\":0,\"ticks\":\"\"}}],\"histogram2d\":[{\"type\":\"histogram2d\",\"colorbar\":{\"outlinewidth\":0,\"ticks\":\"\"},\"colorscale\":[[0.0,\"#0d0887\"],[0.1111111111111111,\"#46039f\"],[0.2222222222222222,\"#7201a8\"],[0.3333333333333333,\"#9c179e\"],[0.4444444444444444,\"#bd3786\"],[0.5555555555555556,\"#d8576b\"],[0.6666666666666666,\"#ed7953\"],[0.7777777777777778,\"#fb9f3a\"],[0.8888888888888888,\"#fdca26\"],[1.0,\"#f0f921\"]]}],\"heatmap\":[{\"type\":\"heatmap\",\"colorbar\":{\"outlinewidth\":0,\"ticks\":\"\"},\"colorscale\":[[0.0,\"#0d0887\"],[0.1111111111111111,\"#46039f\"],[0.2222222222222222,\"#7201a8\"],[0.3333333333333333,\"#9c179e\"],[0.4444444444444444,\"#bd3786\"],[0.5555555555555556,\"#d8576b\"],[0.6666666666666666,\"#ed7953\"],[0.7777777777777778,\"#fb9f3a\"],[0.8888888888888888,\"#fdca26\"],[1.0,\"#f0f921\"]]}],\"heatmapgl\":[{\"type\":\"heatmapgl\",\"colorbar\":{\"outlinewidth\":0,\"ticks\":\"\"},\"colorscale\":[[0.0,\"#0d0887\"],[0.1111111111111111,\"#46039f\"],[0.2222222222222222,\"#7201a8\"],[0.3333333333333333,\"#9c179e\"],[0.4444444444444444,\"#bd3786\"],[0.5555555555555556,\"#d8576b\"],[0.6666666666666666,\"#ed7953\"],[0.7777777777777778,\"#fb9f3a\"],[0.8888888888888888,\"#fdca26\"],[1.0,\"#f0f921\"]]}],\"contourcarpet\":[{\"type\":\"contourcarpet\",\"colorbar\":{\"outlinewidth\":0,\"ticks\":\"\"}}],\"contour\":[{\"type\":\"contour\",\"colorbar\":{\"outlinewidth\":0,\"ticks\":\"\"},\"colorscale\":[[0.0,\"#0d0887\"],[0.1111111111111111,\"#46039f\"],[0.2222222222222222,\"#7201a8\"],[0.3333333333333333,\"#9c179e\"],[0.4444444444444444,\"#bd3786\"],[0.5555555555555556,\"#d8576b\"],[0.6666666666666666,\"#ed7953\"],[0.7777777777777778,\"#fb9f3a\"],[0.8888888888888888,\"#fdca26\"],[1.0,\"#f0f921\"]]}],\"surface\":[{\"type\":\"surface\",\"colorbar\":{\"outlinewidth\":0,\"ticks\":\"\"},\"colorscale\":[[0.0,\"#0d0887\"],[0.1111111111111111,\"#46039f\"],[0.2222222222222222,\"#7201a8\"],[0.3333333333333333,\"#9c179e\"],[0.4444444444444444,\"#bd3786\"],[0.5555555555555556,\"#d8576b\"],[0.6666666666666666,\"#ed7953\"],[0.7777777777777778,\"#fb9f3a\"],[0.8888888888888888,\"#fdca26\"],[1.0,\"#f0f921\"]]}],\"mesh3d\":[{\"type\":\"mesh3d\",\"colorbar\":{\"outlinewidth\":0,\"ticks\":\"\"}}],\"scatter\":[{\"fillpattern\":{\"fillmode\":\"overlay\",\"size\":10,\"solidity\":0.2},\"type\":\"scatter\"}],\"parcoords\":[{\"type\":\"parcoords\",\"line\":{\"colorbar\":{\"outlinewidth\":0,\"ticks\":\"\"}}}],\"scatterpolargl\":[{\"type\":\"scatterpolargl\",\"marker\":{\"colorbar\":{\"outlinewidth\":0,\"ticks\":\"\"}}}],\"bar\":[{\"error_x\":{\"color\":\"#2a3f5f\"},\"error_y\":{\"color\":\"#2a3f5f\"},\"marker\":{\"line\":{\"color\":\"#E5ECF6\",\"width\":0.5},\"pattern\":{\"fillmode\":\"overlay\",\"size\":10,\"solidity\":0.2}},\"type\":\"bar\"}],\"scattergeo\":[{\"type\":\"scattergeo\",\"marker\":{\"colorbar\":{\"outlinewidth\":0,\"ticks\":\"\"}}}],\"scatterpolar\":[{\"type\":\"scatterpolar\",\"marker\":{\"colorbar\":{\"outlinewidth\":0,\"ticks\":\"\"}}}],\"histogram\":[{\"marker\":{\"pattern\":{\"fillmode\":\"overlay\",\"size\":10,\"solidity\":0.2}},\"type\":\"histogram\"}],\"scattergl\":[{\"type\":\"scattergl\",\"marker\":{\"colorbar\":{\"outlinewidth\":0,\"ticks\":\"\"}}}],\"scatter3d\":[{\"type\":\"scatter3d\",\"line\":{\"colorbar\":{\"outlinewidth\":0,\"ticks\":\"\"}},\"marker\":{\"colorbar\":{\"outlinewidth\":0,\"ticks\":\"\"}}}],\"scattermapbox\":[{\"type\":\"scattermapbox\",\"marker\":{\"colorbar\":{\"outlinewidth\":0,\"ticks\":\"\"}}}],\"scatterternary\":[{\"type\":\"scatterternary\",\"marker\":{\"colorbar\":{\"outlinewidth\":0,\"ticks\":\"\"}}}],\"scattercarpet\":[{\"type\":\"scattercarpet\",\"marker\":{\"colorbar\":{\"outlinewidth\":0,\"ticks\":\"\"}}}],\"carpet\":[{\"aaxis\":{\"endlinecolor\":\"#2a3f5f\",\"gridcolor\":\"white\",\"linecolor\":\"white\",\"minorgridcolor\":\"white\",\"startlinecolor\":\"#2a3f5f\"},\"baxis\":{\"endlinecolor\":\"#2a3f5f\",\"gridcolor\":\"white\",\"linecolor\":\"white\",\"minorgridcolor\":\"white\",\"startlinecolor\":\"#2a3f5f\"},\"type\":\"carpet\"}],\"table\":[{\"cells\":{\"fill\":{\"color\":\"#EBF0F8\"},\"line\":{\"color\":\"white\"}},\"header\":{\"fill\":{\"color\":\"#C8D4E3\"},\"line\":{\"color\":\"white\"}},\"type\":\"table\"}],\"barpolar\":[{\"marker\":{\"line\":{\"color\":\"#E5ECF6\",\"width\":0.5},\"pattern\":{\"fillmode\":\"overlay\",\"size\":10,\"solidity\":0.2}},\"type\":\"barpolar\"}],\"pie\":[{\"automargin\":true,\"type\":\"pie\"}]},\"layout\":{\"autotypenumbers\":\"strict\",\"colorway\":[\"#636efa\",\"#EF553B\",\"#00cc96\",\"#ab63fa\",\"#FFA15A\",\"#19d3f3\",\"#FF6692\",\"#B6E880\",\"#FF97FF\",\"#FECB52\"],\"font\":{\"color\":\"#2a3f5f\"},\"hovermode\":\"closest\",\"hoverlabel\":{\"align\":\"left\"},\"paper_bgcolor\":\"white\",\"plot_bgcolor\":\"#E5ECF6\",\"polar\":{\"bgcolor\":\"#E5ECF6\",\"angularaxis\":{\"gridcolor\":\"white\",\"linecolor\":\"white\",\"ticks\":\"\"},\"radialaxis\":{\"gridcolor\":\"white\",\"linecolor\":\"white\",\"ticks\":\"\"}},\"ternary\":{\"bgcolor\":\"#E5ECF6\",\"aaxis\":{\"gridcolor\":\"white\",\"linecolor\":\"white\",\"ticks\":\"\"},\"baxis\":{\"gridcolor\":\"white\",\"linecolor\":\"white\",\"ticks\":\"\"},\"caxis\":{\"gridcolor\":\"white\",\"linecolor\":\"white\",\"ticks\":\"\"}},\"coloraxis\":{\"colorbar\":{\"outlinewidth\":0,\"ticks\":\"\"}},\"colorscale\":{\"sequential\":[[0.0,\"#0d0887\"],[0.1111111111111111,\"#46039f\"],[0.2222222222222222,\"#7201a8\"],[0.3333333333333333,\"#9c179e\"],[0.4444444444444444,\"#bd3786\"],[0.5555555555555556,\"#d8576b\"],[0.6666666666666666,\"#ed7953\"],[0.7777777777777778,\"#fb9f3a\"],[0.8888888888888888,\"#fdca26\"],[1.0,\"#f0f921\"]],\"sequentialminus\":[[0.0,\"#0d0887\"],[0.1111111111111111,\"#46039f\"],[0.2222222222222222,\"#7201a8\"],[0.3333333333333333,\"#9c179e\"],[0.4444444444444444,\"#bd3786\"],[0.5555555555555556,\"#d8576b\"],[0.6666666666666666,\"#ed7953\"],[0.7777777777777778,\"#fb9f3a\"],[0.8888888888888888,\"#fdca26\"],[1.0,\"#f0f921\"]],\"diverging\":[[0,\"#8e0152\"],[0.1,\"#c51b7d\"],[0.2,\"#de77ae\"],[0.3,\"#f1b6da\"],[0.4,\"#fde0ef\"],[0.5,\"#f7f7f7\"],[0.6,\"#e6f5d0\"],[0.7,\"#b8e186\"],[0.8,\"#7fbc41\"],[0.9,\"#4d9221\"],[1,\"#276419\"]]},\"xaxis\":{\"gridcolor\":\"white\",\"linecolor\":\"white\",\"ticks\":\"\",\"title\":{\"standoff\":15},\"zerolinecolor\":\"white\",\"automargin\":true,\"zerolinewidth\":2},\"yaxis\":{\"gridcolor\":\"white\",\"linecolor\":\"white\",\"ticks\":\"\",\"title\":{\"standoff\":15},\"zerolinecolor\":\"white\",\"automargin\":true,\"zerolinewidth\":2},\"scene\":{\"xaxis\":{\"backgroundcolor\":\"#E5ECF6\",\"gridcolor\":\"white\",\"linecolor\":\"white\",\"showbackground\":true,\"ticks\":\"\",\"zerolinecolor\":\"white\",\"gridwidth\":2},\"yaxis\":{\"backgroundcolor\":\"#E5ECF6\",\"gridcolor\":\"white\",\"linecolor\":\"white\",\"showbackground\":true,\"ticks\":\"\",\"zerolinecolor\":\"white\",\"gridwidth\":2},\"zaxis\":{\"backgroundcolor\":\"#E5ECF6\",\"gridcolor\":\"white\",\"linecolor\":\"white\",\"showbackground\":true,\"ticks\":\"\",\"zerolinecolor\":\"white\",\"gridwidth\":2}},\"shapedefaults\":{\"line\":{\"color\":\"#2a3f5f\"}},\"annotationdefaults\":{\"arrowcolor\":\"#2a3f5f\",\"arrowhead\":0,\"arrowwidth\":1},\"geo\":{\"bgcolor\":\"white\",\"landcolor\":\"#E5ECF6\",\"subunitcolor\":\"white\",\"showland\":true,\"showlakes\":true,\"lakecolor\":\"white\"},\"title\":{\"x\":0.05},\"mapbox\":{\"style\":\"light\"}}},\"xaxis\":{\"anchor\":\"y\",\"domain\":[0.0,1.0],\"title\":{\"text\":\"Year\"}},\"yaxis\":{\"anchor\":\"x\",\"domain\":[0.0,1.0],\"title\":{\"text\":\"Value_$\"}},\"legend\":{\"title\":{\"text\":\"Commodity\"},\"tracegroupgap\":0},\"title\":{\"text\":\"Total Sales by Commodity by year\"},\"barmode\":\"relative\"},                        {\"responsive\": true}                    ).then(function(){\n",
       "                            \n",
       "var gd = document.getElementById('d243b17a-7baf-46b4-9eba-8f79eb8a6252');\n",
       "var x = new MutationObserver(function (mutations, observer) {{\n",
       "        var display = window.getComputedStyle(gd).display;\n",
       "        if (!display || display === 'none') {{\n",
       "            console.log([gd, 'removed!']);\n",
       "            Plotly.purge(gd);\n",
       "            observer.disconnect();\n",
       "        }}\n",
       "}});\n",
       "\n",
       "// Listen for the removal of the full notebook cells\n",
       "var notebookContainer = gd.closest('#notebook-container');\n",
       "if (notebookContainer) {{\n",
       "    x.observe(notebookContainer, {childList: true});\n",
       "}}\n",
       "\n",
       "// Listen for the clearing of the current output cell\n",
       "var outputEl = gd.closest('.output');\n",
       "if (outputEl) {{\n",
       "    x.observe(outputEl, {childList: true});\n",
       "}}\n",
       "\n",
       "                        })                };                });            </script>        </div>"
      ]
     },
     "metadata": {},
     "output_type": "display_data"
    }
   ],
   "source": [
    "fig = px.bar(annual_data[annual_data['Year'] > 2010], x=\"Year\", y=\"Value_$\", color='Commodity', title=\"Total Sales by Commodity by year\")\n",
    "fig.show()"
   ]
  },
  {
   "cell_type": "code",
   "execution_count": null,
   "id": "23fe23d7-fb8f-4a94-ab61-4be32eb2339e",
   "metadata": {},
   "outputs": [],
   "source": []
  }
 ],
 "metadata": {
  "kernelspec": {
   "display_name": "Python (lhl_midterm_env)",
   "language": "python",
   "name": "lhl_midterm_env"
  },
  "language_info": {
   "codemirror_mode": {
    "name": "ipython",
    "version": 3
   },
   "file_extension": ".py",
   "mimetype": "text/x-python",
   "name": "python",
   "nbconvert_exporter": "python",
   "pygments_lexer": "ipython3",
   "version": "3.9.18"
  }
 },
 "nbformat": 4,
 "nbformat_minor": 5
}
