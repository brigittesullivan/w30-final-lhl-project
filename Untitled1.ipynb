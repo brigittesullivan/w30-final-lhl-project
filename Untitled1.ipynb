{
 "cells": [
  {
   "cell_type": "code",
   "execution_count": 5,
   "id": "1013d49a-ee53-476a-aa72-534fa30c51c6",
   "metadata": {},
   "outputs": [],
   "source": [
    "from thefuzz import fuzz\n",
    "from thefuzz import process\n"
   ]
  },
  {
   "cell_type": "code",
   "execution_count": 6,
   "id": "26476da5-3414-4135-ab25-7ceff067d316",
   "metadata": {
    "tags": []
   },
   "outputs": [
    {
     "name": "stdout",
     "output_type": "stream",
     "text": [
      "Similarity score: 86\n"
     ]
    },
    {
     "data": {
      "text/plain": [
       "'\\nSimilarity Score: 86\\n'"
      ]
     },
     "execution_count": 6,
     "metadata": {},
     "output_type": "execute_result"
    }
   ],
   "source": [
    "# Check the similarity score\n",
    "name = \"Kurtis Pykes\"\n",
    "full_name = \"Kurtis K D Pykes\"\n",
    "\n",
    "print(f\"Similarity score: {fuzz.ratio(name, full_name)}\")\n",
    "\n",
    "\"\"\"\n",
    "Similarity Score: 86\n",
    "\"\"\""
   ]
  },
  {
   "cell_type": "code",
   "execution_count": 7,
   "id": "75d111ff-7492-46f9-8a7c-945f9fdbdb0f",
   "metadata": {},
   "outputs": [
    {
     "name": "stdout",
     "output_type": "stream",
     "text": [
      "Similarity score: 67\n"
     ]
    },
    {
     "data": {
      "text/plain": [
       "'\\nSimilarity Score: 67\\n'"
      ]
     },
     "execution_count": 7,
     "metadata": {},
     "output_type": "execute_result"
    }
   ],
   "source": [
    "# Check the similarity score\n",
    "name = \"Kurtis Pykes\"\n",
    "full_name = \"Kurtis K D Pykes\"\n",
    "\n",
    "print(f\"Similarity score: {fuzz.partial_ratio(name, full_name)}\")\n",
    "\n",
    "\"\"\"\n",
    "Similarity Score: 67\n",
    "\"\"\""
   ]
  },
  {
   "cell_type": "code",
   "execution_count": 8,
   "id": "07180166-3dd6-4d76-8ff0-88cfbb124f9c",
   "metadata": {},
   "outputs": [
    {
     "name": "stdout",
     "output_type": "stream",
     "text": [
      "Token sort ratio similarity score: 100\n"
     ]
    }
   ],
   "source": [
    "# Check the similarity score\n",
    "full_name = \"Kurtis K D Pykes\"\n",
    "full_name_reordered = \"Kurtis Pykes K D\"\n",
    "\n",
    "# Order does not matter for token sort ratio\n",
    "print(f\"Token sort ratio similarity score: {fuzz.token_sort_ratio(full_name_reordered, full_name)}\")\n"
   ]
  },
  {
   "cell_type": "code",
   "execution_count": null,
   "id": "26a02617-a999-4985-9d3b-13374c960e30",
   "metadata": {},
   "outputs": [],
   "source": []
  },
  {
   "cell_type": "code",
   "execution_count": null,
   "id": "d89b0e50-ddd3-4c24-a07c-03b276eafbca",
   "metadata": {},
   "outputs": [],
   "source": [
    "# Check the similarity score\n",
    "name = \"Kurtis Pykes\"\n",
    "full_name = \"Kurtis K D Pykes\"\n",
    "​\n",
    "print(f\"Token sort ratio similarity score: {fuzz.token_set_ratio(name, full_name)}\")\n",
    "\n",
    "\"\"\"\n",
    "Token sort ratio similarity score: 100"
   ]
  }
 ],
 "metadata": {
  "kernelspec": {
   "display_name": "Python (lhl_midterm_env)",
   "language": "python",
   "name": "lhl_midterm_env"
  },
  "language_info": {
   "codemirror_mode": {
    "name": "ipython",
    "version": 3
   },
   "file_extension": ".py",
   "mimetype": "text/x-python",
   "name": "python",
   "nbconvert_exporter": "python",
   "pygments_lexer": "ipython3",
   "version": "3.9.18"
  }
 },
 "nbformat": 4,
 "nbformat_minor": 5
}
