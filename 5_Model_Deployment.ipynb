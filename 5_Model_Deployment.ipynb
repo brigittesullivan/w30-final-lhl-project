{
 "cells": [
  {
   "cell_type": "markdown",
   "id": "c11705d7-1c7b-4323-9619-d76b9838e824",
   "metadata": {},
   "source": [
    "# 5. App"
   ]
  },
  {
   "cell_type": "markdown",
   "id": "243645d9-7d33-450d-8c72-4d04cb12cb43",
   "metadata": {},
   "source": [
    "### OPTION 1 \n",
    "-- \"Just in time training\"\n",
    "to be able to pick country, province, commodity, model trains on data, then predicts, outputs prediction. "
   ]
  },
  {
   "cell_type": "markdown",
   "id": "82030df9-693f-44cc-922a-555187afe964",
   "metadata": {},
   "source": [
    "### OPTION 2\n",
    "For USA select time horizon to get predictions for. "
   ]
  },
  {
   "cell_type": "code",
   "execution_count": null,
   "id": "950299d0-e7d8-4cfd-af55-f42ada4a82eb",
   "metadata": {},
   "outputs": [],
   "source": []
  }
 ],
 "metadata": {
  "kernelspec": {
   "display_name": "Python (lhl_midterm_env)",
   "language": "python",
   "name": "lhl_midterm_env"
  },
  "language_info": {
   "codemirror_mode": {
    "name": "ipython",
    "version": 3
   },
   "file_extension": ".py",
   "mimetype": "text/x-python",
   "name": "python",
   "nbconvert_exporter": "python",
   "pygments_lexer": "ipython3",
   "version": "3.9.18"
  }
 },
 "nbformat": 4,
 "nbformat_minor": 5
}
