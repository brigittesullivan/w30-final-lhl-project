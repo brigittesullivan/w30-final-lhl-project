{
 "cells": [
  {
   "cell_type": "code",
   "execution_count": null,
   "id": "5b20a833-4618-4cdf-9856-22294ad3257a",
   "metadata": {},
   "outputs": [],
   "source": []
  }
 ],
 "metadata": {
  "kernelspec": {
   "display_name": "Python (lhl_midterm_env)",
   "language": "python",
   "name": "lhl_midterm_env"
  },
  "language_info": {
   "codemirror_mode": {
    "name": "ipython",
    "version": 3
   },
   "file_extension": ".py",
   "mimetype": "text/x-python",
   "name": "python",
   "nbconvert_exporter": "python",
   "pygments_lexer": "ipython3",
   "version": "3.9.18"
  }
 },
 "nbformat": 4,
 "nbformat_minor": 5
}
